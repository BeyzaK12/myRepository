{
  "nbformat": 4,
  "nbformat_minor": 0,
  "metadata": {
    "colab": {
      "name": "Beyza_Kurt_NLP_midterm_part2_CENG3526.ipynb",
      "provenance": [],
      "collapsed_sections": [],
      "machine_shape": "hm"
    },
    "kernelspec": {
      "name": "python3",
      "display_name": "Python 3"
    }
  },
  "cells": [
    {
      "cell_type": "code",
      "metadata": {
        "id": "MEfgPOu5grRo",
        "colab_type": "code",
        "colab": {}
      },
      "source": [
        "import io, os\n",
        "import re as re\n",
        "import zipfile as zipfile\n",
        "import math\n",
        "import numpy as np\n",
        "import random\n",
        "from operator import itemgetter\n",
        "import itertools\n",
        "import matplotlib.pyplot as plt\n",
        "from sklearn.metrics.pairwise import cosine_similarity\n",
        "import scipy.spatial.distance\n",
        "from sklearn.metrics import accuracy_score"
      ],
      "execution_count": 0,
      "outputs": []
    },
    {
      "cell_type": "code",
      "metadata": {
        "id": "iYaKz15qZonk",
        "colab_type": "code",
        "outputId": "ae149efc-0094-4244-e616-a3f3a841948a",
        "colab": {
          "base_uri": "https://localhost:8080/",
          "height": 129
        }
      },
      "source": [
        "from google.colab import drive\n",
        "drive.mount('/content/drive')"
      ],
      "execution_count": 0,
      "outputs": [
        {
          "output_type": "stream",
          "text": [
            "Go to this URL in a browser: https://accounts.google.com/o/oauth2/auth?client_id=947318989803-6bn6qk8qdgf4n4g3pfee6491hc0brc4i.apps.googleusercontent.com&redirect_uri=urn%3aietf%3awg%3aoauth%3a2.0%3aoob&response_type=code&scope=email%20https%3a%2f%2fwww.googleapis.com%2fauth%2fdocs.test%20https%3a%2f%2fwww.googleapis.com%2fauth%2fdrive%20https%3a%2f%2fwww.googleapis.com%2fauth%2fdrive.photos.readonly%20https%3a%2f%2fwww.googleapis.com%2fauth%2fpeopleapi.readonly\n",
            "\n",
            "Enter your authorization code:\n",
            "··········\n",
            "Mounted at /content/drive\n"
          ],
          "name": "stdout"
        }
      ]
    },
    {
      "cell_type": "code",
      "metadata": {
        "id": "mN8iG5JYgzdp",
        "colab_type": "code",
        "colab": {}
      },
      "source": [
        "textsWithTextNumbers = []\n",
        "mytextzip = ''\n",
        "path = '/content/drive/My Drive/30Columnists.zip'\n",
        "\n",
        "with zipfile.ZipFile(path) as z:\n",
        "    for zipinfo in z.infolist():\n",
        "        if zipinfo.filename.endswith('.txt') and re.search('raw_texts', zipinfo.filename):\n",
        "            with z.open(zipinfo) as f:\n",
        "                textfile = io.TextIOWrapper(f, encoding='cp1254', newline='')\n",
        "                for line in textfile:\n",
        "                    if len(line.strip()): mytextzip += line.strip()\n",
        "\n",
        "                filename = str(zipinfo.filename)\n",
        "                filename = filename.split(\"/\")\n",
        "                filename = filename[-1][:-4]\n",
        "                \n",
        "                textsWithTextNumbers.append([filename,mytextzip])\n",
        "                mytextzip = ''"
      ],
      "execution_count": 0,
      "outputs": []
    },
    {
      "cell_type": "code",
      "metadata": {
        "id": "phldmUrZoho7",
        "colab_type": "code",
        "outputId": "b6664e0c-5a19-46a5-c17f-51546274650a",
        "colab": {
          "base_uri": "https://localhost:8080/",
          "height": 55
        }
      },
      "source": [
        "print(textsWithTextNumbers[0])"
      ],
      "execution_count": 0,
      "outputs": [
        {
          "output_type": "stream",
          "text": [
            "['1.1', \"THERE can be no doubt that Edinburgh is a huge tourist attraction both within the United Kingdom and internationally. There is so much to see in Scotland, but its capital is arguably its biggest gateway if not its biggest draw.Capitals are not always that lucky. I have never met anyone who has, by choice, travelled to Australia to visit Canberra  or to Peru to see Lima.Although it can sometimes be difficult on a driech March morning when THe wind is howling up your trouser legs and the drizzle is misting up your spectacles, Edinburgh is an often idyllic, romantic and fun-packed destination.I remember being amazed a couple of decades ago when some English friends of mine told me they were coming to Edinburgh on their honeymoon  I had never appreciated my home as a place for newlyweds to choose for their first married tryst. Now Edinburgh is in the multi-million pound premier league for British honeymoons  and why not?Tourism has become a hugely important sector of the Edinburgh economy  thanks not just to the International Festival of the Arts and its associated Fringe, but also the all-year-round entertainment that it offers from theatres, sporting events, galleries, museums and the associated consumption of fine food and alcohol. Add to this cocktail  which we have to admit many other cities also have  is the wonder of Edinburgh's built environment, the richness of its historic tapestry and beauty of its natural hills, lochs and parks. Such a combination is what puts Edinburgh second only to London as the UK's biggest draw.It also has Leith  which with three Michelin-starred restaurants has more exceptional eateries than Glasgow, Manchester and Liverpool put together.In such a context it is therefore vital that how Edinburgh is marketed is carefully thought through and ensures that it can pull as many visitors  even if it is on their way to another destination. Up until now the city's approach has been to pitch in with the general marketing of Scotland as a destination so that visitors at the very least pass through  and hopefully stay.Just as Scotland has relied on British tourism marketing for the reason that the vast majority of Scotland's foreign visitors arrive in London before coming north, so Edinburgh relied on using the Scottish Tourist Board  now VisitScotland.The opening up of the skies to greater low cost competitive travel has eaten away at this strategy within the short-haul routes, but for transatlantic and other long-haul flights, the principal remains sound.The problem for Edinburgh is that the rest of Scotland takes the same approach  with all the other councils such as Glasgow and Aberdeen pooling their resources too. The difficulty is that VisitScotland is pulled all ways and some of the smaller tourist destinations get very upset if they don't get any support. The result? Edinburgh council has decided to pull out some half a million pounds of funding from VisitScotland and Glasgow and Stornoway have done likewise.I can't help but think this is a mistake. I managed the marketing of one of Edinburgh's premier attractions for three years, drawing up the budgets and spending the pennies from bus adverts to world-wide listings and I can tell you half a million will get us diddley squat.It still has to be remembered that VisitScotland is funded by the Scottish Government to the tune of a whopping £42 million  that's a lot of money that we now have less influence over.I don't know what the council really thinks it will do instead but I have every reason to believe that this decision  whilst on the face of it looking attractive  is going to prove very costly in the end. The people that will end up paying for it will be the overburdened council taxpayer  who I expect to be asked to cough up more  and the hoteliers, visitor attractions and other businesses that could see Edinburgh's marketing be under–resourced just when a big push is needed most  during a recession.A bigger debate is needed about this policy change with a fuller explanation of why it is good for the city and what, if it doesn't work, the councillors that have taken this decision will do instead. Do they have a plan B?At a time when Edinburgh's financial services industry is in serious trouble and losing jobs, the last thing the city needs is for its own councillors to drop the ball and cause more unemployment for those that live of the munificence of tourism.A bunch of walliesAt a time when Scots are sucking their gums wondering what next financial threat is about to befall them, the decision of the Parliament to spend money on inscribing more verse on the a 'Canongate Wall' to commemorate the first ten years of devolution is an insult to our intelligence. A better idea would be to brick up the entrances and exits, preferably with most of the MSPs still inside.\"]\n"
          ],
          "name": "stdout"
        }
      ]
    },
    {
      "cell_type": "code",
      "metadata": {
        "id": "vEn_AC6rgtH3",
        "colab_type": "code",
        "colab": {}
      },
      "source": [
        "stopwords = [\"0o\", \"0s\", \"3a\", \"3b\", \"3d\", \"6b\", \"6o\", \"a\", \"a1\", \"a2\", \"a3\", \"a4\", \"ab\", \"able\", \"about\", \"above\", \"abst\", \"ac\", \"accordance\", \"according\", \"accordingly\", \"across\", \"act\", \"actually\", \"ad\", \"added\", \"adj\", \"ae\", \"af\", \"affected\", \"affecting\", \"affects\", \"after\", \"afterwards\", \"ag\", \"again\", \"against\", \"ah\", \"ain\", \"ain't\", \"aj\", \"al\", \"all\", \"allow\", \"allows\", \"almost\", \"alone\", \"along\", \"already\", \"also\", \"although\", \"always\", \"am\", \"among\", \"amongst\", \"amoungst\", \"amount\", \"an\", \"and\", \"announce\", \"another\", \"any\", \"anybody\", \"anyhow\", \"anymore\", \"anyone\", \"anything\", \"anyway\", \"anyways\", \"anywhere\", \"ao\", \"ap\", \"apart\", \"apparently\", \"appear\", \"appreciate\", \"appropriate\", \"approximately\", \"ar\", \"are\", \"aren\", \"arent\", \"aren't\", \"arise\", \"around\", \"as\", \"a's\", \"aside\", \"ask\", \"asking\", \"associated\", \"at\", \"au\", \"auth\", \"av\", \"available\", \"aw\", \"away\", \"awfully\", \"ax\", \"ay\", \"az\", \"b\", \"b1\", \"b2\", \"b3\", \"ba\", \"back\", \"bc\", \"bd\", \"be\", \"became\", \"because\", \"become\", \"becomes\", \"becoming\", \"been\", \"before\", \"beforehand\", \"begin\", \"beginning\", \"beginnings\", \"begins\", \"behind\", \"being\", \"believe\", \"below\", \"beside\", \"besides\", \"best\", \"better\", \"between\", \"beyond\", \"bi\", \"bill\", \"biol\", \"bj\", \"bk\", \"bl\", \"bn\", \"both\", \"bottom\", \"bp\", \"br\", \"brief\", \"briefly\", \"bs\", \"bt\", \"bu\", \"but\", \"bx\", \"by\", \"c\", \"c1\", \"c2\", \"c3\", \"ca\", \"call\", \"came\", \"can\", \"cannot\", \"cant\", \"can't\", \"cause\", \"causes\", \"cc\", \"cd\", \"ce\", \"certain\", \"certainly\", \"cf\", \"cg\", \"ch\", \"changes\", \"ci\", \"cit\", \"cj\", \"cl\", \"clearly\", \"cm\", \"c'mon\", \"cn\", \"co\", \"com\", \"come\", \"comes\", \"con\", \"concerning\", \"consequently\", \"consider\", \"considering\", \"contain\", \"containing\", \"contains\", \"corresponding\", \"could\", \"couldn\", \"couldnt\", \"couldn't\", \"course\", \"cp\", \"cq\", \"cr\", \"cry\", \"cs\", \"c's\", \"ct\", \"cu\", \"currently\", \"cv\", \"cx\", \"cy\", \"cz\", \"d\", \"d2\", \"da\", \"date\", \"dc\", \"dd\", \"de\", \"definitely\", \"describe\", \"described\", \"despite\", \"detail\", \"df\", \"di\", \"did\", \"didn\", \"didn't\", \"different\", \"dj\", \"dk\", \"dl\", \"do\", \"does\", \"doesn\", \"doesn't\", \"doing\", \"don\", \"done\", \"don't\", \"down\", \"downwards\", \"dp\", \"dr\", \"ds\", \"dt\", \"du\", \"due\", \"during\", \"dx\", \"dy\", \"e\", \"e2\", \"e3\", \"ea\", \"each\", \"ec\", \"ed\", \"edu\", \"ee\", \"ef\", \"effect\", \"eg\", \"ei\", \"eight\", \"eighty\", \"either\", \"ej\", \"el\", \"eleven\", \"else\", \"elsewhere\", \"em\", \"empty\", \"en\", \"end\", \"ending\", \"enough\", \"entirely\", \"eo\", \"ep\", \"eq\", \"er\", \"es\", \"especially\", \"est\", \"et\", \"et-al\", \"etc\", \"eu\", \"ev\", \"even\", \"ever\", \"every\", \"everybody\", \"everyone\", \"everything\", \"everywhere\", \"ex\", \"exactly\", \"example\", \"except\", \"ey\", \"f\", \"f2\", \"fa\", \"far\", \"fc\", \"few\", \"ff\", \"fi\", \"fifteen\", \"fifth\", \"fify\", \"fill\", \"find\", \"fire\", \"first\", \"five\", \"fix\", \"fj\", \"fl\", \"fn\", \"fo\", \"followed\", \"following\", \"follows\", \"for\", \"former\", \"formerly\", \"forth\", \"forty\", \"found\", \"four\", \"fr\", \"from\", \"front\", \"fs\", \"ft\", \"fu\", \"full\", \"further\", \"furthermore\", \"fy\", \"g\", \"ga\", \"gave\", \"ge\", \"get\", \"gets\", \"getting\", \"gi\", \"give\", \"given\", \"gives\", \"giving\", \"gj\", \"gl\", \"go\", \"goes\", \"going\", \"gone\", \"got\", \"gotten\", \"gr\", \"greetings\", \"gs\", \"gy\", \"h\", \"h2\", \"h3\", \"had\", \"hadn\", \"hadn't\", \"happens\", \"hardly\", \"has\", \"hasn\", \"hasnt\", \"hasn't\", \"have\", \"haven\", \"haven't\", \"having\", \"he\", \"hed\", \"he'd\", \"he'll\", \"hello\", \"help\", \"hence\", \"her\", \"here\", \"hereafter\", \"hereby\", \"herein\", \"heres\", \"here's\", \"hereupon\", \"hers\", \"herself\", \"hes\", \"he's\", \"hh\", \"hi\", \"hid\", \"him\", \"himself\", \"his\", \"hither\", \"hj\", \"ho\", \"home\", \"hopefully\", \"how\", \"howbeit\", \"however\", \"how's\", \"hr\", \"hs\", \"http\", \"hu\", \"hundred\", \"hy\", \"i\", \"i2\", \"i3\", \"i4\", \"i6\", \"i7\", \"i8\", \"ia\", \"ib\", \"ibid\", \"ic\", \"id\", \"i'd\", \"ie\", \"if\", \"ig\", \"ignored\", \"ih\", \"ii\", \"ij\", \"il\", \"i'll\", \"im\", \"i'm\", \"immediate\", \"immediately\", \"importance\", \"important\", \"in\", \"inasmuch\", \"inc\", \"indeed\", \"index\", \"indicate\", \"indicated\", \"indicates\", \"information\", \"inner\", \"insofar\", \"instead\", \"interest\", \"into\", \"invention\", \"inward\", \"io\", \"ip\", \"iq\", \"ir\", \"is\", \"isn\", \"isn't\", \"it\", \"itd\", \"it'd\", \"it'll\", \"its\", \"it's\", \"itself\", \"iv\", \"i've\", \"ix\", \"iy\", \"iz\", \"j\", \"jj\", \"jr\", \"js\", \"jt\", \"ju\", \"just\", \"k\", \"ke\", \"keep\", \"keeps\", \"kept\", \"kg\", \"kj\", \"km\", \"know\", \"known\", \"knows\", \"ko\", \"l\", \"l2\", \"la\", \"largely\", \"last\", \"lately\", \"later\", \"latter\", \"latterly\", \"lb\", \"lc\", \"le\", \"least\", \"les\", \"less\", \"lest\", \"let\", \"lets\", \"let's\", \"lf\", \"like\", \"liked\", \"likely\", \"line\", \"little\", \"lj\", \"ll\", \"ll\", \"ln\", \"lo\", \"look\", \"looking\", \"looks\", \"los\", \"lr\", \"ls\", \"lt\", \"ltd\", \"m\", \"m2\", \"ma\", \"made\", \"mainly\", \"make\", \"makes\", \"many\", \"may\", \"maybe\", \"me\", \"mean\", \"means\", \"meantime\", \"meanwhile\", \"merely\", \"mg\", \"might\", \"mightn\", \"mightn't\", \"mill\", \"million\", \"mine\", \"miss\", \"ml\", \"mn\", \"mo\", \"more\", \"moreover\", \"most\", \"mostly\", \"move\", \"mr\", \"mrs\", \"ms\", \"mt\", \"mu\", \"much\", \"mug\", \"must\", \"mustn\", \"mustn't\", \"my\", \"myself\", \"n\", \"n2\", \"na\", \"name\", \"namely\", \"nay\", \"nc\", \"nd\", \"ne\", \"near\", \"nearly\", \"necessarily\", \"necessary\", \"need\", \"needn\", \"needn't\", \"needs\", \"neither\", \"never\", \"nevertheless\", \"new\", \"next\", \"ng\", \"ni\", \"nine\", \"ninety\", \"nj\", \"nl\", \"nn\", \"no\", \"nobody\", \"non\", \"none\", \"nonetheless\", \"noone\", \"nor\", \"normally\", \"nos\", \"not\", \"noted\", \"nothing\", \"novel\", \"now\", \"nowhere\", \"nr\", \"ns\", \"nt\", \"ny\", \"o\", \"oa\", \"ob\", \"obtain\", \"obtained\", \"obviously\", \"oc\", \"od\", \"of\", \"off\", \"often\", \"og\", \"oh\", \"oi\", \"oj\", \"ok\", \"okay\", \"ol\", \"old\", \"om\", \"omitted\", \"on\", \"once\", \"one\", \"ones\", \"only\", \"onto\", \"oo\", \"op\", \"oq\", \"or\", \"ord\", \"os\", \"ot\", \"other\", \"others\", \"otherwise\", \"ou\", \"ought\", \"our\", \"ours\", \"ourselves\", \"out\", \"outside\", \"over\", \"overall\", \"ow\", \"owing\", \"own\", \"ox\", \"oz\", \"p\", \"p1\", \"p2\", \"p3\", \"page\", \"pagecount\", \"pages\", \"par\", \"part\", \"particular\", \"particularly\", \"pas\", \"past\", \"pc\", \"pd\", \"pe\", \"per\", \"perhaps\", \"pf\", \"ph\", \"pi\", \"pj\", \"pk\", \"pl\", \"placed\", \"please\", \"plus\", \"pm\", \"pn\", \"po\", \"poorly\", \"possible\", \"possibly\", \"potentially\", \"pp\", \"pq\", \"pr\", \"predominantly\", \"present\", \"presumably\", \"previously\", \"primarily\", \"probably\", \"promptly\", \"proud\", \"provides\", \"ps\", \"pt\", \"pu\", \"put\", \"py\", \"q\", \"qj\", \"qu\", \"que\", \"quickly\", \"quite\", \"qv\", \"r\", \"r2\", \"ra\", \"ran\", \"rather\", \"rc\", \"rd\", \"re\", \"readily\", \"really\", \"reasonably\", \"recent\", \"recently\", \"ref\", \"refs\", \"regarding\", \"regardless\", \"regards\", \"related\", \"relatively\", \"research\", \"research-articl\", \"respectively\", \"resulted\", \"resulting\", \"results\", \"rf\", \"rh\", \"ri\", \"right\", \"rj\", \"rl\", \"rm\", \"rn\", \"ro\", \"rq\", \"rr\", \"rs\", \"rt\", \"ru\", \"run\", \"rv\", \"ry\", \"s\", \"s2\", \"sa\", \"said\", \"same\", \"saw\", \"say\", \"saying\", \"says\", \"sc\", \"sd\", \"se\", \"sec\", \"second\", \"secondly\", \"section\", \"see\", \"seeing\", \"seem\", \"seemed\", \"seeming\", \"seems\", \"seen\", \"self\", \"selves\", \"sensible\", \"sent\", \"serious\", \"seriously\", \"seven\", \"several\", \"sf\", \"shall\", \"shan\", \"shan't\", \"she\", \"shed\", \"she'd\", \"she'll\", \"shes\", \"she's\", \"should\", \"shouldn\", \"shouldn't\", \"should've\", \"show\", \"showed\", \"shown\", \"showns\", \"shows\", \"si\", \"side\", \"significant\", \"significantly\", \"similar\", \"similarly\", \"since\", \"sincere\", \"six\", \"sixty\", \"sj\", \"sl\", \"slightly\", \"sm\", \"sn\", \"so\", \"some\", \"somebody\", \"somehow\", \"someone\", \"somethan\", \"something\", \"sometime\", \"sometimes\", \"somewhat\", \"somewhere\", \"soon\", \"sorry\", \"sp\", \"specifically\", \"specified\", \"specify\", \"specifying\", \"sq\", \"sr\", \"ss\", \"st\", \"still\", \"stop\", \"strongly\", \"sub\", \"substantially\", \"successfully\", \"such\", \"sufficiently\", \"suggest\", \"sup\", \"sure\", \"sy\", \"system\", \"sz\", \"t\", \"t1\", \"t2\", \"t3\", \"take\", \"taken\", \"taking\", \"tb\", \"tc\", \"td\", \"te\", \"tell\", \"ten\", \"tends\", \"tf\", \"th\", \"than\", \"thank\", \"thanks\", \"thanx\", \"that\", \"that'll\", \"thats\", \"that's\", \"that've\", \"the\", \"their\", \"theirs\", \"them\", \"themselves\", \"then\", \"thence\", \"there\", \"thereafter\", \"thereby\", \"thered\", \"therefore\", \"therein\", \"there'll\", \"thereof\", \"therere\", \"theres\", \"there's\", \"thereto\", \"thereupon\", \"there've\", \"these\", \"they\", \"theyd\", \"they'd\", \"they'll\", \"theyre\", \"they're\", \"they've\", \"thickv\", \"thin\", \"think\", \"third\", \"this\", \"thorough\", \"thoroughly\", \"those\", \"thou\", \"though\", \"thoughh\", \"thousand\", \"three\", \"throug\", \"through\", \"throughout\", \"thru\", \"thus\", \"ti\", \"til\", \"tip\", \"tj\", \"tl\", \"tm\", \"tn\", \"to\", \"together\", \"too\", \"took\", \"top\", \"toward\", \"towards\", \"tp\", \"tq\", \"tr\", \"tried\", \"tries\", \"truly\", \"try\", \"trying\", \"ts\", \"t's\", \"tt\", \"tv\", \"twelve\", \"twenty\", \"twice\", \"two\", \"tx\", \"u\", \"u201d\", \"ue\", \"ui\", \"uj\", \"uk\", \"um\", \"un\", \"under\", \"unfortunately\", \"unless\", \"unlike\", \"unlikely\", \"until\", \"unto\", \"uo\", \"up\", \"upon\", \"ups\", \"ur\", \"us\", \"use\", \"used\", \"useful\", \"usefully\", \"usefulness\", \"uses\", \"using\", \"usually\", \"ut\", \"v\", \"va\", \"value\", \"various\", \"vd\", \"ve\", \"ve\", \"very\", \"via\", \"viz\", \"vj\", \"vo\", \"vol\", \"vols\", \"volumtype\", \"vq\", \"vs\", \"vt\", \"vu\", \"w\", \"wa\", \"want\", \"wants\", \"was\", \"wasn\", \"wasnt\", \"wasn't\", \"way\", \"we\", \"wed\", \"we'd\", \"welcome\", \"well\", \"we'll\", \"well-b\", \"went\", \"were\", \"we're\", \"weren\", \"werent\", \"weren't\", \"we've\", \"what\", \"whatever\", \"what'll\", \"whats\", \"what's\", \"when\", \"whence\", \"whenever\", \"when's\", \"where\", \"whereafter\", \"whereas\", \"whereby\", \"wherein\", \"wheres\", \"where's\", \"whereupon\", \"wherever\", \"whether\", \"which\", \"while\", \"whim\", \"whither\", \"who\", \"whod\", \"whoever\", \"whole\", \"who'll\", \"whom\", \"whomever\", \"whos\", \"who's\", \"whose\", \"why\", \"why's\", \"wi\", \"widely\", \"will\", \"willing\", \"wish\", \"with\", \"within\", \"without\", \"wo\", \"won\", \"wonder\", \"wont\", \"won't\", \"words\", \"world\", \"would\", \"wouldn\", \"wouldnt\", \"wouldn't\", \"www\", \"x\", \"x1\", \"x2\", \"x3\", \"xf\", \"xi\", \"xj\", \"xk\", \"xl\", \"xn\", \"xo\", \"xs\", \"xt\", \"xv\", \"xx\", \"y\", \"y2\", \"yes\", \"yet\", \"yj\", \"yl\", \"you\", \"youd\", \"you'd\", \"you'll\", \"your\", \"youre\", \"you're\", \"yours\", \"yourself\", \"yourselves\", \"you've\", \"yr\", \"ys\", \"yt\", \"z\", \"zero\", \"zi\", \"zz\"]"
      ],
      "execution_count": 0,
      "outputs": []
    },
    {
      "cell_type": "code",
      "metadata": {
        "id": "kmG1dNFRuo4d",
        "colab_type": "code",
        "colab": {}
      },
      "source": [
        "def Tokenizer(text, stop):\n",
        "    text = (str(text)).lower()          # normalize\n",
        "    words = re.findall(r'\\w+', text)    # find all words in it\n",
        "\n",
        "    if stop == 1:\n",
        "        #remove stopwords, start last word to avoid index problems in loop\n",
        "        for x in range(len(words)-1, -1, -1):\n",
        "            word = str(words[x])\n",
        "            if word in stopwords:\n",
        "                words.pop(x)\n",
        "            elif word.lower() in stopwords:\n",
        "                words.pop(x)\n",
        "    \n",
        "    return words"
      ],
      "execution_count": 0,
      "outputs": []
    },
    {
      "cell_type": "code",
      "metadata": {
        "id": "Qqny0F0rg2qT",
        "colab_type": "code",
        "colab": {}
      },
      "source": [
        "def turner(textsWithTextNumbers):\n",
        "    for i, part in enumerate(textsWithTextNumbers):\n",
        "        text = (str(part[1])).lower()\n",
        "        textsWithTextNumbers[i][1] = Tokenizer(text, 1)\n",
        "    return textsWithTextNumbers"
      ],
      "execution_count": 0,
      "outputs": []
    },
    {
      "cell_type": "code",
      "metadata": {
        "id": "U9Cvjd1byV8i",
        "colab_type": "code",
        "colab": {}
      },
      "source": [
        "textsWithTextNumbers = turner(textsWithTextNumbers)"
      ],
      "execution_count": 0,
      "outputs": []
    },
    {
      "cell_type": "code",
      "metadata": {
        "id": "__sZ-a--g5Ws",
        "colab_type": "code",
        "outputId": "207a1450-ae9f-4f84-cd40-3decd8498c2b",
        "colab": {
          "base_uri": "https://localhost:8080/",
          "height": 55
        }
      },
      "source": [
        "print(textsWithTextNumbers[0])"
      ],
      "execution_count": 0,
      "outputs": [
        {
          "output_type": "stream",
          "text": [
            "['1.1', ['doubt', 'edinburgh', 'huge', 'tourist', 'attraction', 'united', 'kingdom', 'internationally', 'scotland', 'capital', 'arguably', 'biggest', 'gateway', 'biggest', 'draw', 'capitals', 'lucky', 'met', 'choice', 'travelled', 'australia', 'visit', 'canberra', 'peru', 'lima', 'difficult', 'driech', 'march', 'morning', 'wind', 'howling', 'trouser', 'legs', 'drizzle', 'misting', 'spectacles', 'edinburgh', 'idyllic', 'romantic', 'fun', 'packed', 'destination', 'remember', 'amazed', 'couple', 'decades', 'ago', 'english', 'friends', 'told', 'coming', 'edinburgh', 'honeymoon', 'appreciated', 'place', 'newlyweds', 'choose', 'married', 'tryst', 'edinburgh', 'multi', 'pound', 'premier', 'league', 'british', 'honeymoons', 'tourism', 'hugely', 'sector', 'edinburgh', 'economy', 'international', 'festival', 'arts', 'fringe', 'year', 'round', 'entertainment', 'offers', 'theatres', 'sporting', 'events', 'galleries', 'museums', 'consumption', 'fine', 'food', 'alcohol', 'add', 'cocktail', 'admit', 'cities', 'edinburgh', 'built', 'environment', 'richness', 'historic', 'tapestry', 'beauty', 'natural', 'hills', 'lochs', 'parks', 'combination', 'puts', 'edinburgh', 'london', 'biggest', 'draw', 'leith', 'michelin', 'starred', 'restaurants', 'exceptional', 'eateries', 'glasgow', 'manchester', 'liverpool', 'context', 'vital', 'edinburgh', 'marketed', 'carefully', 'thought', 'ensures', 'pull', 'visitors', 'destination', 'city', 'approach', 'pitch', 'general', 'marketing', 'scotland', 'destination', 'visitors', 'pass', 'stay', 'scotland', 'relied', 'british', 'tourism', 'marketing', 'reason', 'vast', 'majority', 'scotland', 'foreign', 'visitors', 'arrive', 'london', 'coming', 'north', 'edinburgh', 'relied', 'scottish', 'tourist', 'board', 'visitscotland', 'opening', 'skies', 'greater', 'low', 'cost', 'competitive', 'travel', 'eaten', 'strategy', 'short', 'haul', 'routes', 'transatlantic', 'long', 'haul', 'flights', 'principal', 'remains', 'sound', 'problem', 'edinburgh', 'rest', 'scotland', 'takes', 'approach', 'councils', 'glasgow', 'aberdeen', 'pooling', 'resources', 'difficulty', 'visitscotland', 'pulled', 'ways', 'smaller', 'tourist', 'destinations', 'upset', 'support', 'result', 'edinburgh', 'council', 'decided', 'pull', 'half', 'pounds', 'funding', 'visitscotland', 'glasgow', 'stornoway', 'likewise', 'mistake', 'managed', 'marketing', 'edinburgh', 'premier', 'attractions', 'years', 'drawing', 'budgets', 'spending', 'pennies', 'bus', 'adverts', 'wide', 'listings', 'half', 'diddley', 'squat', 'remembered', 'visitscotland', 'funded', 'scottish', 'government', 'tune', 'whopping', '42', 'lot', 'money', 'influence', 'council', 'thinks', 'reason', 'decision', 'whilst', 'face', 'attractive', 'prove', 'costly', 'people', 'paying', 'overburdened', 'council', 'taxpayer', 'expect', 'asked', 'cough', 'hoteliers', 'visitor', 'attractions', 'businesses', 'edinburgh', 'marketing', 'resourced', 'big', 'push', 'needed', 'recession', 'bigger', 'debate', 'needed', 'policy', 'change', 'fuller', 'explanation', 'good', 'city', 'work', 'councillors', 'decision', 'plan', 'time', 'edinburgh', 'financial', 'services', 'industry', 'trouble', 'losing', 'jobs', 'thing', 'city', 'councillors', 'drop', 'ball', 'unemployment', 'live', 'munificence', 'tourism', 'bunch', 'walliesat', 'time', 'scots', 'sucking', 'gums', 'wondering', 'financial', 'threat', 'befall', 'decision', 'parliament', 'spend', 'money', 'inscribing', 'verse', 'canongate', 'wall', 'commemorate', 'years', 'devolution', 'insult', 'intelligence', 'idea', 'brick', 'entrances', 'exits', 'preferably', 'msps', 'inside']]\n"
          ],
          "name": "stdout"
        }
      ]
    },
    {
      "cell_type": "code",
      "metadata": {
        "id": "dNgbqjLqcfQp",
        "colab_type": "code",
        "colab": {}
      },
      "source": [
        "term_frequencies = {}       # { doc: {word: word frequency} }\n",
        "\n",
        "for doc, words in textsWithTextNumbers:\n",
        "    d = {}\n",
        "    temp = []\n",
        "    \n",
        "    #term frequency\n",
        "    for word in words:\n",
        "        if word not in d:\n",
        "            d[word] = 1\n",
        "        else:\n",
        "            d[word] += 1\n",
        "\n",
        "    n = len(d)      # of words in doc\n",
        "    for word, number in d.items():\n",
        "        tf = number / n\n",
        "        temp.append([word, tf])\n",
        "\n",
        "    term_frequencies[doc] = temp"
      ],
      "execution_count": 0,
      "outputs": []
    },
    {
      "cell_type": "code",
      "metadata": {
        "id": "smskDzLzlMoW",
        "colab_type": "code",
        "outputId": "71095e78-baa5-4f76-91e7-2aedac664656",
        "colab": {
          "base_uri": "https://localhost:8080/",
          "height": 55
        }
      },
      "source": [
        "for doc, freq in term_frequencies.items():\n",
        "    print(doc, freq)\n",
        "    break"
      ],
      "execution_count": 0,
      "outputs": [
        {
          "output_type": "stream",
          "text": [
            "1.1 [['doubt', 0.003745318352059925], ['edinburgh', 0.052434456928838954], ['huge', 0.003745318352059925], ['tourist', 0.011235955056179775], ['attraction', 0.003745318352059925], ['united', 0.003745318352059925], ['kingdom', 0.003745318352059925], ['internationally', 0.003745318352059925], ['scotland', 0.018726591760299626], ['capital', 0.003745318352059925], ['arguably', 0.003745318352059925], ['biggest', 0.011235955056179775], ['gateway', 0.003745318352059925], ['draw', 0.00749063670411985], ['capitals', 0.003745318352059925], ['lucky', 0.003745318352059925], ['met', 0.003745318352059925], ['choice', 0.003745318352059925], ['travelled', 0.003745318352059925], ['australia', 0.003745318352059925], ['visit', 0.003745318352059925], ['canberra', 0.003745318352059925], ['peru', 0.003745318352059925], ['lima', 0.003745318352059925], ['difficult', 0.003745318352059925], ['driech', 0.003745318352059925], ['march', 0.003745318352059925], ['morning', 0.003745318352059925], ['wind', 0.003745318352059925], ['howling', 0.003745318352059925], ['trouser', 0.003745318352059925], ['legs', 0.003745318352059925], ['drizzle', 0.003745318352059925], ['misting', 0.003745318352059925], ['spectacles', 0.003745318352059925], ['idyllic', 0.003745318352059925], ['romantic', 0.003745318352059925], ['fun', 0.003745318352059925], ['packed', 0.003745318352059925], ['destination', 0.011235955056179775], ['remember', 0.003745318352059925], ['amazed', 0.003745318352059925], ['couple', 0.003745318352059925], ['decades', 0.003745318352059925], ['ago', 0.003745318352059925], ['english', 0.003745318352059925], ['friends', 0.003745318352059925], ['told', 0.003745318352059925], ['coming', 0.00749063670411985], ['honeymoon', 0.003745318352059925], ['appreciated', 0.003745318352059925], ['place', 0.003745318352059925], ['newlyweds', 0.003745318352059925], ['choose', 0.003745318352059925], ['married', 0.003745318352059925], ['tryst', 0.003745318352059925], ['multi', 0.003745318352059925], ['pound', 0.003745318352059925], ['premier', 0.00749063670411985], ['league', 0.003745318352059925], ['british', 0.00749063670411985], ['honeymoons', 0.003745318352059925], ['tourism', 0.011235955056179775], ['hugely', 0.003745318352059925], ['sector', 0.003745318352059925], ['economy', 0.003745318352059925], ['international', 0.003745318352059925], ['festival', 0.003745318352059925], ['arts', 0.003745318352059925], ['fringe', 0.003745318352059925], ['year', 0.003745318352059925], ['round', 0.003745318352059925], ['entertainment', 0.003745318352059925], ['offers', 0.003745318352059925], ['theatres', 0.003745318352059925], ['sporting', 0.003745318352059925], ['events', 0.003745318352059925], ['galleries', 0.003745318352059925], ['museums', 0.003745318352059925], ['consumption', 0.003745318352059925], ['fine', 0.003745318352059925], ['food', 0.003745318352059925], ['alcohol', 0.003745318352059925], ['add', 0.003745318352059925], ['cocktail', 0.003745318352059925], ['admit', 0.003745318352059925], ['cities', 0.003745318352059925], ['built', 0.003745318352059925], ['environment', 0.003745318352059925], ['richness', 0.003745318352059925], ['historic', 0.003745318352059925], ['tapestry', 0.003745318352059925], ['beauty', 0.003745318352059925], ['natural', 0.003745318352059925], ['hills', 0.003745318352059925], ['lochs', 0.003745318352059925], ['parks', 0.003745318352059925], ['combination', 0.003745318352059925], ['puts', 0.003745318352059925], ['london', 0.00749063670411985], ['leith', 0.003745318352059925], ['michelin', 0.003745318352059925], ['starred', 0.003745318352059925], ['restaurants', 0.003745318352059925], ['exceptional', 0.003745318352059925], ['eateries', 0.003745318352059925], ['glasgow', 0.011235955056179775], ['manchester', 0.003745318352059925], ['liverpool', 0.003745318352059925], ['context', 0.003745318352059925], ['vital', 0.003745318352059925], ['marketed', 0.003745318352059925], ['carefully', 0.003745318352059925], ['thought', 0.003745318352059925], ['ensures', 0.003745318352059925], ['pull', 0.00749063670411985], ['visitors', 0.011235955056179775], ['city', 0.011235955056179775], ['approach', 0.00749063670411985], ['pitch', 0.003745318352059925], ['general', 0.003745318352059925], ['marketing', 0.0149812734082397], ['pass', 0.003745318352059925], ['stay', 0.003745318352059925], ['relied', 0.00749063670411985], ['reason', 0.00749063670411985], ['vast', 0.003745318352059925], ['majority', 0.003745318352059925], ['foreign', 0.003745318352059925], ['arrive', 0.003745318352059925], ['north', 0.003745318352059925], ['scottish', 0.00749063670411985], ['board', 0.003745318352059925], ['visitscotland', 0.0149812734082397], ['opening', 0.003745318352059925], ['skies', 0.003745318352059925], ['greater', 0.003745318352059925], ['low', 0.003745318352059925], ['cost', 0.003745318352059925], ['competitive', 0.003745318352059925], ['travel', 0.003745318352059925], ['eaten', 0.003745318352059925], ['strategy', 0.003745318352059925], ['short', 0.003745318352059925], ['haul', 0.00749063670411985], ['routes', 0.003745318352059925], ['transatlantic', 0.003745318352059925], ['long', 0.003745318352059925], ['flights', 0.003745318352059925], ['principal', 0.003745318352059925], ['remains', 0.003745318352059925], ['sound', 0.003745318352059925], ['problem', 0.003745318352059925], ['rest', 0.003745318352059925], ['takes', 0.003745318352059925], ['councils', 0.003745318352059925], ['aberdeen', 0.003745318352059925], ['pooling', 0.003745318352059925], ['resources', 0.003745318352059925], ['difficulty', 0.003745318352059925], ['pulled', 0.003745318352059925], ['ways', 0.003745318352059925], ['smaller', 0.003745318352059925], ['destinations', 0.003745318352059925], ['upset', 0.003745318352059925], ['support', 0.003745318352059925], ['result', 0.003745318352059925], ['council', 0.011235955056179775], ['decided', 0.003745318352059925], ['half', 0.00749063670411985], ['pounds', 0.003745318352059925], ['funding', 0.003745318352059925], ['stornoway', 0.003745318352059925], ['likewise', 0.003745318352059925], ['mistake', 0.003745318352059925], ['managed', 0.003745318352059925], ['attractions', 0.00749063670411985], ['years', 0.00749063670411985], ['drawing', 0.003745318352059925], ['budgets', 0.003745318352059925], ['spending', 0.003745318352059925], ['pennies', 0.003745318352059925], ['bus', 0.003745318352059925], ['adverts', 0.003745318352059925], ['wide', 0.003745318352059925], ['listings', 0.003745318352059925], ['diddley', 0.003745318352059925], ['squat', 0.003745318352059925], ['remembered', 0.003745318352059925], ['funded', 0.003745318352059925], ['government', 0.003745318352059925], ['tune', 0.003745318352059925], ['whopping', 0.003745318352059925], ['42', 0.003745318352059925], ['lot', 0.003745318352059925], ['money', 0.00749063670411985], ['influence', 0.003745318352059925], ['thinks', 0.003745318352059925], ['decision', 0.011235955056179775], ['whilst', 0.003745318352059925], ['face', 0.003745318352059925], ['attractive', 0.003745318352059925], ['prove', 0.003745318352059925], ['costly', 0.003745318352059925], ['people', 0.003745318352059925], ['paying', 0.003745318352059925], ['overburdened', 0.003745318352059925], ['taxpayer', 0.003745318352059925], ['expect', 0.003745318352059925], ['asked', 0.003745318352059925], ['cough', 0.003745318352059925], ['hoteliers', 0.003745318352059925], ['visitor', 0.003745318352059925], ['businesses', 0.003745318352059925], ['resourced', 0.003745318352059925], ['big', 0.003745318352059925], ['push', 0.003745318352059925], ['needed', 0.00749063670411985], ['recession', 0.003745318352059925], ['bigger', 0.003745318352059925], ['debate', 0.003745318352059925], ['policy', 0.003745318352059925], ['change', 0.003745318352059925], ['fuller', 0.003745318352059925], ['explanation', 0.003745318352059925], ['good', 0.003745318352059925], ['work', 0.003745318352059925], ['councillors', 0.00749063670411985], ['plan', 0.003745318352059925], ['time', 0.00749063670411985], ['financial', 0.00749063670411985], ['services', 0.003745318352059925], ['industry', 0.003745318352059925], ['trouble', 0.003745318352059925], ['losing', 0.003745318352059925], ['jobs', 0.003745318352059925], ['thing', 0.003745318352059925], ['drop', 0.003745318352059925], ['ball', 0.003745318352059925], ['unemployment', 0.003745318352059925], ['live', 0.003745318352059925], ['munificence', 0.003745318352059925], ['bunch', 0.003745318352059925], ['walliesat', 0.003745318352059925], ['scots', 0.003745318352059925], ['sucking', 0.003745318352059925], ['gums', 0.003745318352059925], ['wondering', 0.003745318352059925], ['threat', 0.003745318352059925], ['befall', 0.003745318352059925], ['parliament', 0.003745318352059925], ['spend', 0.003745318352059925], ['inscribing', 0.003745318352059925], ['verse', 0.003745318352059925], ['canongate', 0.003745318352059925], ['wall', 0.003745318352059925], ['commemorate', 0.003745318352059925], ['devolution', 0.003745318352059925], ['insult', 0.003745318352059925], ['intelligence', 0.003745318352059925], ['idea', 0.003745318352059925], ['brick', 0.003745318352059925], ['entrances', 0.003745318352059925], ['exits', 0.003745318352059925], ['preferably', 0.003745318352059925], ['msps', 0.003745318352059925], ['inside', 0.003745318352059925]]\n"
          ],
          "name": "stdout"
        }
      ]
    },
    {
      "cell_type": "code",
      "metadata": {
        "id": "h0q0hy5YmacS",
        "colab_type": "code",
        "colab": {}
      },
      "source": [
        "idfs = {}            # {word: number} ---> {word: idf}\n",
        "\n",
        "for doc, array in term_frequencies.items():\n",
        "    for word, tf in array:\n",
        "        if word not in idfs:\n",
        "            idfs[word] = 1\n",
        "        else:\n",
        "            idfs[word] += 1\n",
        "\n",
        "doc_total = len(term_frequencies)\n",
        "for word, n in idfs.items():\n",
        "    idf = ((1 + doc_total) / (n+1))\n",
        "    idfs[word] = math.log(idf) + 1"
      ],
      "execution_count": 0,
      "outputs": []
    },
    {
      "cell_type": "code",
      "metadata": {
        "id": "9TK1gqDpo7iy",
        "colab_type": "code",
        "outputId": "90fad727-be43-46fc-da75-afa667e59563",
        "colab": {
          "base_uri": "https://localhost:8080/",
          "height": 72
        }
      },
      "source": [
        "i = 0\n",
        "for word, freqdocs in idfs.items():\n",
        "    print(word, freqdocs)\n",
        "    i += 1\n",
        "    if i == 3:\n",
        "        break"
      ],
      "execution_count": 0,
      "outputs": [
        {
          "output_type": "stream",
          "text": [
            "doubt 3.1958930192167068\n",
            "edinburgh 3.4696997451748706\n",
            "huge 3.309940525688003\n"
          ],
          "name": "stdout"
        }
      ]
    },
    {
      "cell_type": "code",
      "metadata": {
        "id": "EGTd9K__06BZ",
        "colab_type": "code",
        "colab": {}
      },
      "source": [
        "# TF-IDF = TF * IDF\n",
        "tfidf = {}                      #{doc: {word: tf-idf}}\n",
        "\n",
        "for doc, array in term_frequencies.items():\n",
        "    tfidf[doc] = {}\n",
        "    for word, tf in array:\n",
        "        TfIdf = tf * idfs[word]\n",
        "        tfidf[doc][word] = TfIdf"
      ],
      "execution_count": 0,
      "outputs": []
    },
    {
      "cell_type": "code",
      "metadata": {
        "id": "b1uBqdGk1jyE",
        "colab_type": "code",
        "outputId": "9b9c22c4-32bb-4ae5-e305-2044c9f0bc08",
        "colab": {
          "base_uri": "https://localhost:8080/",
          "height": 129
        }
      },
      "source": [
        "i = 0\n",
        "for doc, ti in tfidf.items():\n",
        "    print(doc, ti)\n",
        "    i += 1\n",
        "    if i == 5:\n",
        "        break"
      ],
      "execution_count": 0,
      "outputs": [
        {
          "output_type": "stream",
          "text": [
            "1.1 {'doubt': 0.011969636776092534, 'edinburgh': 0.18193182184437526, 'huge': 0.012396780995086154, 'tourist': 0.06647181526781001, 'attraction': 0.023349982359376877, 'united': 0.009640801196457782, 'kingdom': 0.018794194627824466, 'internationally': 0.022908847394371695, 'scotland': 0.05385407345899376, 'capital': 0.0122248345482544, 'arguably': 0.018042618989389442, 'biggest': 0.0359089103282776, 'gateway': 0.024427443304889166, 'draw': 0.030036117890856116, 'capitals': 0.024427443304889166, 'lucky': 0.016798672041739203, 'met': 0.014543333456142877, 'choice': 0.01330229549376669, 'travelled': 0.021531601026861143, 'australia': 0.018935544170831386, 'visit': 0.014411905292055723, 'canberra': 0.02854209607143639, 'peru': 0.0251102955775257, 'lima': 0.02854209607143639, 'difficult': 0.01173072390015497, 'driech': 0.02854209607143639, 'march': 0.014082434232333038, 'morning': 0.013366871547828509, 'wind': 0.01599563881572626, 'howling': 0.027023500160918923, 'trouser': 0.0251102955775257, 'legs': 0.01771673368231218, 'drizzle': 0.0251102955775257, 'misting': 0.02854209607143639, 'spectacles': 0.027023500160918923, 'idyllic': 0.025946039215406634, 'romantic': 0.021531601026861143, 'fun': 0.014633586458311644, 'packed': 0.018794194627824466, 'destination': 0.061580600984013995, 'remember': 0.011969636776092534, 'amazed': 0.023349982359376877, 'couple': 0.012684019275191975, 'decades': 0.014202615185709444, 'ago': 0.009209044604610616, 'english': 0.011709741669635607, 'friends': 0.01293660834184191, 'told': 0.009889751177760187, 'coming': 0.02222306592446437, 'honeymoon': 0.02075392550334712, 'appreciated': 0.02075392550334712, 'place': 0.009166362452060544, 'newlyweds': 0.02854209607143639, 'choose': 0.014284933188401487, 'married': 0.018794194627824466, 'tryst': 0.02854209607143639, 'multi': 0.01771673368231218, 'pound': 0.015620794401655166, 'premier': 0.024743457210016525, 'league': 0.009851337319456106, 'british': 0.020537324340492116, 'honeymoons': 0.027023500160918923, 'tourism': 0.07004994707813063, 'hugely': 0.017614115801457816, 'sector': 0.012603471690094733, 'economy': 0.010580333728377436, 'international': 0.01127558772874302, 'festival': 0.02251423872149594, 'arts': 0.02125404307871986, 'fringe': 0.02183138644885941, 'year': 0.0060417817306578706, 'round': 0.013432580572738282, 'entertainment': 0.020312790538341938, 'offers': 0.01612941440599622, 'theatres': 0.025946039215406634, 'sporting': 0.016562046942033094, 'events': 0.013334444346543435, 'galleries': 0.025946039215406634, 'museums': 0.025946039215406634, 'consumption': 0.01827677762976897, 'fine': 0.01467954186127724, 'food': 0.012878986922967456, 'alcohol': 0.015680720773739214, 'add': 0.013779617391025567, 'cocktail': 0.02215727175593667, 'admit': 0.015620794401655166, 'cities': 0.017614115801457816, 'built': 0.01512067682628242, 'environment': 0.015334753282611815, 'richness': 0.02854209607143639, 'historic': 0.01612941440599622, 'tapestry': 0.027023500160918923, 'beauty': 0.020995642810978474, 'natural': 0.014411905292055723, 'hills': 0.02125404307871986, 'lochs': 0.02854209607143639, 'parks': 0.02183138644885941, 'combination': 0.015930501202573194, 'puts': 0.015390240495290248, 'london': 0.021943009504452233, 'leith': 0.02125404307871986, 'michelin': 0.0251102955775257, 'starred': 0.0251102955775257, 'restaurants': 0.020526866994671333, 'exceptional': 0.01827677762976897, 'eateries': 0.027023500160918923, 'glasgow': 0.04838824321798866, 'manchester': 0.01213001129737691, 'liverpool': 0.014043215880770133, 'context': 0.01671812445664196, 'vital': 0.015930501202573194, 'marketed': 0.02215727175593667, 'carefully': 0.01782224258480917, 'thought': 0.009545676887073473, 'ensures': 0.023349982359376877, 'pull': 0.03410252221677827, 'visitors': 0.0511537833251674, 'city': 0.02994283812890175, 'approach': 0.02489478835097173, 'pitch': 0.014633586458311644, 'general': 0.011076032048544755, 'marketing': 0.07757891559107584, 'pass': 0.014043215880770133, 'stay': 0.012037529602281886, 'relied': 0.04150785100669424, 'reason': 0.02273986645994715, 'vast': 0.015446562133359688, 'majority': 0.012995130131741089, 'foreign': 0.013672088904574513, 'arrive': 0.019082438227585246, 'north': 0.012907686820890935, 'scottish': 0.023172516903034738, 'board': 0.012995130131741089, 'visitscotland': 0.11416838428574556, 'opening': 0.015390240495290248, 'skies': 0.0251102955775257, 'greater': 0.01314556474494459, 'low': 0.011040864481691426, 'cost': 0.01105840698847954, 'competitive': 0.016198137771794713, 'travel': 0.017139390312172636, 'eaten': 0.02183138644885941, 'strategy': 0.01374343045877187, 'short': 0.0102121279896375, 'haul': 0.03983636373093237, 'routes': 0.023349982359376877, 'transatlantic': 0.024427443304889166, 'long': 0.0071300073021247, 'flights': 0.023349982359376877, 'principal': 0.02125404307871986, 'remains': 0.013238814001954804, 'sound': 0.013890324515525732, 'problem': 0.009941590321624873, 'rest': 0.011350873044552335, 'takes': 0.012822238589556958, 'councils': 0.017614115801457816, 'aberdeen': 0.02215727175593667, 'pooling': 0.0251102955775257, 'resources': 0.01599563881572626, 'difficulty': 0.017614115801457816, 'pulled': 0.01771673368231218, 'ways': 0.011969636776092534, 'smaller': 0.014284933188401487, 'destinations': 0.0251102955775257, 'upset': 0.019918181865466185, 'support': 0.010853132694490793, 'result': 0.01070623863773693, 'council': 0.04080624274729486, 'decided': 0.012907686820890935, 'half': 0.017605299535693, 'pounds': 0.016412214228124108, 'funding': 0.014918177870213973, 'stornoway': 0.02854209607143639, 'likewise': 0.02011029158227349, 'mistake': 0.015680720773739214, 'managed': 0.013270420251564783, 'attractions': 0.0502205911550514, 'years': 0.012355639035828122, 'drawing': 0.01852655805860295, 'budgets': 0.018157868647317364, 'spending': 0.01162696883442712, 'pennies': 0.0251102955775257, 'bus': 0.018157868647317364, 'adverts': 0.02385009993474962, 'wide': 0.015680720773739214, 'listings': 0.027023500160918923, 'diddley': 0.02854209607143639, 'squat': 0.024427443304889166, 'remembered': 0.018042618989389442, 'funded': 0.016486381371555493, 'government': 0.008215690684204163, 'tune': 0.018657986222690107, 'whopping': 0.02251423872149594, '42': 0.017139390312172636, 'lot': 0.009689284958974776, 'money': 0.01794002230232446, 'influence': 0.015069016443764311, 'thinks': 0.014633586458311644, 'decision': 0.035319132995452925, 'whilst': 0.02011029158227349, 'face': 0.010722278569542179, 'attractive': 0.016268145760604272, 'prove': 0.013707589818261944, 'costly': 0.01939472889776896, 'people': 0.006106838523847143, 'paying': 0.013465872510630588, 'overburdened': 0.027023500160918923, 'taxpayer': 0.01599563881572626, 'expect': 0.012422002089398303, 'asked': 0.010954363677217081, 'cough': 0.02075392550334712, 'hoteliers': 0.02854209607143639, 'visitor': 0.021531601026861143, 'businesses': 0.014967785461038021, 'resourced': 0.025946039215406634, 'big': 0.008257075838461034, 'push': 0.015803529098918957, 'needed': 0.021806812357761666, 'recession': 0.01199213124822816, 'bigger': 0.014243548034144614, 'debate': 0.013114990547794173, 'policy': 0.010722278569542179, 'change': 0.009581065985193071, 'fuller': 0.027023500160918923, 'explanation': 0.017051261108389136, 'good': 0.006705335301438014, 'work': 0.008174757835768993, 'councillors': 0.04199128562195695, 'plan': 0.01122010051606459, 'time': 0.010854225121068175, 'financial': 0.019209691728278716, 'services': 0.011815848436025967, 'industry': 0.01314556474494459, 'trouble': 0.013238814001954804, 'losing': 0.013816157372094347, 'jobs': 0.012396780995086154, 'thing': 0.009396074392198403, 'drop': 0.014967785461038021, 'ball': 0.0122248345482544, 'unemployment': 0.015930501202573194, 'live': 0.012248920279828523, 'munificence': 0.02854209607143639, 'bunch': 0.01852655805860295, 'walliesat': 0.02854209607143639, 'scots': 0.015069016443764311, 'sucking': 0.023349982359376877, 'gums': 0.025946039215406634, 'wondering': 0.018794194627824466, 'threat': 0.014967785461038021, 'befall': 0.025946039215406634, 'parliament': 0.012630128872749653, 'spend': 0.01285050527732993, 'inscribing': 0.02854209607143639, 'verse': 0.0251102955775257, 'canongate': 0.02854209607143639, 'wall': 0.013636921337721184, 'commemorate': 0.025946039215406634, 'devolution': 0.017322125009436425, 'insult': 0.022908847394371695, 'intelligence': 0.01827677762976897, 'idea': 0.010658526930705358, 'brick': 0.024427443304889166, 'entrances': 0.02854209607143639, 'exits': 0.025946039215406634, 'preferably': 0.02215727175593667, 'msps': 0.01612941440599622, 'inside': 0.014162124863221746}\n",
            "1.10 {'2008': 0.02531812639594921, 'high': 0.016595437247383254, 'points': 0.04790438319175012, 'people': 0.01867014373130367, 'year': 0.02462833163489544, 'injustice': 0.1112400798062111, 'quick': 0.015462621964092161, 'solution': 0.0163684547362531, 'sight': 0.016169272472243288, 'economic': 0.020533353629359718, 'day': 0.007840860181559309, 'reckoning': 0.020700439212737776, 'finally': 0.012684939865857732, 'arrived': 0.015253430221744853, 'gordon': 0.031135596778988046, 'brown': 0.06119037619913011, 'believed': 0.015202875921172254, 'unremitting': 0.029086792561349297, 'guff': 0.027539215812844856, 'abolished': 0.021149992783945346, 'cycles': 0.021396323017294855, 'called': 0.009563909700965717, 'tory': 0.013491463124129513, 'boom': 0.030713186186908936, 'bust': 0.03136789474994272, 'experience': 0.011567492759143027, 'labour': 0.020209619416191066, 'government': 0.025117436023082192, 'midwife': 0.027539215812844856, 'mother': 0.014912853375454995, 'recessions': 0.021149992783945346, 'holding': 0.01562740124602044, 'account': 0.014432394421680175, 'wait': 0.014432394421680175, '2010': 0.03208406845389428, 'cast': 0.017288920601966417, 'verdict': 0.02049407577277489, 'bad': 0.009788144449332858, 'economy': 0.032346745482558496, 'turn': 0.010992995527019931, 'early': 0.00984941051425846, 'election': 0.011471828756611667, 'probable': 0.025589499691600615, 'believes': 0.013791627732217732, 'parting': 0.027539215812844856, 'waters': 0.02258012045356905, 'road': 0.014232516614362175, 'damascus': 0.029086792561349297, 'expect': 0.02531812639594921, 'calculate': 0.023795592709746665, 'summer': 0.012175278061947339, 'rewarded': 0.020298299839997983, 'grateful': 0.0188801183268969, 'amnesic': 0.029086792561349297, 'electorate': 0.03725114219197187, 'chancellor': 0.013273301239244212, 'darling': 0.014271663561565185, 'predicting': 0.021942509443404295, 'recovery': 0.015007099988395344, 'happened': 0.012737225531346898, '2009': 0.0465502853769172, 'ahead': 0.012063340599754514, 'predictions': 0.020700439212737776, 'american': 0.010225561940703102, 'european': 0.023656115068889132, 'economies': 0.016437227658019048, 'cut': 0.011163416419148704, 'pension': 0.01795026304957724, 'pots': 0.025589499691600615, 'melt': 0.024893615887043537, 'eyes': 0.014731066928931124, 'hbos': 0.016878116540163496, 'shares': 0.014079824497515995, 'lost': 0.010704192729028568, 'cent': 0.01089427983774543, 'working': 0.011471828756611667, 'told': 0.010078486887259427, 'employment': 0.017376666854732437, 'sense': 0.010719676701149233, 'grow': 0.015409239361135139, 'greatest': 0.015409239361135139, 'majority': 0.013243128798377368, 'acted': 0.019446606896050614, 'prudently': 0.029086792561349297, 'years': 0.012591433673916443, 'paying': 0.013722854810451782, 'price': 0.03452942135593998, 'hedonistic': 0.029086792561349297, 'gamblers': 0.025589499691600615, 'bought': 0.015304663123775921, 'houses': 0.017376666854732437, 'afford': 0.015356593093454468, 'mortgages': 0.0163684547362531, 'repayments': 0.02644119263554798, 'honour': 0.0196024160354409, 'spendthrifts': 0.02644119263554798, 'offered': 0.013621964516298518, 'sorts': 0.01850439285814403, 'months': 0.01874773799351147, 'forgiveness': 0.029086792561349297, 'missed': 0.01585879293234271, 'payments': 0.017119257386047203, 'offer': 0.01292608071174144, 'financial': 0.009788144449332858, 'assistance': 0.01915286246423333, 'hand': 0.011665616258036948, 'outs': 0.020298299839997983, 'looked': 0.012267253449653678, 'money': 0.01828238914015508, 'lived': 0.017037172633295433, 'expected': 0.011933210022109567, 'pay': 0.010294334862469048, 'surviving': 0.021942509443404295, 'fast': 0.014959685789927568, 'deflating': 0.024893615887043537, 'savings': 0.01604203422694714, 'rates': 0.012633360785068713, 'crash': 0.017376666854732437, 'income': 0.01355615609479277, 'dries': 0.029086792561349297, 'apply': 0.016801006970249298, 'mortgage': 0.015103732843297213, 'trapped': 0.02049407577277489, 'loans': 0.032874455316038095, 'rationed': 0.027539215812844856, 'blames': 0.02644119263554798, 'banks': 0.03511674915427072, 'pumped': 0.02644119263554798, 'needed': 0.022222972898940322, 'capital': 0.024916265834991794, 'release': 0.017288920601966417, 'credit': 0.01104332760443197, 'ploughed': 0.027539215812844856, 'bank': 0.010829859846190653, 'england': 0.009518335501072901, 'base': 0.030818478722270278, 'rate': 0.022683607478386648, 'lend': 0.01850439285814403, 'customers': 0.015356593093454468, 'long': 0.014532152287536602, 'loss': 0.013213193006541392, 'unforthcoming': 0.029086792561349297, 'asked': 0.02232683283829741, 'choose': 0.014557546417187773, 'recovering': 0.021659654587855737, 'hibs': 0.0451602409071381, 'winning': 0.012607830295943534, 'cup': 0.011360109740199022, '106': 0.02644119263554798, 'managed': 0.013523672546441974, 'feat': 0.021942509443404295, 'mixu': 0.029086792561349297, 'men': 0.010845863198328195, 'chance': 0.011198433122492375, 'buddies': 0.024893615887043537, 'happy': 0.013183490180426678, 'evening': 0.016801006970249298, 'news': 0.010798053046346592, 'readers': 0.017119257386047203, 'pricethere': 0.029086792561349297, 'injustices': 0.029086792561349297, 'abroad': 0.017466477913549976, 'servicemen': 0.029086792561349297, 'women': 0.011471828756611667, 'continuing': 0.016578606557562367, 'overstretched': 0.025589499691600615, 'underpaid': 0.025589499691600615, 'whilst': 0.02049407577277489, 'equipment': 0.019296909517602975, 'fit': 0.014912853375454995, 'purpose': 0.01610512316569222, 'suffer': 0.016507262538432016, 'unnecessary': 0.01765269991419666, 'casualties': 0.023346039138539092, 'countries': 0.013396434301145822, 'effort': 0.02862243236767653, 'share': 0.012085467003129804, 'afghanistan': 0.020298299839997983, 'prime': 0.01123377405918244, 'candidate': 0.014643320676165097, 'increase': 0.023491945563385595, 'hostility': 0.02224801596124222, 'president': 0.01164578871270449, 'elect': 0.0196024160354409, 'obama': 0.025580474819645455, 'clear': 0.01053789025462536, 'send': 0.03221024633138444, '30': 0.01123377405918244, '000': 0.02028927496804282, 'troops': 0.039869041055535466, 'announced': 0.013213193006541392, 'british': 0.010464629005556097, 'troop': 0.02644119263554798, 'levels': 0.012220988714797399, 'strategists': 0.021396323017294855, 'increasingly': 0.014686941652591138, 'numbers': 0.013861662612630695, 'german': 0.016801006970249298, 'stationed': 0.02644119263554798, 'confined': 0.019296909517602975, 'barracks': 0.027539215812844856, 'set': 0.010104809708095533, 'marked': 0.01795026304957724, 'major': 0.01052312507608368, 'disagreement': 0.023795592709746665, 'refuse': 0.02049407577277489, 'squaddies': 0.025589499691600615, 'battle': 0.01562740124602044, 'good': 0.006833299715587594, 'europeans': 0.020700439212737776, 'britain': 0.011163416419148704, 'sacrifices': 0.022943899765799296, 'tied': 0.01915286246423333, 'knotsanother': 0.029086792561349297, 'ram': 0.027539215812844856, 'raid': 0.023795592709746665, 'multrees': 0.05507843162568971, 'walk': 0.01568394737497136, 'expensive': 0.013969185043801293, 'handbags': 0.025589499691600615, 'stolen': 0.023795592709746665, '100': 0.013213193006541392, 'classy': 0.025589499691600615, 'gear': 0.02224801596124222, 'knicked': 0.029086792561349297, 'hoods': 0.029086792561349297, 'shock': 0.016801006970249298, 'awe': 0.02258012045356905, '4x4s': 0.029086792561349297, 'shop': 0.017376666854732437, 'facades': 0.029086792561349297, 'drive': 0.015741343853461973, 'wealthier': 0.024893615887043537, 'taste': 0.01915286246423333, 'security': 0.015571680637542756, 'pedestrianised': 0.027539215812844856, 'street': 0.011471828756611667, 'driving': 0.016956816109639585, 'city': 0.02034284422497905, 'centre': 0.01271099316765315, 'ago': 0.009384789730652805, 'occasional': 0.01850439285814403, 'taxi': 0.024305254513657053, 'extreme': 0.016878116540163496, 'difficulty': 0.01795026304957724, 'avoiding': 0.01915286246423333, 'obstacle': 0.021396323017294855, 'edinburgh': 0.013243128798377368, 'tram': 0.05288238527109596, 'works': 0.013722854810451782, 'fact': 0.00946212249836205, 'managers': 0.013124769116153857, 'simply': 0.01160643997354853, 'constructors': 0.029086792561349297, 'tie': 0.016956816109639585, 'charge': 0.013655299172667812, 'raids': 0.029086792561349297, 'nigh': 0.024893615887043537, 'impossible': 0.014557546417187773, 'life': 0.009224171618308095, 'difficult': 0.011954592676875483, 'entrepreneur': 0.022943899765799296}\n",
            "1.11 {'time': 0.009378893551214249, 'year': 0.02088227471955536, 'scottish': 0.05005713602840028, 'government': 0.028395979452200796, 'announced': 0.01120341931298979, 'intends': 0.021697245693201816, 'sort': 0.010362132826138895, 'king': 0.02490601108724193, 'speech': 0.011521995600411318, 'monarch': 0.019795023476690106, 'pend': 0.024662587867551836, 'holyrood': 0.024201785457152614, 'alex': 0.020022854411360112, 'salmond': 0.0244743517053735, 'relies': 0.01886401353348046, '17': 0.024980838416698736, 'tory': 0.011439363555087161, 'votes': 0.02787413363366337, 'life': 0.00782114227830654, 'blood': 0.011280171826314436, 'veins': 0.02241939310845816, 'denied': 0.014310894930494615, 'oxygen': 0.01886401353348046, 'breath': 0.015590224175297674, 'jibes': 0.02060833877857006, 'jokes': 0.01886401353348046, 'authority': 0.012806401310497963, 'minister': 0.008836215284309912, 'tories': 0.04293429848374559, 'devout': 0.023350403051667808, 'unionist': 0.019454050934108142, 'parties': 0.01122880176431997, 'actions': 0.014445758025642083, 'ye': 0.023350403051667808, 'annabel': 0.07545605413392184, 'goldie': 0.05836215280232442, 'argument': 0.01197011752359936, 'allowing': 0.012848159902199929, 'largest': 0.013250417884975258, 'party': 0.008693416562921764, 'govern': 0.01705295920359236, 'minority': 0.014515357395289216, 'preferable': 0.020176198349364488, 'supping': 0.023350403051667808, 'devil': 0.017933003590270814, 'formal': 0.016361780885475664, 'coalition': 0.03380481798236341, 'good': 0.011587861006368607, 'hustler': 0.024662587867551836, 'poker': 0.021697245693201816, 'players': 0.008351280112413323, 'negotiators': 0.021107208292574134, 'fear': 0.011103834657110328, 'dear': 0.01600838511859867, 'bed': 0.01513365913238536, 'early': 0.008351280112413323, 'horlicks': 0.023350403051667808, 'card': 0.01387875450128904, 'shark': 0.020176198349364488, 'scots': 0.013020800616456541, 'claimed': 0.012933329184780427, 'achievements': 0.03272356177095133, 'drug': 0.024336633916070688, 'policy': 0.02779464444725982, 'altered': 0.019454050934108142, 'recognition': 0.016620818774386786, '1000': 0.018365144019476386, 'police': 0.03805279298020411, 'officers': 0.016758552154382888, 'beat': 0.01184442227014867, 'business': 0.01639574961709471, 'taxes': 0.01206770017140094, 'cut': 0.018930842082957675, 'sooner': 0.016488708759758126, 'snp': 0.023043991200822636, 'agenda': 0.014056941482463885, 'numbers': 0.011753254383525057, 'delivered': 0.013298363146415845, 'current': 0.008728529883387995, 'rate': 0.019233350030217807, '13': 0.012168316958035344, 'years': 0.005338115894119916, 'quicker': 0.018365144019476386, 'tax': 0.019518248964954212, 'set': 0.00856783217967971, 'concede': 0.016121949260382715, 'offered': 0.011550015220939198, 'real': 0.008404074855104337, 'cuts': 0.012490419208349368, 'long': 0.0061608800960106635, 'dared': 0.021107208292574134, 'excuse': 0.014445758025642083, 'labour': 0.01713566435935942, 'gold': 0.014967661415920794, 'medal': 0.018141866118224118, 'playing': 0.0097916498412263, 'hardball': 0.020176198349364488, 'favourite': 0.014515357395289216, 'auntie': 0.021697245693201816, 'moose': 0.02060833877857006, 'hunting': 0.01886401353348046, 'butt': 0.017933003590270814, 'kicking': 0.016488708759758126, 'hockey': 0.018141866118224118, 'mom': 0.015898671359130444, 'compared': 0.011079410043403586, 'liberal': 0.012848159902199929, 'democrats': 0.01297676938003007, 'period': 0.021085055186311676, 'deal': 0.009196168795993486, 'pretty': 0.010913412326939022, 'gruel': 0.023350403051667808, 'jim': 0.014181427828184908, 'wallace': 0.038291207500550754, 'portrayed': 0.018141866118224118, 'political': 0.027072173713608524, 'bunny': 0.02241939310845816, 'rabbit': 0.02060833877857006, 'ripe': 0.019454050934108142, 'kill': 0.01600838511859867, 'laugh': 0.016902408991181703, 'forcing': 0.016239643901712404, 'jack': 0.013937066816831685, 'mcconnell': 0.016758552154382888, 'adopt': 0.017210856175014472, 'proportional': 0.021107208292574134, 'representation': 0.018604975644569338, 'local': 0.020532189483047265, 'elections': 0.013203172579405186, 'leaving': 0.012202563266548408, 'henry': 0.01513365913238536, 'mcleish': 0.019795023476690106, 'option': 0.012528270469718918, 'introduce': 0.01539980184512637, 'free': 0.008947607594622143, 'personal': 0.010362132826138895, 'care': 0.009570551964276535, 'elderly': 0.014515357395289216, 'ensuring': 0.016361780885475664, 'tuition': 0.019145603750275377, 'fees': 0.015219964139123745, 'replaced': 0.013347029416204002, 'graduate': 0.018604975644569338, 'policies': 0.011906659687391024, 'clear': 0.008935039633371665, 'evidence': 0.0097916498412263, 'wave': 0.015219964139123745, 'people': 0.010553565604318364, 'form': 0.009525077033999352, 'legislation': 0.013709868568698194, 'noise': 0.01886401353348046, 'sadly': 0.016620818774386786, 'mute': 0.021107208292574134, 'wonders': 0.018604975644569338, 'redoubtable': 0.023350403051667808, 'die': 0.013601983713463271, 'hard': 0.008197874808547355, 'unionists': 0.019145603750275377, 'hold': 0.011079410043403586, 'big': 0.007134754850709049, 'issue': 0.009570551964276535, 'sacrifice': 0.017376853891479034, 'unionism': 0.02241939310845816, 'jarrow': 0.024662587867551836, 'marchers': 0.024662587867551836, 'suffragette': 0.023350403051667808, 'hunger': 0.019795023476690106, 'strikers': 0.018604975644569338, 'great': 0.007707578136522497, 'withhold': 0.021697245693201816, 'answer': 0.011332370473336713, 'introduction': 0.018141866118224118, 'outdoor': 0.03673028803895277, 'activity': 0.024405126533096816, 'schools': 0.012684264326734702, 'costing': 0.01886401353348046, 'astronomical': 0.02241939310845816, 'sum': 0.015219964139123745, '6': 0.010844796768199208, 'kid': 0.014445758025642083, 'highfalutin': 0.023350403051667808, 'principles': 0.014733613967443038, 'defending': 0.016121949260382715, 'union': 0.011412281840943094, 'sacrificed': 0.021697245693201816, 'kids': 0.011306165909477105, 'skin': 0.01387875450128904, 'knees': 0.016239643901712404, 'scrambling': 0.04483878621691632, 'shale': 0.023350403051667808, 'bing': 0.02241939310845816, 'singing': 0.016902408991181703, 'happy': 0.01117823439246534, 'clappy': 0.024662587867551836, 'songs': 0.016758552154382888, 'camp': 0.014967661415920794, 'sleep': 0.01437762401529311, 'easy': 0.010501561907486185, 'nights': 0.016620818774386786, 'refuse': 0.017376853891479034, 'water': 0.01230753179649389, 'private': 0.010247224449255693, 'operative': 0.018604975644569338, 'owned': 0.01437762401529311, 'customers': 0.013020800616456541, 'save': 0.022062213936537428, '300m': 0.019795023476690106, 'starters': 0.01886401353348046, 'improve': 0.012379451333013988, 'service': 0.011466673809604522, 'demand': 0.01184442227014867, 'directly': 0.013497579628614658, 'elected': 0.013497579628614658, 'conveners': 0.023350403051667808, 'boards': 0.017210856175014472, 'chief': 0.009363598162981154, 'constables': 0.023350403051667808, 'accountable': 0.018604975644569338, 'autonomy': 0.018365144019476386, 'headteachers': 0.021697245693201816, 'pen': 0.01886401353348046, 'pushers': 0.024662587867551836, 'moon': 0.019795023476690106, 'sons': 0.01705295920359236, 'scouts': 0.018604975644569338, 'round': 0.011606792922074827, 'roundwhile': 0.024662587867551836, 'margo': 0.018604975644569338, 'macdonald': 0.017551828717596432, 'vote': 0.0219670285165394, 'power': 0.008985607005226295, 'support': 0.009377949609802724, 'understandable': 0.015792555427664452, 'bargains': 0.019454050934108142, 'keenly': 0.021107208292574134, 'thought': 0.01649641248445707, 'meadowbank': 0.02060833877857006, 'velodrome': 0.04932517573510367, 'double': 0.011813746723370211, 'gym': 0.017376853891479034, 'corporation': 0.017210856175014472, 'bus': 0.01568980883117714, 'classmates': 0.02241939310845816, 'cycle': 0.015493612644068934, 'stay': 0.010401360530127067, 'achievement': 0.01437762401529311, 'sporting': 0.014310894930494615, 'reasons': 0.011578279557407659, 'argued': 0.013396438711125648, 'saved': 0.01437762401529311, 'dismantled': 0.023350403051667808, 'reassembled': 0.024662587867551836, 'edinburgh': 0.01122880176431997, 'decision': 0.010172824713900682, 'requires': 0.014445758025642083, 'politics': 0.01117823439246534, 'brought': 0.010441069567641029, 'sport': 0.01206770017140094, 'occasion': 0.01437762401529311, 'chris': 0.014310894930494615, 'hoy': 0.021697245693201816, 'protesting': 0.020176198349364488, 'palin': 0.03410591840718472, 'simpleeat': 0.024662587867551836, 'heart': 0.009647793004427486, 'jenny': 0.023350403051667808, 'dawe': 0.023350403051667808, 'crochet': 0.024662587867551836, 'pins': 0.02060833877857006, 'console': 0.019454050934108142, 'yersel': 0.024662587867551836, 'glass': 0.015898671359130444, 'buckie': 0.023350403051667808, 'cathy': 0.021107208292574134, 'jamieson': 0.021697245693201816, 'future': 0.00878791220917504, 'hillary': 0.01539980184512637, 'rodham': 0.02241939310845816, 'clinton': 0.013709868568698194, 'tavish': 0.040352396698728976, 'scott': 0.01539980184512637, 'leader': 0.020128674074800432, 'liberals': 0.019795023476690106, 'bush': 0.013601983713463271, 'boulder': 0.02241939310845816, 'catch': 0.013347029416204002, 'beachcombing': 0.024662587867551836, 'scotland': 0.009306820461845524, 'endless': 0.016361780885475664, 'sands': 0.02241939310845816, 'desperation': 0.018365144019476386, 'ability': 0.011103834657110328, 'connect': 0.02060833877857006, 'leaders': 0.011439363555087161, 'core': 0.013347029416204002, 'values': 0.014586486543246416, 'illusory': 0.021107208292574134, 'centre': 0.010777605857362866, 'ground': 0.011153243952031973, 'voters': 0.010668631051192678, 'longer': 0.009495111579589004, 'middle': 0.010563206551404289, 'muddle': 0.023350403051667808, 'sound': 0.012002319241570778, 'sarah': 0.015049596069591636, 'tin': 0.021697245693201816, 'simple': 0.010844796768199208, 'holiday': 0.014733613967443038, 'alaska': 0.018604975644569338}\n",
            "1.12 {'time': 0.010133140235402807, 'year': 0.011280809245354205, 'labour': 0.05554112189204958, 'party': 0.009392537475324562, 'conference': 0.02552760655609367, 'sense': 0.009820123411542305, 'gordon': 0.019015212951270087, 'brown': 0.037370346303431445, 'ready': 0.013183888284487615, 'country': 0.009305586193583256, 'things': 0.016938759579074765, 'tony': 0.011692564797403712, 'blair': 0.012330052758221735, 'delivered': 0.014367811930917818, 'years': 0.017302214803668402, 'economic': 0.04702568750779936, 'growth': 0.011841374638028871, 'mandate': 0.020101179979622116, 'create': 0.013110274965614076, 'socially': 0.01842435102765748, 'britain': 0.010226626230129234, 'bottled': 0.021386930959081268, 'worried': 0.014316010931669072, 'ministers': 0.012187318511647414, 'backbenchers': 0.020381049586872244, 'held': 0.012159457778608334, 'october': 0.013619042740688335, 'election': 0.0315274734360027, 'reputation': 0.01322128440028044, 'assaulted': 0.023442129088109654, 'sides': 0.01349489348034949, 'events': 0.012448589652192648, 'northern': 0.013577167946818701, 'rock': 0.014165059281790722, 'fiasco': 0.017545629250451514, 'rising': 0.013002681753492559, 'inflation': 0.013791744682400141, 'increasing': 0.013074041444510765, 'house': 0.010226626230129234, 'repossessions': 0.020685285170752066, 'losing': 0.01289830076345871, 'elections': 0.014264966178448258, 'crewe': 0.01937516821466322, 'glasgow': 0.015057879882520947, 'expected': 0.010931821768505968, 'win': 0.009405137501559871, 'standing': 0.012932749352420288, 'donkey': 0.022804641127291633, 'foreign': 0.012763803278046834, 'secretary': 0.011457811990279135, 'david': 0.00987744442474397, 'miliband': 0.01937516821466322, 'set': 0.00925685364867493, 'stall': 0.022265652736287233, 'replacement': 0.016259878270992362, 'premier': 0.011549830550829393, 'pressed': 0.03754858638088826, 'idea': 0.009950442973770388, 'calculation': 0.020101179979622116, 'lose': 0.022736306283961505, 'replace': 0.015607479824907004, 'weekend': 0.012050183150971608, 'chancellor': 0.02431891555721667, 'exchequer': 0.01896333941866188, 'alistair': 0.01366142512017206, 'darling': 0.02614808288902153, 'announced': 0.012104393593405052, 'economy': 0.01975488884948794, 'facing': 0.014165059281790722, 'worst': 0.012187318511647414, 'prospects': 0.015122037710032126, '60': 0.013259084806239238, 'damaging': 0.017545629250451514, 'statement': 0.026518169612478475, 'uttered': 0.022265652736287233, 'talk': 0.010741747610397971, 'damage': 0.013375001615039588, 'heath': 0.019842061195867844, 'day': 0.0071828859005892975, 'week': 0.006515441991221279, 'seventies': 0.020381049586872244, 'thatcher': 0.013927110109605352, 'rampant': 0.020101179979622116, 'unemployment': 0.014872181192612037, 'eighties': 0.019600827379479904, 'major': 0.009640065629139596, 'currency': 0.017062586108910194, 'collapse': 0.013335934130430757, 'nineties': 0.01937516821466322, 'shrink': 0.01877429319044413, 'mother': 0.02732285024034412, 'catastrophes': 0.024222351295501997, 'great': 0.008327418336312767, 'depression': 0.01370432754182176, 'screwed': 0.020101179979622116, 'thrown': 0.016843983462122313, 'interview': 0.013791744682400141, 'countless': 0.020101179979622116, 'future': 0.009494632421801005, 'campaign': 0.010951410074620199, 'slogans': 0.020685285170752066, 'sound': 0.012967540719039756, 'bites': 0.021018537547690265, 'urban': 0.01859494600727088, 'myths': 0.021386930959081268, 'hear': 0.012967540719039756, 'ended': 0.01366142512017206, 'boom': 0.014067927938758988, 'bust': 0.014367811930917818, 'transpires': 0.02522823266771102, 'bad': 0.00896676169833989, 'government': 0.007669893051337453, 'legacy': 0.017062586108910194, 'sight': 0.014812410446600496, 'talking': 0.011892419391249685, 'rare': 0.015838102089913292, 'osama': 0.02522823266771102, 'bin': 0.020101179979622116, 'laden': 0.02179875975508261, 'signing': 0.015057879882520947, 'autographs': 0.02522823266771102, 'private': 0.011071301939930101, 'respond': 0.016259878270992362, 'dither': 0.02522823266771102, 'moral': 0.014420391921702925, 'compass': 0.020685285170752066, 'worth': 0.011549830550829393, 'tough': 0.02614808288902153, 'leaner': 0.024222351295501997, 'meaner': 0.024222351295501997, 'leader': 0.010873706799149185, 'fair': 0.012330052758221735, 'route': 0.03183697004153775, 'coming': 0.01037335419900697, 'hardship': 0.021386930959081268, 'roll': 0.015918485020768876, 'sleeves': 0.021386930959081268, 'play': 0.009173172647934972, 'central': 0.011741467741371333, 'role': 0.010912342590011368, 'glenrothes': 0.020101179979622116, 'start': 0.008740406642686698, 'appeal': 0.0153218923038781, 'voters': 0.0115265978839809, 'fife': 0.020381049586872244, 'fails': 0.016443947269193137, 'respect': 0.013002681753492559, 'cover': 0.02698978696069898, 'lame': 0.022265652736287233, 'duck': 0.020685285170752066, 'prime': 0.01029107973253776, 'minister': 0.009546820009971198, 'waiting': 0.026829021098987802, 'fed': 0.017177235839060515, 'ravenous': 0.026645942835921387, 'angry': 0.01653974787824249, 'electorate': 0.017062586108910194, 'palin': 0.07369740411062992, 'presidenti': 0.026645942835921387, 'smitten': 0.026645942835921387, 'word': 0.011741467741371333, 'stood': 0.01653974787824249, 'watched': 0.015391132259459147, 'speak': 0.014264966178448258, 'notes': 0.015607479824907004, 'autocue': 0.02522823266771102, 'told': 0.009232739735881013, 'personal': 0.022390902400537892, 'story': 0.011996800381283536, 'values': 0.015759525670850146, 'hockey': 0.019600827379479904, 'mom': 0.017177235839060515, 'governor': 0.014583049319027725, 'alaska': 0.020101179979622116, 'fell': 0.013791744682400141, 'politically': 0.015533866506033465, 'love': 0.012104393593405052, 'forget': 0.013619042740688335, 'mccain': 0.015838102089913292, 'obama': 0.023433861548066818, 'elect': 0.017957458046452855, 'sarah': 0.032519756541984725, 'president': 0.010668519729820199, 'united': 0.009000328389700097, 'states': 0.01061458801539491, 'policy': 0.010009959363873291, 'buttons': 0.022804641127291633, 'naughty': 0.022804641127291633, 'librarian': 0.026645942835921387, 'fully': 0.014214655907636722, 'clothed': 0.026645942835921387, 'sexier': 0.02522823266771102, 'naked': 0.020381049586872244, 'girl': 0.03483693931089691, 'long': 0.006656335488347185, 'opponents': 0.013535788724276732, 'started': 0.011435180820679075, 'weakness': 0.017177235839060515, 'behold': 0.022804641127291633, 'daughters': 0.020381049586872244, 'months': 0.008587250619405604, 'pregnant': 0.017814723799878533, 'wedlock': 0.02522823266771102, 'corruption': 0.019842061195867844, 'fighting': 0.014932991481814376, 'moose': 0.022265652736287233, 'hunting': 0.020381049586872244, 'salmon': 0.022265652736287233, 'fishing': 0.021386930959081268, 'issues': 0.011841374638028871, 'support': 0.020264240765238053, 'daughter': 0.016259878270992362, 'welcomes': 0.022804641127291633, 'decision': 0.010990919009074512, 'baby': 0.0153218923038781, 'marry': 0.020685285170752066, 'father': 0.014316010931669072, 'christian': 0.01877429319044413, 'vote': 0.011866803866452228, 'sewn': 0.023442129088109654, 'barack': 0.01283040535836395, 'careful': 0.015187394818466225, 'leave': 0.011644336398339599, 'attacks': 0.015253996898783338, 'media': 0.011644336398339599, 'pundits': 0.01937516821466322, 'families': 0.01366142512017206, 'limits': 0.016085016660591447, 'people': 0.005701139461074081, '12': 0.011457811990279135, 'vagrant': 0.026645942835921387, 'half': 0.008217858349702853, 'brother': 0.017295772733031428, 'lives': 0.012243714951961693, 'mud': 0.02179875975508261, 'hut': 0.024222351295501997, 'kenya': 0.021386930959081268, 'making': 0.008617349831072037, 'abduction': 0.026645942835921387, 'happen': 0.010931821768505968, 'poor': 0.011010842159824992, 'lad': 0.020101179979622116, 'price': 0.010543949178620369, 'rail': 0.01916319401250785, 'link': 0.015253996898783338, 'property': 0.014583049319027725, 'prices': 0.012077183312139125, 'fallen': 0.014932991481814376, 'edinburgh': 0.024263634581642452, '1971': 0.023442129088109654, 'happened': 0.011668367444800307, 'worse': 0.010797692859861052, 'thing': 0.008771859659849559, 'high': 0.015202813142707737, 'level': 0.009680802052985663, 'demand': 0.01279694573942636, 'sources': 0.01663824744805611, 'shotts': 0.026645942835921387, 'tranent': 0.02522823266771102, 'news': 0.009891922720779045, 'coincided': 0.021018537547690265, 'realisation': 0.022804641127291633, 'local': 0.011091689773184624, 'council': 0.012698446169612736, 'plans': 0.010835493265819847, 'schemes': 0.017295772733031428, 'refurbishing': 0.02522823266771102, 'meadowbank': 0.022265652736287233, 'replacing': 0.01842435102765748, 'portobello': 0.024222351295501997, 'school': 0.010778944806919145, 'knife': 0.01937516821466322, 'edge': 0.015057879882520947, 'financed': 0.04076209917374449, 'land': 0.014812410446600496, 'housing': 0.02732285024034412, 'sales': 0.01349489348034949, 'borders': 0.020685285170752066, 'railway': 0.021018537547690265, 'planning': 0.014872181192612037, 'levy': 0.019842061195867844, 'prospect': 0.014316010931669072, 'ahead': 0.011051032297677213, 'chance': 0.01025870446885665, 'revealed': 0.014420391921702925, 'playboy': 0.024222351295501997}\n",
            "1.13 {'joy': 0.01731482474583477, 'scottish': 0.04419330009364482, 'medal': 0.08008338043616074, 'winners': 0.032354979983680004, 'great': 0.03402345205979216, 'british': 0.0489595142759946, 'olympic': 0.06925929898333907, 'team': 0.049237064398609476, 'rousing': 0.023944460425712005, 'reception': 0.02081778636373379, 'people': 0.01746992020571986, 'edinburgh': 0.0371753544125879, 'interesting': 0.013825841339796948, 'profoundly': 0.02274277386635053, 'hypocritical': 0.02274277386635053, 'nationalists': 0.015580868260900124, 'associate': 0.01881915854967871, 'years': 0.005890992183153765, 'ago': 0.008781481819396553, 'parade': 0.019369696691918917, 'athens': 0.021845222336775865, 'silent': 0.019790350390691717, 'conspicuous': 0.019790350390691717, 'absence': 0.0154460813752471, 'enjoyed': 0.015129819241884793, 'chris': 0.015793094762581554, 'hoy': 0.023944460425712005, 'firmly': 0.018342260718876843, 'alex': 0.011048325023411205, 'salmond': 0.08102758582457584, 'gas': 0.01766639643445353, 'peep': 0.02474140168040561, 'pointing': 0.018196467881304502, 'gold': 0.03303576698228232, 'gb': 0.022265876035548665, 'thought': 0.009102484745887918, 'score': 0.015010760598071965, 'gordon': 0.019422681800225876, 'brown': 0.02862835457887873, 'football': 0.0831774128503195, 'london': 0.010462113460158474, 'olympics': 0.08960803510052022, 'preferring': 0.019573833884204448, 'competition': 0.012970555730390151, 'play': 0.037478962532991454, 'typical': 0.016429695589032692, 'troublemaking': 0.02721692732526256, 'honest': 0.015190870789596581, 'admit': 0.014895543233006889, 'england': 0.008906442504575358, 'qualifying': 0.01899340913599811, 'scots': 0.02873876707489336, 'support': 0.010349237247960863, 'subsequent': 0.017204925964882076, 'matches': 0.014272852564632683, 'building': 0.013105342616043176, 'division': 0.014675693615151772, 'exists': 0.020020845109040186, 'pursuit': 0.01881915854967871, 'thankfully': 0.02081778636373379, 'ioc': 0.02474140168040561, 'recognise': 0.016177489991840002, 'precisely': 0.016796317567818703, 'unifying': 0.02474140168040561, 'force': 0.013003778561326985, 'suspect': 0.014570644025129293, 'supports': 0.019790350390691717, 'blair': 0.012594268174469342, 'appalling': 0.019369696691918917, 'gaffe': 0.022265876035548665, 'claiming': 0.016994781321943028, 'jackie': 0.02081778636373379, 'millburn': 0.05443385465052512, 'newcastle': 0.015866735074019898, 'terraces': 0.02274277386635053, 'born': 0.014225548183382609, 'time': 0.005175139477366433, 'gee': 0.023944460425712005, 'gees': 0.02721692732526256, 'gimmick': 0.02474140168040561, 'reckon': 0.02274277386635053, 'squared': 0.02274277386635053, 'question': 0.010045102218174054, 'nations': 0.01451925567708608, 'retaining': 0.021128541281553895, 'individual': 0.012253874675168183, 'representation': 0.02053191955061402, 'governing': 0.018342260718876843, 'body': 0.02287070745197799, 'misses': 0.021128541281553895, 'point': 0.008515348886584168, 'thing': 0.008959828081132049, 'encouraging': 0.015512838993147643, 'sports': 0.07990541470634764, 'players': 0.009216234124056132, 'earn': 0.03303576698228232, 'week': 0.013310117210637755, 'rest': 0.01082386822462669, 'athletes': 0.016429695589032692, 'hope': 0.010934333584238684, 'year': 0.005761270436020183, 'agree': 0.013742781117781707, 'association': 0.012715345144739633, 'included': 0.02740392869396611, 'american': 0.019136408774744373, 'rugby': 0.031161736521800248, 'league': 0.009393953801052787, 'union': 0.025188536348938684, 'codes': 0.023944460425712005, 'daft': 0.019369696691918917, 'tennis': 0.0373060312733939, 'spectacle': 0.03698851868360223, 'multi': 0.016894171047061972, 'millionaire': 0.022265876035548665, 'roger': 0.01766639643445353, 'federer': 0.04948280336081122, 'telling': 0.013784069769214122, 'humbling': 0.02474140168040561, 'promoting': 0.018494259341801114, 'latest': 0.011435353725988995, 'clothing': 0.01881915854967871, 'range': 0.012905023092289448, 'swiss': 0.019790350390691717, 'fashion': 0.0154460813752471, 'stick': 0.014272852564632683, 'watches': 0.022265876035548665, 'pocket': 0.01766639643445353, 'knives': 0.02274277386635053, 'golf': 0.03763831709935742, 'limits': 0.016429695589032692, 'admitted': 0.03002152119614393, 'hall': 0.015580868260900124, 'fame': 0.017921607020104046, 'tiddlywinks': 0.02721692732526256, 'draughts': 0.025768837653447688, 'marbles': 0.02329331200859074, 'shove': 0.022265876035548665, 'ha': 0.021845222336775865, 'penny': 0.019176599473096505, 'allowed': 0.012018310504483192, 'longer': 0.0209570677006643, 'dignified': 0.02474140168040561, 'pedigree': 0.025768837653447688, 'beach': 0.056980227407994334, 'volleyball': 0.04788892085142401, 'disco': 0.023944460425712005, 'music': 0.015252984156424683, 'create': 0.013391209429162948, 'false': 0.032354979983680004, 'atmosphere': 0.01731482474583477, 'suppose': 0.018342260718876843, 'ladies': 0.020267248221493582, 'appealing': 0.020267248221493582, 'eye': 0.013742781117781707, 'cloth': 0.02329331200859074, 'capped': 0.021128541281553895, 'blokes': 0.02474140168040561, 'odour': 0.025768837653447688, 'issues': 0.012095118380272347, 'sitting': 0.014418645402205022, 'motionless': 0.025768837653447688, 'uttering': 0.02329331200859074, 'gum': 0.025768837653447688, 'accept': 0.013784069769214122, 'defined': 0.017545319464183237, 'rules': 0.012506080272360873, 'sport': 0.02663513823544921, 'considered': 0.013003778561326985, 'draw': 0.014320791922961755, 'firstly': 0.021128541281553895, 'remove': 0.016429695589032692, 'deliver': 0.014570644025129293, 'objective': 0.019176599473096505, 'running': 0.011478644299318799, 'swimming': 0.035583445153273274, 'faster': 0.016701073828239557, 'jumping': 0.01766639643445353, 'higher': 0.010224458493099149, 'throwing': 0.016343632904821763, 'lifting': 0.020267248221493582, 'objects': 0.022265876035548665, 'includes': 0.015252984156424683, 'lot': 0.009239425300165232, 'extend': 0.01865301563669695, 'shooting': 0.017545319464183237, 'sailing': 0.02329331200859074, 'scoring': 0.0170983082393475, 'number': 0.009369740633247864, 'points': 0.011206203925212974, 'goals': 0.013281310648210257, 'record': 0.01102907199257236, 'merit': 0.019573833884204448, 'leaves': 0.015793094762581554, 'subjective': 0.02474140168040561, 'combine': 0.02053191955061402, 'art': 0.017428212954101126, 'physical': 0.014042357846284215, 'ability': 0.012253874675168183, 'synchronised': 0.02329331200859074, 'gymnastics': 0.023944460425712005, 'fuzzy': 0.021468934780855056, 'boxing': 0.021468934780855056, 'diving': 0.021845222336775865, 'happy': 0.012335980097399248, 'leave': 0.011893857892589734, 'debated': 0.02053191955061402, 'heroic': 0.021845222336775865, 'stories': 0.016097229792368363, 'maarten': 0.02721692732526256, 'van': 0.01766639643445353, 'der': 0.02081778636373379, 'weijden': 0.02721692732526256, 'dutchman': 0.021845222336775865, 'beat': 0.01307116600527121, 'leukaemia': 0.02474140168040561, 'win': 0.009606676162307582, '10km': 0.02721692732526256, 'freestyle': 0.025768837653447688, 'place': 0.008740781338214876, 'ronaldinho': 0.023944460425712005, 'matter': 0.01112639214417013, 'success': 0.022292357005308936, 'lotteryone': 0.02721692732526256, 'reason': 0.021684086945735318, 'britain': 0.01044576822077486, 'impressive': 0.01436938353744668, 'lottery': 0.10564270640776947, 'money': 0.008553546347715412, 'invested': 0.017921607020104046, 'sporting': 0.015793094762581554, 'elite': 0.016894171047061972, 'considerably': 0.018196467881304502, 'gain': 0.015010760598071965, 'disproportionately': 0.023944460425712005, 'parts': 0.013825841339796948, 'suggested': 0.012121092520733347, 'pale': 0.021128541281553895, 'comparison': 0.016894171047061972, 'simple': 0.01196800786204841, 'poor': 0.022493577555071056, 'jackpot': 0.023944460425712005, 'attracting': 0.02081778636373379, 'receipts': 0.021468934780855056, 'buy': 0.023690532556209617, 'english': 0.01116607509211681, 'bigger': 0.013582240446845043, 'prizes': 0.02053191955061402, 'irish': 0.015580868260900124, 'sweepstake': 0.02721692732526256, 'capital': 0.011657252944228303, 'punishment': 0.019369696691918917, 'researchers': 0.012937639105015422, 'speak': 0.014570644025129293, 'worked': 0.012746266797393614, 'unhappiest': 0.02721692732526256, '273': 0.02721692732526256, 'towns': 0.02053191955061402, 'cities': 0.016796317567818703, 'commuters': 0.025768837653447688, 'stuck': 0.01594192582115501, 'tram': 0.02474140168040561, 'induced': 0.021845222336775865, 'roadworks': 0.02721692732526256, 'driver': 0.019573833884204448, 'shock': 0.015720942236447558, 'absorbers': 0.02721692732526256, 'fitted': 0.02081778636373379, 'smashed': 0.02081778636373379, 'city': 0.009517544976686628, 'speed': 0.014895543233006889, 'bumps': 0.021845222336775865, 'pot': 0.01899340913599811, 'holes': 0.019573833884204448, 'hibs': 0.021128541281553895, 'hearts': 0.017545319464183237, 'fans': 0.01126725547292476, 'cup': 0.010629816971186227, 'glaswegians': 0.02474140168040561, 'day': 0.007336804884173353, 'trip': 0.014783927006206517}\n"
          ],
          "name": "stdout"
        }
      ]
    },
    {
      "cell_type": "code",
      "metadata": {
        "id": "RuJWb9iQuw_T",
        "colab_type": "code",
        "colab": {}
      },
      "source": [
        "#total_words_number = len(idfs)       #36879"
      ],
      "execution_count": 0,
      "outputs": []
    },
    {
      "cell_type": "code",
      "metadata": {
        "id": "I-1IlRwz4MI8",
        "colab_type": "code",
        "colab": {}
      },
      "source": [
        "vectorS = []\n",
        "dictionary = {}\n",
        "\n",
        "i = 0\n",
        "for doc, tis in tfidf.items():\n",
        "    vectorS.append([])\n",
        "    # doc = \"1.11\"\n",
        "    # tis = {'time': 0.009378893551214249, 'year': 0.02088227471955536,...}\n",
        "    # doc = \"1.12\"\n",
        "    # tis = {'time': 0.010133140235402807, 'year': 0.011280809245354205,...}\n",
        "    for word, df in idfs.items():\n",
        "        # word = \"doubt\"\n",
        "        if word not in tis:\n",
        "            vectorS[i].append(0)\n",
        "        else:\n",
        "            ti = tis[word]\n",
        "            vectorS[i].append(ti)\n",
        "    author = doc.split(\".\")\n",
        "    author = author[0]\n",
        "    if author not in dictionary:\n",
        "        dictionary[author] = []\n",
        "    dictionary[author].append(vectorS[i])\n",
        "    i += 1"
      ],
      "execution_count": 0,
      "outputs": []
    },
    {
      "cell_type": "code",
      "metadata": {
        "id": "qx4YJQkRIy4h",
        "colab_type": "code",
        "colab": {}
      },
      "source": [
        "#matrix=[]\n",
        "\n",
        "#for doc, vector in vectors.items():\n",
        "#    if len(matrix) == 0:\n",
        "#        matrix.append(vector)\n",
        "#    else:\n",
        "#        matrix = np.vstack([matrix, vector])"
      ],
      "execution_count": 0,
      "outputs": []
    },
    {
      "cell_type": "code",
      "metadata": {
        "id": "JrDhpD2iKpU-",
        "colab_type": "code",
        "colab": {}
      },
      "source": [
        "#columns = len(matrix[0])\n",
        "#rows = len(matrix)\n",
        "\n",
        "#print(columns, \"columns - words\")\n",
        "#print(rows, \"rows - docs\\n\")"
      ],
      "execution_count": 0,
      "outputs": []
    },
    {
      "cell_type": "code",
      "metadata": {
        "id": "C-fqY2yuK4ha",
        "colab_type": "code",
        "colab": {}
      },
      "source": [
        "#---------------------------------------------------------------------------------------\n",
        "# Naive Bayes"
      ],
      "execution_count": 0,
      "outputs": []
    },
    {
      "cell_type": "code",
      "metadata": {
        "id": "-aCNtmPBOMiJ",
        "colab_type": "code",
        "colab": {}
      },
      "source": [
        "def splitTrainTest(dict, n):\n",
        "    train = {}\n",
        "    train_v = []\n",
        "    test_v = []\n",
        "    test_a = []\n",
        "\n",
        "    for author, vectors in dict.items():\n",
        "        train[author] = []\n",
        "        for i, vector in enumerate(vectors):\n",
        "            if i >= len(vectors)-n:     # last index to test\n",
        "                test_v.append(vector)\n",
        "                test_a.append(author)\n",
        "                continue\n",
        "            train[author].append(vector)\n",
        "            train_v.append(vector)\n",
        "    return train, train_v, test_v, test_a"
      ],
      "execution_count": 0,
      "outputs": []
    },
    {
      "cell_type": "code",
      "metadata": {
        "id": "GdiFdZqXe0OM",
        "colab_type": "code",
        "colab": {}
      },
      "source": [
        "#print(len(dictionary)) # 30    -> # of authers\n",
        "#print(len(vectorS))    # 1500  -> # of total docs"
      ],
      "execution_count": 0,
      "outputs": []
    },
    {
      "cell_type": "code",
      "metadata": {
        "id": "GyNqOaVkddCt",
        "colab_type": "code",
        "colab": {}
      },
      "source": [
        "def findPriorProbability(dict):\n",
        "    d = {}\n",
        "    t_docs = len(vectorS)\n",
        "    for author, docs in dictionary.items():\n",
        "        a_docs = len(docs)\n",
        "        priP = a_docs / t_docs\n",
        "        d[author] = priP\n",
        "    return d"
      ],
      "execution_count": 0,
      "outputs": []
    },
    {
      "cell_type": "code",
      "metadata": {
        "id": "e3H3bXlefeXU",
        "colab_type": "code",
        "colab": {}
      },
      "source": [
        "def calculateMeanVar(dict, train_v):\n",
        "    m = {}\n",
        "    v = {}\n",
        "    for author, docs in dict.items():\n",
        "        m[author] = []\n",
        "        v[author] = []\n",
        "        docs = np.array(docs)\n",
        "        mean = np.mean(docs, axis=0)\n",
        "        var = np.var(docs, axis=0) + (1e-9 * np.var(train_v, axis = 0).max())\n",
        "        m[author].append(mean)\n",
        "        v[author].append(var)\n",
        "    return m, v"
      ],
      "execution_count": 0,
      "outputs": []
    },
    {
      "cell_type": "code",
      "metadata": {
        "id": "uXZdq0GsnXW5",
        "colab_type": "code",
        "colab": {}
      },
      "source": [
        "def pred(train, test_v, priorPrs, means, vars):\n",
        "    preds = []\n",
        "    for vector in test_v:\n",
        "        vector = np.array(vector)\n",
        "        posteriors = []\n",
        "        authors = [*train]\n",
        "        for author in authors:\n",
        "            prior = np.log(priorPrs[author])\n",
        "            mean = means[author]\n",
        "            std = vars[author]\n",
        "\n",
        "            s = -(0.5 * np.sum(((vector - mean) ** 2) / std)) - (0.5 * np.sum(np.log(np.multiply((2 * np.pi), std))))\n",
        "            posterior = prior + s\n",
        "            posteriors.append(posterior)\n",
        "        prdInx = np.argmax(posteriors)\n",
        "        pred = authors[prdInx]\n",
        "        preds.append(pred)\n",
        "    return preds"
      ],
      "execution_count": 0,
      "outputs": []
    },
    {
      "cell_type": "code",
      "metadata": {
        "id": "VHSkRldPeTrD",
        "colab_type": "code",
        "colab": {}
      },
      "source": [
        "def NaiveBayes(dict, n):\n",
        "    train = {}\n",
        "    train_v = []\n",
        "    test_v = []\n",
        "    test_a = []\n",
        "\n",
        "    train, train_v, test_v, test_a = splitTrainTest(dict, n)\n",
        "    print(\"Authers:\", len(train), \"\\nTrain data:\", len(train_v), \"\\nNumber of prediction:\", len(test_v))\n",
        "\n",
        "    priorPrs = findPriorProbability(train)\n",
        "    means, vars = calculateMeanVar(train, train_v)\n",
        "\n",
        "    predictions = []\n",
        "    predictions = pred(train, test_v, priorPrs, means, vars)\n",
        "    print(\"predictions:\",predictions)\n",
        "    print(\"real:       \", test_a)\n",
        "\n",
        "    print(\"accuracy:\", accuracy_score(predictions, test_a))"
      ],
      "execution_count": 0,
      "outputs": []
    },
    {
      "cell_type": "code",
      "metadata": {
        "id": "7-Bzh_KuuR5U",
        "colab_type": "code",
        "colab": {}
      },
      "source": [
        "from sklearn.naive_bayes import GaussianNB\n",
        "\n",
        "def splitTrainTestforGaussianNB(dict, n):\n",
        "    X_train = []\n",
        "    y_train = []\n",
        "    X_test = []\n",
        "    y_test = []\n",
        "\n",
        "    for author, vectors in dict.items():\n",
        "        for i, vector in enumerate(vectors):\n",
        "            if i >= len(vectors)-n:     # last index to test\n",
        "                X_test.append(vector)\n",
        "                y_test.append(author)\n",
        "                break\n",
        "            X_train.append(vector)\n",
        "            y_train.append(author)\n",
        "    return X_train, y_train, X_test, y_test"
      ],
      "execution_count": 0,
      "outputs": []
    },
    {
      "cell_type": "code",
      "metadata": {
        "id": "vGVY4GGLqfZg",
        "colab_type": "code",
        "colab": {}
      },
      "source": [
        "def sklearnGaussianNB(dict, n):\n",
        "    X_train, y_train, X_test, y_test = splitTrainTestforGaussianNB(dictionary, n)\n",
        "\n",
        "    gnb = GaussianNB()\n",
        "    y_pred = gnb.fit(X_train, y_train).predict(X_test)\n",
        "    y_pred = np.array(y_pred).tolist()\n",
        "\n",
        "    print(accuracy_score(y_pred, y_test))"
      ],
      "execution_count": 0,
      "outputs": []
    },
    {
      "cell_type": "code",
      "metadata": {
        "id": "Sv4j3pOM_G_J",
        "colab_type": "code",
        "outputId": "6f63869b-506b-419b-d5b8-ef3e319a2d01",
        "colab": {
          "base_uri": "https://localhost:8080/",
          "height": 147
        }
      },
      "source": [
        "NaiveBayes(dictionary, 1)"
      ],
      "execution_count": 0,
      "outputs": [
        {
          "output_type": "stream",
          "text": [
            "Authers: 30 \n",
            "Train data: 1470 \n",
            "Number of prediction: 30\n",
            "predictions: ['1', '10', '16', '12', '13', '26', '15', '16', '17', '19', '19', '10', '20', '21', '22', '23', '16', '25', '26', '16', '8', '29', '10', '30', '4', '5', '10', '7', '7', '10']\n",
            "real:        ['1', '10', '11', '12', '13', '14', '15', '16', '17', '18', '19', '2', '20', '21', '22', '23', '24', '25', '26', '27', '28', '29', '3', '30', '4', '5', '6', '7', '8', '9']\n",
            "accuracy: 0.6333333333333333\n"
          ],
          "name": "stdout"
        }
      ]
    },
    {
      "cell_type": "code",
      "metadata": {
        "id": "ZlRF_b9vFZGK",
        "colab_type": "code",
        "outputId": "4b742d99-a694-4b6a-85ed-f5f1454a5356",
        "colab": {
          "base_uri": "https://localhost:8080/",
          "height": 35
        }
      },
      "source": [
        "sklearnGaussianNB(dictionary, 1)"
      ],
      "execution_count": 0,
      "outputs": [
        {
          "output_type": "stream",
          "text": [
            "0.6333333333333333\n"
          ],
          "name": "stdout"
        }
      ]
    }
  ]
}