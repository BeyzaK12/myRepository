{
  "nbformat": 4,
  "nbformat_minor": 0,
  "metadata": {
    "colab": {
      "name": "Emotion Recognition.ipynb",
      "provenance": [],
      "collapsed_sections": []
    },
    "kernelspec": {
      "name": "python3",
      "display_name": "Python 3"
    }
  },
  "cells": [
    {
      "cell_type": "code",
      "metadata": {
        "id": "2rASo_OETTMZ",
        "colab_type": "code",
        "colab": {
          "base_uri": "https://localhost:8080/",
          "height": 1000
        },
        "outputId": "7c5faecd-e65d-4d37-fe13-7bc8dfcacbfd"
      },
      "source": [
        "!pip install librosa soundfile numpy sklearn\n",
        "!pip install SpeechRecognition\n",
        "!apt-get install libasound-dev portaudio19-dev libportaudio2 libportaudiocpp0\n",
        "!apt-get install ffmpeg libav-tools\n",
        "!pip install pyaudio\n",
        "!pip install xgboost"
      ],
      "execution_count": 2,
      "outputs": [
        {
          "output_type": "stream",
          "text": [
            "Requirement already satisfied: librosa in /usr/local/lib/python3.6/dist-packages (0.6.3)\n",
            "Collecting soundfile\n",
            "  Downloading https://files.pythonhosted.org/packages/eb/f2/3cbbbf3b96fb9fa91582c438b574cff3f45b29c772f94c400e2c99ef5db9/SoundFile-0.10.3.post1-py2.py3-none-any.whl\n",
            "Requirement already satisfied: numpy in /usr/local/lib/python3.6/dist-packages (1.18.5)\n",
            "Requirement already satisfied: sklearn in /usr/local/lib/python3.6/dist-packages (0.0)\n",
            "Requirement already satisfied: joblib>=0.12 in /usr/local/lib/python3.6/dist-packages (from librosa) (0.15.1)\n",
            "Requirement already satisfied: numba>=0.38.0 in /usr/local/lib/python3.6/dist-packages (from librosa) (0.48.0)\n",
            "Requirement already satisfied: audioread>=2.0.0 in /usr/local/lib/python3.6/dist-packages (from librosa) (2.1.8)\n",
            "Requirement already satisfied: resampy>=0.2.0 in /usr/local/lib/python3.6/dist-packages (from librosa) (0.2.2)\n",
            "Requirement already satisfied: six>=1.3 in /usr/local/lib/python3.6/dist-packages (from librosa) (1.12.0)\n",
            "Requirement already satisfied: decorator>=3.0.0 in /usr/local/lib/python3.6/dist-packages (from librosa) (4.4.2)\n",
            "Requirement already satisfied: scikit-learn!=0.19.0,>=0.14.0 in /usr/local/lib/python3.6/dist-packages (from librosa) (0.22.2.post1)\n",
            "Requirement already satisfied: scipy>=1.0.0 in /usr/local/lib/python3.6/dist-packages (from librosa) (1.4.1)\n",
            "Requirement already satisfied: cffi>=1.0 in /usr/local/lib/python3.6/dist-packages (from soundfile) (1.14.0)\n",
            "Requirement already satisfied: setuptools in /usr/local/lib/python3.6/dist-packages (from numba>=0.38.0->librosa) (47.1.1)\n",
            "Requirement already satisfied: llvmlite<0.32.0,>=0.31.0dev0 in /usr/local/lib/python3.6/dist-packages (from numba>=0.38.0->librosa) (0.31.0)\n",
            "Requirement already satisfied: pycparser in /usr/local/lib/python3.6/dist-packages (from cffi>=1.0->soundfile) (2.20)\n",
            "Installing collected packages: soundfile\n",
            "Successfully installed soundfile-0.10.3.post1\n",
            "Collecting SpeechRecognition\n",
            "\u001b[?25l  Downloading https://files.pythonhosted.org/packages/26/e1/7f5678cd94ec1234269d23756dbdaa4c8cfaed973412f88ae8adf7893a50/SpeechRecognition-3.8.1-py2.py3-none-any.whl (32.8MB)\n",
            "\u001b[K     |████████████████████████████████| 32.8MB 122kB/s \n",
            "\u001b[?25hInstalling collected packages: SpeechRecognition\n",
            "Successfully installed SpeechRecognition-3.8.1\n",
            "Reading package lists... Done\n",
            "Building dependency tree       \n",
            "Reading state information... Done\n",
            "Note, selecting 'libasound2-dev' instead of 'libasound-dev'\n",
            "libasound2-dev is already the newest version (1.1.3-5ubuntu0.5).\n",
            "Suggested packages:\n",
            "  portaudio19-doc\n",
            "The following NEW packages will be installed:\n",
            "  libportaudio2 libportaudiocpp0 portaudio19-dev\n",
            "0 upgraded, 3 newly installed, 0 to remove and 32 not upgraded.\n",
            "Need to get 184 kB of archives.\n",
            "After this operation, 891 kB of additional disk space will be used.\n",
            "Get:1 http://archive.ubuntu.com/ubuntu bionic/universe amd64 libportaudio2 amd64 19.6.0-1 [64.6 kB]\n",
            "Get:2 http://archive.ubuntu.com/ubuntu bionic/universe amd64 libportaudiocpp0 amd64 19.6.0-1 [15.1 kB]\n",
            "Get:3 http://archive.ubuntu.com/ubuntu bionic/universe amd64 portaudio19-dev amd64 19.6.0-1 [104 kB]\n",
            "Fetched 184 kB in 1s (292 kB/s)\n",
            "Selecting previously unselected package libportaudio2:amd64.\n",
            "(Reading database ... 144467 files and directories currently installed.)\n",
            "Preparing to unpack .../libportaudio2_19.6.0-1_amd64.deb ...\n",
            "Unpacking libportaudio2:amd64 (19.6.0-1) ...\n",
            "Selecting previously unselected package libportaudiocpp0:amd64.\n",
            "Preparing to unpack .../libportaudiocpp0_19.6.0-1_amd64.deb ...\n",
            "Unpacking libportaudiocpp0:amd64 (19.6.0-1) ...\n",
            "Selecting previously unselected package portaudio19-dev:amd64.\n",
            "Preparing to unpack .../portaudio19-dev_19.6.0-1_amd64.deb ...\n",
            "Unpacking portaudio19-dev:amd64 (19.6.0-1) ...\n",
            "Setting up libportaudio2:amd64 (19.6.0-1) ...\n",
            "Setting up libportaudiocpp0:amd64 (19.6.0-1) ...\n",
            "Setting up portaudio19-dev:amd64 (19.6.0-1) ...\n",
            "Processing triggers for libc-bin (2.27-3ubuntu1) ...\n",
            "/sbin/ldconfig.real: /usr/local/lib/python3.6/dist-packages/ideep4py/lib/libmkldnn.so.0 is not a symbolic link\n",
            "\n",
            "Reading package lists... Done\n",
            "Building dependency tree       \n",
            "Reading state information... Done\n",
            "Package libav-tools is not available, but is referred to by another package.\n",
            "This may mean that the package is missing, has been obsoleted, or\n",
            "is only available from another source\n",
            "However the following packages replace it:\n",
            "  ffmpeg\n",
            "\n",
            "E: Package 'libav-tools' has no installation candidate\n",
            "Collecting pyaudio\n",
            "  Downloading https://files.pythonhosted.org/packages/ab/42/b4f04721c5c5bfc196ce156b3c768998ef8c0ae3654ed29ea5020c749a6b/PyAudio-0.2.11.tar.gz\n",
            "Building wheels for collected packages: pyaudio\n",
            "  Building wheel for pyaudio (setup.py) ... \u001b[?25l\u001b[?25hdone\n",
            "  Created wheel for pyaudio: filename=PyAudio-0.2.11-cp36-cp36m-linux_x86_64.whl size=51623 sha256=ca9780e2282c171059c9ab86128d812d93d59786671c097a8d0532c13ad8b05c\n",
            "  Stored in directory: /root/.cache/pip/wheels/f4/a8/a4/292214166c2917890f85b2f72a8e5f13e1ffa527c4200dcede\n",
            "Successfully built pyaudio\n",
            "Installing collected packages: pyaudio\n",
            "Successfully installed pyaudio-0.2.11\n",
            "Requirement already satisfied: xgboost in /usr/local/lib/python3.6/dist-packages (0.90)\n",
            "Requirement already satisfied: scipy in /usr/local/lib/python3.6/dist-packages (from xgboost) (1.4.1)\n",
            "Requirement already satisfied: numpy in /usr/local/lib/python3.6/dist-packages (from xgboost) (1.18.5)\n"
          ],
          "name": "stdout"
        }
      ]
    },
    {
      "cell_type": "code",
      "metadata": {
        "id": "PtWxU64WTa_X",
        "colab_type": "code",
        "colab": {}
      },
      "source": [
        "import librosa\n",
        "import soundfile\n",
        "import os, glob, pickle\n",
        "import numpy as np\n",
        "import glob\n",
        "from sklearn.model_selection import train_test_split\n",
        "from sklearn.metrics import accuracy_score\n",
        "from google.colab import drive\n",
        "import speech_recognition as sr\n",
        "import pandas as pd"
      ],
      "execution_count": 0,
      "outputs": []
    },
    {
      "cell_type": "code",
      "metadata": {
        "id": "dyA6Bi1j5t_h",
        "colab_type": "code",
        "outputId": "da0003a8-6182-4038-c6c8-6089245f1cdd",
        "colab": {
          "base_uri": "https://localhost:8080/",
          "height": 129
        }
      },
      "source": [
        "from google.colab import drive\n",
        "drive.mount('/content/drive')"
      ],
      "execution_count": 1,
      "outputs": [
        {
          "output_type": "stream",
          "text": [
            "Go to this URL in a browser: https://accounts.google.com/o/oauth2/auth?client_id=947318989803-6bn6qk8qdgf4n4g3pfee6491hc0brc4i.apps.googleusercontent.com&redirect_uri=urn%3aietf%3awg%3aoauth%3a2.0%3aoob&response_type=code&scope=email%20https%3a%2f%2fwww.googleapis.com%2fauth%2fdocs.test%20https%3a%2f%2fwww.googleapis.com%2fauth%2fdrive%20https%3a%2f%2fwww.googleapis.com%2fauth%2fdrive.photos.readonly%20https%3a%2f%2fwww.googleapis.com%2fauth%2fpeopleapi.readonly\n",
            "\n",
            "Enter your authorization code:\n",
            "··········\n",
            "Mounted at /content/drive\n"
          ],
          "name": "stdout"
        }
      ]
    },
    {
      "cell_type": "code",
      "metadata": {
        "id": "9QP3eNDxbQC3",
        "colab_type": "code",
        "colab": {}
      },
      "source": [
        "#Data Link : https://zenodo.org/record/1188976#.XrBhw_IzY5k\n",
        "users = [\"fatih\", \"beyza\"]\n",
        "user = users[1]\n",
        "\n",
        "if user == \"fatih\":\n",
        "    data_folder = \"/content/drive/My Drive/speech-emotion-recognition-ravdess-data\"\n",
        "    data_folder2 = \"/content/drive/My Drive/speech-emotion-recognition-tess-data\"\n",
        "    test_folder = \"/content/drive/My Drive/speech-emotion-recognition-test\"\n",
        "elif user == \"beyza\":\n",
        "    data_folder = \"/content/drive/My Drive/School/3.2/ML/speech-emotion-recognition-ravdess-data\"\n",
        "    data_folder2 = \"/content/drive/My Drive/School/3.2/ML/speech-emotion-recognition-tess-data\"\n",
        "    test_folder = \"/content/drive/My Drive/School/3.2/ML/sounds\"\n",
        "folders = os.listdir(data_folder)"
      ],
      "execution_count": 0,
      "outputs": []
    },
    {
      "cell_type": "code",
      "metadata": {
        "id": "JDCaUpXufDaS",
        "colab_type": "code",
        "colab": {}
      },
      "source": [
        "emotions = {\n",
        "  '01':'neutral',\n",
        "  '02':'calm',\n",
        "  '03':'happy',\n",
        "  '04':'sad',\n",
        "  '05':'angry',\n",
        "  '06':'fearful',\n",
        "  '07':'disgust',\n",
        "  '08':'surprised'\n",
        "}\n",
        "classes = {\n",
        "  'calm':'calm',\n",
        "  'happy':'happy',\n",
        "  'sad':'sad',\n",
        "  'angry':'angry',\n",
        "  'fearful':'fearful',\n",
        "  'surprised':'surprised'\n",
        "}\n",
        "\n",
        "unobserved_emotions = ['neutral', 'disgust']\n"
      ],
      "execution_count": 0,
      "outputs": []
    },
    {
      "cell_type": "code",
      "metadata": {
        "id": "7wSqam577f-U",
        "colab_type": "code",
        "colab": {}
      },
      "source": [
        "def noise(data):\n",
        "    noise_amp = 0.05*np.random.uniform()*np.amax(data)   # more noise reduce the value to 0.5\n",
        "    data = data.astype('float64') + noise_amp * np.random.normal(size=data.shape[0])\n",
        "    return data"
      ],
      "execution_count": 0,
      "outputs": []
    },
    {
      "cell_type": "code",
      "metadata": {
        "id": "wppimgiEdQzk",
        "colab_type": "code",
        "colab": {}
      },
      "source": [
        "def extract_feature(file_name, mfcc, mel):\n",
        "  with soundfile.SoundFile(file_name) as sound_file:\n",
        "    X = sound_file.read(dtype = \"float32\")          # read sound as float\n",
        "    X = noise(X)\n",
        "    sample_rate = sound_file.samplerate\n",
        "    result = np.array([])\n",
        "    if mfcc:\n",
        "        mfccs = np.mean(librosa.feature.mfcc(y = X, sr = sample_rate, n_mfcc = 30).T, axis = 0)\n",
        "        result = np.hstack((result, mfccs))     # create matrix\n",
        "    \n",
        "    if mel:\n",
        "        mel=np.mean(librosa.feature.melspectrogram(X, sr=sample_rate).T,axis=0)\n",
        "        result=np.hstack((result, mel))\n",
        "  return result"
      ],
      "execution_count": 0,
      "outputs": []
    },
    {
      "cell_type": "code",
      "metadata": {
        "id": "6odwD_bBcPaD",
        "colab_type": "code",
        "colab": {}
      },
      "source": [
        "def load_data(test_size = 0.2):\n",
        "  x,y = [],[]\n",
        "  for file in glob.glob(data_folder+\"/Actor_*/*.wav\"):\n",
        "      file_name = os.path.basename(file)\n",
        "      emotion = emotions[file_name.split(\"-\")[2]]\n",
        "      if emotion in unobserved_emotions:\n",
        "          continue\n",
        "      feature = extract_feature(file, mfcc = True, mel= False)\n",
        "      x.append(feature)\n",
        "      y.append(emotion)\n",
        "\n",
        "  for file in glob.glob(data_folder2+\"/*/*/*.wav\"):\n",
        "    file_name = os.path.basename(file)\n",
        "    emotion = file_name.split(\"_\")[0]\n",
        "    if emotion in unobserved_emotions:\n",
        "        continue\n",
        "    feature = extract_feature(file, mfcc = True, mel=False)\n",
        "    x.append(feature)\n",
        "    y.append(emotion)\n",
        "  return train_test_split(np.array(x), y, test_size = test_size, random_state = 9)"
      ],
      "execution_count": 0,
      "outputs": []
    },
    {
      "cell_type": "code",
      "metadata": {
        "id": "t8RbuYAKoyho",
        "colab_type": "code",
        "colab": {}
      },
      "source": [
        "def load_data_test():\n",
        "  x,y = [],[]\n",
        "  for file in glob.glob(test_folder+\"/*.wav\"):\n",
        "      file_name = os.path.basename(file)\n",
        "      emotion = file_name.split(\"_\")[0]\n",
        "      if emotion in unobserved_emotions:\n",
        "          continue\n",
        "      feature = extract_feature(file, mfcc = True, mel= False)\n",
        "      x.append(feature)\n",
        "      y.append(emotion)\n",
        "  return np.array(x), y"
      ],
      "execution_count": 0,
      "outputs": []
    },
    {
      "cell_type": "code",
      "metadata": {
        "id": "bVdhcnuRfHnk",
        "colab_type": "code",
        "colab": {}
      },
      "source": [
        "x_train,x_test,y_train,y_test = load_data(test_size = 0.20)"
      ],
      "execution_count": 0,
      "outputs": []
    },
    {
      "cell_type": "code",
      "metadata": {
        "id": "iIEDxYK6hGik",
        "colab_type": "code",
        "colab": {
          "base_uri": "https://localhost:8080/",
          "height": 54
        },
        "outputId": "87bfeb1e-7538-42ba-ea1c-0e7b506d1c56"
      },
      "source": [
        "print((x_train.shape[0], x_test.shape[0]))\n",
        "print(f'Features extracted: {x_train.shape[1]}')"
      ],
      "execution_count": 14,
      "outputs": [
        {
          "output_type": "stream",
          "text": [
            "(2521, 631)\n",
            "Features extracted: 30\n"
          ],
          "name": "stdout"
        }
      ]
    },
    {
      "cell_type": "code",
      "metadata": {
        "id": "f5uLZDNgh-re",
        "colab_type": "code",
        "colab": {}
      },
      "source": [
        "from sklearn.neural_network import MLPClassifier\n",
        "MLP = MLPClassifier(alpha = 0.01, batch_size = 32, hidden_layer_sizes = (64,32,32,16,8), learning_rate = 'adaptive', max_iter = 215)"
      ],
      "execution_count": 0,
      "outputs": []
    },
    {
      "cell_type": "code",
      "metadata": {
        "id": "Z3ZXiTrWEb8G",
        "colab_type": "code",
        "colab": {}
      },
      "source": [
        "from xgboost import XGBClassifier\n",
        "xgb = XGBClassifier(colsample_bytree=0.2, gamma=0.0468, \n",
        "                             learning_rate=0.1, max_depth=4, \n",
        "                             min_child_weight=1.7817, n_estimators=100,\n",
        "                             reg_alpha=0.4640, reg_lambda=1.25,\n",
        "                             subsample=0.2, silent=0,\n",
        "                             random_state =7, nthread = -1)"
      ],
      "execution_count": 0,
      "outputs": []
    },
    {
      "cell_type": "code",
      "metadata": {
        "id": "yEY8R9iCiCX8",
        "colab_type": "code",
        "outputId": "ca16c700-3fb5-427e-e4a8-8da8ea77a3e5",
        "colab": {
          "base_uri": "https://localhost:8080/",
          "height": 299
        }
      },
      "source": [
        "import matplotlib.pyplot as plt\n",
        "\n",
        "MLP.fit(x_train, y_train)\n",
        "train_pred = MLP.predict(x_test)\n",
        "# evaluate predictions\n",
        "accuracy = accuracy_score(y_test, train_pred)\n",
        "print(\"accuracy: %.2f%%\" % (accuracy))\n",
        "#get results\n",
        "x_axis = range(0, MLP.n_iter_)\n",
        "fig, ax = plt.subplots()\n",
        "ax.plot(x_axis, MLP.loss_curve_, label='Train')\n",
        "ax.legend()\n",
        "plt.ylabel('Classification Error')\n",
        "plt.title('MLP Classification Error')\n",
        "plt.show()"
      ],
      "execution_count": 18,
      "outputs": [
        {
          "output_type": "stream",
          "text": [
            "accuracy: 0.81%\n"
          ],
          "name": "stdout"
        },
        {
          "output_type": "display_data",
          "data": {
            "image/png": "[encoded data removed]",
            "text/plain": [
              "<Figure size 432x288 with 1 Axes>"
            ]
          },
          "metadata": {
            "tags": [],
            "needs_background": "light"
          }
        }
      ]
    },
    {
      "cell_type": "code",
      "metadata": {
        "id": "TCbSXSnsRRmH",
        "colab_type": "code",
        "outputId": "2eb3c13d-82ee-4511-b3be-bafff8a01453",
        "colab": {
          "base_uri": "https://localhost:8080/",
          "height": 1000
        }
      },
      "source": [
        "eval_set = [(x_train, y_train), (x_test, y_test)]\n",
        "xgb.fit(x_train, y_train, eval_metric=[\"merror\"], eval_set=eval_set, verbose=True)\n",
        "train_pred = xgb.predict(x_test)\n",
        "# evaluate predictions\n",
        "accuracy = accuracy_score(y_test, train_pred)\n",
        "print(\"accuracy: %.2f%%\" % (accuracy))\n",
        "#get results\n",
        "results = xgb.evals_result()\n",
        "epochs = len(results['validation_0']['merror'])\n",
        "x_axis = range(0, epochs)\n",
        "fig, ax = plt.subplots()\n",
        "ax.plot(x_axis, results['validation_0']['merror'], label='Train')\n",
        "ax.plot(x_axis, results['validation_1']['merror'], label='Test')\n",
        "ax.legend()\n",
        "plt.ylabel('Classification Error')\n",
        "plt.title('XGBoost Classification Error')\n",
        "plt.show()"
      ],
      "execution_count": 19,
      "outputs": [
        {
          "output_type": "stream",
          "text": [
            "[0]\tvalidation_0-merror:0.392701\tvalidation_1-merror:0.394612\n",
            "[1]\tvalidation_0-merror:0.341531\tvalidation_1-merror:0.36767\n",
            "[2]\tvalidation_0-merror:0.310194\tvalidation_1-merror:0.326466\n",
            "[3]\tvalidation_0-merror:0.286791\tvalidation_1-merror:0.305864\n",
            "[4]\tvalidation_0-merror:0.268148\tvalidation_1-merror:0.290016\n",
            "[5]\tvalidation_0-merror:0.261404\tvalidation_1-merror:0.291601\n",
            "[6]\tvalidation_0-merror:0.258231\tvalidation_1-merror:0.285261\n",
            "[7]\tvalidation_0-merror:0.253868\tvalidation_1-merror:0.282092\n",
            "[8]\tvalidation_0-merror:0.247917\tvalidation_1-merror:0.280507\n",
            "[9]\tvalidation_0-merror:0.247917\tvalidation_1-merror:0.275753\n",
            "[10]\tvalidation_0-merror:0.238794\tvalidation_1-merror:0.264659\n",
            "[11]\tvalidation_0-merror:0.239587\tvalidation_1-merror:0.266244\n",
            "[12]\tvalidation_0-merror:0.233241\tvalidation_1-merror:0.259905\n",
            "[13]\tvalidation_0-merror:0.238001\tvalidation_1-merror:0.259905\n",
            "[14]\tvalidation_0-merror:0.231257\tvalidation_1-merror:0.25832\n",
            "[15]\tvalidation_0-merror:0.228877\tvalidation_1-merror:0.259905\n",
            "[16]\tvalidation_0-merror:0.222927\tvalidation_1-merror:0.26149\n",
            "[17]\tvalidation_0-merror:0.218167\tvalidation_1-merror:0.256735\n",
            "[18]\tvalidation_0-merror:0.219357\tvalidation_1-merror:0.256735\n",
            "[19]\tvalidation_0-merror:0.213011\tvalidation_1-merror:0.25832\n",
            "[20]\tvalidation_0-merror:0.210631\tvalidation_1-merror:0.255151\n",
            "[21]\tvalidation_0-merror:0.210234\tvalidation_1-merror:0.259905\n",
            "[22]\tvalidation_0-merror:0.209441\tvalidation_1-merror:0.263074\n",
            "[23]\tvalidation_0-merror:0.209441\tvalidation_1-merror:0.26149\n",
            "[24]\tvalidation_0-merror:0.208251\tvalidation_1-merror:0.255151\n",
            "[25]\tvalidation_0-merror:0.207854\tvalidation_1-merror:0.256735\n",
            "[26]\tvalidation_0-merror:0.199524\tvalidation_1-merror:0.253566\n",
            "[27]\tvalidation_0-merror:0.198731\tvalidation_1-merror:0.253566\n",
            "[28]\tvalidation_0-merror:0.195557\tvalidation_1-merror:0.253566\n",
            "[29]\tvalidation_0-merror:0.190797\tvalidation_1-merror:0.256735\n",
            "[30]\tvalidation_0-merror:0.188021\tvalidation_1-merror:0.253566\n",
            "[31]\tvalidation_0-merror:0.187227\tvalidation_1-merror:0.251981\n",
            "[32]\tvalidation_0-merror:0.187624\tvalidation_1-merror:0.251981\n",
            "[33]\tvalidation_0-merror:0.186037\tvalidation_1-merror:0.253566\n",
            "[34]\tvalidation_0-merror:0.183657\tvalidation_1-merror:0.250396\n",
            "[35]\tvalidation_0-merror:0.181277\tvalidation_1-merror:0.248811\n",
            "[36]\tvalidation_0-merror:0.175724\tvalidation_1-merror:0.245642\n",
            "[37]\tvalidation_0-merror:0.174931\tvalidation_1-merror:0.248811\n",
            "[38]\tvalidation_0-merror:0.174137\tvalidation_1-merror:0.247227\n",
            "[39]\tvalidation_0-merror:0.172947\tvalidation_1-merror:0.248811\n",
            "[40]\tvalidation_0-merror:0.172551\tvalidation_1-merror:0.247227\n",
            "[41]\tvalidation_0-merror:0.170964\tvalidation_1-merror:0.251981\n",
            "[42]\tvalidation_0-merror:0.171361\tvalidation_1-merror:0.251981\n",
            "[43]\tvalidation_0-merror:0.166997\tvalidation_1-merror:0.253566\n",
            "[44]\tvalidation_0-merror:0.164221\tvalidation_1-merror:0.253566\n",
            "[45]\tvalidation_0-merror:0.165411\tvalidation_1-merror:0.251981\n",
            "[46]\tvalidation_0-merror:0.165014\tvalidation_1-merror:0.248811\n",
            "[47]\tvalidation_0-merror:0.161841\tvalidation_1-merror:0.248811\n",
            "[48]\tvalidation_0-merror:0.161841\tvalidation_1-merror:0.247227\n",
            "[49]\tvalidation_0-merror:0.156287\tvalidation_1-merror:0.251981\n",
            "[50]\tvalidation_0-merror:0.154701\tvalidation_1-merror:0.251981\n",
            "[51]\tvalidation_0-merror:0.154304\tvalidation_1-merror:0.248811\n",
            "[52]\tvalidation_0-merror:0.152321\tvalidation_1-merror:0.250396\n",
            "[53]\tvalidation_0-merror:0.151527\tvalidation_1-merror:0.248811\n",
            "[54]\tvalidation_0-merror:0.150337\tvalidation_1-merror:0.245642\n",
            "[55]\tvalidation_0-merror:0.149941\tvalidation_1-merror:0.244057\n",
            "[56]\tvalidation_0-merror:0.146767\tvalidation_1-merror:0.245642\n",
            "[57]\tvalidation_0-merror:0.147957\tvalidation_1-merror:0.239303\n",
            "[58]\tvalidation_0-merror:0.147957\tvalidation_1-merror:0.242472\n",
            "[59]\tvalidation_0-merror:0.14518\tvalidation_1-merror:0.240887\n",
            "[60]\tvalidation_0-merror:0.1428\tvalidation_1-merror:0.242472\n",
            "[61]\tvalidation_0-merror:0.13923\tvalidation_1-merror:0.240887\n",
            "[62]\tvalidation_0-merror:0.142404\tvalidation_1-merror:0.237718\n",
            "[63]\tvalidation_0-merror:0.13685\tvalidation_1-merror:0.236133\n",
            "[64]\tvalidation_0-merror:0.138437\tvalidation_1-merror:0.236133\n",
            "[65]\tvalidation_0-merror:0.136454\tvalidation_1-merror:0.237718\n",
            "[66]\tvalidation_0-merror:0.135264\tvalidation_1-merror:0.236133\n",
            "[67]\tvalidation_0-merror:0.134867\tvalidation_1-merror:0.239303\n",
            "[68]\tvalidation_0-merror:0.134074\tvalidation_1-merror:0.236133\n",
            "[69]\tvalidation_0-merror:0.131694\tvalidation_1-merror:0.237718\n",
            "[70]\tvalidation_0-merror:0.131694\tvalidation_1-merror:0.232964\n",
            "[71]\tvalidation_0-merror:0.13209\tvalidation_1-merror:0.231379\n",
            "[72]\tvalidation_0-merror:0.12971\tvalidation_1-merror:0.232964\n",
            "[73]\tvalidation_0-merror:0.130504\tvalidation_1-merror:0.237718\n",
            "[74]\tvalidation_0-merror:0.129314\tvalidation_1-merror:0.239303\n",
            "[75]\tvalidation_0-merror:0.125347\tvalidation_1-merror:0.237718\n",
            "[76]\tvalidation_0-merror:0.124554\tvalidation_1-merror:0.234548\n",
            "[77]\tvalidation_0-merror:0.124554\tvalidation_1-merror:0.232964\n",
            "[78]\tvalidation_0-merror:0.123364\tvalidation_1-merror:0.234548\n",
            "[79]\tvalidation_0-merror:0.12138\tvalidation_1-merror:0.236133\n",
            "[80]\tvalidation_0-merror:0.12019\tvalidation_1-merror:0.234548\n",
            "[81]\tvalidation_0-merror:0.119794\tvalidation_1-merror:0.236133\n",
            "[82]\tvalidation_0-merror:0.119\tvalidation_1-merror:0.232964\n",
            "[83]\tvalidation_0-merror:0.118604\tvalidation_1-merror:0.234548\n",
            "[84]\tvalidation_0-merror:0.118604\tvalidation_1-merror:0.234548\n",
            "[85]\tvalidation_0-merror:0.118207\tvalidation_1-merror:0.234548\n",
            "[86]\tvalidation_0-merror:0.117414\tvalidation_1-merror:0.234548\n",
            "[87]\tvalidation_0-merror:0.115827\tvalidation_1-merror:0.231379\n",
            "[88]\tvalidation_0-merror:0.11543\tvalidation_1-merror:0.231379\n",
            "[89]\tvalidation_0-merror:0.113844\tvalidation_1-merror:0.232964\n",
            "[90]\tvalidation_0-merror:0.110274\tvalidation_1-merror:0.229794\n",
            "[91]\tvalidation_0-merror:0.110274\tvalidation_1-merror:0.231379\n",
            "[92]\tvalidation_0-merror:0.107894\tvalidation_1-merror:0.231379\n",
            "[93]\tvalidation_0-merror:0.10472\tvalidation_1-merror:0.234548\n",
            "[94]\tvalidation_0-merror:0.103134\tvalidation_1-merror:0.232964\n",
            "[95]\tvalidation_0-merror:0.103927\tvalidation_1-merror:0.228209\n",
            "[96]\tvalidation_0-merror:0.103134\tvalidation_1-merror:0.226624\n",
            "[97]\tvalidation_0-merror:0.104324\tvalidation_1-merror:0.220285\n",
            "[98]\tvalidation_0-merror:0.10353\tvalidation_1-merror:0.220285\n",
            "[99]\tvalidation_0-merror:0.101944\tvalidation_1-merror:0.22187\n",
            "accuracy: 0.78%\n"
          ],
          "name": "stdout"
        },
        {
          "output_type": "display_data",
          "data": {
            "image/png": "[encoded data removed]",
            "text/plain": [
              "<Figure size 432x288 with 1 Axes>"
            ]
          },
          "metadata": {
            "tags": [],
            "needs_background": "light"
          }
        }
      ]
    },
    {
      "cell_type": "code",
      "metadata": {
        "id": "n_b2J0AGGrUl",
        "colab_type": "code",
        "colab": {}
      },
      "source": [
        "from sklearn.ensemble import  VotingClassifier\n",
        "mlpxgb = VotingClassifier(estimators=[('xgb', xgb), ('mlp', MLP)], voting='hard')\n",
        "mlpxgb = mlpxgb.fit(x_train, y_train)"
      ],
      "execution_count": 0,
      "outputs": []
    },
    {
      "cell_type": "code",
      "metadata": {
        "id": "5-9AVQRziFvO",
        "colab_type": "code",
        "colab": {}
      },
      "source": [
        "mlp_pred = MLP.predict(x_test)\n",
        "xgb_pred = xgb.predict(x_test)\n",
        "mlpxgb_pred = mlpxgb.predict(x_test)"
      ],
      "execution_count": 0,
      "outputs": []
    },
    {
      "cell_type": "code",
      "metadata": {
        "id": "vRlLq0-khPiY",
        "colab_type": "code",
        "colab": {}
      },
      "source": [
        "hx_test, hy_test = load_data_test()\n",
        "mlphy_pred = MLP.predict(hx_test)\n",
        "xgbhy_pred = xgb.predict(hx_test)\n",
        "mlpxgbhy_pred = mlpxgb.predict(hx_test)"
      ],
      "execution_count": 0,
      "outputs": []
    },
    {
      "cell_type": "code",
      "metadata": {
        "id": "iVYImAYQngIx",
        "colab_type": "code",
        "outputId": "1cc7f75e-29e9-477f-86c9-83ce4b1d87ab",
        "colab": {
          "base_uri": "https://localhost:8080/",
          "height": 72
        }
      },
      "source": [
        "accuracy = accuracy_score(y_true = hy_test, y_pred = mlphy_pred)\n",
        "#Print the accuracy\n",
        "print(\"Accuracy for MLP: {:.2f}%\".format(accuracy*100))\n",
        "\n",
        "accuracy = accuracy_score(y_true = hy_test, y_pred = xgbhy_pred)\n",
        "#Print the accuracy\n",
        "print(\"Accuracy for xgBoost: {:.2f}%\".format(accuracy*100))\n",
        "\n",
        "accuracy = accuracy_score(y_true = hy_test, y_pred = mlpxgbhy_pred)\n",
        "#Print the accuracy\n",
        "print(\"Accuracy for ensemble: {:.2f}%\".format(accuracy*100))"
      ],
      "execution_count": 23,
      "outputs": [
        {
          "output_type": "stream",
          "text": [
            "Accuracy for MLP: 44.44%\n",
            "Accuracy for xgBoost: 33.33%\n",
            "Accuracy for ensemble: 44.44%\n"
          ],
          "name": "stdout"
        }
      ]
    },
    {
      "cell_type": "code",
      "metadata": {
        "id": "g_cKAaauLiUu",
        "colab_type": "code",
        "outputId": "965b835b-5dcb-410d-e216-ca57c6282b37",
        "colab": {
          "base_uri": "https://localhost:8080/",
          "height": 90
        }
      },
      "source": [
        "print(\"mlp: {}\".format(mlphy_pred))\n",
        "print(\"xgb: {}\".format(xgbhy_pred))\n",
        "print(\"mlpxgb: {}\".format(mlpxgbhy_pred))\n",
        "print(\"true: {}\".format(hy_test))\n",
        "train_xg = xgb.predict(x_train)\n",
        "train_mlp = MLP.predict(x_train)\n",
        "train_mlpxgb = mlpxgb.predict(x_train)"
      ],
      "execution_count": 24,
      "outputs": [
        {
          "output_type": "stream",
          "text": [
            "mlp: ['sad' 'angry' 'angry' 'sad' 'surprised' 'angry' 'sad' 'sad' 'angry']\n",
            "xgb: ['fearful' 'angry' 'angry' 'calm' 'angry' 'angry' 'calm' 'calm' 'happy']\n",
            "mlpxgb: ['fearful' 'angry' 'angry' 'calm' 'angry' 'angry' 'calm' 'calm' 'angry']\n",
            "true: ['calm', 'angry', 'sad', 'sad', 'surprised', 'fearful', 'calm', 'calm', 'angry']\n"
          ],
          "name": "stdout"
        }
      ]
    },
    {
      "cell_type": "code",
      "metadata": {
        "id": "ArzBCnxwDl0W",
        "colab_type": "code",
        "outputId": "7d3240a2-c6a3-477e-ae9d-c0d6312eddc8",
        "colab": {
          "base_uri": "https://localhost:8080/",
          "height": 733
        }
      },
      "source": [
        "from sklearn.metrics import classification_report\n",
        "# print(classification_report(y_train, train_xg, target_names=classes))\n",
        "# print(classification_report(y_train, train_mlp, target_names=classes))\n",
        "# print(classification_report(y_train, train_mlpxgb, target_names=classes))\n",
        "\n",
        "print(\"xgb: {}\".format(classification_report(y_test, xgb_pred, target_names=classes)))\n",
        "print(\"mlp: {}\".format(classification_report(y_test, mlp_pred, target_names=classes)))\n",
        "print(\"ensemble: {}\".format(classification_report(y_test, mlpxgb_pred, target_names=classes)))"
      ],
      "execution_count": 25,
      "outputs": [
        {
          "output_type": "stream",
          "text": [
            "xgb:               precision    recall  f1-score   support\n",
            "\n",
            "        calm       0.77      0.86      0.81       111\n",
            "       happy       0.55      0.55      0.55        38\n",
            "         sad       0.83      0.86      0.85       118\n",
            "       angry       0.80      0.59      0.68       124\n",
            "     fearful       0.76      0.78      0.77       116\n",
            "   surprised       0.80      0.89      0.84       124\n",
            "\n",
            "    accuracy                           0.78       631\n",
            "   macro avg       0.75      0.75      0.75       631\n",
            "weighted avg       0.78      0.78      0.77       631\n",
            "\n",
            "mlp:               precision    recall  f1-score   support\n",
            "\n",
            "        calm       0.89      0.88      0.89       111\n",
            "       happy       0.60      0.66      0.62        38\n",
            "         sad       0.93      0.85      0.88       118\n",
            "       angry       0.76      0.75      0.76       124\n",
            "     fearful       0.72      0.79      0.76       116\n",
            "   surprised       0.84      0.83      0.84       124\n",
            "\n",
            "    accuracy                           0.81       631\n",
            "   macro avg       0.79      0.79      0.79       631\n",
            "weighted avg       0.81      0.81      0.81       631\n",
            "\n",
            "ensemble:               precision    recall  f1-score   support\n",
            "\n",
            "        calm       0.68      0.95      0.79       111\n",
            "       happy       0.59      0.61      0.60        38\n",
            "         sad       0.82      0.86      0.84       118\n",
            "       angry       0.73      0.63      0.68       124\n",
            "     fearful       0.89      0.74      0.81       116\n",
            "   surprised       0.92      0.81      0.86       124\n",
            "\n",
            "    accuracy                           0.78       631\n",
            "   macro avg       0.77      0.77      0.76       631\n",
            "weighted avg       0.79      0.78      0.78       631\n",
            "\n"
          ],
          "name": "stdout"
        }
      ]
    },
    {
      "cell_type": "code",
      "metadata": {
        "id": "31cRv001iIIe",
        "colab_type": "code",
        "outputId": "81c5181e-7b95-4830-fa9b-c545ca26a4e3",
        "colab": {
          "base_uri": "https://localhost:8080/",
          "height": 72
        }
      },
      "source": [
        "accuracy = accuracy_score(y_true = y_test, y_pred = mlp_pred)\n",
        "#Print the accuracy\n",
        "print(\"Accuracy for mlp: {:.2f}%\".format(accuracy*100))\n",
        "accuracy = accuracy_score(y_true = y_test, y_pred = xgb_pred)\n",
        "#Print the accuracy\n",
        "print(\"Accuracy for xgBoost: {:.2f}%\".format(accuracy*100))\n",
        "accuracy = accuracy_score(y_true = y_test, y_pred = mlpxgb_pred)\n",
        "#Print the accuracy\n",
        "print(\"Accuracy for mlpxgb: {:.2f}%\".format(accuracy*100))"
      ],
      "execution_count": 26,
      "outputs": [
        {
          "output_type": "stream",
          "text": [
            "Accuracy for mlp: 80.98%\n",
            "Accuracy for xgBoost: 77.81%\n",
            "Accuracy for mlpxgb: 78.29%\n"
          ],
          "name": "stdout"
        }
      ]
    },
    {
      "cell_type": "code",
      "metadata": {
        "id": "g9Bhrw30vVKp",
        "colab_type": "code",
        "colab": {
          "base_uri": "https://localhost:8080/",
          "height": 35
        },
        "outputId": "b66f39ac-a593-47f5-e8e2-a392d0a1fa25"
      },
      "source": [
        "#1D CNN\n",
        "import keras\n",
        "from keras import regularizers\n",
        "from keras.models import Sequential, Model\n",
        "from keras.layers import Dense, Embedding\n",
        "from keras.layers import Input, Flatten, Dropout, Activation, BatchNormalization\n",
        "from keras.layers import Conv1D, MaxPooling1D\n",
        "from keras.utils import np_utils, to_categorical\n",
        "from keras import losses, models, optimizers\n",
        "from keras.activations import relu, softmax\n",
        "# sklearn\n",
        "from sklearn.preprocessing import LabelEncoder"
      ],
      "execution_count": 27,
      "outputs": [
        {
          "output_type": "stream",
          "text": [
            "Using TensorFlow backend.\n"
          ],
          "name": "stderr"
        }
      ]
    },
    {
      "cell_type": "code",
      "metadata": {
        "id": "qYfkFYciyTAF",
        "colab_type": "code",
        "outputId": "5f95b696-b315-462a-801e-ef722777682b",
        "colab": {
          "base_uri": "https://localhost:8080/",
          "height": 54
        }
      },
      "source": [
        "# preparation steps to get it into the correct format for Keras \n",
        "X_train = np.array(x_train)\n",
        "y_train = np.array(y_train)\n",
        "X_test = np.array(x_test)\n",
        "y_test = np.array(y_test)\n",
        "\n",
        "# one hot encode the target \n",
        "lb = LabelEncoder()\n",
        "y_train = np_utils.to_categorical(lb.fit_transform(y_train))\n",
        "y_test = np_utils.to_categorical(lb.fit_transform(y_test))\n",
        "\n",
        "print(X_train.shape)\n",
        "print(lb.classes_)"
      ],
      "execution_count": 28,
      "outputs": [
        {
          "output_type": "stream",
          "text": [
            "(2521, 30)\n",
            "['angry' 'calm' 'fearful' 'happy' 'sad' 'surprised']\n"
          ],
          "name": "stdout"
        }
      ]
    },
    {
      "cell_type": "code",
      "metadata": {
        "id": "nqrq6QLPu3SJ",
        "colab_type": "code",
        "outputId": "692f89cb-6d72-4262-9e87-1114743b0c16",
        "colab": {
          "base_uri": "https://localhost:8080/",
          "height": 35
        }
      },
      "source": [
        "X_train = np.expand_dims(X_train, axis=2)\n",
        "X_test = np.expand_dims(X_test, axis=2)\n",
        "X_train.shape\n",
        "#Dimension preps for 1D CNN"
      ],
      "execution_count": 29,
      "outputs": [
        {
          "output_type": "execute_result",
          "data": {
            "text/plain": [
              "(2521, 30, 1)"
            ]
          },
          "metadata": {
            "tags": []
          },
          "execution_count": 29
        }
      ]
    },
    {
      "cell_type": "code",
      "metadata": {
        "id": "Ki7-dvoWEthk",
        "colab_type": "code",
        "outputId": "7db8cd77-221a-4da3-e07d-b59333b69005",
        "colab": {
          "base_uri": "https://localhost:8080/",
          "height": 1000
        }
      },
      "source": [
        "model = Sequential()\n",
        "model.add(Conv1D(256, 8, padding='same',input_shape=(X_train.shape[1],1)))  # X_train.shape[1] = No. of Columns\n",
        "model.add(Activation('relu'))\n",
        "model.add(Conv1D(256, 8, padding='same'))\n",
        "model.add(BatchNormalization())\n",
        "model.add(Activation('relu'))\n",
        "model.add(Dropout(0.25))\n",
        "model.add(MaxPooling1D(pool_size=(6)))\n",
        "model.add(Conv1D(128, 8, padding='same'))\n",
        "model.add(Activation('relu'))\n",
        "model.add(Conv1D(128, 8, padding='same'))\n",
        "model.add(Activation('relu'))\n",
        "model.add(Conv1D(128, 8, padding='same'))\n",
        "model.add(Activation('relu'))\n",
        "model.add(Conv1D(128, 8, padding='same'))\n",
        "model.add(BatchNormalization())\n",
        "model.add(Activation('relu'))\n",
        "model.add(Dropout(0.25))\n",
        "model.add(MaxPooling1D(pool_size=(5)))\n",
        "model.add(Conv1D(64, 8, padding='same'))\n",
        "model.add(Activation('relu'))\n",
        "model.add(Conv1D(64, 8, padding='same'))\n",
        "model.add(Activation('relu'))\n",
        "model.add(Flatten())\n",
        "model.add(Dense(6)) # Target class number\n",
        "model.add(Activation('softmax'))\n",
        "opt = keras.optimizers.rmsprop(lr=0.00001, decay=1e-6)\n",
        "model.summary()"
      ],
      "execution_count": 30,
      "outputs": [
        {
          "output_type": "stream",
          "text": [
            "Model: \"sequential_1\"\n",
            "_________________________________________________________________\n",
            "Layer (type)                 Output Shape              Param #   \n",
            "=================================================================\n",
            "conv1d_1 (Conv1D)            (None, 30, 256)           2304      \n",
            "_________________________________________________________________\n",
            "activation_1 (Activation)    (None, 30, 256)           0         \n",
            "_________________________________________________________________\n",
            "conv1d_2 (Conv1D)            (None, 30, 256)           524544    \n",
            "_________________________________________________________________\n",
            "batch_normalization_1 (Batch (None, 30, 256)           1024      \n",
            "_________________________________________________________________\n",
            "activation_2 (Activation)    (None, 30, 256)           0         \n",
            "_________________________________________________________________\n",
            "dropout_1 (Dropout)          (None, 30, 256)           0         \n",
            "_________________________________________________________________\n",
            "max_pooling1d_1 (MaxPooling1 (None, 5, 256)            0         \n",
            "_________________________________________________________________\n",
            "conv1d_3 (Conv1D)            (None, 5, 128)            262272    \n",
            "_________________________________________________________________\n",
            "activation_3 (Activation)    (None, 5, 128)            0         \n",
            "_________________________________________________________________\n",
            "conv1d_4 (Conv1D)            (None, 5, 128)            131200    \n",
            "_________________________________________________________________\n",
            "activation_4 (Activation)    (None, 5, 128)            0         \n",
            "_________________________________________________________________\n",
            "conv1d_5 (Conv1D)            (None, 5, 128)            131200    \n",
            "_________________________________________________________________\n",
            "activation_5 (Activation)    (None, 5, 128)            0         \n",
            "_________________________________________________________________\n",
            "conv1d_6 (Conv1D)            (None, 5, 128)            131200    \n",
            "_________________________________________________________________\n",
            "batch_normalization_2 (Batch (None, 5, 128)            512       \n",
            "_________________________________________________________________\n",
            "activation_6 (Activation)    (None, 5, 128)            0         \n",
            "_________________________________________________________________\n",
            "dropout_2 (Dropout)          (None, 5, 128)            0         \n",
            "_________________________________________________________________\n",
            "max_pooling1d_2 (MaxPooling1 (None, 1, 128)            0         \n",
            "_________________________________________________________________\n",
            "conv1d_7 (Conv1D)            (None, 1, 64)             65600     \n",
            "_________________________________________________________________\n",
            "activation_7 (Activation)    (None, 1, 64)             0         \n",
            "_________________________________________________________________\n",
            "conv1d_8 (Conv1D)            (None, 1, 64)             32832     \n",
            "_________________________________________________________________\n",
            "activation_8 (Activation)    (None, 1, 64)             0         \n",
            "_________________________________________________________________\n",
            "flatten_1 (Flatten)          (None, 64)                0         \n",
            "_________________________________________________________________\n",
            "dense_1 (Dense)              (None, 6)                 390       \n",
            "_________________________________________________________________\n",
            "activation_9 (Activation)    (None, 6)                 0         \n",
            "=================================================================\n",
            "Total params: 1,283,078\n",
            "Trainable params: 1,282,310\n",
            "Non-trainable params: 768\n",
            "_________________________________________________________________\n"
          ],
          "name": "stdout"
        }
      ]
    },
    {
      "cell_type": "code",
      "metadata": {
        "id": "N9I-MZnwyl1a",
        "colab_type": "code",
        "outputId": "df5f1ce5-7c37-44ee-f797-fb6e7a37de95",
        "colab": {
          "base_uri": "https://localhost:8080/",
          "height": 1000
        }
      },
      "source": [
        "#train\n",
        "model.compile(loss='categorical_crossentropy', optimizer=opt,metrics=['accuracy'])\n",
        "model_history=model.fit(X_train, y_train, batch_size=128, epochs=100, validation_data=(X_test, y_test))"
      ],
      "execution_count": 31,
      "outputs": [
        {
          "output_type": "stream",
          "text": [
            "Train on 2521 samples, validate on 631 samples\n",
            "Epoch 1/100\n",
            "2521/2521 [==============================] - 13s 5ms/step - loss: 1.8010 - accuracy: 0.1765 - val_loss: 1.7931 - val_accuracy: 0.0602\n",
            "Epoch 2/100\n",
            "2521/2521 [==============================] - 12s 5ms/step - loss: 1.7835 - accuracy: 0.2075 - val_loss: 1.7907 - val_accuracy: 0.1426\n",
            "Epoch 3/100\n",
            "2521/2521 [==============================] - 12s 5ms/step - loss: 1.7703 - accuracy: 0.2495 - val_loss: 1.7892 - val_accuracy: 0.2124\n",
            "Epoch 4/100\n",
            "2521/2521 [==============================] - 12s 5ms/step - loss: 1.7584 - accuracy: 0.2848 - val_loss: 1.7859 - val_accuracy: 0.2345\n",
            "Epoch 5/100\n",
            "2521/2521 [==============================] - 12s 5ms/step - loss: 1.7448 - accuracy: 0.3106 - val_loss: 1.7825 - val_accuracy: 0.2821\n",
            "Epoch 6/100\n",
            "2521/2521 [==============================] - 12s 5ms/step - loss: 1.7288 - accuracy: 0.3431 - val_loss: 1.7771 - val_accuracy: 0.3296\n",
            "Epoch 7/100\n",
            "2521/2521 [==============================] - 12s 5ms/step - loss: 1.7126 - accuracy: 0.3641 - val_loss: 1.7714 - val_accuracy: 0.3582\n",
            "Epoch 8/100\n",
            "2521/2521 [==============================] - 12s 5ms/step - loss: 1.6914 - accuracy: 0.3998 - val_loss: 1.7638 - val_accuracy: 0.4120\n",
            "Epoch 9/100\n",
            "2521/2521 [==============================] - 12s 5ms/step - loss: 1.6704 - accuracy: 0.4244 - val_loss: 1.7559 - val_accuracy: 0.4422\n",
            "Epoch 10/100\n",
            "2521/2521 [==============================] - 12s 5ms/step - loss: 1.6487 - accuracy: 0.4431 - val_loss: 1.7468 - val_accuracy: 0.4485\n",
            "Epoch 11/100\n",
            "2521/2521 [==============================] - 12s 5ms/step - loss: 1.6272 - accuracy: 0.4625 - val_loss: 1.7369 - val_accuracy: 0.5024\n",
            "Epoch 12/100\n",
            "2521/2521 [==============================] - 12s 5ms/step - loss: 1.6027 - accuracy: 0.5038 - val_loss: 1.7254 - val_accuracy: 0.5135\n",
            "Epoch 13/100\n",
            "2521/2521 [==============================] - 12s 5ms/step - loss: 1.5733 - accuracy: 0.5224 - val_loss: 1.7127 - val_accuracy: 0.5341\n",
            "Epoch 14/100\n",
            "2521/2521 [==============================] - 12s 5ms/step - loss: 1.5505 - accuracy: 0.5303 - val_loss: 1.6964 - val_accuracy: 0.5436\n",
            "Epoch 15/100\n",
            "2521/2521 [==============================] - 12s 5ms/step - loss: 1.5246 - accuracy: 0.5637 - val_loss: 1.6793 - val_accuracy: 0.5610\n",
            "Epoch 16/100\n",
            "2521/2521 [==============================] - 12s 5ms/step - loss: 1.4984 - accuracy: 0.5847 - val_loss: 1.6625 - val_accuracy: 0.5658\n",
            "Epoch 17/100\n",
            "2521/2521 [==============================] - 13s 5ms/step - loss: 1.4776 - accuracy: 0.5938 - val_loss: 1.6423 - val_accuracy: 0.5864\n",
            "Epoch 18/100\n",
            "2521/2521 [==============================] - 15s 6ms/step - loss: 1.4546 - accuracy: 0.5950 - val_loss: 1.6218 - val_accuracy: 0.5975\n",
            "Epoch 19/100\n",
            "2521/2521 [==============================] - 12s 5ms/step - loss: 1.4310 - accuracy: 0.6057 - val_loss: 1.5967 - val_accuracy: 0.6006\n",
            "Epoch 20/100\n",
            "2521/2521 [==============================] - 12s 5ms/step - loss: 1.4088 - accuracy: 0.6192 - val_loss: 1.5771 - val_accuracy: 0.6086\n",
            "Epoch 21/100\n",
            "2521/2521 [==============================] - 12s 5ms/step - loss: 1.3882 - accuracy: 0.6152 - val_loss: 1.5487 - val_accuracy: 0.6197\n",
            "Epoch 22/100\n",
            "2521/2521 [==============================] - 12s 5ms/step - loss: 1.3709 - accuracy: 0.6232 - val_loss: 1.5235 - val_accuracy: 0.6244\n",
            "Epoch 23/100\n",
            "2521/2521 [==============================] - 12s 5ms/step - loss: 1.3486 - accuracy: 0.6299 - val_loss: 1.4972 - val_accuracy: 0.6260\n",
            "Epoch 24/100\n",
            "2521/2521 [==============================] - 12s 5ms/step - loss: 1.3273 - accuracy: 0.6315 - val_loss: 1.4688 - val_accuracy: 0.6260\n",
            "Epoch 25/100\n",
            "2521/2521 [==============================] - 12s 5ms/step - loss: 1.3066 - accuracy: 0.6347 - val_loss: 1.4438 - val_accuracy: 0.6260\n",
            "Epoch 26/100\n",
            "2521/2521 [==============================] - 12s 5ms/step - loss: 1.2884 - accuracy: 0.6394 - val_loss: 1.4225 - val_accuracy: 0.6387\n",
            "Epoch 27/100\n",
            "2521/2521 [==============================] - 12s 5ms/step - loss: 1.2674 - accuracy: 0.6394 - val_loss: 1.4009 - val_accuracy: 0.6482\n",
            "Epoch 28/100\n",
            "2521/2521 [==============================] - 12s 5ms/step - loss: 1.2490 - accuracy: 0.6398 - val_loss: 1.3747 - val_accuracy: 0.6529\n",
            "Epoch 29/100\n",
            "2521/2521 [==============================] - 12s 5ms/step - loss: 1.2314 - accuracy: 0.6442 - val_loss: 1.3537 - val_accuracy: 0.6545\n",
            "Epoch 30/100\n",
            "2521/2521 [==============================] - 12s 5ms/step - loss: 1.2129 - accuracy: 0.6509 - val_loss: 1.3303 - val_accuracy: 0.6561\n",
            "Epoch 31/100\n",
            "2521/2521 [==============================] - 12s 5ms/step - loss: 1.1962 - accuracy: 0.6525 - val_loss: 1.3060 - val_accuracy: 0.6609\n",
            "Epoch 32/100\n",
            "2521/2521 [==============================] - 12s 5ms/step - loss: 1.1775 - accuracy: 0.6545 - val_loss: 1.2924 - val_accuracy: 0.6719\n",
            "Epoch 33/100\n",
            "2521/2521 [==============================] - 12s 5ms/step - loss: 1.1589 - accuracy: 0.6597 - val_loss: 1.2709 - val_accuracy: 0.6767\n",
            "Epoch 34/100\n",
            "2521/2521 [==============================] - 12s 5ms/step - loss: 1.1433 - accuracy: 0.6624 - val_loss: 1.2558 - val_accuracy: 0.6894\n",
            "Epoch 35/100\n",
            "2521/2521 [==============================] - 12s 5ms/step - loss: 1.1249 - accuracy: 0.6688 - val_loss: 1.2310 - val_accuracy: 0.6894\n",
            "Epoch 36/100\n",
            "2521/2521 [==============================] - 12s 5ms/step - loss: 1.1087 - accuracy: 0.6727 - val_loss: 1.2185 - val_accuracy: 0.6941\n",
            "Epoch 37/100\n",
            "2521/2521 [==============================] - 12s 5ms/step - loss: 1.0882 - accuracy: 0.6759 - val_loss: 1.1956 - val_accuracy: 0.6989\n",
            "Epoch 38/100\n",
            "2521/2521 [==============================] - 12s 5ms/step - loss: 1.0656 - accuracy: 0.6831 - val_loss: 1.1867 - val_accuracy: 0.7036\n",
            "Epoch 39/100\n",
            "2521/2521 [==============================] - 12s 5ms/step - loss: 1.0547 - accuracy: 0.6850 - val_loss: 1.1606 - val_accuracy: 0.7195\n",
            "Epoch 40/100\n",
            "2521/2521 [==============================] - 12s 5ms/step - loss: 1.0367 - accuracy: 0.7013 - val_loss: 1.1465 - val_accuracy: 0.7258\n",
            "Epoch 41/100\n",
            "2521/2521 [==============================] - 12s 5ms/step - loss: 1.0227 - accuracy: 0.7013 - val_loss: 1.1325 - val_accuracy: 0.7147\n",
            "Epoch 42/100\n",
            "2521/2521 [==============================] - 12s 5ms/step - loss: 1.0026 - accuracy: 0.7092 - val_loss: 1.1153 - val_accuracy: 0.7353\n",
            "Epoch 43/100\n",
            "2521/2521 [==============================] - 12s 5ms/step - loss: 0.9909 - accuracy: 0.7045 - val_loss: 1.0972 - val_accuracy: 0.7433\n",
            "Epoch 44/100\n",
            "2521/2521 [==============================] - 12s 5ms/step - loss: 0.9727 - accuracy: 0.7108 - val_loss: 1.0809 - val_accuracy: 0.7464\n",
            "Epoch 45/100\n",
            "2521/2521 [==============================] - 12s 5ms/step - loss: 0.9549 - accuracy: 0.7152 - val_loss: 1.0693 - val_accuracy: 0.7369\n",
            "Epoch 46/100\n",
            "2521/2521 [==============================] - 12s 5ms/step - loss: 0.9360 - accuracy: 0.7267 - val_loss: 1.0493 - val_accuracy: 0.7512\n",
            "Epoch 47/100\n",
            "2521/2521 [==============================] - 12s 5ms/step - loss: 0.9282 - accuracy: 0.7303 - val_loss: 1.0463 - val_accuracy: 0.7607\n",
            "Epoch 48/100\n",
            "2521/2521 [==============================] - 12s 5ms/step - loss: 0.9122 - accuracy: 0.7362 - val_loss: 1.0227 - val_accuracy: 0.7559\n",
            "Epoch 49/100\n",
            "2521/2521 [==============================] - 12s 5ms/step - loss: 0.8961 - accuracy: 0.7283 - val_loss: 1.0117 - val_accuracy: 0.7591\n",
            "Epoch 50/100\n",
            "2521/2521 [==============================] - 12s 5ms/step - loss: 0.8852 - accuracy: 0.7434 - val_loss: 0.9965 - val_accuracy: 0.7433\n",
            "Epoch 51/100\n",
            "2521/2521 [==============================] - 12s 5ms/step - loss: 0.8714 - accuracy: 0.7350 - val_loss: 0.9858 - val_accuracy: 0.7591\n",
            "Epoch 52/100\n",
            "2521/2521 [==============================] - 12s 5ms/step - loss: 0.8531 - accuracy: 0.7449 - val_loss: 0.9598 - val_accuracy: 0.7575\n",
            "Epoch 53/100\n",
            "2521/2521 [==============================] - 12s 5ms/step - loss: 0.8415 - accuracy: 0.7473 - val_loss: 0.9538 - val_accuracy: 0.7718\n",
            "Epoch 54/100\n",
            "2521/2521 [==============================] - 12s 5ms/step - loss: 0.8288 - accuracy: 0.7477 - val_loss: 0.9338 - val_accuracy: 0.7670\n",
            "Epoch 55/100\n",
            "2521/2521 [==============================] - 12s 5ms/step - loss: 0.8179 - accuracy: 0.7537 - val_loss: 0.9180 - val_accuracy: 0.7686\n",
            "Epoch 56/100\n",
            "2521/2521 [==============================] - 12s 5ms/step - loss: 0.8054 - accuracy: 0.7604 - val_loss: 0.9108 - val_accuracy: 0.7750\n",
            "Epoch 57/100\n",
            "2521/2521 [==============================] - 12s 5ms/step - loss: 0.7906 - accuracy: 0.7612 - val_loss: 0.8989 - val_accuracy: 0.7718\n",
            "Epoch 58/100\n",
            "2521/2521 [==============================] - 12s 5ms/step - loss: 0.7827 - accuracy: 0.7707 - val_loss: 0.8952 - val_accuracy: 0.7861\n",
            "Epoch 59/100\n",
            "2521/2521 [==============================] - 12s 5ms/step - loss: 0.7711 - accuracy: 0.7672 - val_loss: 0.8750 - val_accuracy: 0.7781\n",
            "Epoch 60/100\n",
            "2521/2521 [==============================] - 12s 5ms/step - loss: 0.7547 - accuracy: 0.7695 - val_loss: 0.8604 - val_accuracy: 0.7750\n",
            "Epoch 61/100\n",
            "2521/2521 [==============================] - 12s 5ms/step - loss: 0.7504 - accuracy: 0.7711 - val_loss: 0.8559 - val_accuracy: 0.7845\n",
            "Epoch 62/100\n",
            "2521/2521 [==============================] - 12s 5ms/step - loss: 0.7394 - accuracy: 0.7715 - val_loss: 0.8338 - val_accuracy: 0.7861\n",
            "Epoch 63/100\n",
            "2521/2521 [==============================] - 12s 5ms/step - loss: 0.7268 - accuracy: 0.7854 - val_loss: 0.8360 - val_accuracy: 0.7797\n",
            "Epoch 64/100\n",
            "2521/2521 [==============================] - 12s 5ms/step - loss: 0.7142 - accuracy: 0.7858 - val_loss: 0.8131 - val_accuracy: 0.7845\n",
            "Epoch 65/100\n",
            "2521/2521 [==============================] - 12s 5ms/step - loss: 0.7084 - accuracy: 0.7763 - val_loss: 0.8070 - val_accuracy: 0.7734\n",
            "Epoch 66/100\n",
            "2521/2521 [==============================] - 12s 5ms/step - loss: 0.7025 - accuracy: 0.7771 - val_loss: 0.8035 - val_accuracy: 0.7924\n",
            "Epoch 67/100\n",
            "2521/2521 [==============================] - 12s 5ms/step - loss: 0.6898 - accuracy: 0.7850 - val_loss: 0.7932 - val_accuracy: 0.7908\n",
            "Epoch 68/100\n",
            "2521/2521 [==============================] - 15s 6ms/step - loss: 0.6835 - accuracy: 0.7834 - val_loss: 0.7763 - val_accuracy: 0.7845\n",
            "Epoch 69/100\n",
            "2521/2521 [==============================] - 12s 5ms/step - loss: 0.6742 - accuracy: 0.7854 - val_loss: 0.7723 - val_accuracy: 0.7892\n",
            "Epoch 70/100\n",
            "2521/2521 [==============================] - 12s 5ms/step - loss: 0.6653 - accuracy: 0.7906 - val_loss: 0.7658 - val_accuracy: 0.7940\n",
            "Epoch 71/100\n",
            "2521/2521 [==============================] - 12s 5ms/step - loss: 0.6623 - accuracy: 0.7917 - val_loss: 0.7514 - val_accuracy: 0.7797\n",
            "Epoch 72/100\n",
            "2521/2521 [==============================] - 12s 5ms/step - loss: 0.6527 - accuracy: 0.7878 - val_loss: 0.7502 - val_accuracy: 0.7829\n",
            "Epoch 73/100\n",
            "2521/2521 [==============================] - 12s 5ms/step - loss: 0.6440 - accuracy: 0.7886 - val_loss: 0.7423 - val_accuracy: 0.7924\n",
            "Epoch 74/100\n",
            "2521/2521 [==============================] - 12s 5ms/step - loss: 0.6385 - accuracy: 0.7898 - val_loss: 0.7587 - val_accuracy: 0.7765\n",
            "Epoch 75/100\n",
            "2521/2521 [==============================] - 12s 5ms/step - loss: 0.6287 - accuracy: 0.7981 - val_loss: 0.7273 - val_accuracy: 0.7876\n",
            "Epoch 76/100\n",
            "2521/2521 [==============================] - 12s 5ms/step - loss: 0.6256 - accuracy: 0.7929 - val_loss: 0.7363 - val_accuracy: 0.7861\n",
            "Epoch 77/100\n",
            "2521/2521 [==============================] - 12s 5ms/step - loss: 0.6183 - accuracy: 0.7949 - val_loss: 0.7111 - val_accuracy: 0.7924\n",
            "Epoch 78/100\n",
            "2521/2521 [==============================] - 12s 5ms/step - loss: 0.6155 - accuracy: 0.7993 - val_loss: 0.7191 - val_accuracy: 0.7845\n",
            "Epoch 79/100\n",
            "2521/2521 [==============================] - 12s 5ms/step - loss: 0.6069 - accuracy: 0.8033 - val_loss: 0.7052 - val_accuracy: 0.7813\n",
            "Epoch 80/100\n",
            "2521/2521 [==============================] - 12s 5ms/step - loss: 0.6009 - accuracy: 0.8029 - val_loss: 0.6998 - val_accuracy: 0.7797\n",
            "Epoch 81/100\n",
            "2521/2521 [==============================] - 12s 5ms/step - loss: 0.5946 - accuracy: 0.8040 - val_loss: 0.6843 - val_accuracy: 0.7987\n",
            "Epoch 82/100\n",
            "2521/2521 [==============================] - 12s 5ms/step - loss: 0.5938 - accuracy: 0.8048 - val_loss: 0.6913 - val_accuracy: 0.7956\n",
            "Epoch 83/100\n",
            "2521/2521 [==============================] - 12s 5ms/step - loss: 0.5770 - accuracy: 0.8080 - val_loss: 0.6866 - val_accuracy: 0.8003\n",
            "Epoch 84/100\n",
            "2521/2521 [==============================] - 12s 5ms/step - loss: 0.5766 - accuracy: 0.8155 - val_loss: 0.6775 - val_accuracy: 0.8051\n",
            "Epoch 85/100\n",
            "2521/2521 [==============================] - 12s 5ms/step - loss: 0.5711 - accuracy: 0.8080 - val_loss: 0.6659 - val_accuracy: 0.7971\n",
            "Epoch 86/100\n",
            "2521/2521 [==============================] - 12s 5ms/step - loss: 0.5664 - accuracy: 0.8120 - val_loss: 0.6679 - val_accuracy: 0.7956\n",
            "Epoch 87/100\n",
            "2521/2521 [==============================] - 12s 5ms/step - loss: 0.5627 - accuracy: 0.8096 - val_loss: 0.6616 - val_accuracy: 0.7940\n",
            "Epoch 88/100\n",
            "2521/2521 [==============================] - 12s 5ms/step - loss: 0.5603 - accuracy: 0.8120 - val_loss: 0.6496 - val_accuracy: 0.7971\n",
            "Epoch 89/100\n",
            "2521/2521 [==============================] - 12s 5ms/step - loss: 0.5540 - accuracy: 0.8152 - val_loss: 0.6499 - val_accuracy: 0.8082\n",
            "Epoch 90/100\n",
            "2521/2521 [==============================] - 12s 5ms/step - loss: 0.5504 - accuracy: 0.8076 - val_loss: 0.6432 - val_accuracy: 0.8019\n",
            "Epoch 91/100\n",
            "2521/2521 [==============================] - 12s 5ms/step - loss: 0.5407 - accuracy: 0.8191 - val_loss: 0.6595 - val_accuracy: 0.7987\n",
            "Epoch 92/100\n",
            "2521/2521 [==============================] - 12s 5ms/step - loss: 0.5394 - accuracy: 0.8148 - val_loss: 0.6416 - val_accuracy: 0.8035\n",
            "Epoch 93/100\n",
            "2521/2521 [==============================] - 12s 5ms/step - loss: 0.5359 - accuracy: 0.8215 - val_loss: 0.6278 - val_accuracy: 0.7987\n",
            "Epoch 94/100\n",
            "2521/2521 [==============================] - 12s 5ms/step - loss: 0.5407 - accuracy: 0.8120 - val_loss: 0.6233 - val_accuracy: 0.8003\n",
            "Epoch 95/100\n",
            "2521/2521 [==============================] - 12s 5ms/step - loss: 0.5278 - accuracy: 0.8211 - val_loss: 0.6173 - val_accuracy: 0.8067\n",
            "Epoch 96/100\n",
            "2521/2521 [==============================] - 12s 5ms/step - loss: 0.5254 - accuracy: 0.8124 - val_loss: 0.6174 - val_accuracy: 0.8019\n",
            "Epoch 97/100\n",
            "2521/2521 [==============================] - 12s 5ms/step - loss: 0.5237 - accuracy: 0.8203 - val_loss: 0.6171 - val_accuracy: 0.8003\n",
            "Epoch 98/100\n",
            "2521/2521 [==============================] - 12s 5ms/step - loss: 0.5182 - accuracy: 0.8167 - val_loss: 0.6104 - val_accuracy: 0.8082\n",
            "Epoch 99/100\n",
            "2521/2521 [==============================] - 12s 5ms/step - loss: 0.5117 - accuracy: 0.8239 - val_loss: 0.6159 - val_accuracy: 0.8003\n",
            "Epoch 100/100\n",
            "2521/2521 [==============================] - 12s 5ms/step - loss: 0.5081 - accuracy: 0.8243 - val_loss: 0.6096 - val_accuracy: 0.7971\n"
          ],
          "name": "stdout"
        }
      ]
    },
    {
      "cell_type": "code",
      "metadata": {
        "id": "PFpV1lonMWen",
        "colab_type": "code",
        "outputId": "b4985af1-c7ca-4196-8722-22ec38a63a64",
        "colab": {
          "base_uri": "https://localhost:8080/",
          "height": 610
        }
      },
      "source": [
        "#predict\n",
        "import matplotlib.pyplot as plt\n",
        "#model.compile(loss='categorical_crossentropy', optimizer=opt, metrics=['accuracy'])\n",
        "score = model.evaluate(X_test, y_test, verbose=0)\n",
        "print(\"%s: %.2f%%\" % (model.metrics_names[1], score[1]*100))\n",
        "\n",
        "print(model_history.history.keys())\n",
        "\n",
        "plt.plot(model_history.history['accuracy'])\n",
        "plt.plot(model_history.history['val_accuracy'])\n",
        "plt.title('model accuracy')\n",
        "plt.ylabel('accuracy')\n",
        "plt.xlabel('epoch')\n",
        "plt.legend(['train', 'val'], loc='upper left')\n",
        "plt.show()\n",
        "\n",
        "plt.plot(model_history.history['loss'])\n",
        "plt.plot(model_history.history['val_loss'])\n",
        "plt.title('model loss')\n",
        "plt.ylabel('loss')\n",
        "plt.xlabel('epoch')\n",
        "plt.legend(['train', 'val'], loc='upper left')\n",
        "plt.show()"
      ],
      "execution_count": 32,
      "outputs": [
        {
          "output_type": "stream",
          "text": [
            "accuracy: 79.71%\n",
            "dict_keys(['val_loss', 'val_accuracy', 'loss', 'accuracy'])\n"
          ],
          "name": "stdout"
        },
        {
          "output_type": "display_data",
          "data": {
            "image/png": "[encoded data removed]",
            "text/plain": [
              "<Figure size 432x288 with 1 Axes>"
            ]
          },
          "metadata": {
            "tags": [],
            "needs_background": "light"
          }
        },
        {
          "output_type": "display_data",
          "data": {
            "image/png": "[encoded data removed]",
            "text/plain": [
              "<Figure size 432x288 with 1 Axes>"
            ]
          },
          "metadata": {
            "tags": [],
            "needs_background": "light"
          }
        }
      ]
    },
    {
      "cell_type": "code",
      "metadata": {
        "id": "-fVXce3nSxQY",
        "colab_type": "code",
        "outputId": "be035872-8ade-428f-82ab-847b2368312c",
        "colab": {
          "base_uri": "https://localhost:8080/",
          "height": 35
        }
      },
      "source": [
        "# Save model and weights\n",
        "model_name = 'Emotion_Model-1D-CNN.h5'\n",
        "save_dir = os.path.join(os.getcwd(), 'saved_models')\n",
        "\n",
        "if not os.path.isdir(save_dir):\n",
        "    os.makedirs(save_dir)\n",
        "model_path = os.path.join(save_dir, model_name)\n",
        "model.save(model_path)\n",
        "print('Save model and weights at %s ' % model_path)\n",
        "\n",
        "# Save the model to disk\n",
        "model_json = model.to_json()\n",
        "with open(\"model_json.json\", \"w\") as json_file:\n",
        "    json_file.write(model_json)"
      ],
      "execution_count": 33,
      "outputs": [
        {
          "output_type": "stream",
          "text": [
            "Save model and weights at /content/saved_models/Emotion_Model-1D-CNN.h5 \n"
          ],
          "name": "stdout"
        }
      ]
    },
    {
      "cell_type": "code",
      "metadata": {
        "id": "2rpyCuJYN6Po",
        "colab_type": "code",
        "outputId": "ce025934-192f-4da8-9fc9-9005511e4622",
        "colab": {
          "base_uri": "https://localhost:8080/",
          "height": 35
        }
      },
      "source": [
        "preds = model.predict(X_test, \n",
        "                         batch_size=16, \n",
        "                         verbose=1)\n",
        "\n",
        "preds=preds.argmax(axis=1)"
      ],
      "execution_count": 34,
      "outputs": [
        {
          "output_type": "stream",
          "text": [
            "631/631 [==============================] - 1s 965us/step\n"
          ],
          "name": "stdout"
        }
      ]
    },
    {
      "cell_type": "code",
      "metadata": {
        "id": "vcKLvcSvYmjL",
        "colab_type": "code",
        "colab": {}
      },
      "source": [
        "# hy_test1 = np_utils.to_categorical(lb.fit_transform(hy_test))\n",
        "hx_test1 = np.expand_dims(hx_test, axis=2)\n",
        "hy_preds =model.predict(hx_test1)\n",
        "\n",
        "hy_preds = hy_preds.argmax(axis=1)"
      ],
      "execution_count": 0,
      "outputs": []
    },
    {
      "cell_type": "code",
      "metadata": {
        "id": "auTvHCLrgUt1",
        "colab_type": "code",
        "colab": {}
      },
      "source": [
        "hy_preds = hy_preds.astype(int).flatten()\n",
        "hy_preds = (lb.inverse_transform((hy_preds)))\n",
        "# hy_preds = (lb.inverse_transform((hy_preds)))"
      ],
      "execution_count": 0,
      "outputs": []
    },
    {
      "cell_type": "code",
      "metadata": {
        "id": "RVFgN_x-idYB",
        "colab_type": "code",
        "outputId": "f389c403-5d44-4028-baea-60088142f2f4",
        "colab": {
          "base_uri": "https://localhost:8080/",
          "height": 72
        }
      },
      "source": [
        "print(hy_preds)\n",
        "print(hy_test)"
      ],
      "execution_count": 37,
      "outputs": [
        {
          "output_type": "stream",
          "text": [
            "['fearful' 'fearful' 'fearful' 'sad' 'angry' 'angry' 'fearful' 'angry'\n",
            " 'angry']\n",
            "['calm', 'angry', 'sad', 'sad', 'surprised', 'fearful', 'calm', 'calm', 'angry']\n"
          ],
          "name": "stdout"
        }
      ]
    },
    {
      "cell_type": "code",
      "metadata": {
        "id": "S3cFxh_BJzhe",
        "colab_type": "code",
        "colab": {}
      },
      "source": [
        "preds1 = preds.astype(int).flatten()\n",
        "preds1 = (lb.inverse_transform((preds1)))\n",
        "#preds1 = (lb.inverse_transform((preds1)))\n",
        "actual= y_test.argmax(axis=1)\n",
        "actual = actual.astype(int).flatten()\n",
        "actual = (lb.inverse_transform((actual)))"
      ],
      "execution_count": 0,
      "outputs": []
    },
    {
      "cell_type": "code",
      "metadata": {
        "id": "alzNpp83JnkF",
        "colab_type": "code",
        "outputId": "d4024727-bdde-444e-a2f9-20ccdf75eb17",
        "colab": {
          "base_uri": "https://localhost:8080/",
          "height": 256
        }
      },
      "source": [
        "#print confusion matrix\n",
        "print(classification_report(actual, preds1, target_names=classes))"
      ],
      "execution_count": 39,
      "outputs": [
        {
          "output_type": "stream",
          "text": [
            "              precision    recall  f1-score   support\n",
            "\n",
            "        calm       0.77      0.92      0.84       111\n",
            "       happy       0.50      0.63      0.56        38\n",
            "         sad       0.91      0.86      0.89       118\n",
            "       angry       0.78      0.69      0.73       124\n",
            "     fearful       0.94      0.71      0.81       116\n",
            "   surprised       0.76      0.87      0.81       124\n",
            "\n",
            "    accuracy                           0.80       631\n",
            "   macro avg       0.78      0.78      0.77       631\n",
            "weighted avg       0.81      0.80      0.80       631\n",
            "\n"
          ],
          "name": "stdout"
        }
      ]
    }
  ]
}