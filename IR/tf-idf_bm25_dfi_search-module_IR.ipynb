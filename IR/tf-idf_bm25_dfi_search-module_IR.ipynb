{
  "nbformat": 4,
  "nbformat_minor": 0,
  "metadata": {
    "colab": {
      "name": "Beyza_Kurt_IR_final_CENG3530.ipynb",
      "provenance": [],
      "collapsed_sections": [],
      "machine_shape": "hm"
    },
    "kernelspec": {
      "name": "python3",
      "display_name": "Python 3"
    }
  },
  "cells": [
    {
      "cell_type": "code",
      "metadata": {
        "id": "MEfgPOu5grRo",
        "colab_type": "code",
        "colab": {}
      },
      "source": [
        "import io, os\n",
        "import re as re\n",
        "import zipfile as zipfile\n",
        "import time\n",
        "import math\n",
        "import numpy as np\n",
        "from operator import itemgetter\n",
        "from prettytable import PrettyTable"
      ],
      "execution_count": 0,
      "outputs": []
    },
    {
      "cell_type": "code",
      "metadata": {
        "id": "iYaKz15qZonk",
        "colab_type": "code",
        "outputId": "8f72ee29-e615-4360-b56b-fae543bfa870",
        "colab": {
          "base_uri": "https://localhost:8080/",
          "height": 35
        }
      },
      "source": [
        "from google.colab import drive\n",
        "drive.mount('/content/drive')"
      ],
      "execution_count": 0,
      "outputs": [
        {
          "output_type": "stream",
          "text": [
            "Drive already mounted at /content/drive; to attempt to forcibly remount, call drive.mount(\"/content/drive\", force_remount=True).\n"
          ],
          "name": "stdout"
        }
      ]
    },
    {
      "cell_type": "code",
      "metadata": {
        "id": "mN8iG5JYgzdp",
        "colab_type": "code",
        "colab": {}
      },
      "source": [
        "textsWithTextNumbers = {}       # { doc name(number) : text }\n",
        "\n",
        "mytextzip = ''\n",
        "path = '/content/drive/My Drive/30Columnists.zip'\n",
        "\n",
        "with zipfile.ZipFile(path) as z:\n",
        "    for zipinfo in z.infolist():\n",
        "        if zipinfo.filename.endswith('.txt') and re.search('raw_texts', zipinfo.filename):\n",
        "            with z.open(zipinfo) as f:\n",
        "                textfile = io.TextIOWrapper(f, encoding='cp1254', newline='')\n",
        "                for line in textfile:\n",
        "                    if len(line.strip()): mytextzip += line.strip()\n",
        "\n",
        "                filename = str(zipinfo.filename)\n",
        "                filename = filename.split(\"/\")\n",
        "                filename = filename[-1][:-4]\n",
        "                \n",
        "                textsWithTextNumbers[filename] = mytextzip\n",
        "                mytextzip = ''"
      ],
      "execution_count": 0,
      "outputs": []
    },
    {
      "cell_type": "code",
      "metadata": {
        "id": "V_FXPAh1S5HE",
        "colab_type": "code",
        "outputId": "51f5cc69-2dce-4043-ca3a-6075981d8a85",
        "colab": {
          "base_uri": "https://localhost:8080/",
          "height": 92
        }
      },
      "source": [
        "i = 0\n",
        "for doc, text in textsWithTextNumbers.items():\n",
        "    print(doc, text)\n",
        "    if i == 2:\n",
        "        break\n",
        "    i += 1"
      ],
      "execution_count": 0,
      "outputs": [
        {
          "output_type": "stream",
          "text": [
            "1.1 THERE can be no doubt that Edinburgh is a huge tourist attraction both within the United Kingdom and internationally. There is so much to see in Scotland, but its capital is arguably its biggest gateway if not its biggest draw.Capitals are not always that lucky. I have never met anyone who has, by choice, travelled to Australia to visit Canberra  or to Peru to see Lima.Although it can sometimes be difficult on a driech March morning when THe wind is howling up your trouser legs and the drizzle is misting up your spectacles, Edinburgh is an often idyllic, romantic and fun-packed destination.I remember being amazed a couple of decades ago when some English friends of mine told me they were coming to Edinburgh on their honeymoon  I had never appreciated my home as a place for newlyweds to choose for their first married tryst. Now Edinburgh is in the multi-million pound premier league for British honeymoons  and why not?Tourism has become a hugely important sector of the Edinburgh economy  thanks not just to the International Festival of the Arts and its associated Fringe, but also the all-year-round entertainment that it offers from theatres, sporting events, galleries, museums and the associated consumption of fine food and alcohol. Add to this cocktail  which we have to admit many other cities also have  is the wonder of Edinburgh's built environment, the richness of its historic tapestry and beauty of its natural hills, lochs and parks. Such a combination is what puts Edinburgh second only to London as the UK's biggest draw.It also has Leith  which with three Michelin-starred restaurants has more exceptional eateries than Glasgow, Manchester and Liverpool put together.In such a context it is therefore vital that how Edinburgh is marketed is carefully thought through and ensures that it can pull as many visitors  even if it is on their way to another destination. Up until now the city's approach has been to pitch in with the general marketing of Scotland as a destination so that visitors at the very least pass through  and hopefully stay.Just as Scotland has relied on British tourism marketing for the reason that the vast majority of Scotland's foreign visitors arrive in London before coming north, so Edinburgh relied on using the Scottish Tourist Board  now VisitScotland.The opening up of the skies to greater low cost competitive travel has eaten away at this strategy within the short-haul routes, but for transatlantic and other long-haul flights, the principal remains sound.The problem for Edinburgh is that the rest of Scotland takes the same approach  with all the other councils such as Glasgow and Aberdeen pooling their resources too. The difficulty is that VisitScotland is pulled all ways and some of the smaller tourist destinations get very upset if they don't get any support. The result? Edinburgh council has decided to pull out some half a million pounds of funding from VisitScotland and Glasgow and Stornoway have done likewise.I can't help but think this is a mistake. I managed the marketing of one of Edinburgh's premier attractions for three years, drawing up the budgets and spending the pennies from bus adverts to world-wide listings and I can tell you half a million will get us diddley squat.It still has to be remembered that VisitScotland is funded by the Scottish Government to the tune of a whopping £42 million  that's a lot of money that we now have less influence over.I don't know what the council really thinks it will do instead but I have every reason to believe that this decision  whilst on the face of it looking attractive  is going to prove very costly in the end. The people that will end up paying for it will be the overburdened council taxpayer  who I expect to be asked to cough up more  and the hoteliers, visitor attractions and other businesses that could see Edinburgh's marketing be under–resourced just when a big push is needed most  during a recession.A bigger debate is needed about this policy change with a fuller explanation of why it is good for the city and what, if it doesn't work, the councillors that have taken this decision will do instead. Do they have a plan B?At a time when Edinburgh's financial services industry is in serious trouble and losing jobs, the last thing the city needs is for its own councillors to drop the ball and cause more unemployment for those that live of the munificence of tourism.A bunch of walliesAt a time when Scots are sucking their gums wondering what next financial threat is about to befall them, the decision of the Parliament to spend money on inscribing more verse on the a 'Canongate Wall' to commemorate the first ten years of devolution is an insult to our intelligence. A better idea would be to brick up the entrances and exits, preferably with most of the MSPs still inside.\n",
            "1.10 WELL I can't say I'm sorry to see the back of 2008 – it's had its high points, of course, but for many, many people I know it has been a year of injustice – with no quick solution in sight.The economic day of reckoning has finally arrived for Gordon Brown and all those who believed in his unremitting guff about having abolished the economic cycles – ending what he called \"Tory Boom and Bust\". Well we're now about to experience Labour Boom and Bust as his government is midwife to the Mother of all recessions.It's an injustice that we have no way of holding him to account and shall probably have to wait until 2010 before we can cast our own verdict. It is always possible that, seeing just how bad the economy is going to turn, Brown will call an early election. Probable but unlikely, for as Gordon Brown believes he can fix almost anything, parting the waters on his road to Damascus, I expect him to calculate he can make the economy better by the summer of 2010 and he should be rewarded by a grateful, if amnesic, electorate.Indeed, Chancellor Darling is predicting the UK recovery to have happened by the end of 2009 – ahead of predictions for the American and European economies – so why should Labour cut and run?As people see their pension pots melt before their very eyes (HBOS shares lost ninety per cent of their value this year) and many of those still working are told they will have to look elsewhere for employment the electorate's sense of injustice will grow.But the greatest injustice is all those people – probably the majority of us – who have acted prudently over the last ten years but are now paying the price for all those hedonistic gamblers that bought houses they couldn't afford on mortgages that were beyond their means with repayments they now cannot honour. These spendthrifts are being offered all sorts of help – six months' forgiveness on missed payments, the offer of government financial assistance and hand outs – while those who looked after their money and lived within their means are the ones who are expected to pay the price. Try surviving on fast-deflating savings as interest rates crash and the income dries up – or apply for a mortgage to move home only to yourself trapped as loans are rationed.The Government blames the banks, saying it has pumped in much-needed capital so they can now release credit – but the capital it has ploughed in comes at a price of ten points over the Bank of England base rate, when the banks lend it out to customers at four points over base rate! As long as the banks have to take that loss of six points the loans will be unforthcoming.If asked to choose between the economy recovering in 2009 and Hibs winning the cup – I'd put my money on the latter. Even though it's been 106 years since Hibs last managed that feat I give Mixu and his men more chance than Brown and his buddies. A Happy New Year to all Evening News readers.Too high a priceThere are other injustices at home and abroad, not least the injustice of our servicemen and women continuing to be overstretched and underpaid whilst using equipment that is just not fit for purpose. Expect them to be asked to do even more next year – and suffer unnecessary casualties – while other European countries make little if any effort to share the effort.Afghanistan will be the prime candidate for an increase in hostility as President-elect Obama has already made it clear that he wants to send 30,000 more troops there and Gordon Brown has announced an increase in British troop levels by a few thousand more.Strategists are, however, increasingly saying even these numbers will not be enough, and with the German troops stationed there mainly confined to barracks 2009 looks set to be marked by a major disagreement between Brown and Obama if we refuse to send any more squaddies into battle.Until the other \"good\" Europeans put themselves in the line of fire I don't see why Britain should make any more sacrifices.Tied up in knotsAnother ram-raid on Multrees Walk has seen yet more expensive handbags stolen. Some £100,000 of classy gear has been knicked in the last three months as hoods back-up their shock and awe 4x4s into the shop facades and then drive off much the wealthier by value if not in taste.Better security is obviously needed, but how did they get near this pedestrianised street anyway? I gave up driving into the city centre long ago and even the occasional taxi I use has extreme difficulty avoiding the obstacle course that is Edinburgh's tram works.In fact, if the Multrees managers were simply to put tram constructors TIE in charge I'm sure the raids would become nigh impossible. They've certainly made life difficult for every other entrepreneur in the city in 2008.\n",
            "1.11 IT'S that time of year again when the Scottish Government has announced what it intends to do – a sort of King's speech – from the Monarch of the Pend, down at Holyrood.Alex Salmond relies on 17 Tory votes to have the life-blood of government course through his veins. Without them he would be denied the oxygen to breath all his jibes and jokes with the authority of First Minister.The Tories like to say they are the most devout of the Unionist parties, but by their actions shall ye know them. It has always been Annabel Goldie's argument that allowing the largest party to govern as a minority government was preferable to supping with the devil in a more formal coalition.It really comes down to how good a hustler you are. Poker players make good negotiators, but I rather fear dear Annabel goes to bed too early after a Horlicks to be a card shark.Last year, the Scots Tories claimed three achievements: that drug policy was altered beyond recognition, that 1000 more police officers would be put on the beat and that business taxes would be cut sooner.The drug policy was already part of the SNP agenda, the police numbers haven't been delivered – and at the current rate won't be for another 13 years – and the quicker tax cut was a policy the SNP set up to concede. After all, they had offered real business rate cuts long before the Tories dared to.The achievements were more a thin excuse not to back Labour than a gold medal for playing hardball. Our favourite Auntie she may be, but Annabel Goldie ain't no Moose-hunting, butt-kicking, Hockey Mom.Compared to the Liberal Democrats' period in coalition, her deal was pretty thin gruel.Jim Wallace was often portrayed as a political bunny rabbit ripe for the kill – but he often had the last laugh; forcing Jack McConnell to adopt proportional representation for local government elections; leaving Henry McLeish no option but to introduce free personal care for the elderly and ensuring tuition fees were replaced by the graduate tax.Whatever you think of these policies, Wallace had clear evidence that they could wave at people, often in the form of legislation, and they certainly made more noise about it than the sadly mute Tories.So, one wonders, what will those redoubtable 17 die-hard Unionists hold out for this year? What big issue will they sacrifice their Unionism for? Like the Jarrow Marchers or the Suffragette hunger strikers, what great cause will they withhold their votes for?Answer: the introduction of more outdoor activity in Scottish schools costing the astronomical sum of £6 million. I kid you not. Such highfalutin principles like \"defending the Union\" sacrificed so our kids can skin their knees scrambling over a shale bing or singing happy-clappy songs around a camp fire! Alex Salmond must really sleep easy at nights, I tell you.Why not refuse to back him unless he makes Scottish Water a private co-operative owned by its customers – us!? That would save £300m a year for starters – and improve the service. Why not demand directly-elected conveners of the police boards to make our Chief Constables accountable? Why not give more autonomy to headteachers over local pen-pushers? I could go on.Why not ask for the moon and see what you get? Outdoor activity? That's what I sent my sons to the Scouts for.Round and RoundWhile we're at it, Margo MacDonald has one vote that keeps the king of Holyrood in power too. Her support is more understandable but her bargains are also more keenly thought out. Will she use her vote to save the Meadowbank velodrome?There was a time when, for the double period of gym, a corporation bus would take my classmates and I to the velodrome, where we would cycle around it. We thought just trying to stay on was an achievement.For sporting reasons, I've always argued it should be saved, even if it was to be dismantled and reassembled elsewhere in Edinburgh.It's a political decision, though, that requires politics to be brought into sport to fix it. I'm sure this is one occasion when Chris Hoy won't be protesting if that happens.It's Palin and simpleEat your heart out Jenny Dawe. Go back to your crochet pins, Annabel Goldie. Console yersel' wi' a glass of Buckie, Cathy Jamieson. I have seen the future and it's neither of you. Nor is it Hillary Rodham Clinton.Tavish Scott – the new leader of the Scottish Liberals – is looking under every bush and boulder to catch it, and soon the next leader of Scottish Labour will be beachcombing Scotland's endless sands in desperation for it – the ability to connect with the people.Our political leaders should look to their core values. They should stop scrambling over each other to be on some illusory centre-ground – for voters think they are no longer in the middle, but in a muddle. They all sound the same.Sarah Palin does what she says on the tin. It's that simple. Tavish – take your next holiday in Alaska.\n"
          ],
          "name": "stdout"
        }
      ]
    },
    {
      "cell_type": "code",
      "metadata": {
        "id": "vEn_AC6rgtH3",
        "colab_type": "code",
        "colab": {}
      },
      "source": [
        "stopwords = [\"0o\", \"0s\", \"3a\", \"3b\", \"3d\", \"6b\", \"6o\", \"a\", \"a1\", \"a2\", \"a3\", \"a4\", \"ab\", \"able\", \"about\", \"above\", \"abst\", \"ac\", \"accordance\", \"according\", \"accordingly\", \"across\", \"act\", \"actually\", \"ad\", \"added\", \"adj\", \"ae\", \"af\", \"affected\", \"affecting\", \"affects\", \"after\", \"afterwards\", \"ag\", \"again\", \"against\", \"ah\", \"ain\", \"ain't\", \"aj\", \"al\", \"all\", \"allow\", \"allows\", \"almost\", \"alone\", \"along\", \"already\", \"also\", \"although\", \"always\", \"am\", \"among\", \"amongst\", \"amoungst\", \"amount\", \"an\", \"and\", \"announce\", \"another\", \"any\", \"anybody\", \"anyhow\", \"anymore\", \"anyone\", \"anything\", \"anyway\", \"anyways\", \"anywhere\", \"ao\", \"ap\", \"apart\", \"apparently\", \"appear\", \"appreciate\", \"appropriate\", \"approximately\", \"ar\", \"are\", \"aren\", \"arent\", \"aren't\", \"arise\", \"around\", \"as\", \"a's\", \"aside\", \"ask\", \"asking\", \"associated\", \"at\", \"au\", \"auth\", \"av\", \"available\", \"aw\", \"away\", \"awfully\", \"ax\", \"ay\", \"az\", \"b\", \"b1\", \"b2\", \"b3\", \"ba\", \"back\", \"bc\", \"bd\", \"be\", \"became\", \"because\", \"become\", \"becomes\", \"becoming\", \"been\", \"before\", \"beforehand\", \"begin\", \"beginning\", \"beginnings\", \"begins\", \"behind\", \"being\", \"believe\", \"below\", \"beside\", \"besides\", \"best\", \"better\", \"between\", \"beyond\", \"bi\", \"bill\", \"biol\", \"bj\", \"bk\", \"bl\", \"bn\", \"both\", \"bottom\", \"bp\", \"br\", \"brief\", \"briefly\", \"bs\", \"bt\", \"bu\", \"but\", \"bx\", \"by\", \"c\", \"c1\", \"c2\", \"c3\", \"ca\", \"call\", \"came\", \"can\", \"cannot\", \"cant\", \"can't\", \"cause\", \"causes\", \"cc\", \"cd\", \"ce\", \"certain\", \"certainly\", \"cf\", \"cg\", \"ch\", \"changes\", \"ci\", \"cit\", \"cj\", \"cl\", \"clearly\", \"cm\", \"c'mon\", \"cn\", \"co\", \"com\", \"come\", \"comes\", \"con\", \"concerning\", \"consequently\", \"consider\", \"considering\", \"contain\", \"containing\", \"contains\", \"corresponding\", \"could\", \"couldn\", \"couldnt\", \"couldn't\", \"course\", \"cp\", \"cq\", \"cr\", \"cry\", \"cs\", \"c's\", \"ct\", \"cu\", \"currently\", \"cv\", \"cx\", \"cy\", \"cz\", \"d\", \"d2\", \"da\", \"date\", \"dc\", \"dd\", \"de\", \"definitely\", \"describe\", \"described\", \"despite\", \"detail\", \"df\", \"di\", \"did\", \"didn\", \"didn't\", \"different\", \"dj\", \"dk\", \"dl\", \"do\", \"does\", \"doesn\", \"doesn't\", \"doing\", \"don\", \"done\", \"don't\", \"down\", \"downwards\", \"dp\", \"dr\", \"ds\", \"dt\", \"du\", \"due\", \"during\", \"dx\", \"dy\", \"e\", \"e2\", \"e3\", \"ea\", \"each\", \"ec\", \"ed\", \"edu\", \"ee\", \"ef\", \"effect\", \"eg\", \"ei\", \"eight\", \"eighty\", \"either\", \"ej\", \"el\", \"eleven\", \"else\", \"elsewhere\", \"em\", \"empty\", \"en\", \"end\", \"ending\", \"enough\", \"entirely\", \"eo\", \"ep\", \"eq\", \"er\", \"es\", \"especially\", \"est\", \"et\", \"et-al\", \"etc\", \"eu\", \"ev\", \"even\", \"ever\", \"every\", \"everybody\", \"everyone\", \"everything\", \"everywhere\", \"ex\", \"exactly\", \"example\", \"except\", \"ey\", \"f\", \"f2\", \"fa\", \"far\", \"fc\", \"few\", \"ff\", \"fi\", \"fifteen\", \"fifth\", \"fify\", \"fill\", \"find\", \"fire\", \"first\", \"five\", \"fix\", \"fj\", \"fl\", \"fn\", \"fo\", \"followed\", \"following\", \"follows\", \"for\", \"former\", \"formerly\", \"forth\", \"forty\", \"found\", \"four\", \"fr\", \"from\", \"front\", \"fs\", \"ft\", \"fu\", \"full\", \"further\", \"furthermore\", \"fy\", \"g\", \"ga\", \"gave\", \"ge\", \"get\", \"gets\", \"getting\", \"gi\", \"give\", \"given\", \"gives\", \"giving\", \"gj\", \"gl\", \"go\", \"goes\", \"going\", \"gone\", \"got\", \"gotten\", \"gr\", \"greetings\", \"gs\", \"gy\", \"h\", \"h2\", \"h3\", \"had\", \"hadn\", \"hadn't\", \"happens\", \"hardly\", \"has\", \"hasn\", \"hasnt\", \"hasn't\", \"have\", \"haven\", \"haven't\", \"having\", \"he\", \"hed\", \"he'd\", \"he'll\", \"hello\", \"help\", \"hence\", \"her\", \"here\", \"hereafter\", \"hereby\", \"herein\", \"heres\", \"here's\", \"hereupon\", \"hers\", \"herself\", \"hes\", \"he's\", \"hh\", \"hi\", \"hid\", \"him\", \"himself\", \"his\", \"hither\", \"hj\", \"ho\", \"home\", \"hopefully\", \"how\", \"howbeit\", \"however\", \"how's\", \"hr\", \"hs\", \"http\", \"hu\", \"hundred\", \"hy\", \"i\", \"i2\", \"i3\", \"i4\", \"i6\", \"i7\", \"i8\", \"ia\", \"ib\", \"ibid\", \"ic\", \"id\", \"i'd\", \"ie\", \"if\", \"ig\", \"ignored\", \"ih\", \"ii\", \"ij\", \"il\", \"i'll\", \"im\", \"i'm\", \"immediate\", \"immediately\", \"importance\", \"important\", \"in\", \"inasmuch\", \"inc\", \"indeed\", \"index\", \"indicate\", \"indicated\", \"indicates\", \"information\", \"inner\", \"insofar\", \"instead\", \"interest\", \"into\", \"invention\", \"inward\", \"io\", \"ip\", \"iq\", \"ir\", \"is\", \"isn\", \"isn't\", \"it\", \"itd\", \"it'd\", \"it'll\", \"its\", \"it's\", \"itself\", \"iv\", \"i've\", \"ix\", \"iy\", \"iz\", \"j\", \"jj\", \"jr\", \"js\", \"jt\", \"ju\", \"just\", \"k\", \"ke\", \"keep\", \"keeps\", \"kept\", \"kg\", \"kj\", \"km\", \"know\", \"known\", \"knows\", \"ko\", \"l\", \"l2\", \"la\", \"largely\", \"last\", \"lately\", \"later\", \"latter\", \"latterly\", \"lb\", \"lc\", \"le\", \"least\", \"les\", \"less\", \"lest\", \"let\", \"lets\", \"let's\", \"lf\", \"like\", \"liked\", \"likely\", \"line\", \"little\", \"lj\", \"ll\", \"ll\", \"ln\", \"lo\", \"look\", \"looking\", \"looks\", \"los\", \"lr\", \"ls\", \"lt\", \"ltd\", \"m\", \"m2\", \"ma\", \"made\", \"mainly\", \"make\", \"makes\", \"many\", \"may\", \"maybe\", \"me\", \"mean\", \"means\", \"meantime\", \"meanwhile\", \"merely\", \"mg\", \"might\", \"mightn\", \"mightn't\", \"mill\", \"million\", \"mine\", \"miss\", \"ml\", \"mn\", \"mo\", \"more\", \"moreover\", \"most\", \"mostly\", \"move\", \"mr\", \"mrs\", \"ms\", \"mt\", \"mu\", \"much\", \"mug\", \"must\", \"mustn\", \"mustn't\", \"my\", \"myself\", \"n\", \"n2\", \"na\", \"name\", \"namely\", \"nay\", \"nc\", \"nd\", \"ne\", \"near\", \"nearly\", \"necessarily\", \"necessary\", \"need\", \"needn\", \"needn't\", \"needs\", \"neither\", \"never\", \"nevertheless\", \"new\", \"next\", \"ng\", \"ni\", \"nine\", \"ninety\", \"nj\", \"nl\", \"nn\", \"no\", \"nobody\", \"non\", \"none\", \"nonetheless\", \"noone\", \"nor\", \"normally\", \"nos\", \"not\", \"noted\", \"nothing\", \"novel\", \"now\", \"nowhere\", \"nr\", \"ns\", \"nt\", \"ny\", \"o\", \"oa\", \"ob\", \"obtain\", \"obtained\", \"obviously\", \"oc\", \"od\", \"of\", \"off\", \"often\", \"og\", \"oh\", \"oi\", \"oj\", \"ok\", \"okay\", \"ol\", \"old\", \"om\", \"omitted\", \"on\", \"once\", \"one\", \"ones\", \"only\", \"onto\", \"oo\", \"op\", \"oq\", \"or\", \"ord\", \"os\", \"ot\", \"other\", \"others\", \"otherwise\", \"ou\", \"ought\", \"our\", \"ours\", \"ourselves\", \"out\", \"outside\", \"over\", \"overall\", \"ow\", \"owing\", \"own\", \"ox\", \"oz\", \"p\", \"p1\", \"p2\", \"p3\", \"page\", \"pagecount\", \"pages\", \"par\", \"part\", \"particular\", \"particularly\", \"pas\", \"past\", \"pc\", \"pd\", \"pe\", \"per\", \"perhaps\", \"pf\", \"ph\", \"pi\", \"pj\", \"pk\", \"pl\", \"placed\", \"please\", \"plus\", \"pm\", \"pn\", \"po\", \"poorly\", \"possible\", \"possibly\", \"potentially\", \"pp\", \"pq\", \"pr\", \"predominantly\", \"present\", \"presumably\", \"previously\", \"primarily\", \"probably\", \"promptly\", \"proud\", \"provides\", \"ps\", \"pt\", \"pu\", \"put\", \"py\", \"q\", \"qj\", \"qu\", \"que\", \"quickly\", \"quite\", \"qv\", \"r\", \"r2\", \"ra\", \"ran\", \"rather\", \"rc\", \"rd\", \"re\", \"readily\", \"really\", \"reasonably\", \"recent\", \"recently\", \"ref\", \"refs\", \"regarding\", \"regardless\", \"regards\", \"related\", \"relatively\", \"research\", \"research-articl\", \"respectively\", \"resulted\", \"resulting\", \"results\", \"rf\", \"rh\", \"ri\", \"right\", \"rj\", \"rl\", \"rm\", \"rn\", \"ro\", \"rq\", \"rr\", \"rs\", \"rt\", \"ru\", \"run\", \"rv\", \"ry\", \"s\", \"s2\", \"sa\", \"said\", \"same\", \"saw\", \"say\", \"saying\", \"says\", \"sc\", \"sd\", \"se\", \"sec\", \"second\", \"secondly\", \"section\", \"see\", \"seeing\", \"seem\", \"seemed\", \"seeming\", \"seems\", \"seen\", \"self\", \"selves\", \"sensible\", \"sent\", \"serious\", \"seriously\", \"seven\", \"several\", \"sf\", \"shall\", \"shan\", \"shan't\", \"she\", \"shed\", \"she'd\", \"she'll\", \"shes\", \"she's\", \"should\", \"shouldn\", \"shouldn't\", \"should've\", \"show\", \"showed\", \"shown\", \"showns\", \"shows\", \"si\", \"side\", \"significant\", \"significantly\", \"similar\", \"similarly\", \"since\", \"sincere\", \"six\", \"sixty\", \"sj\", \"sl\", \"slightly\", \"sm\", \"sn\", \"so\", \"some\", \"somebody\", \"somehow\", \"someone\", \"somethan\", \"something\", \"sometime\", \"sometimes\", \"somewhat\", \"somewhere\", \"soon\", \"sorry\", \"sp\", \"specifically\", \"specified\", \"specify\", \"specifying\", \"sq\", \"sr\", \"ss\", \"st\", \"still\", \"stop\", \"strongly\", \"sub\", \"substantially\", \"successfully\", \"such\", \"sufficiently\", \"suggest\", \"sup\", \"sure\", \"sy\", \"system\", \"sz\", \"t\", \"t1\", \"t2\", \"t3\", \"take\", \"taken\", \"taking\", \"tb\", \"tc\", \"td\", \"te\", \"tell\", \"ten\", \"tends\", \"tf\", \"th\", \"than\", \"thank\", \"thanks\", \"thanx\", \"that\", \"that'll\", \"thats\", \"that's\", \"that've\", \"the\", \"their\", \"theirs\", \"them\", \"themselves\", \"then\", \"thence\", \"there\", \"thereafter\", \"thereby\", \"thered\", \"therefore\", \"therein\", \"there'll\", \"thereof\", \"therere\", \"theres\", \"there's\", \"thereto\", \"thereupon\", \"there've\", \"these\", \"they\", \"theyd\", \"they'd\", \"they'll\", \"theyre\", \"they're\", \"they've\", \"thickv\", \"thin\", \"think\", \"third\", \"this\", \"thorough\", \"thoroughly\", \"those\", \"thou\", \"though\", \"thoughh\", \"thousand\", \"three\", \"throug\", \"through\", \"throughout\", \"thru\", \"thus\", \"ti\", \"til\", \"tip\", \"tj\", \"tl\", \"tm\", \"tn\", \"to\", \"together\", \"too\", \"took\", \"top\", \"toward\", \"towards\", \"tp\", \"tq\", \"tr\", \"tried\", \"tries\", \"truly\", \"try\", \"trying\", \"ts\", \"t's\", \"tt\", \"tv\", \"twelve\", \"twenty\", \"twice\", \"two\", \"tx\", \"u\", \"u201d\", \"ue\", \"ui\", \"uj\", \"uk\", \"um\", \"un\", \"under\", \"unfortunately\", \"unless\", \"unlike\", \"unlikely\", \"until\", \"unto\", \"uo\", \"up\", \"upon\", \"ups\", \"ur\", \"us\", \"use\", \"used\", \"useful\", \"usefully\", \"usefulness\", \"uses\", \"using\", \"usually\", \"ut\", \"v\", \"va\", \"value\", \"various\", \"vd\", \"ve\", \"ve\", \"very\", \"via\", \"viz\", \"vj\", \"vo\", \"vol\", \"vols\", \"volumtype\", \"vq\", \"vs\", \"vt\", \"vu\", \"w\", \"wa\", \"want\", \"wants\", \"was\", \"wasn\", \"wasnt\", \"wasn't\", \"way\", \"we\", \"wed\", \"we'd\", \"welcome\", \"well\", \"we'll\", \"well-b\", \"went\", \"were\", \"we're\", \"weren\", \"werent\", \"weren't\", \"we've\", \"what\", \"whatever\", \"what'll\", \"whats\", \"what's\", \"when\", \"whence\", \"whenever\", \"when's\", \"where\", \"whereafter\", \"whereas\", \"whereby\", \"wherein\", \"wheres\", \"where's\", \"whereupon\", \"wherever\", \"whether\", \"which\", \"while\", \"whim\", \"whither\", \"who\", \"whod\", \"whoever\", \"whole\", \"who'll\", \"whom\", \"whomever\", \"whos\", \"who's\", \"whose\", \"why\", \"why's\", \"wi\", \"widely\", \"will\", \"willing\", \"wish\", \"with\", \"within\", \"without\", \"wo\", \"won\", \"wonder\", \"wont\", \"won't\", \"words\", \"world\", \"would\", \"wouldn\", \"wouldnt\", \"wouldn't\", \"www\", \"x\", \"x1\", \"x2\", \"x3\", \"xf\", \"xi\", \"xj\", \"xk\", \"xl\", \"xn\", \"xo\", \"xs\", \"xt\", \"xv\", \"xx\", \"y\", \"y2\", \"yes\", \"yet\", \"yj\", \"yl\", \"you\", \"youd\", \"you'd\", \"you'll\", \"your\", \"youre\", \"you're\", \"yours\", \"yourself\", \"yourselves\", \"you've\", \"yr\", \"ys\", \"yt\", \"z\", \"zero\", \"zi\", \"zz\"]"
      ],
      "execution_count": 0,
      "outputs": []
    },
    {
      "cell_type": "code",
      "metadata": {
        "id": "0U4cqN9JtKNN",
        "colab_type": "code",
        "colab": {}
      },
      "source": [
        "def Tokenizer(text, stop):\n",
        "    text = (str(text)).lower()          # normalize\n",
        "    words = re.findall(r'\\w+', text)    # find all words in it\n",
        "\n",
        "    if stop == 1:\n",
        "        #remove stopwords, start last word to avoid index problems in loop\n",
        "        for x in range(len(words)-1, -1, -1):\n",
        "            word = str(words[x])\n",
        "            if word in stopwords:\n",
        "                words.pop(x)\n",
        "            elif word.lower() in stopwords:\n",
        "                words.pop(x)\n",
        "    \n",
        "    return words"
      ],
      "execution_count": 0,
      "outputs": []
    },
    {
      "cell_type": "code",
      "metadata": {
        "id": "Qqny0F0rg2qT",
        "colab_type": "code",
        "colab": {}
      },
      "source": [
        "docsWords = {}      # { doc name(number) : words in it }\n",
        "\n",
        "def turner(textsWithTextNumbers):\n",
        "    temp = {}\n",
        "    for doc, text in textsWithTextNumbers.items():\n",
        "        temp[doc] = Tokenizer(text, 1)\n",
        "    return temp"
      ],
      "execution_count": 0,
      "outputs": []
    },
    {
      "cell_type": "code",
      "metadata": {
        "id": "U9Cvjd1byV8i",
        "colab_type": "code",
        "colab": {}
      },
      "source": [
        "docsWords = turner(textsWithTextNumbers)"
      ],
      "execution_count": 0,
      "outputs": []
    },
    {
      "cell_type": "code",
      "metadata": {
        "id": "es0ploeDTfcb",
        "colab_type": "code",
        "outputId": "835fefbf-599c-4c6f-f494-f605267fc84f",
        "colab": {
          "base_uri": "https://localhost:8080/",
          "height": 92
        }
      },
      "source": [
        "i = 0\n",
        "for doc, words in docsWords.items():\n",
        "    print(doc, words)\n",
        "    if i == 2:\n",
        "        break\n",
        "    i += 1"
      ],
      "execution_count": 0,
      "outputs": [
        {
          "output_type": "stream",
          "text": [
            "1.1 ['doubt', 'edinburgh', 'huge', 'tourist', 'attraction', 'united', 'kingdom', 'internationally', 'scotland', 'capital', 'arguably', 'biggest', 'gateway', 'biggest', 'draw', 'capitals', 'lucky', 'met', 'choice', 'travelled', 'australia', 'visit', 'canberra', 'peru', 'lima', 'difficult', 'driech', 'march', 'morning', 'wind', 'howling', 'trouser', 'legs', 'drizzle', 'misting', 'spectacles', 'edinburgh', 'idyllic', 'romantic', 'fun', 'packed', 'destination', 'remember', 'amazed', 'couple', 'decades', 'ago', 'english', 'friends', 'told', 'coming', 'edinburgh', 'honeymoon', 'appreciated', 'place', 'newlyweds', 'choose', 'married', 'tryst', 'edinburgh', 'multi', 'pound', 'premier', 'league', 'british', 'honeymoons', 'tourism', 'hugely', 'sector', 'edinburgh', 'economy', 'international', 'festival', 'arts', 'fringe', 'year', 'round', 'entertainment', 'offers', 'theatres', 'sporting', 'events', 'galleries', 'museums', 'consumption', 'fine', 'food', 'alcohol', 'add', 'cocktail', 'admit', 'cities', 'edinburgh', 'built', 'environment', 'richness', 'historic', 'tapestry', 'beauty', 'natural', 'hills', 'lochs', 'parks', 'combination', 'puts', 'edinburgh', 'london', 'biggest', 'draw', 'leith', 'michelin', 'starred', 'restaurants', 'exceptional', 'eateries', 'glasgow', 'manchester', 'liverpool', 'context', 'vital', 'edinburgh', 'marketed', 'carefully', 'thought', 'ensures', 'pull', 'visitors', 'destination', 'city', 'approach', 'pitch', 'general', 'marketing', 'scotland', 'destination', 'visitors', 'pass', 'stay', 'scotland', 'relied', 'british', 'tourism', 'marketing', 'reason', 'vast', 'majority', 'scotland', 'foreign', 'visitors', 'arrive', 'london', 'coming', 'north', 'edinburgh', 'relied', 'scottish', 'tourist', 'board', 'visitscotland', 'opening', 'skies', 'greater', 'low', 'cost', 'competitive', 'travel', 'eaten', 'strategy', 'short', 'haul', 'routes', 'transatlantic', 'long', 'haul', 'flights', 'principal', 'remains', 'sound', 'problem', 'edinburgh', 'rest', 'scotland', 'takes', 'approach', 'councils', 'glasgow', 'aberdeen', 'pooling', 'resources', 'difficulty', 'visitscotland', 'pulled', 'ways', 'smaller', 'tourist', 'destinations', 'upset', 'support', 'result', 'edinburgh', 'council', 'decided', 'pull', 'half', 'pounds', 'funding', 'visitscotland', 'glasgow', 'stornoway', 'likewise', 'mistake', 'managed', 'marketing', 'edinburgh', 'premier', 'attractions', 'years', 'drawing', 'budgets', 'spending', 'pennies', 'bus', 'adverts', 'wide', 'listings', 'half', 'diddley', 'squat', 'remembered', 'visitscotland', 'funded', 'scottish', 'government', 'tune', 'whopping', '42', 'lot', 'money', 'influence', 'council', 'thinks', 'reason', 'decision', 'whilst', 'face', 'attractive', 'prove', 'costly', 'people', 'paying', 'overburdened', 'council', 'taxpayer', 'expect', 'asked', 'cough', 'hoteliers', 'visitor', 'attractions', 'businesses', 'edinburgh', 'marketing', 'resourced', 'big', 'push', 'needed', 'recession', 'bigger', 'debate', 'needed', 'policy', 'change', 'fuller', 'explanation', 'good', 'city', 'work', 'councillors', 'decision', 'plan', 'time', 'edinburgh', 'financial', 'services', 'industry', 'trouble', 'losing', 'jobs', 'thing', 'city', 'councillors', 'drop', 'ball', 'unemployment', 'live', 'munificence', 'tourism', 'bunch', 'walliesat', 'time', 'scots', 'sucking', 'gums', 'wondering', 'financial', 'threat', 'befall', 'decision', 'parliament', 'spend', 'money', 'inscribing', 'verse', 'canongate', 'wall', 'commemorate', 'years', 'devolution', 'insult', 'intelligence', 'idea', 'brick', 'entrances', 'exits', 'preferably', 'msps', 'inside']\n",
            "1.10 ['2008', 'high', 'points', 'people', 'year', 'injustice', 'quick', 'solution', 'sight', 'economic', 'day', 'reckoning', 'finally', 'arrived', 'gordon', 'brown', 'believed', 'unremitting', 'guff', 'abolished', 'economic', 'cycles', 'called', 'tory', 'boom', 'bust', 'experience', 'labour', 'boom', 'bust', 'government', 'midwife', 'mother', 'recessions', 'injustice', 'holding', 'account', 'wait', '2010', 'cast', 'verdict', 'bad', 'economy', 'turn', 'brown', 'early', 'election', 'probable', 'gordon', 'brown', 'believes', 'parting', 'waters', 'road', 'damascus', 'expect', 'calculate', 'economy', 'summer', '2010', 'rewarded', 'grateful', 'amnesic', 'electorate', 'chancellor', 'darling', 'predicting', 'recovery', 'happened', '2009', 'ahead', 'predictions', 'american', 'european', 'economies', 'labour', 'cut', 'people', 'pension', 'pots', 'melt', 'eyes', 'hbos', 'shares', 'lost', 'cent', 'year', 'working', 'told', 'employment', 'electorate', 'sense', 'injustice', 'grow', 'greatest', 'injustice', 'people', 'majority', 'acted', 'prudently', 'years', 'paying', 'price', 'hedonistic', 'gamblers', 'bought', 'houses', 'afford', 'mortgages', 'repayments', 'honour', 'spendthrifts', 'offered', 'sorts', 'months', 'forgiveness', 'missed', 'payments', 'offer', 'government', 'financial', 'assistance', 'hand', 'outs', 'looked', 'money', 'lived', 'expected', 'pay', 'price', 'surviving', 'fast', 'deflating', 'savings', 'rates', 'crash', 'income', 'dries', 'apply', 'mortgage', 'trapped', 'loans', 'rationed', 'government', 'blames', 'banks', 'pumped', 'needed', 'capital', 'release', 'credit', 'capital', 'ploughed', 'price', 'points', 'bank', 'england', 'base', 'rate', 'banks', 'lend', 'customers', 'points', 'base', 'rate', 'long', 'banks', 'loss', 'points', 'loans', 'unforthcoming', 'asked', 'choose', 'economy', 'recovering', '2009', 'hibs', 'winning', 'cup', 'money', '106', 'years', 'hibs', 'managed', 'feat', 'mixu', 'men', 'chance', 'brown', 'buddies', 'happy', 'year', 'evening', 'news', 'readers', 'high', 'pricethere', 'injustices', 'abroad', 'injustice', 'servicemen', 'women', 'continuing', 'overstretched', 'underpaid', 'whilst', 'equipment', 'fit', 'purpose', 'expect', 'asked', 'year', 'suffer', 'unnecessary', 'casualties', 'european', 'countries', 'effort', 'share', 'effort', 'afghanistan', 'prime', 'candidate', 'increase', 'hostility', 'president', 'elect', 'obama', 'clear', 'send', '30', '000', 'troops', 'gordon', 'brown', 'announced', 'increase', 'british', 'troop', 'levels', 'strategists', 'increasingly', 'numbers', 'german', 'troops', 'stationed', 'confined', 'barracks', '2009', 'set', 'marked', 'major', 'disagreement', 'brown', 'obama', 'refuse', 'send', 'squaddies', 'battle', 'good', 'europeans', 'britain', 'sacrifices', 'tied', 'knotsanother', 'ram', 'raid', 'multrees', 'walk', 'expensive', 'handbags', 'stolen', '100', '000', 'classy', 'gear', 'knicked', 'months', 'hoods', 'shock', 'awe', '4x4s', 'shop', 'facades', 'drive', 'wealthier', 'taste', 'security', 'needed', 'pedestrianised', 'street', 'driving', 'city', 'centre', 'long', 'ago', 'occasional', 'taxi', 'extreme', 'difficulty', 'avoiding', 'obstacle', 'edinburgh', 'tram', 'works', 'fact', 'multrees', 'managers', 'simply', 'tram', 'constructors', 'tie', 'charge', 'raids', 'nigh', 'impossible', 'life', 'difficult', 'entrepreneur', 'city', '2008']\n",
            "1.11 ['time', 'year', 'scottish', 'government', 'announced', 'intends', 'sort', 'king', 'speech', 'monarch', 'pend', 'holyrood', 'alex', 'salmond', 'relies', '17', 'tory', 'votes', 'life', 'blood', 'government', 'veins', 'denied', 'oxygen', 'breath', 'jibes', 'jokes', 'authority', 'minister', 'tories', 'devout', 'unionist', 'parties', 'actions', 'ye', 'annabel', 'goldie', 'argument', 'allowing', 'largest', 'party', 'govern', 'minority', 'government', 'preferable', 'supping', 'devil', 'formal', 'coalition', 'good', 'hustler', 'poker', 'players', 'good', 'negotiators', 'fear', 'dear', 'annabel', 'bed', 'early', 'horlicks', 'card', 'shark', 'year', 'scots', 'tories', 'claimed', 'achievements', 'drug', 'policy', 'altered', 'recognition', '1000', 'police', 'officers', 'beat', 'business', 'taxes', 'cut', 'sooner', 'drug', 'policy', 'snp', 'agenda', 'police', 'numbers', 'delivered', 'current', 'rate', '13', 'years', 'quicker', 'tax', 'cut', 'policy', 'snp', 'set', 'concede', 'offered', 'real', 'business', 'rate', 'cuts', 'long', 'tories', 'dared', 'achievements', 'excuse', 'labour', 'gold', 'medal', 'playing', 'hardball', 'favourite', 'auntie', 'annabel', 'goldie', 'moose', 'hunting', 'butt', 'kicking', 'hockey', 'mom', 'compared', 'liberal', 'democrats', 'period', 'coalition', 'deal', 'pretty', 'gruel', 'jim', 'wallace', 'portrayed', 'political', 'bunny', 'rabbit', 'ripe', 'kill', 'laugh', 'forcing', 'jack', 'mcconnell', 'adopt', 'proportional', 'representation', 'local', 'government', 'elections', 'leaving', 'henry', 'mcleish', 'option', 'introduce', 'free', 'personal', 'care', 'elderly', 'ensuring', 'tuition', 'fees', 'replaced', 'graduate', 'tax', 'policies', 'wallace', 'clear', 'evidence', 'wave', 'people', 'form', 'legislation', 'noise', 'sadly', 'mute', 'tories', 'wonders', 'redoubtable', '17', 'die', 'hard', 'unionists', 'hold', 'year', 'big', 'issue', 'sacrifice', 'unionism', 'jarrow', 'marchers', 'suffragette', 'hunger', 'strikers', 'great', 'withhold', 'votes', 'answer', 'introduction', 'outdoor', 'activity', 'scottish', 'schools', 'costing', 'astronomical', 'sum', '6', 'kid', 'highfalutin', 'principles', 'defending', 'union', 'sacrificed', 'kids', 'skin', 'knees', 'scrambling', 'shale', 'bing', 'singing', 'happy', 'clappy', 'songs', 'camp', 'alex', 'salmond', 'sleep', 'easy', 'nights', 'refuse', 'scottish', 'water', 'private', 'operative', 'owned', 'customers', 'save', '300m', 'year', 'starters', 'improve', 'service', 'demand', 'directly', 'elected', 'conveners', 'police', 'boards', 'chief', 'constables', 'accountable', 'autonomy', 'headteachers', 'local', 'pen', 'pushers', 'moon', 'outdoor', 'activity', 'sons', 'scouts', 'round', 'roundwhile', 'margo', 'macdonald', 'vote', 'king', 'holyrood', 'power', 'support', 'understandable', 'bargains', 'keenly', 'thought', 'vote', 'save', 'meadowbank', 'velodrome', 'time', 'double', 'period', 'gym', 'corporation', 'bus', 'classmates', 'velodrome', 'cycle', 'thought', 'stay', 'achievement', 'sporting', 'reasons', 'argued', 'saved', 'dismantled', 'reassembled', 'edinburgh', 'political', 'decision', 'requires', 'politics', 'brought', 'sport', 'occasion', 'chris', 'hoy', 'protesting', 'palin', 'simpleeat', 'heart', 'jenny', 'dawe', 'crochet', 'pins', 'annabel', 'goldie', 'console', 'yersel', 'glass', 'buckie', 'cathy', 'jamieson', 'future', 'hillary', 'rodham', 'clinton', 'tavish', 'scott', 'leader', 'scottish', 'liberals', 'bush', 'boulder', 'catch', 'leader', 'scottish', 'labour', 'beachcombing', 'scotland', 'endless', 'sands', 'desperation', 'ability', 'connect', 'people', 'political', 'leaders', 'core', 'values', 'scrambling', 'illusory', 'centre', 'ground', 'voters', 'longer', 'middle', 'muddle', 'sound', 'sarah', 'palin', 'tin', 'simple', 'tavish', 'holiday', 'alaska']\n"
          ],
          "name": "stdout"
        }
      ]
    },
    {
      "cell_type": "code",
      "metadata": {
        "id": "dNgbqjLqcfQp",
        "colab_type": "code",
        "colab": {}
      },
      "source": [
        "# database to keep words with docs where they are in\n",
        "db = {}    # \"42\" : ['1.1', '1.32', ...]\n",
        "db_ = {}     # \"42\" : [('1.1', 1),...}\n",
        "\n",
        "for doc, words in docsWords.items():\n",
        "    words = sorted(words)\n",
        "    n = 1\n",
        "    for i, word in enumerate(words):\n",
        "        if (i+1) != len(words):\n",
        "            nextw = words[i+1]\n",
        "            if word == nextw:\n",
        "                n += 1\n",
        "                continue\n",
        "        if word not in db:\n",
        "            db[word] = []\n",
        "            db_[word] = []\n",
        "        db[word].append(doc)\n",
        "        db_[word].append((doc, n))\n",
        "\n",
        "        n = 1"
      ],
      "execution_count": 0,
      "outputs": []
    },
    {
      "cell_type": "code",
      "metadata": {
        "id": "vaJatY4RT3PT",
        "colab_type": "code",
        "outputId": "40e5b6b8-5d87-4d2c-a66e-112f9d731ff0",
        "colab": {
          "base_uri": "https://localhost:8080/",
          "height": 92
        }
      },
      "source": [
        "i = 0\n",
        "for word, docs in db.items():\n",
        "    print(word, docs)\n",
        "    if i == 2:\n",
        "        break\n",
        "    i += 1"
      ],
      "execution_count": 0,
      "outputs": [
        {
          "output_type": "stream",
          "text": [
            "42 ['1.1', '1.32', '10.35', '11.14', '11.15', '11.16', '11.45', '11.47', '12.26', '12.35', '14.10', '15.4', '17.40', '18.42', '19.16', '19.44', '20.25', '20.32', '22.11', '22.20', '22.42', '24.17', '24.18', '24.25', '24.30', '24.9', '25.14', '28.11', '30.3', '4.23', '5.13', '6.13', '6.2', '6.21', '6.28', '6.30', '6.32', '6.38', '7.33', '7.38', '7.42']\n",
            "aberdeen ['1.1', '1.6', '26.34', '3.34', '3.45', '3.46', '4.31', '4.32', '7.47', '9.38']\n",
            "add ['1.1', '1.21', '1.24', '1.27', '1.36', '1.40', '1.47', '1.50', '10.3', '10.43', '10.44', '10.47', '10.6', '11.1', '11.46', '12.44', '12.49', '13.20', '13.7', '13.8', '16.20', '17.27', '17.34', '17.37', '17.42', '18.12', '19.1', '19.30', '19.32', '19.35', '2.14', '2.16', '2.33', '20.15', '20.50', '21.16', '21.18', '21.31', '21.32', '21.34', '21.35', '21.44', '21.45', '21.47', '22.10', '22.11', '22.38', '23.1', '23.21', '23.22', '23.26', '23.27', '23.3', '23.30', '23.32', '23.35', '23.38', '23.47', '24.20', '25.20', '25.21', '25.23', '25.27', '25.28', '25.31', '25.37', '25.43', '26.13', '26.16', '26.33', '26.34', '26.38', '26.43', '26.45', '27.14', '27.29', '27.31', '28.33', '28.43', '28.47', '28.50', '28.6', '3.11', '3.31', '3.39', '3.44', '30.10', '30.11', '30.15', '30.41', '5.43', '5.7', '6.24', '6.6', '7.13', '7.32', '8.15', '8.3', '9.28', '9.32', '9.6', '9.8']\n"
          ],
          "name": "stdout"
        }
      ]
    },
    {
      "cell_type": "code",
      "metadata": {
        "colab_type": "code",
        "id": "Og3SWgSyIZUH",
        "colab": {}
      },
      "source": [
        "term_frequencies = {}       # { doc: {word: word frequency} }\n",
        "                            # e.g. '1.1': [['doubt', 0.003745318352059925],...]\n",
        "\n",
        "for doc, words in docsWords.items():\n",
        "    d = {}\n",
        "    temp = []\n",
        "    \n",
        "    #term frequency\n",
        "    for word in words:\n",
        "        if word not in d:\n",
        "            d[word] = 1\n",
        "        else:\n",
        "            d[word] += 1\n",
        "\n",
        "    n = len(d)      # of words in doc\n",
        "    for word, number in d.items():\n",
        "        tf = number / n\n",
        "        temp.append([word, tf])\n",
        "\n",
        "    term_frequencies[doc] = temp"
      ],
      "execution_count": 0,
      "outputs": []
    },
    {
      "cell_type": "code",
      "metadata": {
        "id": "a3Blg0Z_UKEo",
        "colab_type": "code",
        "outputId": "fbadee2a-921c-4ba0-8d19-5ba985969677",
        "colab": {
          "base_uri": "https://localhost:8080/",
          "height": 92
        }
      },
      "source": [
        "i = 0\n",
        "for doc, freq in term_frequencies.items():\n",
        "    print(doc, freq)\n",
        "    if i == 2:\n",
        "        break\n",
        "    i += 1"
      ],
      "execution_count": 0,
      "outputs": [
        {
          "output_type": "stream",
          "text": [
            "1.1 [['doubt', 0.003745318352059925], ['edinburgh', 0.052434456928838954], ['huge', 0.003745318352059925], ['tourist', 0.011235955056179775], ['attraction', 0.003745318352059925], ['united', 0.003745318352059925], ['kingdom', 0.003745318352059925], ['internationally', 0.003745318352059925], ['scotland', 0.018726591760299626], ['capital', 0.003745318352059925], ['arguably', 0.003745318352059925], ['biggest', 0.011235955056179775], ['gateway', 0.003745318352059925], ['draw', 0.00749063670411985], ['capitals', 0.003745318352059925], ['lucky', 0.003745318352059925], ['met', 0.003745318352059925], ['choice', 0.003745318352059925], ['travelled', 0.003745318352059925], ['australia', 0.003745318352059925], ['visit', 0.003745318352059925], ['canberra', 0.003745318352059925], ['peru', 0.003745318352059925], ['lima', 0.003745318352059925], ['difficult', 0.003745318352059925], ['driech', 0.003745318352059925], ['march', 0.003745318352059925], ['morning', 0.003745318352059925], ['wind', 0.003745318352059925], ['howling', 0.003745318352059925], ['trouser', 0.003745318352059925], ['legs', 0.003745318352059925], ['drizzle', 0.003745318352059925], ['misting', 0.003745318352059925], ['spectacles', 0.003745318352059925], ['idyllic', 0.003745318352059925], ['romantic', 0.003745318352059925], ['fun', 0.003745318352059925], ['packed', 0.003745318352059925], ['destination', 0.011235955056179775], ['remember', 0.003745318352059925], ['amazed', 0.003745318352059925], ['couple', 0.003745318352059925], ['decades', 0.003745318352059925], ['ago', 0.003745318352059925], ['english', 0.003745318352059925], ['friends', 0.003745318352059925], ['told', 0.003745318352059925], ['coming', 0.00749063670411985], ['honeymoon', 0.003745318352059925], ['appreciated', 0.003745318352059925], ['place', 0.003745318352059925], ['newlyweds', 0.003745318352059925], ['choose', 0.003745318352059925], ['married', 0.003745318352059925], ['tryst', 0.003745318352059925], ['multi', 0.003745318352059925], ['pound', 0.003745318352059925], ['premier', 0.00749063670411985], ['league', 0.003745318352059925], ['british', 0.00749063670411985], ['honeymoons', 0.003745318352059925], ['tourism', 0.011235955056179775], ['hugely', 0.003745318352059925], ['sector', 0.003745318352059925], ['economy', 0.003745318352059925], ['international', 0.003745318352059925], ['festival', 0.003745318352059925], ['arts', 0.003745318352059925], ['fringe', 0.003745318352059925], ['year', 0.003745318352059925], ['round', 0.003745318352059925], ['entertainment', 0.003745318352059925], ['offers', 0.003745318352059925], ['theatres', 0.003745318352059925], ['sporting', 0.003745318352059925], ['events', 0.003745318352059925], ['galleries', 0.003745318352059925], ['museums', 0.003745318352059925], ['consumption', 0.003745318352059925], ['fine', 0.003745318352059925], ['food', 0.003745318352059925], ['alcohol', 0.003745318352059925], ['add', 0.003745318352059925], ['cocktail', 0.003745318352059925], ['admit', 0.003745318352059925], ['cities', 0.003745318352059925], ['built', 0.003745318352059925], ['environment', 0.003745318352059925], ['richness', 0.003745318352059925], ['historic', 0.003745318352059925], ['tapestry', 0.003745318352059925], ['beauty', 0.003745318352059925], ['natural', 0.003745318352059925], ['hills', 0.003745318352059925], ['lochs', 0.003745318352059925], ['parks', 0.003745318352059925], ['combination', 0.003745318352059925], ['puts', 0.003745318352059925], ['london', 0.00749063670411985], ['leith', 0.003745318352059925], ['michelin', 0.003745318352059925], ['starred', 0.003745318352059925], ['restaurants', 0.003745318352059925], ['exceptional', 0.003745318352059925], ['eateries', 0.003745318352059925], ['glasgow', 0.011235955056179775], ['manchester', 0.003745318352059925], ['liverpool', 0.003745318352059925], ['context', 0.003745318352059925], ['vital', 0.003745318352059925], ['marketed', 0.003745318352059925], ['carefully', 0.003745318352059925], ['thought', 0.003745318352059925], ['ensures', 0.003745318352059925], ['pull', 0.00749063670411985], ['visitors', 0.011235955056179775], ['city', 0.011235955056179775], ['approach', 0.00749063670411985], ['pitch', 0.003745318352059925], ['general', 0.003745318352059925], ['marketing', 0.0149812734082397], ['pass', 0.003745318352059925], ['stay', 0.003745318352059925], ['relied', 0.00749063670411985], ['reason', 0.00749063670411985], ['vast', 0.003745318352059925], ['majority', 0.003745318352059925], ['foreign', 0.003745318352059925], ['arrive', 0.003745318352059925], ['north', 0.003745318352059925], ['scottish', 0.00749063670411985], ['board', 0.003745318352059925], ['visitscotland', 0.0149812734082397], ['opening', 0.003745318352059925], ['skies', 0.003745318352059925], ['greater', 0.003745318352059925], ['low', 0.003745318352059925], ['cost', 0.003745318352059925], ['competitive', 0.003745318352059925], ['travel', 0.003745318352059925], ['eaten', 0.003745318352059925], ['strategy', 0.003745318352059925], ['short', 0.003745318352059925], ['haul', 0.00749063670411985], ['routes', 0.003745318352059925], ['transatlantic', 0.003745318352059925], ['long', 0.003745318352059925], ['flights', 0.003745318352059925], ['principal', 0.003745318352059925], ['remains', 0.003745318352059925], ['sound', 0.003745318352059925], ['problem', 0.003745318352059925], ['rest', 0.003745318352059925], ['takes', 0.003745318352059925], ['councils', 0.003745318352059925], ['aberdeen', 0.003745318352059925], ['pooling', 0.003745318352059925], ['resources', 0.003745318352059925], ['difficulty', 0.003745318352059925], ['pulled', 0.003745318352059925], ['ways', 0.003745318352059925], ['smaller', 0.003745318352059925], ['destinations', 0.003745318352059925], ['upset', 0.003745318352059925], ['support', 0.003745318352059925], ['result', 0.003745318352059925], ['council', 0.011235955056179775], ['decided', 0.003745318352059925], ['half', 0.00749063670411985], ['pounds', 0.003745318352059925], ['funding', 0.003745318352059925], ['stornoway', 0.003745318352059925], ['likewise', 0.003745318352059925], ['mistake', 0.003745318352059925], ['managed', 0.003745318352059925], ['attractions', 0.00749063670411985], ['years', 0.00749063670411985], ['drawing', 0.003745318352059925], ['budgets', 0.003745318352059925], ['spending', 0.003745318352059925], ['pennies', 0.003745318352059925], ['bus', 0.003745318352059925], ['adverts', 0.003745318352059925], ['wide', 0.003745318352059925], ['listings', 0.003745318352059925], ['diddley', 0.003745318352059925], ['squat', 0.003745318352059925], ['remembered', 0.003745318352059925], ['funded', 0.003745318352059925], ['government', 0.003745318352059925], ['tune', 0.003745318352059925], ['whopping', 0.003745318352059925], ['42', 0.003745318352059925], ['lot', 0.003745318352059925], ['money', 0.00749063670411985], ['influence', 0.003745318352059925], ['thinks', 0.003745318352059925], ['decision', 0.011235955056179775], ['whilst', 0.003745318352059925], ['face', 0.003745318352059925], ['attractive', 0.003745318352059925], ['prove', 0.003745318352059925], ['costly', 0.003745318352059925], ['people', 0.003745318352059925], ['paying', 0.003745318352059925], ['overburdened', 0.003745318352059925], ['taxpayer', 0.003745318352059925], ['expect', 0.003745318352059925], ['asked', 0.003745318352059925], ['cough', 0.003745318352059925], ['hoteliers', 0.003745318352059925], ['visitor', 0.003745318352059925], ['businesses', 0.003745318352059925], ['resourced', 0.003745318352059925], ['big', 0.003745318352059925], ['push', 0.003745318352059925], ['needed', 0.00749063670411985], ['recession', 0.003745318352059925], ['bigger', 0.003745318352059925], ['debate', 0.003745318352059925], ['policy', 0.003745318352059925], ['change', 0.003745318352059925], ['fuller', 0.003745318352059925], ['explanation', 0.003745318352059925], ['good', 0.003745318352059925], ['work', 0.003745318352059925], ['councillors', 0.00749063670411985], ['plan', 0.003745318352059925], ['time', 0.00749063670411985], ['financial', 0.00749063670411985], ['services', 0.003745318352059925], ['industry', 0.003745318352059925], ['trouble', 0.003745318352059925], ['losing', 0.003745318352059925], ['jobs', 0.003745318352059925], ['thing', 0.003745318352059925], ['drop', 0.003745318352059925], ['ball', 0.003745318352059925], ['unemployment', 0.003745318352059925], ['live', 0.003745318352059925], ['munificence', 0.003745318352059925], ['bunch', 0.003745318352059925], ['walliesat', 0.003745318352059925], ['scots', 0.003745318352059925], ['sucking', 0.003745318352059925], ['gums', 0.003745318352059925], ['wondering', 0.003745318352059925], ['threat', 0.003745318352059925], ['befall', 0.003745318352059925], ['parliament', 0.003745318352059925], ['spend', 0.003745318352059925], ['inscribing', 0.003745318352059925], ['verse', 0.003745318352059925], ['canongate', 0.003745318352059925], ['wall', 0.003745318352059925], ['commemorate', 0.003745318352059925], ['devolution', 0.003745318352059925], ['insult', 0.003745318352059925], ['intelligence', 0.003745318352059925], ['idea', 0.003745318352059925], ['brick', 0.003745318352059925], ['entrances', 0.003745318352059925], ['exits', 0.003745318352059925], ['preferably', 0.003745318352059925], ['msps', 0.003745318352059925], ['inside', 0.003745318352059925]]\n",
            "1.10 [['2008', 0.007633587786259542], ['high', 0.007633587786259542], ['points', 0.015267175572519083], ['people', 0.011450381679389313], ['year', 0.015267175572519083], ['injustice', 0.019083969465648856], ['quick', 0.003816793893129771], ['solution', 0.003816793893129771], ['sight', 0.003816793893129771], ['economic', 0.007633587786259542], ['day', 0.003816793893129771], ['reckoning', 0.003816793893129771], ['finally', 0.003816793893129771], ['arrived', 0.003816793893129771], ['gordon', 0.011450381679389313], ['brown', 0.022900763358778626], ['believed', 0.003816793893129771], ['unremitting', 0.003816793893129771], ['guff', 0.003816793893129771], ['abolished', 0.003816793893129771], ['cycles', 0.003816793893129771], ['called', 0.003816793893129771], ['tory', 0.003816793893129771], ['boom', 0.007633587786259542], ['bust', 0.007633587786259542], ['experience', 0.003816793893129771], ['labour', 0.007633587786259542], ['government', 0.011450381679389313], ['midwife', 0.003816793893129771], ['mother', 0.003816793893129771], ['recessions', 0.003816793893129771], ['holding', 0.003816793893129771], ['account', 0.003816793893129771], ['wait', 0.003816793893129771], ['2010', 0.007633587786259542], ['cast', 0.003816793893129771], ['verdict', 0.003816793893129771], ['bad', 0.003816793893129771], ['economy', 0.011450381679389313], ['turn', 0.003816793893129771], ['early', 0.003816793893129771], ['election', 0.003816793893129771], ['probable', 0.003816793893129771], ['believes', 0.003816793893129771], ['parting', 0.003816793893129771], ['waters', 0.003816793893129771], ['road', 0.003816793893129771], ['damascus', 0.003816793893129771], ['expect', 0.007633587786259542], ['calculate', 0.003816793893129771], ['summer', 0.003816793893129771], ['rewarded', 0.003816793893129771], ['grateful', 0.003816793893129771], ['amnesic', 0.003816793893129771], ['electorate', 0.007633587786259542], ['chancellor', 0.003816793893129771], ['darling', 0.003816793893129771], ['predicting', 0.003816793893129771], ['recovery', 0.003816793893129771], ['happened', 0.003816793893129771], ['2009', 0.011450381679389313], ['ahead', 0.003816793893129771], ['predictions', 0.003816793893129771], ['american', 0.003816793893129771], ['european', 0.007633587786259542], ['economies', 0.003816793893129771], ['cut', 0.003816793893129771], ['pension', 0.003816793893129771], ['pots', 0.003816793893129771], ['melt', 0.003816793893129771], ['eyes', 0.003816793893129771], ['hbos', 0.003816793893129771], ['shares', 0.003816793893129771], ['lost', 0.003816793893129771], ['cent', 0.003816793893129771], ['working', 0.003816793893129771], ['told', 0.003816793893129771], ['employment', 0.003816793893129771], ['sense', 0.003816793893129771], ['grow', 0.003816793893129771], ['greatest', 0.003816793893129771], ['majority', 0.003816793893129771], ['acted', 0.003816793893129771], ['prudently', 0.003816793893129771], ['years', 0.007633587786259542], ['paying', 0.003816793893129771], ['price', 0.011450381679389313], ['hedonistic', 0.003816793893129771], ['gamblers', 0.003816793893129771], ['bought', 0.003816793893129771], ['houses', 0.003816793893129771], ['afford', 0.003816793893129771], ['mortgages', 0.003816793893129771], ['repayments', 0.003816793893129771], ['honour', 0.003816793893129771], ['spendthrifts', 0.003816793893129771], ['offered', 0.003816793893129771], ['sorts', 0.003816793893129771], ['months', 0.007633587786259542], ['forgiveness', 0.003816793893129771], ['missed', 0.003816793893129771], ['payments', 0.003816793893129771], ['offer', 0.003816793893129771], ['financial', 0.003816793893129771], ['assistance', 0.003816793893129771], ['hand', 0.003816793893129771], ['outs', 0.003816793893129771], ['looked', 0.003816793893129771], ['money', 0.007633587786259542], ['lived', 0.003816793893129771], ['expected', 0.003816793893129771], ['pay', 0.003816793893129771], ['surviving', 0.003816793893129771], ['fast', 0.003816793893129771], ['deflating', 0.003816793893129771], ['savings', 0.003816793893129771], ['rates', 0.003816793893129771], ['crash', 0.003816793893129771], ['income', 0.003816793893129771], ['dries', 0.003816793893129771], ['apply', 0.003816793893129771], ['mortgage', 0.003816793893129771], ['trapped', 0.003816793893129771], ['loans', 0.007633587786259542], ['rationed', 0.003816793893129771], ['blames', 0.003816793893129771], ['banks', 0.011450381679389313], ['pumped', 0.003816793893129771], ['needed', 0.007633587786259542], ['capital', 0.007633587786259542], ['release', 0.003816793893129771], ['credit', 0.003816793893129771], ['ploughed', 0.003816793893129771], ['bank', 0.003816793893129771], ['england', 0.003816793893129771], ['base', 0.007633587786259542], ['rate', 0.007633587786259542], ['lend', 0.003816793893129771], ['customers', 0.003816793893129771], ['long', 0.007633587786259542], ['loss', 0.003816793893129771], ['unforthcoming', 0.003816793893129771], ['asked', 0.007633587786259542], ['choose', 0.003816793893129771], ['recovering', 0.003816793893129771], ['hibs', 0.007633587786259542], ['winning', 0.003816793893129771], ['cup', 0.003816793893129771], ['106', 0.003816793893129771], ['managed', 0.003816793893129771], ['feat', 0.003816793893129771], ['mixu', 0.003816793893129771], ['men', 0.003816793893129771], ['chance', 0.003816793893129771], ['buddies', 0.003816793893129771], ['happy', 0.003816793893129771], ['evening', 0.003816793893129771], ['news', 0.003816793893129771], ['readers', 0.003816793893129771], ['pricethere', 0.003816793893129771], ['injustices', 0.003816793893129771], ['abroad', 0.003816793893129771], ['servicemen', 0.003816793893129771], ['women', 0.003816793893129771], ['continuing', 0.003816793893129771], ['overstretched', 0.003816793893129771], ['underpaid', 0.003816793893129771], ['whilst', 0.003816793893129771], ['equipment', 0.003816793893129771], ['fit', 0.003816793893129771], ['purpose', 0.003816793893129771], ['suffer', 0.003816793893129771], ['unnecessary', 0.003816793893129771], ['casualties', 0.003816793893129771], ['countries', 0.003816793893129771], ['effort', 0.007633587786259542], ['share', 0.003816793893129771], ['afghanistan', 0.003816793893129771], ['prime', 0.003816793893129771], ['candidate', 0.003816793893129771], ['increase', 0.007633587786259542], ['hostility', 0.003816793893129771], ['president', 0.003816793893129771], ['elect', 0.003816793893129771], ['obama', 0.007633587786259542], ['clear', 0.003816793893129771], ['send', 0.007633587786259542], ['30', 0.003816793893129771], ['000', 0.007633587786259542], ['troops', 0.007633587786259542], ['announced', 0.003816793893129771], ['british', 0.003816793893129771], ['troop', 0.003816793893129771], ['levels', 0.003816793893129771], ['strategists', 0.003816793893129771], ['increasingly', 0.003816793893129771], ['numbers', 0.003816793893129771], ['german', 0.003816793893129771], ['stationed', 0.003816793893129771], ['confined', 0.003816793893129771], ['barracks', 0.003816793893129771], ['set', 0.003816793893129771], ['marked', 0.003816793893129771], ['major', 0.003816793893129771], ['disagreement', 0.003816793893129771], ['refuse', 0.003816793893129771], ['squaddies', 0.003816793893129771], ['battle', 0.003816793893129771], ['good', 0.003816793893129771], ['europeans', 0.003816793893129771], ['britain', 0.003816793893129771], ['sacrifices', 0.003816793893129771], ['tied', 0.003816793893129771], ['knotsanother', 0.003816793893129771], ['ram', 0.003816793893129771], ['raid', 0.003816793893129771], ['multrees', 0.007633587786259542], ['walk', 0.003816793893129771], ['expensive', 0.003816793893129771], ['handbags', 0.003816793893129771], ['stolen', 0.003816793893129771], ['100', 0.003816793893129771], ['classy', 0.003816793893129771], ['gear', 0.003816793893129771], ['knicked', 0.003816793893129771], ['hoods', 0.003816793893129771], ['shock', 0.003816793893129771], ['awe', 0.003816793893129771], ['4x4s', 0.003816793893129771], ['shop', 0.003816793893129771], ['facades', 0.003816793893129771], ['drive', 0.003816793893129771], ['wealthier', 0.003816793893129771], ['taste', 0.003816793893129771], ['security', 0.003816793893129771], ['pedestrianised', 0.003816793893129771], ['street', 0.003816793893129771], ['driving', 0.003816793893129771], ['city', 0.007633587786259542], ['centre', 0.003816793893129771], ['ago', 0.003816793893129771], ['occasional', 0.003816793893129771], ['taxi', 0.003816793893129771], ['extreme', 0.003816793893129771], ['difficulty', 0.003816793893129771], ['avoiding', 0.003816793893129771], ['obstacle', 0.003816793893129771], ['edinburgh', 0.003816793893129771], ['tram', 0.007633587786259542], ['works', 0.003816793893129771], ['fact', 0.003816793893129771], ['managers', 0.003816793893129771], ['simply', 0.003816793893129771], ['constructors', 0.003816793893129771], ['tie', 0.003816793893129771], ['charge', 0.003816793893129771], ['raids', 0.003816793893129771], ['nigh', 0.003816793893129771], ['impossible', 0.003816793893129771], ['life', 0.003816793893129771], ['difficult', 0.003816793893129771], ['entrepreneur', 0.003816793893129771]]\n",
            "1.11 [['time', 0.006472491909385114], ['year', 0.012944983818770227], ['scottish', 0.016181229773462782], ['government', 0.012944983818770227], ['announced', 0.003236245954692557], ['intends', 0.003236245954692557], ['sort', 0.003236245954692557], ['king', 0.006472491909385114], ['speech', 0.003236245954692557], ['monarch', 0.003236245954692557], ['pend', 0.003236245954692557], ['holyrood', 0.006472491909385114], ['alex', 0.006472491909385114], ['salmond', 0.006472491909385114], ['relies', 0.003236245954692557], ['17', 0.006472491909385114], ['tory', 0.003236245954692557], ['votes', 0.006472491909385114], ['life', 0.003236245954692557], ['blood', 0.003236245954692557], ['veins', 0.003236245954692557], ['denied', 0.003236245954692557], ['oxygen', 0.003236245954692557], ['breath', 0.003236245954692557], ['jibes', 0.003236245954692557], ['jokes', 0.003236245954692557], ['authority', 0.003236245954692557], ['minister', 0.003236245954692557], ['tories', 0.012944983818770227], ['devout', 0.003236245954692557], ['unionist', 0.003236245954692557], ['parties', 0.003236245954692557], ['actions', 0.003236245954692557], ['ye', 0.003236245954692557], ['annabel', 0.012944983818770227], ['goldie', 0.009708737864077669], ['argument', 0.003236245954692557], ['allowing', 0.003236245954692557], ['largest', 0.003236245954692557], ['party', 0.003236245954692557], ['govern', 0.003236245954692557], ['minority', 0.003236245954692557], ['preferable', 0.003236245954692557], ['supping', 0.003236245954692557], ['devil', 0.003236245954692557], ['formal', 0.003236245954692557], ['coalition', 0.006472491909385114], ['good', 0.006472491909385114], ['hustler', 0.003236245954692557], ['poker', 0.003236245954692557], ['players', 0.003236245954692557], ['negotiators', 0.003236245954692557], ['fear', 0.003236245954692557], ['dear', 0.003236245954692557], ['bed', 0.003236245954692557], ['early', 0.003236245954692557], ['horlicks', 0.003236245954692557], ['card', 0.003236245954692557], ['shark', 0.003236245954692557], ['scots', 0.003236245954692557], ['claimed', 0.003236245954692557], ['achievements', 0.006472491909385114], ['drug', 0.006472491909385114], ['policy', 0.009708737864077669], ['altered', 0.003236245954692557], ['recognition', 0.003236245954692557], ['1000', 0.003236245954692557], ['police', 0.009708737864077669], ['officers', 0.003236245954692557], ['beat', 0.003236245954692557], ['business', 0.006472491909385114], ['taxes', 0.003236245954692557], ['cut', 0.006472491909385114], ['sooner', 0.003236245954692557], ['snp', 0.006472491909385114], ['agenda', 0.003236245954692557], ['numbers', 0.003236245954692557], ['delivered', 0.003236245954692557], ['current', 0.003236245954692557], ['rate', 0.006472491909385114], ['13', 0.003236245954692557], ['years', 0.003236245954692557], ['quicker', 0.003236245954692557], ['tax', 0.006472491909385114], ['set', 0.003236245954692557], ['concede', 0.003236245954692557], ['offered', 0.003236245954692557], ['real', 0.003236245954692557], ['cuts', 0.003236245954692557], ['long', 0.003236245954692557], ['dared', 0.003236245954692557], ['excuse', 0.003236245954692557], ['labour', 0.006472491909385114], ['gold', 0.003236245954692557], ['medal', 0.003236245954692557], ['playing', 0.003236245954692557], ['hardball', 0.003236245954692557], ['favourite', 0.003236245954692557], ['auntie', 0.003236245954692557], ['moose', 0.003236245954692557], ['hunting', 0.003236245954692557], ['butt', 0.003236245954692557], ['kicking', 0.003236245954692557], ['hockey', 0.003236245954692557], ['mom', 0.003236245954692557], ['compared', 0.003236245954692557], ['liberal', 0.003236245954692557], ['democrats', 0.003236245954692557], ['period', 0.006472491909385114], ['deal', 0.003236245954692557], ['pretty', 0.003236245954692557], ['gruel', 0.003236245954692557], ['jim', 0.003236245954692557], ['wallace', 0.006472491909385114], ['portrayed', 0.003236245954692557], ['political', 0.009708737864077669], ['bunny', 0.003236245954692557], ['rabbit', 0.003236245954692557], ['ripe', 0.003236245954692557], ['kill', 0.003236245954692557], ['laugh', 0.003236245954692557], ['forcing', 0.003236245954692557], ['jack', 0.003236245954692557], ['mcconnell', 0.003236245954692557], ['adopt', 0.003236245954692557], ['proportional', 0.003236245954692557], ['representation', 0.003236245954692557], ['local', 0.006472491909385114], ['elections', 0.003236245954692557], ['leaving', 0.003236245954692557], ['henry', 0.003236245954692557], ['mcleish', 0.003236245954692557], ['option', 0.003236245954692557], ['introduce', 0.003236245954692557], ['free', 0.003236245954692557], ['personal', 0.003236245954692557], ['care', 0.003236245954692557], ['elderly', 0.003236245954692557], ['ensuring', 0.003236245954692557], ['tuition', 0.003236245954692557], ['fees', 0.003236245954692557], ['replaced', 0.003236245954692557], ['graduate', 0.003236245954692557], ['policies', 0.003236245954692557], ['clear', 0.003236245954692557], ['evidence', 0.003236245954692557], ['wave', 0.003236245954692557], ['people', 0.006472491909385114], ['form', 0.003236245954692557], ['legislation', 0.003236245954692557], ['noise', 0.003236245954692557], ['sadly', 0.003236245954692557], ['mute', 0.003236245954692557], ['wonders', 0.003236245954692557], ['redoubtable', 0.003236245954692557], ['die', 0.003236245954692557], ['hard', 0.003236245954692557], ['unionists', 0.003236245954692557], ['hold', 0.003236245954692557], ['big', 0.003236245954692557], ['issue', 0.003236245954692557], ['sacrifice', 0.003236245954692557], ['unionism', 0.003236245954692557], ['jarrow', 0.003236245954692557], ['marchers', 0.003236245954692557], ['suffragette', 0.003236245954692557], ['hunger', 0.003236245954692557], ['strikers', 0.003236245954692557], ['great', 0.003236245954692557], ['withhold', 0.003236245954692557], ['answer', 0.003236245954692557], ['introduction', 0.003236245954692557], ['outdoor', 0.006472491909385114], ['activity', 0.006472491909385114], ['schools', 0.003236245954692557], ['costing', 0.003236245954692557], ['astronomical', 0.003236245954692557], ['sum', 0.003236245954692557], ['6', 0.003236245954692557], ['kid', 0.003236245954692557], ['highfalutin', 0.003236245954692557], ['principles', 0.003236245954692557], ['defending', 0.003236245954692557], ['union', 0.003236245954692557], ['sacrificed', 0.003236245954692557], ['kids', 0.003236245954692557], ['skin', 0.003236245954692557], ['knees', 0.003236245954692557], ['scrambling', 0.006472491909385114], ['shale', 0.003236245954692557], ['bing', 0.003236245954692557], ['singing', 0.003236245954692557], ['happy', 0.003236245954692557], ['clappy', 0.003236245954692557], ['songs', 0.003236245954692557], ['camp', 0.003236245954692557], ['sleep', 0.003236245954692557], ['easy', 0.003236245954692557], ['nights', 0.003236245954692557], ['refuse', 0.003236245954692557], ['water', 0.003236245954692557], ['private', 0.003236245954692557], ['operative', 0.003236245954692557], ['owned', 0.003236245954692557], ['customers', 0.003236245954692557], ['save', 0.006472491909385114], ['300m', 0.003236245954692557], ['starters', 0.003236245954692557], ['improve', 0.003236245954692557], ['service', 0.003236245954692557], ['demand', 0.003236245954692557], ['directly', 0.003236245954692557], ['elected', 0.003236245954692557], ['conveners', 0.003236245954692557], ['boards', 0.003236245954692557], ['chief', 0.003236245954692557], ['constables', 0.003236245954692557], ['accountable', 0.003236245954692557], ['autonomy', 0.003236245954692557], ['headteachers', 0.003236245954692557], ['pen', 0.003236245954692557], ['pushers', 0.003236245954692557], ['moon', 0.003236245954692557], ['sons', 0.003236245954692557], ['scouts', 0.003236245954692557], ['round', 0.003236245954692557], ['roundwhile', 0.003236245954692557], ['margo', 0.003236245954692557], ['macdonald', 0.003236245954692557], ['vote', 0.006472491909385114], ['power', 0.003236245954692557], ['support', 0.003236245954692557], ['understandable', 0.003236245954692557], ['bargains', 0.003236245954692557], ['keenly', 0.003236245954692557], ['thought', 0.006472491909385114], ['meadowbank', 0.003236245954692557], ['velodrome', 0.006472491909385114], ['double', 0.003236245954692557], ['gym', 0.003236245954692557], ['corporation', 0.003236245954692557], ['bus', 0.003236245954692557], ['classmates', 0.003236245954692557], ['cycle', 0.003236245954692557], ['stay', 0.003236245954692557], ['achievement', 0.003236245954692557], ['sporting', 0.003236245954692557], ['reasons', 0.003236245954692557], ['argued', 0.003236245954692557], ['saved', 0.003236245954692557], ['dismantled', 0.003236245954692557], ['reassembled', 0.003236245954692557], ['edinburgh', 0.003236245954692557], ['decision', 0.003236245954692557], ['requires', 0.003236245954692557], ['politics', 0.003236245954692557], ['brought', 0.003236245954692557], ['sport', 0.003236245954692557], ['occasion', 0.003236245954692557], ['chris', 0.003236245954692557], ['hoy', 0.003236245954692557], ['protesting', 0.003236245954692557], ['palin', 0.006472491909385114], ['simpleeat', 0.003236245954692557], ['heart', 0.003236245954692557], ['jenny', 0.003236245954692557], ['dawe', 0.003236245954692557], ['crochet', 0.003236245954692557], ['pins', 0.003236245954692557], ['console', 0.003236245954692557], ['yersel', 0.003236245954692557], ['glass', 0.003236245954692557], ['buckie', 0.003236245954692557], ['cathy', 0.003236245954692557], ['jamieson', 0.003236245954692557], ['future', 0.003236245954692557], ['hillary', 0.003236245954692557], ['rodham', 0.003236245954692557], ['clinton', 0.003236245954692557], ['tavish', 0.006472491909385114], ['scott', 0.003236245954692557], ['leader', 0.006472491909385114], ['liberals', 0.003236245954692557], ['bush', 0.003236245954692557], ['boulder', 0.003236245954692557], ['catch', 0.003236245954692557], ['beachcombing', 0.003236245954692557], ['scotland', 0.003236245954692557], ['endless', 0.003236245954692557], ['sands', 0.003236245954692557], ['desperation', 0.003236245954692557], ['ability', 0.003236245954692557], ['connect', 0.003236245954692557], ['leaders', 0.003236245954692557], ['core', 0.003236245954692557], ['values', 0.003236245954692557], ['illusory', 0.003236245954692557], ['centre', 0.003236245954692557], ['ground', 0.003236245954692557], ['voters', 0.003236245954692557], ['longer', 0.003236245954692557], ['middle', 0.003236245954692557], ['muddle', 0.003236245954692557], ['sound', 0.003236245954692557], ['sarah', 0.003236245954692557], ['tin', 0.003236245954692557], ['simple', 0.003236245954692557], ['holiday', 0.003236245954692557], ['alaska', 0.003236245954692557]]\n"
          ],
          "name": "stdout"
        }
      ]
    },
    {
      "cell_type": "code",
      "metadata": {
        "id": "h0q0hy5YmacS",
        "colab_type": "code",
        "colab": {}
      },
      "source": [
        "idfs = {}            # {word: number} ---> {word: idf}\n",
        "                     # e.g. {'doubt': 3.1958930192167068}\n",
        "\n",
        "for doc, array in term_frequencies.items():\n",
        "    for word, tf in array:\n",
        "        if word not in idfs:\n",
        "            idfs[word] = 1\n",
        "        else:\n",
        "            idfs[word] += 1\n",
        "\n",
        "doc_total = len(term_frequencies)\n",
        "for word, n in idfs.items():\n",
        "    idf = ((1 + doc_total) / (n+1))\n",
        "    idfs[word] = math.log(idf) + 1"
      ],
      "execution_count": 0,
      "outputs": []
    },
    {
      "cell_type": "code",
      "metadata": {
        "id": "ipQXRkoxUa7s",
        "colab_type": "code",
        "outputId": "78f8bd11-73e8-44b8-b474-53814c8307b3",
        "colab": {
          "base_uri": "https://localhost:8080/",
          "height": 72
        }
      },
      "source": [
        "i = 0\n",
        "for word, idf in idfs.items():\n",
        "    print(word, idf)\n",
        "    if i == 2:\n",
        "        break\n",
        "    i += 1"
      ],
      "execution_count": 0,
      "outputs": [
        {
          "output_type": "stream",
          "text": [
            "doubt 3.1958930192167068\n",
            "edinburgh 3.4696997451748706\n",
            "huge 3.309940525688003\n"
          ],
          "name": "stdout"
        }
      ]
    },
    {
      "cell_type": "code",
      "metadata": {
        "id": "EGTd9K__06BZ",
        "colab_type": "code",
        "colab": {}
      },
      "source": [
        "# TF-IDF = TF * IDF\n",
        "\n",
        "tfidf = {}\n",
        "#{doc: {word: tf-idf}}\n",
        "# e.g. '1.11': {'time': 0.009378893551214249, 'year': 0.02088227471955536,...} \n",
        "# e.g. '1.12': {'time': 0.010133140235402807, 'year': 0.011280809245354205,...}\n",
        "\n",
        "for doc, array in term_frequencies.items():\n",
        "    tfidf[doc] = {}\n",
        "    for word, tf in array:\n",
        "        TfIdf = tf * idfs[word]\n",
        "        tfidf[doc][word] = TfIdf"
      ],
      "execution_count": 0,
      "outputs": []
    },
    {
      "cell_type": "code",
      "metadata": {
        "id": "wTRcdsvgUnOZ",
        "colab_type": "code",
        "outputId": "56116973-1fdd-464f-8a96-075f6029cd6d",
        "colab": {
          "base_uri": "https://localhost:8080/",
          "height": 110
        }
      },
      "source": [
        "i = 0\n",
        "for doc, ti in tfidf.items():\n",
        "    print(doc, ti)\n",
        "    if i == 3:\n",
        "        break\n",
        "    i += 1"
      ],
      "execution_count": 0,
      "outputs": [
        {
          "output_type": "stream",
          "text": [
            "1.1 {'doubt': 0.011969636776092534, 'edinburgh': 0.18193182184437526, 'huge': 0.012396780995086154, 'tourist': 0.06647181526781001, 'attraction': 0.023349982359376877, 'united': 0.009640801196457782, 'kingdom': 0.018794194627824466, 'internationally': 0.022908847394371695, 'scotland': 0.05385407345899376, 'capital': 0.0122248345482544, 'arguably': 0.018042618989389442, 'biggest': 0.0359089103282776, 'gateway': 0.024427443304889166, 'draw': 0.030036117890856116, 'capitals': 0.024427443304889166, 'lucky': 0.016798672041739203, 'met': 0.014543333456142877, 'choice': 0.01330229549376669, 'travelled': 0.021531601026861143, 'australia': 0.018935544170831386, 'visit': 0.014411905292055723, 'canberra': 0.02854209607143639, 'peru': 0.0251102955775257, 'lima': 0.02854209607143639, 'difficult': 0.01173072390015497, 'driech': 0.02854209607143639, 'march': 0.014082434232333038, 'morning': 0.013366871547828509, 'wind': 0.01599563881572626, 'howling': 0.027023500160918923, 'trouser': 0.0251102955775257, 'legs': 0.01771673368231218, 'drizzle': 0.0251102955775257, 'misting': 0.02854209607143639, 'spectacles': 0.027023500160918923, 'idyllic': 0.025946039215406634, 'romantic': 0.021531601026861143, 'fun': 0.014633586458311644, 'packed': 0.018794194627824466, 'destination': 0.061580600984013995, 'remember': 0.011969636776092534, 'amazed': 0.023349982359376877, 'couple': 0.012684019275191975, 'decades': 0.014202615185709444, 'ago': 0.009209044604610616, 'english': 0.011709741669635607, 'friends': 0.01293660834184191, 'told': 0.009889751177760187, 'coming': 0.02222306592446437, 'honeymoon': 0.02075392550334712, 'appreciated': 0.02075392550334712, 'place': 0.009166362452060544, 'newlyweds': 0.02854209607143639, 'choose': 0.014284933188401487, 'married': 0.018794194627824466, 'tryst': 0.02854209607143639, 'multi': 0.01771673368231218, 'pound': 0.015620794401655166, 'premier': 0.024743457210016525, 'league': 0.009851337319456106, 'british': 0.020537324340492116, 'honeymoons': 0.027023500160918923, 'tourism': 0.07004994707813063, 'hugely': 0.017614115801457816, 'sector': 0.012603471690094733, 'economy': 0.010580333728377436, 'international': 0.01127558772874302, 'festival': 0.02251423872149594, 'arts': 0.02125404307871986, 'fringe': 0.02183138644885941, 'year': 0.0060417817306578706, 'round': 0.013432580572738282, 'entertainment': 0.020312790538341938, 'offers': 0.01612941440599622, 'theatres': 0.025946039215406634, 'sporting': 0.016562046942033094, 'events': 0.013334444346543435, 'galleries': 0.025946039215406634, 'museums': 0.025946039215406634, 'consumption': 0.01827677762976897, 'fine': 0.01467954186127724, 'food': 0.012878986922967456, 'alcohol': 0.015680720773739214, 'add': 0.013779617391025567, 'cocktail': 0.02215727175593667, 'admit': 0.015620794401655166, 'cities': 0.017614115801457816, 'built': 0.01512067682628242, 'environment': 0.015334753282611815, 'richness': 0.02854209607143639, 'historic': 0.01612941440599622, 'tapestry': 0.027023500160918923, 'beauty': 0.020995642810978474, 'natural': 0.014411905292055723, 'hills': 0.02125404307871986, 'lochs': 0.02854209607143639, 'parks': 0.02183138644885941, 'combination': 0.015930501202573194, 'puts': 0.015390240495290248, 'london': 0.021943009504452233, 'leith': 0.02125404307871986, 'michelin': 0.0251102955775257, 'starred': 0.0251102955775257, 'restaurants': 0.020526866994671333, 'exceptional': 0.01827677762976897, 'eateries': 0.027023500160918923, 'glasgow': 0.04838824321798866, 'manchester': 0.01213001129737691, 'liverpool': 0.014043215880770133, 'context': 0.01671812445664196, 'vital': 0.015930501202573194, 'marketed': 0.02215727175593667, 'carefully': 0.01782224258480917, 'thought': 0.009545676887073473, 'ensures': 0.023349982359376877, 'pull': 0.03410252221677827, 'visitors': 0.0511537833251674, 'city': 0.02994283812890175, 'approach': 0.02489478835097173, 'pitch': 0.014633586458311644, 'general': 0.011076032048544755, 'marketing': 0.07757891559107584, 'pass': 0.014043215880770133, 'stay': 0.012037529602281886, 'relied': 0.04150785100669424, 'reason': 0.02273986645994715, 'vast': 0.015446562133359688, 'majority': 0.012995130131741089, 'foreign': 0.013672088904574513, 'arrive': 0.019082438227585246, 'north': 0.012907686820890935, 'scottish': 0.023172516903034738, 'board': 0.012995130131741089, 'visitscotland': 0.11416838428574556, 'opening': 0.015390240495290248, 'skies': 0.0251102955775257, 'greater': 0.01314556474494459, 'low': 0.011040864481691426, 'cost': 0.01105840698847954, 'competitive': 0.016198137771794713, 'travel': 0.017139390312172636, 'eaten': 0.02183138644885941, 'strategy': 0.01374343045877187, 'short': 0.0102121279896375, 'haul': 0.03983636373093237, 'routes': 0.023349982359376877, 'transatlantic': 0.024427443304889166, 'long': 0.0071300073021247, 'flights': 0.023349982359376877, 'principal': 0.02125404307871986, 'remains': 0.013238814001954804, 'sound': 0.013890324515525732, 'problem': 0.009941590321624873, 'rest': 0.011350873044552335, 'takes': 0.012822238589556958, 'councils': 0.017614115801457816, 'aberdeen': 0.02215727175593667, 'pooling': 0.0251102955775257, 'resources': 0.01599563881572626, 'difficulty': 0.017614115801457816, 'pulled': 0.01771673368231218, 'ways': 0.011969636776092534, 'smaller': 0.014284933188401487, 'destinations': 0.0251102955775257, 'upset': 0.019918181865466185, 'support': 0.010853132694490793, 'result': 0.01070623863773693, 'council': 0.04080624274729486, 'decided': 0.012907686820890935, 'half': 0.017605299535693, 'pounds': 0.016412214228124108, 'funding': 0.014918177870213973, 'stornoway': 0.02854209607143639, 'likewise': 0.02011029158227349, 'mistake': 0.015680720773739214, 'managed': 0.013270420251564783, 'attractions': 0.0502205911550514, 'years': 0.012355639035828122, 'drawing': 0.01852655805860295, 'budgets': 0.018157868647317364, 'spending': 0.01162696883442712, 'pennies': 0.0251102955775257, 'bus': 0.018157868647317364, 'adverts': 0.02385009993474962, 'wide': 0.015680720773739214, 'listings': 0.027023500160918923, 'diddley': 0.02854209607143639, 'squat': 0.024427443304889166, 'remembered': 0.018042618989389442, 'funded': 0.016486381371555493, 'government': 0.008215690684204163, 'tune': 0.018657986222690107, 'whopping': 0.02251423872149594, '42': 0.017139390312172636, 'lot': 0.009689284958974776, 'money': 0.01794002230232446, 'influence': 0.015069016443764311, 'thinks': 0.014633586458311644, 'decision': 0.035319132995452925, 'whilst': 0.02011029158227349, 'face': 0.010722278569542179, 'attractive': 0.016268145760604272, 'prove': 0.013707589818261944, 'costly': 0.01939472889776896, 'people': 0.006106838523847143, 'paying': 0.013465872510630588, 'overburdened': 0.027023500160918923, 'taxpayer': 0.01599563881572626, 'expect': 0.012422002089398303, 'asked': 0.010954363677217081, 'cough': 0.02075392550334712, 'hoteliers': 0.02854209607143639, 'visitor': 0.021531601026861143, 'businesses': 0.014967785461038021, 'resourced': 0.025946039215406634, 'big': 0.008257075838461034, 'push': 0.015803529098918957, 'needed': 0.021806812357761666, 'recession': 0.01199213124822816, 'bigger': 0.014243548034144614, 'debate': 0.013114990547794173, 'policy': 0.010722278569542179, 'change': 0.009581065985193071, 'fuller': 0.027023500160918923, 'explanation': 0.017051261108389136, 'good': 0.006705335301438014, 'work': 0.008174757835768993, 'councillors': 0.04199128562195695, 'plan': 0.01122010051606459, 'time': 0.010854225121068175, 'financial': 0.019209691728278716, 'services': 0.011815848436025967, 'industry': 0.01314556474494459, 'trouble': 0.013238814001954804, 'losing': 0.013816157372094347, 'jobs': 0.012396780995086154, 'thing': 0.009396074392198403, 'drop': 0.014967785461038021, 'ball': 0.0122248345482544, 'unemployment': 0.015930501202573194, 'live': 0.012248920279828523, 'munificence': 0.02854209607143639, 'bunch': 0.01852655805860295, 'walliesat': 0.02854209607143639, 'scots': 0.015069016443764311, 'sucking': 0.023349982359376877, 'gums': 0.025946039215406634, 'wondering': 0.018794194627824466, 'threat': 0.014967785461038021, 'befall': 0.025946039215406634, 'parliament': 0.012630128872749653, 'spend': 0.01285050527732993, 'inscribing': 0.02854209607143639, 'verse': 0.0251102955775257, 'canongate': 0.02854209607143639, 'wall': 0.013636921337721184, 'commemorate': 0.025946039215406634, 'devolution': 0.017322125009436425, 'insult': 0.022908847394371695, 'intelligence': 0.01827677762976897, 'idea': 0.010658526930705358, 'brick': 0.024427443304889166, 'entrances': 0.02854209607143639, 'exits': 0.025946039215406634, 'preferably': 0.02215727175593667, 'msps': 0.01612941440599622, 'inside': 0.014162124863221746}\n",
            "1.10 {'2008': 0.02531812639594921, 'high': 0.016595437247383254, 'points': 0.04790438319175012, 'people': 0.01867014373130367, 'year': 0.02462833163489544, 'injustice': 0.1112400798062111, 'quick': 0.015462621964092161, 'solution': 0.0163684547362531, 'sight': 0.016169272472243288, 'economic': 0.020533353629359718, 'day': 0.007840860181559309, 'reckoning': 0.020700439212737776, 'finally': 0.012684939865857732, 'arrived': 0.015253430221744853, 'gordon': 0.031135596778988046, 'brown': 0.06119037619913011, 'believed': 0.015202875921172254, 'unremitting': 0.029086792561349297, 'guff': 0.027539215812844856, 'abolished': 0.021149992783945346, 'cycles': 0.021396323017294855, 'called': 0.009563909700965717, 'tory': 0.013491463124129513, 'boom': 0.030713186186908936, 'bust': 0.03136789474994272, 'experience': 0.011567492759143027, 'labour': 0.020209619416191066, 'government': 0.025117436023082192, 'midwife': 0.027539215812844856, 'mother': 0.014912853375454995, 'recessions': 0.021149992783945346, 'holding': 0.01562740124602044, 'account': 0.014432394421680175, 'wait': 0.014432394421680175, '2010': 0.03208406845389428, 'cast': 0.017288920601966417, 'verdict': 0.02049407577277489, 'bad': 0.009788144449332858, 'economy': 0.032346745482558496, 'turn': 0.010992995527019931, 'early': 0.00984941051425846, 'election': 0.011471828756611667, 'probable': 0.025589499691600615, 'believes': 0.013791627732217732, 'parting': 0.027539215812844856, 'waters': 0.02258012045356905, 'road': 0.014232516614362175, 'damascus': 0.029086792561349297, 'expect': 0.02531812639594921, 'calculate': 0.023795592709746665, 'summer': 0.012175278061947339, 'rewarded': 0.020298299839997983, 'grateful': 0.0188801183268969, 'amnesic': 0.029086792561349297, 'electorate': 0.03725114219197187, 'chancellor': 0.013273301239244212, 'darling': 0.014271663561565185, 'predicting': 0.021942509443404295, 'recovery': 0.015007099988395344, 'happened': 0.012737225531346898, '2009': 0.0465502853769172, 'ahead': 0.012063340599754514, 'predictions': 0.020700439212737776, 'american': 0.010225561940703102, 'european': 0.023656115068889132, 'economies': 0.016437227658019048, 'cut': 0.011163416419148704, 'pension': 0.01795026304957724, 'pots': 0.025589499691600615, 'melt': 0.024893615887043537, 'eyes': 0.014731066928931124, 'hbos': 0.016878116540163496, 'shares': 0.014079824497515995, 'lost': 0.010704192729028568, 'cent': 0.01089427983774543, 'working': 0.011471828756611667, 'told': 0.010078486887259427, 'employment': 0.017376666854732437, 'sense': 0.010719676701149233, 'grow': 0.015409239361135139, 'greatest': 0.015409239361135139, 'majority': 0.013243128798377368, 'acted': 0.019446606896050614, 'prudently': 0.029086792561349297, 'years': 0.012591433673916443, 'paying': 0.013722854810451782, 'price': 0.03452942135593998, 'hedonistic': 0.029086792561349297, 'gamblers': 0.025589499691600615, 'bought': 0.015304663123775921, 'houses': 0.017376666854732437, 'afford': 0.015356593093454468, 'mortgages': 0.0163684547362531, 'repayments': 0.02644119263554798, 'honour': 0.0196024160354409, 'spendthrifts': 0.02644119263554798, 'offered': 0.013621964516298518, 'sorts': 0.01850439285814403, 'months': 0.01874773799351147, 'forgiveness': 0.029086792561349297, 'missed': 0.01585879293234271, 'payments': 0.017119257386047203, 'offer': 0.01292608071174144, 'financial': 0.009788144449332858, 'assistance': 0.01915286246423333, 'hand': 0.011665616258036948, 'outs': 0.020298299839997983, 'looked': 0.012267253449653678, 'money': 0.01828238914015508, 'lived': 0.017037172633295433, 'expected': 0.011933210022109567, 'pay': 0.010294334862469048, 'surviving': 0.021942509443404295, 'fast': 0.014959685789927568, 'deflating': 0.024893615887043537, 'savings': 0.01604203422694714, 'rates': 0.012633360785068713, 'crash': 0.017376666854732437, 'income': 0.01355615609479277, 'dries': 0.029086792561349297, 'apply': 0.016801006970249298, 'mortgage': 0.015103732843297213, 'trapped': 0.02049407577277489, 'loans': 0.032874455316038095, 'rationed': 0.027539215812844856, 'blames': 0.02644119263554798, 'banks': 0.03511674915427072, 'pumped': 0.02644119263554798, 'needed': 0.022222972898940322, 'capital': 0.024916265834991794, 'release': 0.017288920601966417, 'credit': 0.01104332760443197, 'ploughed': 0.027539215812844856, 'bank': 0.010829859846190653, 'england': 0.009518335501072901, 'base': 0.030818478722270278, 'rate': 0.022683607478386648, 'lend': 0.01850439285814403, 'customers': 0.015356593093454468, 'long': 0.014532152287536602, 'loss': 0.013213193006541392, 'unforthcoming': 0.029086792561349297, 'asked': 0.02232683283829741, 'choose': 0.014557546417187773, 'recovering': 0.021659654587855737, 'hibs': 0.0451602409071381, 'winning': 0.012607830295943534, 'cup': 0.011360109740199022, '106': 0.02644119263554798, 'managed': 0.013523672546441974, 'feat': 0.021942509443404295, 'mixu': 0.029086792561349297, 'men': 0.010845863198328195, 'chance': 0.011198433122492375, 'buddies': 0.024893615887043537, 'happy': 0.013183490180426678, 'evening': 0.016801006970249298, 'news': 0.010798053046346592, 'readers': 0.017119257386047203, 'pricethere': 0.029086792561349297, 'injustices': 0.029086792561349297, 'abroad': 0.017466477913549976, 'servicemen': 0.029086792561349297, 'women': 0.011471828756611667, 'continuing': 0.016578606557562367, 'overstretched': 0.025589499691600615, 'underpaid': 0.025589499691600615, 'whilst': 0.02049407577277489, 'equipment': 0.019296909517602975, 'fit': 0.014912853375454995, 'purpose': 0.01610512316569222, 'suffer': 0.016507262538432016, 'unnecessary': 0.01765269991419666, 'casualties': 0.023346039138539092, 'countries': 0.013396434301145822, 'effort': 0.02862243236767653, 'share': 0.012085467003129804, 'afghanistan': 0.020298299839997983, 'prime': 0.01123377405918244, 'candidate': 0.014643320676165097, 'increase': 0.023491945563385595, 'hostility': 0.02224801596124222, 'president': 0.01164578871270449, 'elect': 0.0196024160354409, 'obama': 0.025580474819645455, 'clear': 0.01053789025462536, 'send': 0.03221024633138444, '30': 0.01123377405918244, '000': 0.02028927496804282, 'troops': 0.039869041055535466, 'announced': 0.013213193006541392, 'british': 0.010464629005556097, 'troop': 0.02644119263554798, 'levels': 0.012220988714797399, 'strategists': 0.021396323017294855, 'increasingly': 0.014686941652591138, 'numbers': 0.013861662612630695, 'german': 0.016801006970249298, 'stationed': 0.02644119263554798, 'confined': 0.019296909517602975, 'barracks': 0.027539215812844856, 'set': 0.010104809708095533, 'marked': 0.01795026304957724, 'major': 0.01052312507608368, 'disagreement': 0.023795592709746665, 'refuse': 0.02049407577277489, 'squaddies': 0.025589499691600615, 'battle': 0.01562740124602044, 'good': 0.006833299715587594, 'europeans': 0.020700439212737776, 'britain': 0.011163416419148704, 'sacrifices': 0.022943899765799296, 'tied': 0.01915286246423333, 'knotsanother': 0.029086792561349297, 'ram': 0.027539215812844856, 'raid': 0.023795592709746665, 'multrees': 0.05507843162568971, 'walk': 0.01568394737497136, 'expensive': 0.013969185043801293, 'handbags': 0.025589499691600615, 'stolen': 0.023795592709746665, '100': 0.013213193006541392, 'classy': 0.025589499691600615, 'gear': 0.02224801596124222, 'knicked': 0.029086792561349297, 'hoods': 0.029086792561349297, 'shock': 0.016801006970249298, 'awe': 0.02258012045356905, '4x4s': 0.029086792561349297, 'shop': 0.017376666854732437, 'facades': 0.029086792561349297, 'drive': 0.015741343853461973, 'wealthier': 0.024893615887043537, 'taste': 0.01915286246423333, 'security': 0.015571680637542756, 'pedestrianised': 0.027539215812844856, 'street': 0.011471828756611667, 'driving': 0.016956816109639585, 'city': 0.02034284422497905, 'centre': 0.01271099316765315, 'ago': 0.009384789730652805, 'occasional': 0.01850439285814403, 'taxi': 0.024305254513657053, 'extreme': 0.016878116540163496, 'difficulty': 0.01795026304957724, 'avoiding': 0.01915286246423333, 'obstacle': 0.021396323017294855, 'edinburgh': 0.013243128798377368, 'tram': 0.05288238527109596, 'works': 0.013722854810451782, 'fact': 0.00946212249836205, 'managers': 0.013124769116153857, 'simply': 0.01160643997354853, 'constructors': 0.029086792561349297, 'tie': 0.016956816109639585, 'charge': 0.013655299172667812, 'raids': 0.029086792561349297, 'nigh': 0.024893615887043537, 'impossible': 0.014557546417187773, 'life': 0.009224171618308095, 'difficult': 0.011954592676875483, 'entrepreneur': 0.022943899765799296}\n",
            "1.11 {'time': 0.009378893551214249, 'year': 0.02088227471955536, 'scottish': 0.05005713602840028, 'government': 0.028395979452200796, 'announced': 0.01120341931298979, 'intends': 0.021697245693201816, 'sort': 0.010362132826138895, 'king': 0.02490601108724193, 'speech': 0.011521995600411318, 'monarch': 0.019795023476690106, 'pend': 0.024662587867551836, 'holyrood': 0.024201785457152614, 'alex': 0.020022854411360112, 'salmond': 0.0244743517053735, 'relies': 0.01886401353348046, '17': 0.024980838416698736, 'tory': 0.011439363555087161, 'votes': 0.02787413363366337, 'life': 0.00782114227830654, 'blood': 0.011280171826314436, 'veins': 0.02241939310845816, 'denied': 0.014310894930494615, 'oxygen': 0.01886401353348046, 'breath': 0.015590224175297674, 'jibes': 0.02060833877857006, 'jokes': 0.01886401353348046, 'authority': 0.012806401310497963, 'minister': 0.008836215284309912, 'tories': 0.04293429848374559, 'devout': 0.023350403051667808, 'unionist': 0.019454050934108142, 'parties': 0.01122880176431997, 'actions': 0.014445758025642083, 'ye': 0.023350403051667808, 'annabel': 0.07545605413392184, 'goldie': 0.05836215280232442, 'argument': 0.01197011752359936, 'allowing': 0.012848159902199929, 'largest': 0.013250417884975258, 'party': 0.008693416562921764, 'govern': 0.01705295920359236, 'minority': 0.014515357395289216, 'preferable': 0.020176198349364488, 'supping': 0.023350403051667808, 'devil': 0.017933003590270814, 'formal': 0.016361780885475664, 'coalition': 0.03380481798236341, 'good': 0.011587861006368607, 'hustler': 0.024662587867551836, 'poker': 0.021697245693201816, 'players': 0.008351280112413323, 'negotiators': 0.021107208292574134, 'fear': 0.011103834657110328, 'dear': 0.01600838511859867, 'bed': 0.01513365913238536, 'early': 0.008351280112413323, 'horlicks': 0.023350403051667808, 'card': 0.01387875450128904, 'shark': 0.020176198349364488, 'scots': 0.013020800616456541, 'claimed': 0.012933329184780427, 'achievements': 0.03272356177095133, 'drug': 0.024336633916070688, 'policy': 0.02779464444725982, 'altered': 0.019454050934108142, 'recognition': 0.016620818774386786, '1000': 0.018365144019476386, 'police': 0.03805279298020411, 'officers': 0.016758552154382888, 'beat': 0.01184442227014867, 'business': 0.01639574961709471, 'taxes': 0.01206770017140094, 'cut': 0.018930842082957675, 'sooner': 0.016488708759758126, 'snp': 0.023043991200822636, 'agenda': 0.014056941482463885, 'numbers': 0.011753254383525057, 'delivered': 0.013298363146415845, 'current': 0.008728529883387995, 'rate': 0.019233350030217807, '13': 0.012168316958035344, 'years': 0.005338115894119916, 'quicker': 0.018365144019476386, 'tax': 0.019518248964954212, 'set': 0.00856783217967971, 'concede': 0.016121949260382715, 'offered': 0.011550015220939198, 'real': 0.008404074855104337, 'cuts': 0.012490419208349368, 'long': 0.0061608800960106635, 'dared': 0.021107208292574134, 'excuse': 0.014445758025642083, 'labour': 0.01713566435935942, 'gold': 0.014967661415920794, 'medal': 0.018141866118224118, 'playing': 0.0097916498412263, 'hardball': 0.020176198349364488, 'favourite': 0.014515357395289216, 'auntie': 0.021697245693201816, 'moose': 0.02060833877857006, 'hunting': 0.01886401353348046, 'butt': 0.017933003590270814, 'kicking': 0.016488708759758126, 'hockey': 0.018141866118224118, 'mom': 0.015898671359130444, 'compared': 0.011079410043403586, 'liberal': 0.012848159902199929, 'democrats': 0.01297676938003007, 'period': 0.021085055186311676, 'deal': 0.009196168795993486, 'pretty': 0.010913412326939022, 'gruel': 0.023350403051667808, 'jim': 0.014181427828184908, 'wallace': 0.038291207500550754, 'portrayed': 0.018141866118224118, 'political': 0.027072173713608524, 'bunny': 0.02241939310845816, 'rabbit': 0.02060833877857006, 'ripe': 0.019454050934108142, 'kill': 0.01600838511859867, 'laugh': 0.016902408991181703, 'forcing': 0.016239643901712404, 'jack': 0.013937066816831685, 'mcconnell': 0.016758552154382888, 'adopt': 0.017210856175014472, 'proportional': 0.021107208292574134, 'representation': 0.018604975644569338, 'local': 0.020532189483047265, 'elections': 0.013203172579405186, 'leaving': 0.012202563266548408, 'henry': 0.01513365913238536, 'mcleish': 0.019795023476690106, 'option': 0.012528270469718918, 'introduce': 0.01539980184512637, 'free': 0.008947607594622143, 'personal': 0.010362132826138895, 'care': 0.009570551964276535, 'elderly': 0.014515357395289216, 'ensuring': 0.016361780885475664, 'tuition': 0.019145603750275377, 'fees': 0.015219964139123745, 'replaced': 0.013347029416204002, 'graduate': 0.018604975644569338, 'policies': 0.011906659687391024, 'clear': 0.008935039633371665, 'evidence': 0.0097916498412263, 'wave': 0.015219964139123745, 'people': 0.010553565604318364, 'form': 0.009525077033999352, 'legislation': 0.013709868568698194, 'noise': 0.01886401353348046, 'sadly': 0.016620818774386786, 'mute': 0.021107208292574134, 'wonders': 0.018604975644569338, 'redoubtable': 0.023350403051667808, 'die': 0.013601983713463271, 'hard': 0.008197874808547355, 'unionists': 0.019145603750275377, 'hold': 0.011079410043403586, 'big': 0.007134754850709049, 'issue': 0.009570551964276535, 'sacrifice': 0.017376853891479034, 'unionism': 0.02241939310845816, 'jarrow': 0.024662587867551836, 'marchers': 0.024662587867551836, 'suffragette': 0.023350403051667808, 'hunger': 0.019795023476690106, 'strikers': 0.018604975644569338, 'great': 0.007707578136522497, 'withhold': 0.021697245693201816, 'answer': 0.011332370473336713, 'introduction': 0.018141866118224118, 'outdoor': 0.03673028803895277, 'activity': 0.024405126533096816, 'schools': 0.012684264326734702, 'costing': 0.01886401353348046, 'astronomical': 0.02241939310845816, 'sum': 0.015219964139123745, '6': 0.010844796768199208, 'kid': 0.014445758025642083, 'highfalutin': 0.023350403051667808, 'principles': 0.014733613967443038, 'defending': 0.016121949260382715, 'union': 0.011412281840943094, 'sacrificed': 0.021697245693201816, 'kids': 0.011306165909477105, 'skin': 0.01387875450128904, 'knees': 0.016239643901712404, 'scrambling': 0.04483878621691632, 'shale': 0.023350403051667808, 'bing': 0.02241939310845816, 'singing': 0.016902408991181703, 'happy': 0.01117823439246534, 'clappy': 0.024662587867551836, 'songs': 0.016758552154382888, 'camp': 0.014967661415920794, 'sleep': 0.01437762401529311, 'easy': 0.010501561907486185, 'nights': 0.016620818774386786, 'refuse': 0.017376853891479034, 'water': 0.01230753179649389, 'private': 0.010247224449255693, 'operative': 0.018604975644569338, 'owned': 0.01437762401529311, 'customers': 0.013020800616456541, 'save': 0.022062213936537428, '300m': 0.019795023476690106, 'starters': 0.01886401353348046, 'improve': 0.012379451333013988, 'service': 0.011466673809604522, 'demand': 0.01184442227014867, 'directly': 0.013497579628614658, 'elected': 0.013497579628614658, 'conveners': 0.023350403051667808, 'boards': 0.017210856175014472, 'chief': 0.009363598162981154, 'constables': 0.023350403051667808, 'accountable': 0.018604975644569338, 'autonomy': 0.018365144019476386, 'headteachers': 0.021697245693201816, 'pen': 0.01886401353348046, 'pushers': 0.024662587867551836, 'moon': 0.019795023476690106, 'sons': 0.01705295920359236, 'scouts': 0.018604975644569338, 'round': 0.011606792922074827, 'roundwhile': 0.024662587867551836, 'margo': 0.018604975644569338, 'macdonald': 0.017551828717596432, 'vote': 0.0219670285165394, 'power': 0.008985607005226295, 'support': 0.009377949609802724, 'understandable': 0.015792555427664452, 'bargains': 0.019454050934108142, 'keenly': 0.021107208292574134, 'thought': 0.01649641248445707, 'meadowbank': 0.02060833877857006, 'velodrome': 0.04932517573510367, 'double': 0.011813746723370211, 'gym': 0.017376853891479034, 'corporation': 0.017210856175014472, 'bus': 0.01568980883117714, 'classmates': 0.02241939310845816, 'cycle': 0.015493612644068934, 'stay': 0.010401360530127067, 'achievement': 0.01437762401529311, 'sporting': 0.014310894930494615, 'reasons': 0.011578279557407659, 'argued': 0.013396438711125648, 'saved': 0.01437762401529311, 'dismantled': 0.023350403051667808, 'reassembled': 0.024662587867551836, 'edinburgh': 0.01122880176431997, 'decision': 0.010172824713900682, 'requires': 0.014445758025642083, 'politics': 0.01117823439246534, 'brought': 0.010441069567641029, 'sport': 0.01206770017140094, 'occasion': 0.01437762401529311, 'chris': 0.014310894930494615, 'hoy': 0.021697245693201816, 'protesting': 0.020176198349364488, 'palin': 0.03410591840718472, 'simpleeat': 0.024662587867551836, 'heart': 0.009647793004427486, 'jenny': 0.023350403051667808, 'dawe': 0.023350403051667808, 'crochet': 0.024662587867551836, 'pins': 0.02060833877857006, 'console': 0.019454050934108142, 'yersel': 0.024662587867551836, 'glass': 0.015898671359130444, 'buckie': 0.023350403051667808, 'cathy': 0.021107208292574134, 'jamieson': 0.021697245693201816, 'future': 0.00878791220917504, 'hillary': 0.01539980184512637, 'rodham': 0.02241939310845816, 'clinton': 0.013709868568698194, 'tavish': 0.040352396698728976, 'scott': 0.01539980184512637, 'leader': 0.020128674074800432, 'liberals': 0.019795023476690106, 'bush': 0.013601983713463271, 'boulder': 0.02241939310845816, 'catch': 0.013347029416204002, 'beachcombing': 0.024662587867551836, 'scotland': 0.009306820461845524, 'endless': 0.016361780885475664, 'sands': 0.02241939310845816, 'desperation': 0.018365144019476386, 'ability': 0.011103834657110328, 'connect': 0.02060833877857006, 'leaders': 0.011439363555087161, 'core': 0.013347029416204002, 'values': 0.014586486543246416, 'illusory': 0.021107208292574134, 'centre': 0.010777605857362866, 'ground': 0.011153243952031973, 'voters': 0.010668631051192678, 'longer': 0.009495111579589004, 'middle': 0.010563206551404289, 'muddle': 0.023350403051667808, 'sound': 0.012002319241570778, 'sarah': 0.015049596069591636, 'tin': 0.021697245693201816, 'simple': 0.010844796768199208, 'holiday': 0.014733613967443038, 'alaska': 0.018604975644569338}\n",
            "1.12 {'time': 0.010133140235402807, 'year': 0.011280809245354205, 'labour': 0.05554112189204958, 'party': 0.009392537475324562, 'conference': 0.02552760655609367, 'sense': 0.009820123411542305, 'gordon': 0.019015212951270087, 'brown': 0.037370346303431445, 'ready': 0.013183888284487615, 'country': 0.009305586193583256, 'things': 0.016938759579074765, 'tony': 0.011692564797403712, 'blair': 0.012330052758221735, 'delivered': 0.014367811930917818, 'years': 0.017302214803668402, 'economic': 0.04702568750779936, 'growth': 0.011841374638028871, 'mandate': 0.020101179979622116, 'create': 0.013110274965614076, 'socially': 0.01842435102765748, 'britain': 0.010226626230129234, 'bottled': 0.021386930959081268, 'worried': 0.014316010931669072, 'ministers': 0.012187318511647414, 'backbenchers': 0.020381049586872244, 'held': 0.012159457778608334, 'october': 0.013619042740688335, 'election': 0.0315274734360027, 'reputation': 0.01322128440028044, 'assaulted': 0.023442129088109654, 'sides': 0.01349489348034949, 'events': 0.012448589652192648, 'northern': 0.013577167946818701, 'rock': 0.014165059281790722, 'fiasco': 0.017545629250451514, 'rising': 0.013002681753492559, 'inflation': 0.013791744682400141, 'increasing': 0.013074041444510765, 'house': 0.010226626230129234, 'repossessions': 0.020685285170752066, 'losing': 0.01289830076345871, 'elections': 0.014264966178448258, 'crewe': 0.01937516821466322, 'glasgow': 0.015057879882520947, 'expected': 0.010931821768505968, 'win': 0.009405137501559871, 'standing': 0.012932749352420288, 'donkey': 0.022804641127291633, 'foreign': 0.012763803278046834, 'secretary': 0.011457811990279135, 'david': 0.00987744442474397, 'miliband': 0.01937516821466322, 'set': 0.00925685364867493, 'stall': 0.022265652736287233, 'replacement': 0.016259878270992362, 'premier': 0.011549830550829393, 'pressed': 0.03754858638088826, 'idea': 0.009950442973770388, 'calculation': 0.020101179979622116, 'lose': 0.022736306283961505, 'replace': 0.015607479824907004, 'weekend': 0.012050183150971608, 'chancellor': 0.02431891555721667, 'exchequer': 0.01896333941866188, 'alistair': 0.01366142512017206, 'darling': 0.02614808288902153, 'announced': 0.012104393593405052, 'economy': 0.01975488884948794, 'facing': 0.014165059281790722, 'worst': 0.012187318511647414, 'prospects': 0.015122037710032126, '60': 0.013259084806239238, 'damaging': 0.017545629250451514, 'statement': 0.026518169612478475, 'uttered': 0.022265652736287233, 'talk': 0.010741747610397971, 'damage': 0.013375001615039588, 'heath': 0.019842061195867844, 'day': 0.0071828859005892975, 'week': 0.006515441991221279, 'seventies': 0.020381049586872244, 'thatcher': 0.013927110109605352, 'rampant': 0.020101179979622116, 'unemployment': 0.014872181192612037, 'eighties': 0.019600827379479904, 'major': 0.009640065629139596, 'currency': 0.017062586108910194, 'collapse': 0.013335934130430757, 'nineties': 0.01937516821466322, 'shrink': 0.01877429319044413, 'mother': 0.02732285024034412, 'catastrophes': 0.024222351295501997, 'great': 0.008327418336312767, 'depression': 0.01370432754182176, 'screwed': 0.020101179979622116, 'thrown': 0.016843983462122313, 'interview': 0.013791744682400141, 'countless': 0.020101179979622116, 'future': 0.009494632421801005, 'campaign': 0.010951410074620199, 'slogans': 0.020685285170752066, 'sound': 0.012967540719039756, 'bites': 0.021018537547690265, 'urban': 0.01859494600727088, 'myths': 0.021386930959081268, 'hear': 0.012967540719039756, 'ended': 0.01366142512017206, 'boom': 0.014067927938758988, 'bust': 0.014367811930917818, 'transpires': 0.02522823266771102, 'bad': 0.00896676169833989, 'government': 0.007669893051337453, 'legacy': 0.017062586108910194, 'sight': 0.014812410446600496, 'talking': 0.011892419391249685, 'rare': 0.015838102089913292, 'osama': 0.02522823266771102, 'bin': 0.020101179979622116, 'laden': 0.02179875975508261, 'signing': 0.015057879882520947, 'autographs': 0.02522823266771102, 'private': 0.011071301939930101, 'respond': 0.016259878270992362, 'dither': 0.02522823266771102, 'moral': 0.014420391921702925, 'compass': 0.020685285170752066, 'worth': 0.011549830550829393, 'tough': 0.02614808288902153, 'leaner': 0.024222351295501997, 'meaner': 0.024222351295501997, 'leader': 0.010873706799149185, 'fair': 0.012330052758221735, 'route': 0.03183697004153775, 'coming': 0.01037335419900697, 'hardship': 0.021386930959081268, 'roll': 0.015918485020768876, 'sleeves': 0.021386930959081268, 'play': 0.009173172647934972, 'central': 0.011741467741371333, 'role': 0.010912342590011368, 'glenrothes': 0.020101179979622116, 'start': 0.008740406642686698, 'appeal': 0.0153218923038781, 'voters': 0.0115265978839809, 'fife': 0.020381049586872244, 'fails': 0.016443947269193137, 'respect': 0.013002681753492559, 'cover': 0.02698978696069898, 'lame': 0.022265652736287233, 'duck': 0.020685285170752066, 'prime': 0.01029107973253776, 'minister': 0.009546820009971198, 'waiting': 0.026829021098987802, 'fed': 0.017177235839060515, 'ravenous': 0.026645942835921387, 'angry': 0.01653974787824249, 'electorate': 0.017062586108910194, 'palin': 0.07369740411062992, 'presidenti': 0.026645942835921387, 'smitten': 0.026645942835921387, 'word': 0.011741467741371333, 'stood': 0.01653974787824249, 'watched': 0.015391132259459147, 'speak': 0.014264966178448258, 'notes': 0.015607479824907004, 'autocue': 0.02522823266771102, 'told': 0.009232739735881013, 'personal': 0.022390902400537892, 'story': 0.011996800381283536, 'values': 0.015759525670850146, 'hockey': 0.019600827379479904, 'mom': 0.017177235839060515, 'governor': 0.014583049319027725, 'alaska': 0.020101179979622116, 'fell': 0.013791744682400141, 'politically': 0.015533866506033465, 'love': 0.012104393593405052, 'forget': 0.013619042740688335, 'mccain': 0.015838102089913292, 'obama': 0.023433861548066818, 'elect': 0.017957458046452855, 'sarah': 0.032519756541984725, 'president': 0.010668519729820199, 'united': 0.009000328389700097, 'states': 0.01061458801539491, 'policy': 0.010009959363873291, 'buttons': 0.022804641127291633, 'naughty': 0.022804641127291633, 'librarian': 0.026645942835921387, 'fully': 0.014214655907636722, 'clothed': 0.026645942835921387, 'sexier': 0.02522823266771102, 'naked': 0.020381049586872244, 'girl': 0.03483693931089691, 'long': 0.006656335488347185, 'opponents': 0.013535788724276732, 'started': 0.011435180820679075, 'weakness': 0.017177235839060515, 'behold': 0.022804641127291633, 'daughters': 0.020381049586872244, 'months': 0.008587250619405604, 'pregnant': 0.017814723799878533, 'wedlock': 0.02522823266771102, 'corruption': 0.019842061195867844, 'fighting': 0.014932991481814376, 'moose': 0.022265652736287233, 'hunting': 0.020381049586872244, 'salmon': 0.022265652736287233, 'fishing': 0.021386930959081268, 'issues': 0.011841374638028871, 'support': 0.020264240765238053, 'daughter': 0.016259878270992362, 'welcomes': 0.022804641127291633, 'decision': 0.010990919009074512, 'baby': 0.0153218923038781, 'marry': 0.020685285170752066, 'father': 0.014316010931669072, 'christian': 0.01877429319044413, 'vote': 0.011866803866452228, 'sewn': 0.023442129088109654, 'barack': 0.01283040535836395, 'careful': 0.015187394818466225, 'leave': 0.011644336398339599, 'attacks': 0.015253996898783338, 'media': 0.011644336398339599, 'pundits': 0.01937516821466322, 'families': 0.01366142512017206, 'limits': 0.016085016660591447, 'people': 0.005701139461074081, '12': 0.011457811990279135, 'vagrant': 0.026645942835921387, 'half': 0.008217858349702853, 'brother': 0.017295772733031428, 'lives': 0.012243714951961693, 'mud': 0.02179875975508261, 'hut': 0.024222351295501997, 'kenya': 0.021386930959081268, 'making': 0.008617349831072037, 'abduction': 0.026645942835921387, 'happen': 0.010931821768505968, 'poor': 0.011010842159824992, 'lad': 0.020101179979622116, 'price': 0.010543949178620369, 'rail': 0.01916319401250785, 'link': 0.015253996898783338, 'property': 0.014583049319027725, 'prices': 0.012077183312139125, 'fallen': 0.014932991481814376, 'edinburgh': 0.024263634581642452, '1971': 0.023442129088109654, 'happened': 0.011668367444800307, 'worse': 0.010797692859861052, 'thing': 0.008771859659849559, 'high': 0.015202813142707737, 'level': 0.009680802052985663, 'demand': 0.01279694573942636, 'sources': 0.01663824744805611, 'shotts': 0.026645942835921387, 'tranent': 0.02522823266771102, 'news': 0.009891922720779045, 'coincided': 0.021018537547690265, 'realisation': 0.022804641127291633, 'local': 0.011091689773184624, 'council': 0.012698446169612736, 'plans': 0.010835493265819847, 'schemes': 0.017295772733031428, 'refurbishing': 0.02522823266771102, 'meadowbank': 0.022265652736287233, 'replacing': 0.01842435102765748, 'portobello': 0.024222351295501997, 'school': 0.010778944806919145, 'knife': 0.01937516821466322, 'edge': 0.015057879882520947, 'financed': 0.04076209917374449, 'land': 0.014812410446600496, 'housing': 0.02732285024034412, 'sales': 0.01349489348034949, 'borders': 0.020685285170752066, 'railway': 0.021018537547690265, 'planning': 0.014872181192612037, 'levy': 0.019842061195867844, 'prospect': 0.014316010931669072, 'ahead': 0.011051032297677213, 'chance': 0.01025870446885665, 'revealed': 0.014420391921702925, 'playboy': 0.024222351295501997}\n"
          ],
          "name": "stdout"
        }
      ]
    },
    {
      "cell_type": "code",
      "metadata": {
        "id": "XHbPcORcx_4W",
        "colab_type": "code",
        "colab": {}
      },
      "source": [
        "# BM25\n",
        "\n",
        "# dl(d) --> the number of words in the document d\n",
        "# len(term_frequencies[doc])\n",
        "\n",
        "# avgdl --> the average document length in the collection\n",
        "# sum(dl) / len(term_frequencies)\n",
        "\n",
        "# IDF(w) * ( ( TF(d,w) * 2.6 ) / ( TF(d,w) + 1.6*( 0.25 + 0.75*( dl(d) / avgdl ) ) ) )"
      ],
      "execution_count": 0,
      "outputs": []
    },
    {
      "cell_type": "code",
      "metadata": {
        "id": "Vo0u90Sb1m-N",
        "colab_type": "code",
        "colab": {}
      },
      "source": [
        "bm = {}\n",
        "#{doc: {word: bm}}\n",
        "\n",
        "total = 0\n",
        "for doc, array in term_frequencies.items():\n",
        "    dl = len(array)\n",
        "    total += dl\n",
        "\n",
        "avgdl = total / len(term_frequencies)\n",
        "\n",
        "for doc, array in term_frequencies.items():\n",
        "    bm[doc] = {}\n",
        "    dl = len(array)\n",
        "    for word, tf in array:\n",
        "        bm[doc][word] = idfs[word] * ((tf * 2.6) / ( tf + (1.6*( 0.25 + (0.75*( dl / avgdl )) )) ))"
      ],
      "execution_count": 0,
      "outputs": []
    },
    {
      "cell_type": "code",
      "metadata": {
        "id": "jApOcnLm3BW2",
        "colab_type": "code",
        "outputId": "cbeb8690-bea7-43de-93f8-43b1b9b17e85",
        "colab": {
          "base_uri": "https://localhost:8080/",
          "height": 110
        }
      },
      "source": [
        "i = 0\n",
        "for doc, ti in bm.items():\n",
        "    print(doc, ti)\n",
        "    if i == 3:\n",
        "        break\n",
        "    i += 1"
      ],
      "execution_count": 0,
      "outputs": [
        {
          "output_type": "stream",
          "text": [
            "1.1 {'doubt': 0.017495867669599596, 'edinburgh': 0.2588423163061162, 'huge': 0.018120219007166788, 'tourist': 0.09675357406452569, 'attraction': 0.03413037580748595, 'united': 0.014091837966131348, 'kingdom': 0.02747123812661418, 'internationally': 0.03348557437227618, 'scotland': 0.0780603757898883, 'capital': 0.01786888704644807, 'arguably': 0.026372669459934335, 'biggest': 0.05226749714936563, 'gateway': 0.03570528693256677, 'draw': 0.043811168569420945, 'capitals': 0.03570528693256677, 'lucky': 0.02455440783752981, 'met': 0.02125780776671157, 'choice': 0.01944379817152889, 'travelled': 0.031472470662852886, 'australia': 0.02767784697748148, 'visit': 0.021065700870742925, 'canberra': 0.04171962317822877, 'peru': 0.03670340351901128, 'lima': 0.04171962317822877, 'difficult': 0.017146651720932216, 'driech': 0.04171962317822877, 'march': 0.020584117162757373, 'morning': 0.019538188178312318, 'wind': 0.023380624261684274, 'howling': 0.03949991061793818, 'trouser': 0.03670340351901128, 'legs': 0.02589632700153336, 'drizzle': 0.03670340351901128, 'misting': 0.04171962317822877, 'spectacles': 0.03949991061793818, 'idyllic': 0.03792499949285736, 'romantic': 0.031472470662852886, 'fun': 0.021389729445895914, 'packed': 0.02747123812661418, 'destination': 0.08963412860382831, 'remember': 0.017495867669599596, 'amazed': 0.03413037580748595, 'couple': 0.018540071591867806, 'decades': 0.020759784152158397, 'ago': 0.013460744781121494, 'english': 0.017115982258236986, 'friends': 0.018909277856649517, 'told': 0.01445572502558797, 'coming': 0.03241492428828365, 'honeymoon': 0.03033575212211454, 'appreciated': 0.03033575212211454, 'place': 0.013398356815067144, 'newlyweds': 0.04171962317822877, 'choose': 0.020880107342315872, 'married': 0.02747123812661418, 'tryst': 0.04171962317822877, 'multi': 0.02589632700153336, 'pound': 0.02283271889179239, 'premier': 0.03609120788370264, 'league': 0.014399575971599188, 'british': 0.02995607428082731, 'honeymoons': 0.03949991061793818, 'tourism': 0.101961751992685, 'hugely': 0.025746331734546758, 'sector': 0.01842233619886224, 'economy': 0.015465140862221087, 'international': 0.016481384898251638, 'festival': 0.03290877983363987, 'arts': 0.031066767697744975, 'fringe': 0.03191066324719536, 'year': 0.008831196436914948, 'round': 0.019634234234347705, 'entertainment': 0.02969095068690477, 'offers': 0.023576162361007437, 'theatres': 0.03792499949285736, 'sporting': 0.024208535902632597, 'events': 0.019490789745662106, 'galleries': 0.03792499949285736, 'museums': 0.03792499949285736, 'consumption': 0.026714936202226494, 'fine': 0.021456901880952183, 'food': 0.0188250533527301, 'alcohol': 0.022920312516855085, 'add': 0.020141493590902323, 'cocktail': 0.032387005705596335, 'admit': 0.02283271889179239, 'cities': 0.025746331734546758, 'built': 0.02210170331616195, 'environment': 0.022414616182373302, 'richness': 0.04171962317822877, 'historic': 0.023576162361007437, 'tapestry': 0.03949991061793818, 'beauty': 0.03068906727334928, 'natural': 0.021065700870742925, 'hills': 0.031066767697744975, 'lochs': 0.04171962317822877, 'parks': 0.03191066324719536, 'combination': 0.023285413431033516, 'puts': 0.022495721143913638, 'london': 0.03200642945314267, 'leith': 0.031066767697744975, 'michelin': 0.03670340351901128, 'starred': 0.03670340351901128, 'restaurants': 0.03000386355311612, 'exceptional': 0.026714936202226494, 'eateries': 0.03949991061793818, 'glasgow': 0.07043188839031375, 'manchester': 0.017730285092154234, 'liverpool': 0.020526792191081132, 'context': 0.024436672444524236, 'vital': 0.023285413431033516, 'marketed': 0.032387005705596335, 'carefully': 0.026050548038527487, 'thought': 0.013952795958401083, 'ensures': 0.03413037580748595, 'pull': 0.04974249185300125, 'visitors': 0.07445729206719984, 'city': 0.043583533786984645, 'approach': 0.036311941939624344, 'pitch': 0.021389729445895914, 'general': 0.016189696868048473, 'marketing': 0.11268433148751755, 'pass': 0.020526792191081132, 'stay': 0.017595105760524504, 'relied': 0.06054402449799605, 'reason': 0.03316873792888385, 'vast': 0.02257804577456293, 'majority': 0.018994818421582047, 'foreign': 0.019984320553419883, 'arrive': 0.02789256017442238, 'north': 0.01886700363289258, 'scottish': 0.033799808880283846, 'board': 0.018994818421582047, 'visitscotland': 0.16583098593516749, 'opening': 0.022495721143913638, 'skies': 0.03670340351901128, 'greater': 0.01921470680539607, 'low': 0.01613829287748156, 'cost': 0.016163934539221117, 'competitive': 0.023676614441242777, 'travel': 0.02505243145208298, 'eaten': 0.03191066324719536, 'strategy': 0.02008859960673866, 'short': 0.014926939160641627, 'haul': 0.05810596605561862, 'routes': 0.03413037580748595, 'transatlantic': 0.03570528693256677, 'long': 0.010421842080489227, 'flights': 0.03413037580748595, 'principal': 0.031066767697744975, 'remains': 0.019351008072632334, 'sound': 0.02030331280367956, 'problem': 0.014531497650783532, 'rest': 0.016591428498362766, 'takes': 0.01874210502686248, 'councils': 0.025746331734546758, 'aberdeen': 0.032387005705596335, 'pooling': 0.03670340351901128, 'resources': 0.023380624261684274, 'difficulty': 0.025746331734546758, 'pulled': 0.02589632700153336, 'ways': 0.017495867669599596, 'smaller': 0.020880107342315872, 'destinations': 0.03670340351901128, 'upset': 0.029114156148268462, 'support': 0.015863887683098384, 'result': 0.01564917448615748, 'council': 0.05939584790995408, 'decided': 0.01886700363289258, 'half': 0.025679375359896416, 'pounds': 0.023989527307454125, 'funding': 0.02180571313660345, 'stornoway': 0.04171962317822877, 'likewise': 0.029394960507346274, 'mistake': 0.022920312516855085, 'managed': 0.01939720653053483, 'attractions': 0.07325256854913798, 'years': 0.018022135435364496, 'drawing': 0.027080037116404925, 'budgets': 0.026541128436743132, 'spending': 0.01699499424510548, 'pennies': 0.03670340351901128, 'bus': 0.026541128436743132, 'adverts': 0.034861391383116384, 'wide': 0.022920312516855085, 'listings': 0.03949991061793818, 'diddley': 0.04171962317822877, 'squat': 0.03570528693256677, 'remembered': 0.026372669459934335, 'funded': 0.024097936489050974, 'government': 0.012008771837780197, 'tune': 0.02727214401237357, 'whopping': 0.03290877983363987, '42': 0.02505243145208298, 'lot': 0.014162706072573465, 'money': 0.02616760741459141, 'influence': 0.02202619198418043, 'thinks': 0.021389729445895914, 'decision': 0.05140904210908836, 'whilst': 0.029394960507346274, 'face': 0.01567261985292538, 'attractive': 0.023778944238791296, 'prove': 0.02003621179286549, 'costly': 0.028349031522901216, 'people': 0.008926289134040182, 'paying': 0.019682896641630747, 'overburdened': 0.03949991061793818, 'taxpayer': 0.023380624261684274, 'expect': 0.018157084363803942, 'asked': 0.01601185573851843, 'cough': 0.03033575212211454, 'hoteliers': 0.04171962317822877, 'visitor': 0.031472470662852886, 'businesses': 0.021878223928760383, 'resourced': 0.03792499949285736, 'big': 0.012069263997726972, 'push': 0.023099819902606462, 'needed': 0.03180777008664208, 'recession': 0.017528747556863046, 'bigger': 0.0208196151823691, 'debate': 0.019170016885605323, 'policy': 0.01567261985292538, 'change': 0.014004523758436221, 'fuller': 0.03949991061793818, 'explanation': 0.024923614102311514, 'good': 0.009801104353356299, 'work': 0.011948940807569497, 'councillors': 0.06124917006635911, 'plan': 0.016400279936711306, 'time': 0.015832148754960394, 'financial': 0.0280195678260551, 'services': 0.017271077185371516, 'industry': 0.01921470680539607, 'trouble': 0.019351008072632334, 'losing': 0.020194903622082715, 'jobs': 0.018120219007166788, 'thing': 0.013734123871491638, 'drop': 0.021878223928760383, 'ball': 0.01786888704644807, 'unemployment': 0.023285413431033516, 'live': 0.017904092857637596, 'munificence': 0.04171962317822877, 'bunch': 0.027080037116404925, 'walliesat': 0.04171962317822877, 'scots': 0.02202619198418043, 'sucking': 0.03413037580748595, 'gums': 0.03792499949285736, 'wondering': 0.02747123812661418, 'threat': 0.021878223928760383, 'befall': 0.03792499949285736, 'parliament': 0.018461300667784668, 'spend': 0.01878342208919152, 'inscribing': 0.04171962317822877, 'verse': 0.03670340351901128, 'canongate': 0.04171962317822877, 'wall': 0.01993291656285297, 'commemorate': 0.03792499949285736, 'devolution': 0.02531953246289705, 'insult': 0.03348557437227618, 'intelligence': 0.026714936202226494, 'idea': 0.01557943488351704, 'brick': 0.03570528693256677, 'entrances': 0.04171962317822877, 'exits': 0.03792499949285736, 'preferably': 0.032387005705596335, 'msps': 0.023576162361007437, 'inside': 0.020700599956564494}\n",
            "1.10 {'2008': 0.03746766796702081, 'high': 0.024559176410935746, 'points': 0.07058582099113961, 'people': 0.027569589486087284, 'year': 0.0362891846688161, 'injustice': 0.16355548799673733, 'quick': 0.022932571080953267, 'solution': 0.02427600911386112, 'sight': 0.02398060245915032, 'economic': 0.030386801298115097, 'day': 0.011628757649704466, 'reckoning': 0.03070076308891593, 'finally': 0.018812998585035212, 'arrived': 0.0226223193971141, 'gordon': 0.045976915547885994, 'brown': 0.08977400234409681, 'believed': 0.022547342456332563, 'unremitting': 0.04313854011816995, 'guff': 0.04084333340156493, 'abolished': 0.03136749472410399, 'cycles': 0.03173282639933951, 'called': 0.01418420753857522, 'tory': 0.020009150957621888, 'boom': 0.04545168328271357, 'bust': 0.04642057026397296, 'experience': 0.01715571592861058, 'labour': 0.029907715056942508, 'government': 0.0370900947558524, 'midwife': 0.04084333340156493, 'mother': 0.022117210835693766, 'recessions': 0.03136749472410399, 'holding': 0.023176954769842766, 'account': 0.021404643514672254, 'wait': 0.021404643514672254, '2010': 0.04748041798440546, 'cast': 0.025641149446599062, 'verdict': 0.03039470605237654, 'bad': 0.014516769462270354, 'economy': 0.047765379152912166, 'turn': 0.016303680701850943, 'early': 0.01460763299059171, 'election': 0.017013836915915743, 'probable': 0.037951714913966525, 'believes': 0.02045432424239563, 'parting': 0.04084333340156493, 'waters': 0.03348851304264303, 'road': 0.021108205301640235, 'damascus': 0.04313854011816995, 'expect': 0.03746766796702081, 'calculate': 0.03529117652212598, 'summer': 0.018057120599234106, 'rewarded': 0.03010435131792255, 'grateful': 0.028001050310473143, 'amnesic': 0.04313854011816995, 'electorate': 0.055127042389060424, 'chancellor': 0.01968559568065107, 'darling': 0.021166264028770743, 'predicting': 0.03254287394944412, 'recovery': 0.022256987721878573, 'happened': 0.01889054330824773, '2009': 0.06873928110955178, 'ahead': 0.01789110646435325, 'predictions': 0.03070076308891593, 'american': 0.015165502111635705, 'european': 0.03500809858238902, 'economies': 0.024378006040417618, 'cut': 0.01655643144693792, 'pension': 0.026621984567829243, 'pots': 0.037951714913966525, 'melt': 0.03691965160354294, 'eyes': 0.021847603868897086, 'hbos': 0.025031887099662226, 'shares': 0.020881748053237743, 'lost': 0.015875358085628722, 'cent': 0.016157275741143125, 'working': 0.017013836915915743, 'told': 0.014947375514143733, 'employment': 0.02577128566691907, 'sense': 0.015898322321066752, 'grow': 0.02285339949287195, 'greatest': 0.02285339949287195, 'majority': 0.019640847018588994, 'acted': 0.028841207911741107, 'prudently': 0.04313854011816995, 'years': 0.01863375072645769, 'paying': 0.02035232731583913, 'price': 0.0509884650957065, 'hedonistic': 0.04313854011816995, 'gamblers': 0.037951714913966525, 'bought': 0.022698302769807256, 'houses': 0.02577128566691907, 'afford': 0.022775319961564938, 'mortgages': 0.02427600911386112, 'repayments': 0.03921485832014796, 'honour': 0.029072288007498965, 'spendthrifts': 0.03921485832014796, 'offered': 0.020202697204760884, 'sorts': 0.027443812926082004, 'months': 0.02774431295934975, 'forgiveness': 0.04313854011816995, 'missed': 0.023520131128060014, 'payments': 0.025389522408964315, 'offer': 0.019170633894337298, 'financial': 0.014516769462270354, 'assistance': 0.028405556372310903, 'hand': 0.017301242613433, 'outs': 0.03010435131792255, 'looked': 0.018193529037671775, 'money': 0.027055654720832514, 'lived': 0.02526778274336854, 'expected': 0.0176981101711904, 'pay': 0.015267499038192203, 'surviving': 0.03254287394944412, 'fast': 0.02218666785768389, 'deflating': 0.03691965160354294, 'savings': 0.023791895775947057, 'rates': 0.018736501795601233, 'crash': 0.02577128566691907, 'income': 0.020105096920190097, 'dries': 0.04313854011816995, 'apply': 0.024917526113719123, 'mortgage': 0.02240030363679512, 'trapped': 0.03039470605237654, 'loans': 0.04865009191892843, 'rationed': 0.04084333340156493, 'blames': 0.03921485832014796, 'banks': 0.051855752810615545, 'pumped': 0.03921485832014796, 'needed': 0.03288722699286378, 'capital': 0.036872964479427735, 'release': 0.025641149446599062, 'credit': 0.016378328064088996, 'ploughed': 0.04084333340156493, 'bank': 0.016061734633121792, 'england': 0.014116616571084286, 'base': 0.045607503097048474, 'rate': 0.03356890869422319, 'lend': 0.027443812926082004, 'customers': 0.022775319961564938, 'long': 0.02150577211916908, 'loss': 0.019596449330038027, 'unforthcoming': 0.04313854011816995, 'asked': 0.033040926743866245, 'choose': 0.02159025608669051, 'recovering': 0.03212337270990509, 'hibs': 0.06683152162041664, 'winning': 0.01869863759909211, 'cup': 0.01684814675735617, '106': 0.03921485832014796, 'managed': 0.02005692066112833, 'feat': 0.03254287394944412, 'mixu': 0.04313854011816995, 'men': 0.0160854691595999, 'chance': 0.01660836462103441, 'buddies': 0.03691965160354294, 'happy': 0.01955239715229206, 'evening': 0.024917526113719123, 'news': 0.01601456205786415, 'readers': 0.025389522408964315, 'pricethere': 0.04313854011816995, 'injustices': 0.04313854011816995, 'abroad': 0.025904484195278084, 'servicemen': 0.04313854011816995, 'women': 0.017013836915915743, 'continuing': 0.024587684688104485, 'overstretched': 0.037951714913966525, 'underpaid': 0.037951714913966525, 'whilst': 0.03039470605237654, 'equipment': 0.028619192151422133, 'fit': 0.022117210835693766, 'purpose': 0.023885462803295537, 'suffer': 0.02448187457428892, 'unnecessary': 0.02618066951990056, 'casualties': 0.034624444886937916, 'countries': 0.01986821397792507, 'effort': 0.042357628506515206, 'share': 0.017923922070875096, 'afghanistan': 0.03010435131792255, 'prime': 0.01666077866469366, 'candidate': 0.02171746764857707, 'increase': 0.03476514819868682, 'hostility': 0.032995969805520955, 'president': 0.017271836436799224, 'elect': 0.029072288007498965, 'obama': 0.03785591089925828, 'clear': 0.01562871535427007, 'send': 0.047667145499097896, '30': 0.01666077866469366, '000': 0.03002559533456798, 'troops': 0.05900120605572635, 'announced': 0.019596449330038027, 'british': 0.015520061802132418, 'troop': 0.03921485832014796, 'levels': 0.018124913939721578, 'strategists': 0.03173282639933951, 'increasingly': 0.02178216179584613, 'numbers': 0.02055819277626693, 'german': 0.024917526113719123, 'stationed': 0.03921485832014796, 'confined': 0.028619192151422133, 'barracks': 0.04084333340156493, 'set': 0.01498641481558155, 'marked': 0.026621984567829243, 'major': 0.01560681715956439, 'disagreement': 0.03529117652212598, 'refuse': 0.03039470605237654, 'squaddies': 0.037951714913966525, 'battle': 0.023176954769842766, 'good': 0.010134447560645042, 'europeans': 0.03070076308891593, 'britain': 0.01655643144693792, 'sacrifices': 0.03402803311594454, 'tied': 0.028405556372310903, 'knotsanother': 0.04313854011816995, 'ram': 0.04084333340156493, 'raid': 0.03529117652212598, 'multrees': 0.0815092063299667, 'walk': 0.023260818174414843, 'expensive': 0.020717658991074656, 'handbags': 0.037951714913966525, 'stolen': 0.03529117652212598, '100': 0.019596449330038027, 'classy': 0.037951714913966525, 'gear': 0.032995969805520955, 'knicked': 0.04313854011816995, 'hoods': 0.04313854011816995, 'shock': 0.024917526113719123, 'awe': 0.03348851304264303, '4x4s': 0.04313854011816995, 'shop': 0.02577128566691907, 'facades': 0.04313854011816995, 'drive': 0.023345942729994035, 'wealthier': 0.03691965160354294, 'taste': 0.028405556372310903, 'security': 0.023094315692359285, 'pedestrianised': 0.04084333340156493, 'street': 0.017013836915915743, 'driving': 0.025148606209476978, 'city': 0.030104871150666596, 'centre': 0.018851638163542947, 'ago': 0.013918555215136278, 'occasional': 0.027443812926082004, 'taxi': 0.036047054507927084, 'extreme': 0.025031887099662226, 'difficulty': 0.026621984567829243, 'avoiding': 0.028405556372310903, 'obstacle': 0.03173282639933951, 'edinburgh': 0.019640847018588994, 'tram': 0.07825933173943342, 'works': 0.02035232731583913, 'fact': 0.014033247225100529, 'managers': 0.019465308107270273, 'simply': 0.017213478432591692, 'constructors': 0.04313854011816995, 'tie': 0.025148606209476978, 'charge': 0.02025213573972754, 'raids': 0.04313854011816995, 'nigh': 0.03691965160354294, 'impossible': 0.02159025608669051, 'life': 0.013680342945135288, 'difficult': 0.01772982272624462, 'entrepreneur': 0.03402803311594454}\n",
            "1.11 {'time': 0.012206057657780208, 'year': 0.027089241824183877, 'scottish': 0.06483124491824933, 'government': 0.03683629128271533, 'announced': 0.014604224192902887, 'intends': 0.028283458078251146, 'sort': 0.013507564671270528, 'king': 0.03241365366779644, 'speech': 0.015019504509926482, 'monarch': 0.025803815128312847, 'pend': 0.032148931708490626, 'holyrood': 0.03149714698201111, 'alex': 0.026058523223857124, 'salmond': 0.03185187532210601, 'relies': 0.024590196539504804, '17': 0.03251103687112848, 'tory': 0.014911789456002463, 'votes': 0.036276484047429766, 'life': 0.010195254866926724, 'blood': 0.014704274979242935, 'veins': 0.029224813789226003, 'denied': 0.018654975961106494, 'oxygen': 0.024590196539504804, 'breath': 0.020322646391506105, 'jibes': 0.02686401279443087, 'jokes': 0.024590196539504804, 'authority': 0.016693792369794527, 'minister': 0.011518453913368643, 'tories': 0.05569592440466851, 'devout': 0.030438432378034053, 'unionist': 0.025359340158986523, 'parties': 0.014637311503074488, 'actions': 0.018830776832417163, 'ye': 0.030438432378034053, 'annabel': 0.09788432175055888, 'goldie': 0.07583193939251855, 'argument': 0.01560365412078725, 'allowing': 0.01674822680790293, 'largest': 0.017272590450797595, 'party': 0.011332308551550898, 'govern': 0.022229395544709672, 'minority': 0.018921503133880586, 'preferable': 0.026300695869961383, 'supping': 0.030438432378034053, 'devil': 0.02337657795069676, 'formal': 0.02132840961951573, 'coalition': 0.043994907837510554, 'good': 0.015080894009695445, 'hustler': 0.032148931708490626, 'poker': 0.028283458078251146, 'players': 0.010886316369325251, 'negotiators': 0.027514314458769427, 'fear': 0.01447441055297686, 'dear': 0.020867740348455732, 'bed': 0.019727490746693024, 'early': 0.010886316369325251, 'horlicks': 0.030438432378034053, 'card': 0.018091659036637002, 'shark': 0.026300695869961383, 'scots': 0.01697327271802995, 'claimed': 0.01685924927902584, 'achievements': 0.04258771885650115, 'drug': 0.03167264402285381, 'policy': 0.0361145312836586, 'altered': 0.025359340158986523, 'recognition': 0.02166607862024018, '1000': 0.023939894875166245, 'police': 0.04944329419726213, 'officers': 0.02184562105314521, 'beat': 0.015439803995205564, 'business': 0.021338067659684237, 'taxes': 0.015730858041841867, 'cut': 0.02463733581292193, 'sooner': 0.02149386652874704, 'snp': 0.029990348405884736, 'agenda': 0.018323934786444635, 'numbers': 0.0153209620400624, 'delivered': 0.017335089526080247, 'current': 0.011378080542219098, 'rate': 0.025031031447276992, '13': 0.015862017116453544, 'years': 0.006958504284047997, 'quicker': 0.023939894875166245, 'tax': 0.025401810026332565, 'set': 0.011168602950898434, 'concede': 0.021015776955901625, 'offered': 0.015056029503641105, 'real': 0.010955136988899154, 'cuts': 0.016281893704592168, 'long': 0.008031019069634531, 'dared': 0.027514314458769427, 'excuse': 0.018830776832417163, 'labour': 0.022301021547219864, 'gold': 0.019511104320457273, 'medal': 0.023648840828529947, 'playing': 0.012763911222520283, 'hardball': 0.026300695869961383, 'favourite': 0.018921503133880586, 'auntie': 0.028283458078251146, 'moose': 0.02686401279443087, 'hunting': 0.024590196539504804, 'butt': 0.02337657795069676, 'kicking': 0.02149386652874704, 'hockey': 0.023648840828529947, 'mom': 0.020724722909265324, 'compared': 0.014442571832633267, 'liberal': 0.01674822680790293, 'democrats': 0.01691587577248161, 'period': 0.02744091271707395, 'deal': 0.011987671536737838, 'pretty': 0.014226185406397519, 'gruel': 0.030438432378034053, 'jim': 0.01848620903960564, 'wallace': 0.04983367003640189, 'portrayed': 0.023648840828529947, 'political': 0.035175800372331915, 'bunny': 0.029224813789226003, 'rabbit': 0.02686401279443087, 'ripe': 0.025359340158986523, 'kill': 0.020867740348455732, 'laugh': 0.022033145721962688, 'forcing': 0.021169197878591645, 'jack': 0.0181676720917232, 'mcconnell': 0.02184562105314521, 'adopt': 0.0224352222397219, 'proportional': 0.027514314458769427, 'representation': 0.024252527538780353, 'local': 0.026721391740083977, 'elections': 0.017211003803424007, 'leaving': 0.01590665891315254, 'henry': 0.019727490746693024, 'mcleish': 0.025803815128312847, 'option': 0.016331234739822738, 'introduce': 0.020074421244926765, 'free': 0.011663659428552658, 'personal': 0.013507564671270528, 'care': 0.012475698947915385, 'elderly': 0.018921503133880586, 'ensuring': 0.02132840961951573, 'tuition': 0.024957263641227308, 'fees': 0.019839993691746233, 'replaced': 0.017398528472241485, 'graduate': 0.024252527538780353, 'policies': 0.015520933619046452, 'clear': 0.011647276454870965, 'evidence': 0.012763911222520283, 'wave': 0.019839993691746233, 'people': 0.013734821656526688, 'form': 0.012416420074352686, 'legislation': 0.0178715076744788, 'noise': 0.024590196539504804, 'sadly': 0.02166607862024018, 'mute': 0.027514314458769427, 'wonders': 0.024252527538780353, 'redoubtable': 0.030438432378034053, 'die': 0.017730874304535852, 'hard': 0.0106863447903412, 'unionists': 0.024957263641227308, 'hold': 0.014442571832633267, 'big': 0.009300514110040013, 'issue': 0.012475698947915385, 'sacrifice': 0.022651608665957647, 'unionism': 0.029224813789226003, 'jarrow': 0.032148931708490626, 'marchers': 0.032148931708490626, 'suffragette': 0.030438432378034053, 'hunger': 0.025803815128312847, 'strikers': 0.024252527538780353, 'great': 0.010047218259480831, 'withhold': 0.028283458078251146, 'answer': 0.014772318557938206, 'introduction': 0.023648840828529947, 'outdoor': 0.047802228604278, 'activity': 0.03176178298450083, 'schools': 0.016534580628870445, 'costing': 0.024590196539504804, 'astronomical': 0.029224813789226003, 'sum': 0.019839993691746233, '6': 0.01413674155225241, 'kid': 0.018830776832417163, 'highfalutin': 0.030438432378034053, 'principles': 0.019206011623856788, 'defending': 0.021015776955901625, 'union': 0.014876487070736074, 'sacrificed': 0.028283458078251146, 'kids': 0.01473815958246906, 'skin': 0.018091659036637002, 'knees': 0.021169197878591645, 'scrambling': 0.05835494420316815, 'shale': 0.030438432378034053, 'bing': 0.029224813789226003, 'singing': 0.022033145721962688, 'happy': 0.014571394374135588, 'clappy': 0.032148931708490626, 'songs': 0.02184562105314521, 'camp': 0.019511104320457273, 'sleep': 0.018741960700975557, 'easy': 0.013689317536723433, 'nights': 0.02166607862024018, 'refuse': 0.022651608665957647, 'water': 0.016043490705455972, 'private': 0.013357775785327543, 'operative': 0.024252527538780353, 'owned': 0.018741960700975557, 'customers': 0.01697327271802995, 'save': 0.02871262520436578, '300m': 0.025803815128312847, 'starters': 0.024590196539504804, 'improve': 0.016137241461885426, 'service': 0.014947389755214181, 'demand': 0.015439803995205564, 'directly': 0.017594778294988466, 'elected': 0.017594778294988466, 'conveners': 0.030438432378034053, 'boards': 0.0224352222397219, 'chief': 0.012205924191900773, 'constables': 0.030438432378034053, 'accountable': 0.024252527538780353, 'autonomy': 0.023939894875166245, 'headteachers': 0.028283458078251146, 'pen': 0.024590196539504804, 'pushers': 0.032148931708490626, 'moon': 0.025803815128312847, 'sons': 0.022229395544709672, 'scouts': 0.024252527538780353, 'round': 0.015130042111165394, 'roundwhile': 0.032148931708490626, 'margo': 0.024252527538780353, 'macdonald': 0.022879697209048224, 'vote': 0.028588747188442936, 'power': 0.011713193583809865, 'support': 0.012224632029304638, 'understandable': 0.020586395420998306, 'bargains': 0.025359340158986523, 'keenly': 0.027514314458769427, 'thought': 0.02146907423911848, 'meadowbank': 0.02686401279443087, 'velodrome': 0.06419370640205949, 'double': 0.01539981686718001, 'gym': 0.022651608665957647, 'corporation': 0.0224352222397219, 'bus': 0.020452460031432137, 'classmates': 0.029224813789226003, 'cycle': 0.020196708370062218, 'stay': 0.01355869996913016, 'achievement': 0.018741960700975557, 'sporting': 0.018654975961106494, 'reasons': 0.015092873496971823, 'argued': 0.017462935989276247, 'saved': 0.018741960700975557, 'dismantled': 0.030438432378034053, 'reassembled': 0.032148931708490626, 'edinburgh': 0.014637311503074488, 'decision': 0.013260791964168817, 'requires': 0.018830776832417163, 'politics': 0.014571394374135588, 'brought': 0.01361046270960582, 'sport': 0.015730858041841867, 'occasion': 0.018741960700975557, 'chris': 0.018654975961106494, 'hoy': 0.028283458078251146, 'protesting': 0.026300695869961383, 'palin': 0.04438677166729837, 'simpleeat': 0.032148931708490626, 'heart': 0.012576386553702806, 'jenny': 0.030438432378034053, 'dawe': 0.030438432378034053, 'crochet': 0.032148931708490626, 'pins': 0.02686401279443087, 'console': 0.025359340158986523, 'yersel': 0.032148931708490626, 'glass': 0.020724722909265324, 'buckie': 0.030438432378034053, 'cathy': 0.027514314458769427, 'jamieson': 0.028283458078251146, 'future': 0.011455488409822918, 'hillary': 0.020074421244926765, 'rodham': 0.029224813789226003, 'clinton': 0.0178715076744788, 'tavish': 0.05251618200427681, 'scott': 0.020074421244926765, 'leader': 0.02619624105871966, 'liberals': 0.025803815128312847, 'bush': 0.017730874304535852, 'boulder': 0.029224813789226003, 'catch': 0.017398528472241485, 'beachcombing': 0.032148931708490626, 'scotland': 0.01213191158437648, 'endless': 0.02132840961951573, 'sands': 0.029224813789226003, 'desperation': 0.023939894875166245, 'ability': 0.01447441055297686, 'connect': 0.02686401279443087, 'leaders': 0.014911789456002463, 'core': 0.017398528472241485, 'values': 0.019014223578808744, 'illusory': 0.027514314458769427, 'centre': 0.014049154798765326, 'ground': 0.014538818070011623, 'voters': 0.013907100622604812, 'longer': 0.012377358587673925, 'middle': 0.013769674450529904, 'muddle': 0.030438432378034053, 'sound': 0.015645630690217793, 'sarah': 0.01961791028905915, 'tin': 0.028283458078251146, 'simple': 0.01413674155225241, 'holiday': 0.019206011623856788, 'alaska': 0.024252527538780353}\n",
            "1.12 {'time': 0.014014948581503636, 'year': 0.01560226720035177, 'labour': 0.07625054449827613, 'party': 0.013014842687744659, 'conference': 0.03530673463321374, 'sense': 0.013607330469665767, 'gordon': 0.02629957008265944, 'brown': 0.051494639039331894, 'ready': 0.018268357457842017, 'country': 0.012894357967153032, 'things': 0.02342766793118877, 'tony': 0.016201893455763058, 'blair': 0.01708523361247518, 'delivered': 0.01990887047714809, 'years': 0.02388592843327641, 'economic': 0.06467940398381036, 'growth': 0.01640809297013421, 'mandate': 0.0278533565567471, 'create': 0.018166354589354256, 'socially': 0.0255298454628165, 'britain': 0.01417060426547789, 'bottled': 0.029634967412943997, 'worried': 0.01983709201919021, 'ministers': 0.01688745279230823, 'backbenchers': 0.028241160057239964, 'held': 0.016848847350634827, 'october': 0.018871332618409876, 'election': 0.04352407958862699, 'reputation': 0.018320175676875473, 'assaulted': 0.03248276870324732, 'sides': 0.01869930422913224, 'events': 0.01724948518259436, 'northern': 0.018813308484226028, 'rock': 0.019627924690150154, 'fiasco': 0.02431223779005756, 'rising': 0.018017267217202752, 'inflation': 0.01911063840868776, 'increasing': 0.01811614732870488, 'house': 0.01417060426547789, 'repossessions': 0.02866272646297562, 'losing': 0.017872630885599008, 'elections': 0.019766361459429446, 'crewe': 0.026847352701535928, 'glasgow': 0.020865068507506072, 'expected': 0.015147763954239786, 'win': 0.01303230201220781, 'standing': 0.01792036484112781, 'donkey': 0.0315994285465352, 'foreign': 0.017686263397672403, 'secretary': 0.015876606400666453, 'david': 0.01368675777793914, 'miliband': 0.026847352701535928, 'set': 0.012826831336844494, 'stall': 0.030852575085702934, 'replacement': 0.02253062693386066, 'premier': 0.016004112635596104, 'pressed': 0.0519327173226847, 'idea': 0.013787908785801325, 'calculation': 0.0278533565567471, 'lose': 0.03144614167972894, 'replace': 0.021626625947137254, 'weekend': 0.016697430111982315, 'chancellor': 0.03363501769190427, 'exchequer': 0.026276698923648763, 'alistair': 0.0189300600925522, 'darling': 0.03616490334498606, 'announced': 0.016772547233650223, 'economy': 0.027322601387830023, 'facing': 0.019627924690150154, 'worst': 0.01688745279230823, 'prospects': 0.02095396930076233, '60': 0.018372554103725413, 'damaging': 0.02431223779005756, 'statement': 0.036676763072518985, 'uttered': 0.030852575085702934, 'talk': 0.014884386217043629, 'damage': 0.018533175132426694, 'heath': 0.027494306596407697, 'day': 0.009953021777744724, 'week': 0.009028172927672088, 'seventies': 0.028241160057239964, 'thatcher': 0.01929820856691854, 'rampant': 0.0278533565567471, 'unemployment': 0.0206077536718896, 'eighties': 0.02716003908036089, 'major': 0.013357832001458224, 'currency': 0.02364290529976191, 'collapse': 0.018479040968179216, 'nineties': 0.026847352701535928, 'shrink': 0.026014745545509012, 'mother': 0.037789701151148145, 'catastrophes': 0.03356388968012639, 'great': 0.011538952059215062, 'depression': 0.018989508167171126, 'screwed': 0.0278533565567471, 'thrown': 0.023339996840089184, 'interview': 0.01911063840868776, 'countless': 0.0278533565567471, 'future': 0.013156311345292781, 'campaign': 0.015174906643131458, 'slogans': 0.02866272646297562, 'sound': 0.017968573769187306, 'bites': 0.029124500213952086, 'urban': 0.025766231724656852, 'myths': 0.029634967412943997, 'hear': 0.017968573769187306, 'ended': 0.0189300600925522, 'boom': 0.019493333888364328, 'bust': 0.01990887047714809, 'transpires': 0.03495769703583043, 'bad': 0.012424863167059671, 'government': 0.010627847028263618, 'legacy': 0.02364290529976191, 'sight': 0.02052493187227336, 'talking': 0.016478823529894975, 'rare': 0.02194618948438515, 'osama': 0.03495769703583043, 'bin': 0.0278533565567471, 'laden': 0.030205621190831165, 'signing': 0.020865068507506072, 'autographs': 0.03495769703583043, 'private': 0.015341035739837004, 'respond': 0.02253062693386066, 'dither': 0.03495769703583043, 'moral': 0.01998172835079395, 'compass': 0.02866272646297562, 'worth': 0.016004112635596104, 'tough': 0.03616490334498606, 'leaner': 0.03356388968012639, 'meaner': 0.03356388968012639, 'leader': 0.01506723649443793, 'fair': 0.01708523361247518, 'route': 0.044033092186381496, 'coming': 0.014373919018051719, 'hardship': 0.029634967412943997, 'roll': 0.02205757271842747, 'sleeves': 0.029634967412943997, 'play': 0.012710878106586452, 'central': 0.01626965620085492, 'role': 0.01512077247888398, 'glenrothes': 0.0278533565567471, 'start': 0.012111212521678542, 'appeal': 0.02123089937489425, 'voters': 0.015971920109876164, 'fife': 0.028241160057239964, 'fails': 0.022785683574472155, 'respect': 0.018017267217202752, 'cover': 0.03732904782649513, 'lame': 0.030852575085702934, 'duck': 0.02866272646297562, 'prime': 0.014259914762957928, 'minister': 0.013228625483199844, 'waiting': 0.03710669569939524, 'fed': 0.02380177059106565, 'ravenous': 0.03692215816942163, 'angry': 0.022918430434353525, 'electorate': 0.02364290529976191, 'palin': 0.10155167393951052, 'presidenti': 0.03692215816942163, 'smitten': 0.03692215816942163, 'word': 0.01626965620085492, 'stood': 0.022918430434353525, 'watched': 0.021326842258482543, 'speak': 0.019766361459429446, 'notes': 0.021626625947137254, 'autocue': 0.03495769703583043, 'told': 0.012793417705818447, 'personal': 0.03096842030673136, 'story': 0.016623459861498716, 'values': 0.02183730945747445, 'hockey': 0.02716003908036089, 'mom': 0.02380177059106565, 'governor': 0.020207115839930064, 'alaska': 0.0278533565567471, 'fell': 0.01911063840868776, 'politically': 0.021524623078649493, 'love': 0.016772547233650223, 'forget': 0.018871332618409876, 'mccain': 0.02194618948438515, 'obama': 0.03241091675755105, 'elect': 0.024882891567944727, 'sarah': 0.04497744087529794, 'president': 0.014782917434131616, 'united': 0.012471375114310228, 'states': 0.01470818653409853, 'policy': 0.01387037813517222, 'buttons': 0.0315994285465352, 'naughty': 0.0315994285465352, 'librarian': 0.03692215816942163, 'fully': 0.01969664864093815, 'clothed': 0.03692215816942163, 'sexier': 0.03495769703583043, 'naked': 0.028241160057239964, 'girl': 0.048182291159200044, 'long': 0.009223403099032837, 'opponents': 0.018755971042311134, 'started': 0.015845247344292362, 'weakness': 0.02380177059106565, 'behold': 0.0315994285465352, 'daughters': 0.028241160057239964, 'months': 0.011898990685468609, 'pregnant': 0.024685110747777773, 'wedlock': 0.03495769703583043, 'corruption': 0.027494306596407697, 'fighting': 0.020692015922622577, 'moose': 0.030852575085702934, 'hunting': 0.028241160057239964, 'salmon': 0.030852575085702934, 'fishing': 0.029634967412943997, 'issues': 0.01640809297013421, 'support': 0.028027076086027513, 'daughter': 0.02253062693386066, 'welcomes': 0.0315994285465352, 'decision': 0.015229652505794682, 'baby': 0.02123089937489425, 'marry': 0.02866272646297562, 'father': 0.01983709201919021, 'christian': 0.026014745545509012, 'vote': 0.01644332917850391, 'sewn': 0.03248276870324732, 'barack': 0.01777855108886139, 'careful': 0.021044531886967636, 'leave': 0.01613506539906909, 'attacks': 0.021136819578156628, 'media': 0.01613506539906909, 'pundits': 0.026847352701535928, 'families': 0.0189300600925522, 'limits': 0.022288328581847434, 'people': 0.007899828286201066, '12': 0.015876606400666453, 'vagrant': 0.03692215816942163, 'half': 0.011387139410679405, 'brother': 0.023966022161184833, 'lives': 0.016965598958961, 'mud': 0.030205621190831165, 'hut': 0.03356388968012639, 'kenya': 0.029634967412943997, 'making': 0.01194069789248193, 'abduction': 0.03692215816942163, 'happen': 0.015147763954239786, 'poor': 0.015257259174763843, 'lad': 0.0278533565567471, 'price': 0.014610305279892072, 'rail': 0.02655362899778068, 'link': 0.021136819578156628, 'property': 0.020207115839930064, 'prices': 0.01673484309554104, 'fallen': 0.020692015922622577, 'edinburgh': 0.03355855965301311, '1971': 0.03248276870324732, 'happened': 0.016168364205715286, 'worse': 0.01496190718758024, 'thing': 0.012154795639819407, 'high': 0.021026714280026632, 'level': 0.013414278744354986, 'demand': 0.017732187507346956, 'sources': 0.023054917130233388, 'shotts': 0.03692215816942163, 'tranent': 0.03495769703583043, 'news': 0.0137068197415755, 'coincided': 0.029124500213952086, 'realisation': 0.0315994285465352, 'local': 0.015369286299736143, 'council': 0.01759570081146709, 'plans': 0.015014285614430179, 'schemes': 0.023966022161184833, 'refurbishing': 0.03495769703583043, 'meadowbank': 0.030852575085702934, 'replacing': 0.0255298454628165, 'portobello': 0.03356388968012639, 'school': 0.014935928802039434, 'knife': 0.026847352701535928, 'edge': 0.020865068507506072, 'financed': 0.0563772641770285, 'land': 0.02052493187227336, 'housing': 0.037789701151148145, 'sales': 0.01869930422913224, 'borders': 0.02866272646297562, 'railway': 0.029124500213952086, 'planning': 0.0206077536718896, 'levy': 0.027494306596407697, 'prospect': 0.01983709201919021, 'ahead': 0.015312948952219572, 'chance': 0.014215053726747974, 'revealed': 0.01998172835079395, 'playboy': 0.03356388968012639}\n"
          ],
          "name": "stdout"
        }
      ]
    },
    {
      "cell_type": "code",
      "metadata": {
        "id": "hS2xyAEB43Xl",
        "colab_type": "code",
        "colab": {}
      },
      "source": [
        "# DFI\n",
        "\n",
        "# TF --> the total frequency of query term ti\n",
        "# sum(term's tf for each doc)\n",
        "\n",
        "# N = sum(dl)\n",
        "\n",
        "# e = ( TF * dl ) / N\n",
        "\n",
        "# math.log( (( tf - e ) / sqrt(e)) + 1 )"
      ],
      "execution_count": 0,
      "outputs": []
    },
    {
      "cell_type": "code",
      "metadata": {
        "id": "EhnTqti-9gM6",
        "colab_type": "code",
        "colab": {}
      },
      "source": [
        "dfi = {}\n",
        "#{doc: {word: dfi}}\n",
        "\n",
        "N = 0\n",
        "TF = {}\n",
        "for doc, array in term_frequencies.items():\n",
        "    dl = len(array)\n",
        "    N += dl\n",
        "\n",
        "    for word, tf in array:\n",
        "        if word not in TF:\n",
        "            TF[word] = tf\n",
        "            continue\n",
        "        TF[word] += tf\n",
        "\n",
        "\n",
        "for doc, array in term_frequencies.items():\n",
        "    dfi[doc] = {}\n",
        "    dl = len(array)\n",
        "    for word, tf in array:\n",
        "        e = ( TF[word] * dl ) / N\n",
        "        dfi[doc][word] = math.log( (( tf - e ) / math.sqrt(e)) + 1 )"
      ],
      "execution_count": 0,
      "outputs": []
    },
    {
      "cell_type": "code",
      "metadata": {
        "id": "Xl6zWGdV_lZ-",
        "colab_type": "code",
        "outputId": "eedeb2ee-d85a-4631-f81e-fe8c978c93fc",
        "colab": {
          "base_uri": "https://localhost:8080/",
          "height": 110
        }
      },
      "source": [
        "i = 0\n",
        "for doc, ti in dfi.items():\n",
        "    print(doc, ti)\n",
        "    if i == 3:\n",
        "        break\n",
        "    i += 1"
      ],
      "execution_count": 0,
      "outputs": [
        {
          "output_type": "stream",
          "text": [
            "1.1 {'doubt': 0.12198407276179796, 'edinburgh': 1.0165980264409689, 'huge': 0.1317254347006097, 'tourist': 1.0420108697027999, 'attraction': 0.5509238361273496, 'united': 0.02524989315466972, 'kingdom': 0.3272380436168932, 'internationally': 0.5563202394817998, 'scotland': 0.3107064158509148, 'capital': 0.09158821703461777, 'arguably': 0.31718110293293117, 'biggest': 0.3412403916581228, 'gateway': 0.680909726319916, 'draw': 0.3995309353048633, 'capitals': 0.7116945283083517, 'lucky': 0.2481359736249945, 'met': 0.1863124518268255, 'choice': 0.1247781190858541, 'travelled': 0.47689636288673737, 'australia': 0.3207204495048253, 'visit': 0.16938099373819498, 'canberra': 1.167066629782498, 'peru': 0.7607141139191205, 'lima': 1.167066629782498, 'difficult': 0.1146465607757185, 'driech': 1.167066629782498, 'march': 0.15535193417160173, 'morning': 0.1369665067642607, 'wind': 0.23090495756701157, 'howling': 0.975195633602178, 'trouser': 0.6456919706431489, 'legs': 0.27906435992290796, 'drizzle': 0.7534314706526885, 'misting': 1.167066629782498, 'spectacles': 0.9547407390888375, 'idyllic': 0.7830398352575801, 'romantic': 0.40371346495272065, 'fun': 0.14805768037842376, 'packed': 0.33359080911184524, 'destination': 0.9507619503848675, 'remember': 0.11610780605524153, 'amazed': 0.5874697508013867, 'couple': 0.13557545319538306, 'decades': 0.17940837138817275, 'ago': 0.06331590076116562, 'english': 0.08607502114361355, 'friends': 0.12680490391727184, 'told': 0.07179075031710312, 'coming': 0.22202035019026783, 'honeymoon': 0.4729906762882865, 'appreciated': 0.4457360172322239, 'place': 0.05898464497262823, 'newlyweds': 1.167066629782498, 'choose': 0.15897393370220858, 'married': 0.31718229264987563, 'tryst': 1.167066629782498, 'multi': 0.24230454066709387, 'pound': 0.16723807316352135, 'premier': 0.18817512588376234, 'league': 0.019601079528751942, 'british': 0.14630629253482894, 'honeymoons': 1.0398390787223453, 'tourism': 0.8813157353026557, 'hugely': 0.2998870219784357, 'sector': 0.09344882521722724, 'economy': 0.06437418605373113, 'international': 0.09618291480219093, 'festival': 0.575669484024547, 'arts': 0.4374421784986086, 'fringe': 0.47306013477508224, 'year': -0.028228707495854783, 'round': 0.1600808743840934, 'entertainment': 0.38296143182187103, 'offers': 0.22907788000128274, 'theatres': 0.8156573329359289, 'sporting': 0.25108170116743295, 'events': 0.1506831737312272, 'galleries': 0.7839837795119587, 'museums': 0.8115718305988877, 'consumption': 0.24895176004947472, 'fine': 0.1762720842477382, 'food': 0.09633742308137962, 'alcohol': 0.103095648773814, 'add': 0.1481212155529052, 'cocktail': 0.42400473861448984, 'admit': 0.22630312973851616, 'cities': 0.260227468840132, 'built': 0.20353559571693008, 'environment': 0.18580807663340418, 'richness': 1.167066629782498, 'historic': 0.2403130458455359, 'tapestry': 0.9395699659115139, 'beauty': 0.4428329062471618, 'natural': 0.17627650317133428, 'hills': 0.4589396217873509, 'lochs': 1.167066629782498, 'parks': 0.4726144272038857, 'combination': 0.22667896293318052, 'puts': 0.20820396104872346, 'london': 0.18588351590384408, 'leith': 0.3924376561440338, 'michelin': 0.6693762743803124, 'starred': 0.6900381574132469, 'restaurants': 0.39170338825772466, 'exceptional': 0.3086952087448757, 'eateries': 0.8849637209357224, 'glasgow': 0.4549213642246859, 'manchester': 0.08883902337578083, 'liverpool': 0.08101536640767669, 'context': 0.2755481400091421, 'vital': 0.21808866002923302, 'marketed': 0.43063675176805327, 'carefully': 0.27854050239034783, 'thought': 0.06679037038997361, 'ensures': 0.5143555124611265, 'pull': 0.46824077017858, 'visitors': 0.6629929059302891, 'city': 0.2049402114347405, 'approach': 0.2500614357679972, 'pitch': 0.15736662364975254, 'general': 0.09582504105077876, 'marketing': 0.9335470716033297, 'pass': 0.16292106921766314, 'stay': 0.10591604510781896, 'relied': 0.7970321526082728, 'reason': 0.22028043946555645, 'vast': 0.21201540419556297, 'majority': 0.1358756594989531, 'foreign': 0.14506151846257026, 'arrive': 0.34452048653419365, 'north': 0.13865611785277465, 'scottish': 0.12325115618130011, 'board': 0.12494830939888187, 'visitscotland': 1.691038245694852, 'opening': 0.205247529784514, 'skies': 0.7748500089474235, 'greater': 0.1337603722603626, 'low': 0.07523855584464303, 'cost': 0.0723786920846398, 'competitive': 0.2140258421216885, 'travel': 0.2212817958060837, 'eaten': 0.4364747551622571, 'strategy': 0.16025922413381238, 'short': 0.07827231833969191, 'haul': 0.6507538484332831, 'routes': 0.4381386733472158, 'transatlantic': 0.7462559498973909, 'long': 0.014531639390480864, 'flights': 0.5022015436011924, 'principal': 0.3884029680272021, 'remains': 0.143941125981077, 'sound': 0.16982825832205103, 'problem': 0.0670850222278101, 'rest': 0.11005354151413121, 'takes': 0.1454900595559753, 'councils': 0.19924364689956253, 'aberdeen': 0.4623491157276457, 'pooling': 0.7049158811124823, 'resources': 0.22576880310872252, 'difficulty': 0.2616562787682669, 'pulled': 0.3047582592007832, 'ways': 0.11848360486908627, 'smaller': 0.16422101004170686, 'destinations': 0.765032546977214, 'upset': 0.36333983387368735, 'support': 0.08049290998028225, 'result': 0.08234879044724713, 'council': 0.33001219833301537, 'decided': 0.13796796094571592, 'half': 0.11401061748995786, 'pounds': 0.2042712228514318, 'funding': 0.15422999596804077, 'stornoway': 1.167066629782498, 'likewise': 0.3812335325664032, 'mistake': 0.2269896749316168, 'managed': 0.15278529478829306, 'attractions': 1.0672422307362908, 'years': 0.039296616463466195, 'drawing': 0.3100059582392643, 'budgets': 0.28306529952203097, 'spending': 0.08208945180222912, 'pennies': 0.7507590622247078, 'bus': 0.30422214502003203, 'adverts': 0.6542561750086634, 'wide': 0.20469148061384249, 'listings': 0.8849637209357224, 'diddley': 1.167066629782498, 'squat': 0.5713770437566345, 'remembered': 0.30040255912885777, 'funded': 0.23078100392793954, 'government': -0.003489237999932635, 'tune': 0.3151190681253504, 'whopping': 0.554318040049159, '42': 0.22422667358982887, 'lot': 0.06834171039405333, 'money': 0.11127392534122861, 'influence': 0.1809975433823487, 'thinks': 0.19138384629109084, 'decision': 0.3199307523796912, 'whilst': 0.3437254035055306, 'face': 0.09472835852969036, 'attractive': 0.24185009333502505, 'prove': 0.16497906006640536, 'costly': 0.3576809708310413, 'people': -0.040020889665883234, 'paying': 0.13502468903920467, 'overburdened': 0.9474258876058895, 'taxpayer': 0.20359334120882447, 'expect': 0.13146383875946177, 'asked': 0.09689776990288163, 'cough': 0.29890390971983116, 'hoteliers': 1.167066629782498, 'visitor': 0.4471999453488044, 'businesses': 0.17934328227740662, 'resourced': 0.762851383368367, 'big': 0.03489223359313956, 'push': 0.2212746397003794, 'needed': 0.19426590772337843, 'recession': 0.08658118480726847, 'bigger': 0.1801018036675553, 'debate': 0.13024943495177851, 'policy': 0.06711698220105897, 'change': 0.054696773861884596, 'fuller': 1.0091060338345215, 'explanation': 0.25188953505071704, 'good': 0.0005166196130548484, 'work': 0.026384127212509666, 'councillors': 0.6867540814988999, 'plan': 0.05804681709582493, 'time': 0.010571339732434766, 'financial': 0.11547082253947226, 'services': 0.09293828402929047, 'industry': 0.12140825405408708, 'trouble': 0.152437499538724, 'losing': 0.16488621015872323, 'jobs': 0.10818322542983826, 'thing': 0.06045710940048729, 'drop': 0.17001209999623756, 'ball': 0.09430581753649675, 'unemployment': 0.21353593424018383, 'live': 0.11679984020525001, 'munificence': 1.167066629782498, 'bunch': 0.3200230811171059, 'walliesat': 1.167066629782498, 'scots': 0.1637539327275766, 'sucking': 0.5513829527617348, 'gums': 0.7095531525475322, 'wondering': 0.3465397325056614, 'threat': 0.1952702566192464, 'befall': 0.8807446358266761, 'parliament': 0.09874746834753192, 'spend': 0.13340727563764956, 'inscribing': 1.167066629782498, 'verse': 0.7785482589479003, 'canongate': 1.167066629782498, 'wall': 0.13870874533269065, 'commemorate': 0.9066218171454744, 'devolution': 0.2162677259541273, 'insult': 0.5271923707442842, 'intelligence': 0.3177683189022731, 'idea': 0.09548859403846567, 'brick': 0.6992459599235417, 'entrances': 1.167066629782498, 'exits': 0.8296951629893815, 'preferably': 0.4973936444217741, 'msps': 0.1759980647760018, 'inside': 0.17491163503817003}\n",
            "1.10 {'2008': 0.23775919278408233, 'high': 0.09794602123568731, 'points': 0.38290349097437815, 'people': 0.053267694625564084, 'year': 0.11781878741514133, 'injustice': 1.2208367165310352, 'quick': 0.20078705963778198, 'solution': 0.24020898801447713, 'sight': 0.21915223989098395, 'economic': 0.1384288684716665, 'day': 0.015054402148848005, 'reckoning': 0.4542290277197589, 'finally': 0.14491426745120997, 'arrived': 0.20818908028560415, 'gordon': 0.2271615347602733, 'brown': 0.32423520898636576, 'believed': 0.1820484589142071, 'unremitting': 1.1801344568903833, 'guff': 0.8687724732240717, 'abolished': 0.46253262413143337, 'cycles': 0.41221146612540077, 'called': 0.06188854778551472, 'tory': 0.1079406622026763, 'boom': 0.35114715895031495, 'bust': 0.4071159380314908, 'experience': 0.10625601502730246, 'labour': 0.07588976090518643, 'government': 0.11440497763811165, 'midwife': 0.8192912639127949, 'mother': 0.16995494857783763, 'recessions': 0.41890307141588096, 'holding': 0.20938942573903407, 'account': 0.16091545253344644, 'wait': 0.18088032176677887, '2010': 0.3853694925597009, 'cast': 0.26600588467183184, 'verdict': 0.41667256196680885, 'bad': 0.06580715591253522, 'economy': 0.24802799060979136, 'turn': 0.09993520714523861, 'early': 0.058755242347065216, 'election': 0.0690661013589814, 'probable': 0.7803744793245506, 'believes': 0.15195897197531222, 'parting': 1.0261546579667962, 'waters': 0.42751697253638105, 'road': 0.16898977680853483, 'damascus': 1.1801344568903833, 'expect': 0.2727168496706462, 'calculate': 0.5436148588556015, 'summer': 0.11009125416359282, 'rewarded': 0.41217339572434475, 'grateful': 0.3439929070924342, 'amnesic': 1.1801344568903833, 'electorate': 0.6304492454577315, 'chancellor': 0.11901326084787141, 'darling': 0.14372819192052985, 'predicting': 0.4157894681985574, 'recovery': 0.16823417772601088, 'happened': 0.14150188857469725, '2009': 0.48466129703654776, 'ahead': 0.10712579651660681, 'predictions': 0.4135547872209943, 'american': 0.0635360645275358, 'european': 0.20733270095556733, 'economies': 0.21571591974239684, 'cut': 0.09210887906761732, 'pension': 0.18767273272764953, 'pots': 0.6258614104799934, 'melt': 0.7226768449002923, 'eyes': 0.169467568174842, 'hbos': 0.14860250463593244, 'shares': 0.09955065435413032, 'lost': 0.08003324985003472, 'cent': 0.022704504006992993, 'working': 0.09901175429175871, 'told': 0.07500052989462119, 'employment': 0.26631816987953894, 'sense': 0.08806366487763533, 'grow': 0.18715188902444516, 'greatest': 0.2099242153789794, 'majority': 0.14026368790535665, 'acted': 0.3371452250701902, 'prudently': 1.1801344568903833, 'years': 0.042923194723609476, 'paying': 0.1393958792481848, 'price': 0.28394411243552203, 'hedonistic': 1.1801344568903833, 'gamblers': 0.7887775886161721, 'bought': 0.1849707182388097, 'houses': 0.24803395089873218, 'afford': 0.20222488094583535, 'mortgages': 0.21017789196673667, 'repayments': 0.7674975211980307, 'honour': 0.36278272997948413, 'spendthrifts': 0.7521460650788908, 'offered': 0.15294531116435456, 'sorts': 0.32082658025274036, 'months': 0.13723933608849037, 'forgiveness': 1.1801344568903833, 'missed': 0.20442569931296234, 'payments': 0.22309100724356037, 'offer': 0.1326240020671471, 'financial': 0.04078380124336179, 'assistance': 0.29962302943452984, 'hand': 0.1065515519713971, 'outs': 0.3708755070460858, 'looked': 0.10149273988620097, 'money': 0.11585669011165534, 'lived': 0.2719339232643553, 'expected': 0.1098078775322264, 'pay': 0.04067996304165956, 'surviving': 0.4433376419051796, 'fast': 0.17893618898770539, 'deflating': 0.7359685996696615, 'savings': 0.1953870368994245, 'rates': 0.09725038802327662, 'crash': 0.28005146912138834, 'income': 0.1291870305744788, 'dries': 1.1801344568903833, 'apply': 0.21721020874975913, 'mortgage': 0.14115804158882606, 'trapped': 0.4354084043065023, 'loans': 0.396607644330001, 'rationed': 0.9569315571054409, 'blames': 0.8581002970708543, 'banks': 0.22383365014396733, 'pumped': 0.6621345987326577, 'needed': 0.2002869883557294, 'capital': 0.20630850977980728, 'release': 0.24249998866020983, 'credit': 0.07920173442144682, 'ploughed': 0.9337033360774828, 'bank': 0.029443336812998697, 'england': 0.02210218379167783, 'base': 0.3783676181790787, 'rate': 0.17061383961263085, 'lend': 0.28753672421657495, 'customers': 0.1669822571347415, 'long': 0.08440474714956578, 'loss': 0.11147934105829466, 'unforthcoming': 1.1801344568903833, 'asked': 0.21509461560986676, 'choose': 0.16382533049681608, 'recovering': 0.4240008502061505, 'hibs': 0.7543923825394495, 'winning': 0.12388143884024305, 'cup': 0.06391723043454986, '106': 0.8655172957818291, 'managed': 0.15751151973866456, 'feat': 0.5256686069168262, 'mixu': 1.1801344568903833, 'men': 0.04987229921382364, 'chance': 0.1025329246872288, 'buddies': 0.7138369583152295, 'happy': 0.14850221114416493, 'evening': 0.22297643183185362, 'news': 0.07664143321879345, 'readers': 0.2572663800826631, 'pricethere': 1.1801344568903833, 'injustices': 1.1801344568903833, 'abroad': 0.2775125522317511, 'servicemen': 1.1801344568903833, 'women': 0.0123620474933599, 'continuing': 0.23031398744255527, 'overstretched': 0.78470228482472, 'underpaid': 0.7358261833791132, 'whilst': 0.35229665020689704, 'equipment': 0.272862831444383, 'fit': 0.1646885411050582, 'purpose': 0.24610728341844085, 'suffer': 0.236613195000561, 'unnecessary': 0.279761566832789, 'casualties': 0.5345850737873389, 'countries': 0.13025501465929057, 'effort': 0.3431187340487739, 'share': 0.10227212121241473, 'afghanistan': 0.29159330000741823, 'prime': 0.07082968653678726, 'candidate': 0.16735967911316396, 'increase': 0.19461981385117522, 'hostility': 0.5111715668714588, 'president': 0.08178881999868338, 'elect': 0.3448462168179278, 'obama': 0.15785701843378666, 'clear': 0.08259797037208998, 'send': 0.40429693501149233, '30': 0.09146865259455078, '000': 0.12130293386076946, 'troops': 0.6297862772039898, 'announced': 0.1396112426931991, 'british': 0.06092898438780151, 'troop': 0.7976876028465213, 'levels': 0.08586614936298419, 'strategists': 0.4803198738397713, 'increasingly': 0.18246587461352629, 'numbers': 0.14658427223074275, 'german': 0.22420603036718184, 'stationed': 0.8424935650267737, 'confined': 0.36093908260806185, 'barracks': 0.9924634035538578, 'set': 0.07727258963013857, 'marked': 0.262215691762635, 'major': 0.08571433159955065, 'disagreement': 0.6244663654760302, 'refuse': 0.39371417093152683, 'squaddies': 0.7682555658202787, 'battle': 0.21607342016087197, 'good': 0.00285364342165829, 'europeans': 0.41579900665024516, 'britain': 0.07214764355121409, 'sacrifices': 0.5563548312416068, 'tied': 0.3484265180133728, 'knotsanother': 1.1801344568903833, 'ram': 0.9726896721497158, 'raid': 0.6418952018558391, 'multrees': 1.2915618065943482, 'walk': 0.20116200327636022, 'expensive': 0.15164793312464395, 'handbags': 0.6212757410982811, 'stolen': 0.66425310849993, '100': 0.13745075666087825, 'classy': 0.6971533368519717, 'gear': 0.4709345392944118, 'knicked': 1.1801344568903833, 'hoods': 1.1801344568903833, 'shock': 0.24304045182070771, 'awe': 0.5160873425406628, '4x4s': 1.1801344568903833, 'shop': 0.27625676069608146, 'facades': 1.1801344568903833, 'drive': 0.205149080380499, 'wealthier': 0.634722163828983, 'taste': 0.27581027620783116, 'security': 0.1916996440673814, 'pedestrianised': 0.940463708551142, 'street': 0.09152404524475306, 'driving': 0.25252663176778306, 'city': 0.13389744870048167, 'centre': 0.1355785864210692, 'ago': 0.06639058874916304, 'occasional': 0.32288105287654983, 'taxi': 0.6463627428838863, 'extreme': 0.2504434259365944, 'difficulty': 0.26860750895305907, 'avoiding': 0.3051679400047678, 'obstacle': 0.43769000032016464, 'edinburgh': 0.09784148953267864, 'tram': 1.1944774973030652, 'works': 0.149177965701528, 'fact': 0.06519106582421823, 'managers': 0.11677111376498243, 'simply': 0.10937315031046954, 'constructors': 1.1801344568903833, 'tie': 0.2311612254200393, 'charge': 0.1653420322170456, 'raids': 1.1801344568903833, 'nigh': 0.7031230813736571, 'impossible': 0.19446534177279845, 'life': 0.037674138362002875, 'difficult': 0.11862150913622863, 'entrepreneur': 0.5074484961249826}\n",
            "1.11 {'time': -0.013744575527056291, 'year': 0.07179985976606258, 'scottish': 0.26503925667544403, 'government': 0.11633303548874781, 'announced': 0.10454456153477577, 'intends': 0.6045078882572668, 'sort': 0.09781535852586828, 'king': 0.22658788492205212, 'speech': 0.09803095153619391, 'monarch': 0.38537936525989636, 'pend': 1.068699195000835, 'holyrood': 0.1923768195984883, 'alex': 0.17819386536124404, 'salmond': 0.1605636145302713, 'relies': 0.40306849595009103, '17': 0.26690969232627215, 'tory': 0.07763800975811476, 'votes': 0.3046364101052203, 'life': 0.015959525542753122, 'blood': 0.045256794220476126, 'veins': 0.6728246723948698, 'denied': 0.17333229902326716, 'oxygen': 0.25049923026060034, 'breath': 0.22334044705938155, 'jibes': 0.5393064520699058, 'jokes': 0.46804825509576753, 'authority': 0.14376244049307424, 'minister': 0.02677056212499181, 'tories': 0.30896803755382996, 'devout': 0.8453675377592628, 'unionist': 0.37816109073807025, 'parties': 0.08920499145678436, 'actions': 0.20937202583591616, 'ye': 0.8427901932068641, 'annabel': 1.05090600734028, 'goldie': 0.9130198761709163, 'argument': 0.13932017051813558, 'allowing': 0.14571540530350782, 'largest': 0.14232846514203518, 'party': 0.011415917371323334, 'govern': 0.3409776558788345, 'minority': 0.1955100629514288, 'preferable': 0.48682313328797816, 'supping': 0.7444440384904177, 'devil': 0.3062308753580807, 'formal': 0.2898846291119077, 'coalition': 0.4493568010331211, 'good': 0.03262975294271391, 'hustler': 1.068699195000835, 'poker': 0.48110272426581835, 'players': 0.00885918521726796, 'negotiators': 0.5534444619829603, 'fear': 0.10814952321962486, 'dear': 0.27053131264221775, 'bed': 0.1781069689803439, 'early': 0.034870460209724334, 'horlicks': 0.82832089968682, 'card': 0.14951583055498632, 'shark': 0.418848236920516, 'scots': 0.12903252727277778, 'claimed': 0.15125531229912065, 'achievements': 0.4736729430366634, 'drug': 0.15045508867995716, 'policy': 0.19460039018465677, 'altered': 0.4302791258328319, 'recognition': 0.31300006532556907, '1000': 0.2582321868617925, 'police': 0.3482868618085442, 'officers': 0.2581871050193176, 'beat': 0.12593448027680068, 'business': 0.0902417046548563, 'taxes': 0.11252772572243404, 'cut': 0.15271575356047024, 'sooner': 0.27275822870013194, 'snp': 0.10242057161916035, 'agenda': 0.1943287427114842, 'numbers': 0.110429195917652, 'delivered': 0.16948815746870724, 'current': 0.05639139927639039, 'rate': 0.12635481607220805, '13': 0.12466176022637124, 'years': -0.030754574947368902, 'quicker': 0.3565731850664333, 'tax': 0.09567264565381005, 'set': 0.05115940386185701, 'concede': 0.26823439848583824, 'offered': 0.11578820054150075, 'real': 0.03594504389855685, 'cuts': 0.11449187981252466, 'long': -0.0030524603413036857, 'dared': 0.608099195735319, 'excuse': 0.18968908906428283, 'labour': 0.0433778996821304, 'gold': 0.19855202735701322, 'medal': 0.33950153221614204, 'playing': 0.06215387191176361, 'hardball': 0.5225657333684368, 'favourite': 0.20736581607954926, 'auntie': 0.6510532939829882, 'moose': 0.5618230446892998, 'hunting': 0.4442840672682827, 'butt': 0.31826742158953486, 'kicking': 0.2953521487620305, 'hockey': 0.270670079347775, 'mom': 0.2132178675559799, 'compared': 0.07736555390766307, 'liberal': 0.14220686671565777, 'democrats': 0.13538476045007336, 'period': 0.18399041181467246, 'deal': 0.05273705096056854, 'pretty': 0.09507995141981178, 'gruel': 0.832975161204658, 'jim': 0.19692096453114993, 'wallace': 0.6936904298753434, 'portrayed': 0.3769412216999659, 'political': 0.1984661854962358, 'bunny': 0.5920472871105742, 'rabbit': 0.4759178809908885, 'ripe': 0.4391799666707796, 'kill': 0.2440641189763987, 'laugh': 0.2918196709883726, 'forcing': 0.2915647882781692, 'jack': 0.1869602365604621, 'mcconnell': 0.26825707102149166, 'adopt': 0.3125180426580138, 'proportional': 0.6050251924278044, 'representation': 0.33440827117237515, 'local': 0.15912718996182174, 'elections': 0.10291553231385996, 'leaving': 0.13707677246796657, 'henry': 0.19147618248500856, 'mcleish': 0.37565187702776537, 'option': 0.13356269851596583, 'introduce': 0.22751705818326656, 'free': 0.050987887053985596, 'personal': 0.08795175212121592, 'care': 0.007966479711547599, 'elderly': 0.17073636646313842, 'ensuring': 0.27633941599073103, 'tuition': 0.412532350080447, 'fees': 0.22064583774355676, 'replaced': 0.17126854422895155, 'graduate': 0.3821779701517449, 'policies': 0.11056847681073217, 'clear': 0.055797096952742126, 'evidence': 0.05794221563179162, 'wave': 0.2310126130882516, 'people': -0.018683731326175176, 'form': 0.06512068907299516, 'legislation': 0.15061013803739864, 'noise': 0.41051561865769987, 'sadly': 0.29899134303610075, 'mute': 0.5972121058147967, 'wonders': 0.3968878605233864, 'redoubtable': 0.9269651495678692, 'die': 0.1484981057324883, 'hard': 0.03936069953385803, 'unionists': 0.41545103855630683, 'hold': 0.10515048127941205, 'big': 0.015864404533088138, 'issue': 0.060663272902186434, 'sacrifice': 0.3180521479080271, 'unionism': 0.7162578530322099, 'jarrow': 1.068699195000835, 'marchers': 1.068699195000835, 'suffragette': 0.8228492736181082, 'hunger': 0.45272141274371325, 'strikers': 0.36134812546838085, 'great': 0.028532787481031094, 'withhold': 0.6539601045151822, 'answer': 0.10992102437184235, 'introduction': 0.3717084478691974, 'outdoor': 0.5124552037368207, 'activity': 0.18921025197186853, 'schools': 0.10921180892479496, 'costing': 0.4120963033775885, 'astronomical': 0.7243033860274063, 'sum': 0.235513561997365, '6': 0.08516207047761293, 'kid': 0.16797286940873796, 'highfalutin': 0.8536916648255476, 'principles': 0.21272280359807522, 'defending': 0.2769865010250348, 'union': 0.10403587349058518, 'sacrificed': 0.6688188494713455, 'kids': 0.012806068653508532, 'skin': 0.09625912011277399, 'knees': 0.23405681036388754, 'scrambling': 1.080928700426013, 'shale': 0.5535221277710933, 'bing': 0.5835210279230917, 'singing': 0.3068864883195229, 'happy': 0.11204587216441518, 'clappy': 1.068699195000835, 'songs': 0.23123807768867158, 'camp': 0.2297426316544668, 'sleep': 0.08843865720405969, 'easy': 0.0944552495182367, 'nights': 0.27160380503966947, 'refuse': 0.3179585348446998, 'water': 0.08786114899552924, 'private': 0.06625111344958687, 'operative': 0.3739641530165349, 'owned': 0.1787003291312307, 'customers': 0.12758850162647378, 'save': 0.20908215755109605, '300m': 0.37731950109255996, 'starters': 0.41535183758434996, 'improve': 0.1353596076683217, 'service': 0.09853061465202627, 'demand': 0.11611676816060086, 'directly': 0.16135128632041015, 'elected': 0.14773413706013866, 'conveners': 0.8600793971943433, 'boards': 0.25559513132773665, 'chief': 0.05247642458400408, 'constables': 0.8453675377592628, 'accountable': 0.390506611223184, 'autonomy': 0.3350461644821878, 'headteachers': 0.6428678254906246, 'pen': 0.39472104279749437, 'pushers': 1.068699195000835, 'moon': 0.4864174338441397, 'sons': 0.2969867981805884, 'scouts': 0.39683472705529405, 'round': 0.12588591188880055, 'roundwhile': 1.068699195000835, 'margo': 0.3290936747405264, 'macdonald': 0.21885500120280094, 'vote': 0.1683629001418053, 'power': 0.058903562862731754, 'support': 0.05688294625927266, 'understandable': 0.2696694767830809, 'bargains': 0.45555558742724495, 'keenly': 0.550214756425479, 'thought': 0.12214706790591282, 'meadowbank': 0.4503136011594632, 'velodrome': 1.309250229427667, 'double': 0.11777454850076005, 'gym': 0.20064188722073897, 'corporation': 0.3384972899706423, 'bus': 0.24905052700420152, 'classmates': 0.7054592790990344, 'cycle': 0.20736760576346902, 'stay': 0.07916479185779098, 'achievement': 0.20768919616786383, 'sporting': 0.20361196610492552, 'reasons': 0.11199008397992115, 'argued': 0.17409428598437215, 'saved': 0.20771841067235952, 'dismantled': 0.82832089968682, 'reassembled': 1.068699195000835, 'edinburgh': 0.0689752344838614, 'decision': 0.07558615611900954, 'requires': 0.1944866091056378, 'politics': 0.09750534121800508, 'brought': 0.09655453890574052, 'sport': 0.10280277688699062, 'occasion': 0.2109659848839813, 'chris': 0.19412595350716574, 'hoy': 0.5827298145884641, 'protesting': 0.5716775423570105, 'palin': 0.34050587941469707, 'simpleeat': 1.068699195000835, 'heart': 0.02923113327800394, 'jenny': 0.8068896531069654, 'dawe': 0.8068896531069654, 'crochet': 1.068699195000835, 'pins': 0.5209965313604402, 'console': 0.46682482246391394, 'yersel': 1.068699195000835, 'glass': 0.14366394198828134, 'buckie': 0.835232443346466, 'cathy': 0.545545105753819, 'jamieson': 0.641367524781493, 'future': 0.052595402942042346, 'hillary': 0.13677704776412805, 'rodham': 0.7055251290570654, 'clinton': 0.1284586359684099, 'tavish': 0.7777197808275049, 'scott': 0.19959976850072067, 'leader': 0.14600464043337621, 'liberals': 0.40383114513640767, 'bush': 0.14080048500490425, 'boulder': 0.640568533076905, 'catch': 0.17786839722211992, 'beachcombing': 1.068699195000835, 'scotland': 0.01660470575068127, 'endless': 0.30512655896220914, 'sands': 0.39309070403056035, 'desperation': 0.3959929294029204, 'ability': 0.08938189405102051, 'connect': 0.5454978155569175, 'leaders': 0.10693351907186169, 'core': 0.15434053251487537, 'values': 0.19017173021405345, 'illusory': 0.5949574642348089, 'centre': 0.10113595431519302, 'ground': 0.11218479013425875, 'voters': 0.07019795755212077, 'longer': 0.06597672910941904, 'middle': 0.08447658683403578, 'muddle': 0.8895599071424803, 'sound': 0.1342326395604792, 'sarah': 0.1945673826936079, 'tin': 0.6175176226320956, 'simple': 0.08704934134350775, 'holiday': 0.21882732827681797, 'alaska': 0.3631066678694472}\n",
            "1.12 {'time': -0.001236058153405907, 'year': 0.008719736717704726, 'labour': 0.25995254175729954, 'party': 0.02095191668744267, 'conference': 0.23806040594423317, 'sense': 0.07279180396254512, 'gordon': 0.12323392451684445, 'brown': 0.18203938008353288, 'ready': 0.1527538683613543, 'country': 0.061151302646749325, 'things': 0.12041694164727959, 'tony': 0.11526149761431415, 'blair': 0.09670356257613902, 'delivered': 0.19063228695914358, 'years': 0.07335338347703084, 'economic': 0.3161293132230782, 'growth': 0.09259751120227916, 'mandate': 0.48925078770554603, 'create': 0.15717747131036539, 'socially': 0.3373057125059097, 'britain': 0.05803164481634576, 'bottled': 0.46786056068779075, 'worried': 0.1756847102896591, 'ministers': 0.11019198078344664, 'backbenchers': 0.4709452834351195, 'held': 0.13578795626627055, 'october': 0.15051302543723272, 'election': 0.21880060196975953, 'reputation': 0.1594499412800947, 'assaulted': 0.7267586152659746, 'sides': 0.16833289463217757, 'events': 0.13450892325702682, 'northern': 0.13427448293248437, 'rock': 0.13322355154780127, 'fiasco': 0.3325454443871625, 'rising': 0.1493030130309945, 'inflation': 0.12133629730271774, 'increasing': 0.14241462032478444, 'house': 0.06591330898899235, 'repossessions': 0.42759938190335595, 'losing': 0.14771545979151074, 'elections': 0.11836642179269358, 'crewe': 0.35150791019903277, 'glasgow': 0.14784698027548263, 'expected': 0.09282961148543838, 'win': 0.05531906561028457, 'standing': 0.15114962846399924, 'donkey': 0.7128635042563058, 'foreign': 0.1292777994690412, 'secretary': 0.10005507161868228, 'david': 0.06864406028419819, 'miliband': 0.33633080189866227, 'set': 0.06279444468327527, 'stall': 0.6018128153635911, 'replacement': 0.20249294946790836, 'premier': 0.07235406354105677, 'pressed': 0.6425862138227747, 'idea': 0.08298464259628639, 'calculation': 0.4865002636975304, 'lose': 0.21617722112189813, 'replace': 0.23481557661534264, 'weekend': 0.12256606124206332, 'chancellor': 0.21469122443716307, 'exchequer': 0.415681582145911, 'alistair': 0.17212831015870803, 'darling': 0.25185339848912935, 'announced': 0.12012803267818149, 'economy': 0.13797636703216393, 'facing': 0.18954052504966346, 'worst': 0.12919839736510894, 'prospects': 0.2148497472378, '60': 0.13337694401984043, 'damaging': 0.31971239916436894, 'statement': 0.3015884743463233, 'uttered': 0.5800361748186033, 'talk': 0.09319982443296147, 'damage': 0.13444698027856983, 'heath': 0.44106807901626066, 'day': 0.004108687486404883, 'week': -0.001678605818771405, 'seventies': 0.4501001818804072, 'thatcher': 0.16396979933290154, 'rampant': 0.41504984524446625, 'unemployment': 0.19289521114685665, 'eighties': 0.4499444921537061, 'major': 0.07061864685061138, 'currency': 0.28197075279611916, 'collapse': 0.16218771348389088, 'nineties': 0.4344332984623728, 'shrink': 0.3838746543785937, 'mother': 0.29126767095757755, 'catastrophes': 0.7846740573548259, 'great': 0.03885854944350256, 'depression': 0.12161623907269682, 'screwed': 0.47059422825600905, 'thrown': 0.3002248159465856, 'interview': 0.1506152455721037, 'countless': 0.42740218567812727, 'future': 0.0643225670907356, 'campaign': 0.08449065560197813, 'slogans': 0.4832669584287786, 'sound': 0.1523081139189924, 'bites': 0.45550569193173807, 'urban': 0.3439749532039237, 'myths': 0.39778696963342774, 'hear': 0.1488600441902567, 'ended': 0.1707127893744764, 'boom': 0.16030491344428394, 'bust': 0.19172573161470263, 'transpires': 0.929853486456525, 'bad': 0.05212461512013616, 'government': -0.011579645320565334, 'legacy': 0.29077056455118033, 'sight': 0.1925742955999747, 'talking': 0.11701307401679303, 'rare': 0.2459130065099997, 'osama': 0.9157701529296219, 'bin': 0.43146487105666853, 'laden': 0.5185718432428567, 'signing': 0.21000595431565405, 'autographs': 0.7033792599541135, 'private': 0.07890075520425367, 'respond': 0.2538381622339482, 'dither': 0.9888689373829743, 'moral': 0.17878179720369705, 'compass': 0.5511091092964703, 'worth': 0.11508334890289137, 'tough': 0.3040976583577536, 'leaner': 0.7092092965878335, 'meaner': 0.7555772871722907, 'leader': 0.07204358932262107, 'fair': 0.1334787248614417, 'route': 0.4472623491611659, 'coming': 0.09190228928165793, 'hardship': 0.5000137020882474, 'roll': 0.2542354583566653, 'sleeves': 0.5278075400593756, 'play': 0.04754580982020732, 'central': 0.11323999915210836, 'role': 0.09334713556752526, 'glenrothes': 0.272477285138425, 'start': 0.04919426690680416, 'appeal': 0.1916105295801436, 'voters': 0.08312856592556729, 'fife': 0.3728787632957209, 'fails': 0.2612198386025576, 'respect': 0.14080853096217938, 'cover': 0.2594967281950974, 'lame': 0.5917698573465687, 'duck': 0.49987972725023144, 'prime': 0.056805152877830764, 'minister': 0.03700655799567097, 'waiting': 0.31871139277471566, 'fed': 0.2268953115099945, 'ravenous': 1.120195971962368, 'angry': 0.24946501293345708, 'electorate': 0.32200965621166205, 'palin': 0.6579687563761477, 'presidenti': 1.120195971962368, 'smitten': 1.120195971962368, 'word': 0.11842232777180581, 'stood': 0.265909262371077, 'watched': 0.21284796556675145, 'speak': 0.18691048380243053, 'notes': 0.21588684449802498, 'autocue': 0.9617554469992045, 'told': 0.0606841850500685, 'personal': 0.21622234453182954, 'story': 0.12534315105419594, 'values': 0.21313503118547347, 'hockey': 0.3006277490778288, 'mom': 0.23820562515093313, 'governor': 0.15236636594580794, 'alaska': 0.4006654701860042, 'fell': 0.16497544130714517, 'politically': 0.24476483005878788, 'love': 0.11497170615950976, 'forget': 0.1702264295123347, 'mccain': 0.1093372301023777, 'obama': 0.13432070430240686, 'elect': 0.30713223769520265, 'sarah': 0.4058445504908326, 'president': 0.0669834079968092, 'united': 0.016320074053658082, 'states': 0.07753713798596922, 'policy': 0.056266810058576484, 'buttons': 0.6780059906476447, 'naughty': 0.612970492483358, 'librarian': 1.120195971962368, 'fully': 0.17255284878317692, 'clothed': 1.120195971962368, 'sexier': 0.8961709586220038, 'naked': 0.4780976671164073, 'girl': 0.4654283884221859, 'long': 0.005964654551015577, 'opponents': 0.17450989382373644, 'started': 0.11080921480033011, 'weakness': 0.29532894711921087, 'behold': 0.6038934799384958, 'daughters': 0.41456758519368503, 'months': 0.03906333435364184, 'pregnant': 0.22679777994894554, 'wedlock': 0.8054832599152265, 'corruption': 0.43849789618514917, 'fighting': 0.20249269429372524, 'moose': 0.6137235238626498, 'hunting': 0.48803446735968875, 'salmon': 0.46872252326095354, 'fishing': 0.5210974158773733, 'issues': 0.11078617129899779, 'support': 0.16214483928123516, 'daughter': 0.24137548847523432, 'welcomes': 0.6088639304631956, 'decision': 0.08890959952640723, 'baby': 0.13962219758230876, 'marry': 0.47851433854978487, 'father': 0.17315278749959476, 'christian': 0.35017043702071726, 'vote': 0.08693702929128899, 'sewn': 0.668918129941111, 'barack': 0.13081350727685156, 'careful': 0.21801973057658516, 'leave': 0.10829337243100938, 'attacks': 0.18054491016332658, 'media': 0.10364768009840712, 'pundits': 0.3311541099304373, 'families': 0.15001741807189145, 'limits': 0.2047725411407596, 'people': -0.04765629868389674, '12': 0.10039366347762771, 'vagrant': 1.120195971962368, 'half': 0.027713774316245127, 'brother': 0.29385769525793826, 'lives': 0.11817773587265006, 'mud': 0.5257283887276374, 'hut': 0.8270086792471704, 'kenya': 0.5324490101024246, 'making': 0.05026402276822541, 'abduction': 1.120195971962368, 'happen': 0.10695717384106684, 'poor': 0.09755559361683878, 'lad': 0.4667816032359504, 'price': 0.06956662631110579, 'rail': 0.36388431757322065, 'link': 0.14608211024758339, 'property': 0.15688586367214347, 'prices': 0.0905810665722901, 'fallen': 0.19880870043809848, 'edinburgh': 0.18297399886808255, '1971': 0.6718122202621737, 'happened': 0.12185515463919376, 'worse': 0.0913132908524365, 'thing': 0.04995952558012771, 'high': 0.07865957497212016, 'level': 0.058550125277100386, 'demand': 0.13265620106277684, 'sources': 0.22981932329054383, 'shotts': 1.120195971962368, 'tranent': 0.8836297969397636, 'news': 0.0622084302878332, 'coincided': 0.532408586805314, 'realisation': 0.6275435766545951, 'local': 0.08080215376376122, 'council': 0.09332204982056294, 'plans': 0.053888301474126404, 'schemes': 0.27855231538053604, 'refurbishing': 0.8632414896270825, 'meadowbank': 0.4945053131763454, 'replacing': 0.3424009154399719, 'portobello': 0.7666258367755253, 'school': 0.058600373572055546, 'knife': 0.429193147046796, 'edge': 0.21454208977460043, 'financed': 0.6748488765801244, 'land': 0.19901036312466056, 'housing': 0.2755300365514331, 'sales': 0.09520156425766872, 'borders': 0.41195496799999354, 'railway': 0.443428918363954, 'planning': 0.18891894518065194, 'levy': 0.3555660392762229, 'prospect': 0.18971988759659664, 'ahead': 0.09036460267416635, 'chance': 0.08613948498544562, 'revealed': 0.17870894929073744, 'playboy': 0.702103322409946}\n"
          ],
          "name": "stdout"
        }
      ]
    },
    {
      "cell_type": "code",
      "metadata": {
        "id": "AW18P2_za2mn",
        "colab_type": "code",
        "colab": {}
      },
      "source": [
        "def clusterDB(entry):\n",
        "    NinDB = []      # words in entry but not in DB\n",
        "    inDB = []       # words in entry and DB\n",
        "\n",
        "    # cluster words in entry\n",
        "    for word in entry:\n",
        "        word = word.lower()\n",
        "        if word not in db and word not in NinDB:\n",
        "            NinDB.append(word)\n",
        "        elif word in db and word not in inDB:\n",
        "            inDB.append(word)\n",
        "    \n",
        "    return inDB, NinDB"
      ],
      "execution_count": 0,
      "outputs": []
    },
    {
      "cell_type": "code",
      "metadata": {
        "id": "Dh4g5Halcko6",
        "colab_type": "code",
        "colab": {}
      },
      "source": [
        "def findDualTuples(inDB):\n",
        "    docs = {}       # words tuple: common documents where they are              # ('gold', 'rich'): ['26.12', '15.50']\n",
        "    w = []          # words tuples                                              # [('gold', 'rich'), ..., ('gold', 'man', 'rich')]\n",
        "\n",
        "    temp = inDB.copy()     # for inner loop -> remove words itself every main loop\n",
        "\n",
        "    # compare words documents where they are to find common docs\n",
        "    # just for find dual tuples\n",
        "    for word1 in inDB:\n",
        "        temp.remove(word1)\n",
        "        for word2 in temp:\n",
        "            join = list(set(db[word1]) & set(db[word2]))\n",
        "            if len(join) > 0:\n",
        "                w.append((word1, word2))\n",
        "                docs[(word1, word2)] = join\n",
        "\n",
        "    return docs, w"
      ],
      "execution_count": 0,
      "outputs": []
    },
    {
      "cell_type": "code",
      "metadata": {
        "id": "6PJggk8ldT4X",
        "colab_type": "code",
        "colab": {}
      },
      "source": [
        "def findAllIntersections(docs, w):\n",
        "    # detect common docs between every words\n",
        "    # finds all sub and main intersections\n",
        "    for i, tuple1 in enumerate(w):\n",
        "        \n",
        "        # there is no second tuple to find commons\n",
        "        if (len(w)-1) == i:\n",
        "            break\n",
        "\n",
        "        # for inner loop -> don't need to look itself and before tuples\n",
        "        inner = w[(i+1):]\n",
        "\n",
        "        # tuples that have same length can be compared because of hierarchy\n",
        "        l1 = len(tuple1)\n",
        "        for tuple2 in inner:\n",
        "            l2 = len(tuple2)\n",
        "            if l1 != l2:\n",
        "                continue\n",
        "\n",
        "            # tuples(words) are combined\n",
        "            n = tuple1 + tuple2\n",
        "            # to avoid being listed separate classification of different rankings of the same words\n",
        "            n = sorted(n)\n",
        "            # to avoid using the same word more than once\n",
        "            n = tuple(dict.fromkeys(n))\n",
        "            # find common docs\n",
        "            join = list(set(docs[tuple1]) & set(docs[tuple2]))\n",
        "\n",
        "            # there is at least one common document and group of same words were not found before by different tuple pairs\n",
        "            if len(join) > 0 and n not in w:\n",
        "                w.append(n)\n",
        "                docs[n] = join\n",
        "\n",
        "    return docs"
      ],
      "execution_count": 0,
      "outputs": []
    },
    {
      "cell_type": "code",
      "metadata": {
        "id": "B7J90PC0e-Da",
        "colab_type": "code",
        "colab": {}
      },
      "source": [
        "def fitResults(docs, model):\n",
        "    # keep related keys, docs and tf-idfs in same index\n",
        "    x = []      # [doc]\n",
        "    y = []      # [keys]\n",
        "    z = []      # [total models value]\n",
        "\n",
        "    for tuplex, docs in docs.items():      # tuplex -> word tuples, docs -> keys common docs\n",
        "        for doc in docs:\n",
        "            t = 0\n",
        "            for word in tuplex:\n",
        "                # sum of values represent relation between tuple(words) and doc\n",
        "                if model == \"tfidf\":\n",
        "                    t += tfidf[doc][word]   # word's tf-idf value in doc\n",
        "                elif model == \"bm25\":\n",
        "                    t += bm[doc][word]      # word's bm25 value in doc\n",
        "                elif model == \"dfi\":\n",
        "                    t += dfi[doc][word]     # word's dfi value in doc\n",
        "\n",
        "            # to check whether the value has been calculated beforehand for this doc\n",
        "            if doc in x:\n",
        "                i = x.index(doc)\n",
        "                if z[i] > t:     # this doc was associated before with better tuple\n",
        "                    continue\n",
        "                else:            # this tuple better, delete old one\n",
        "                    x.pop(i)\n",
        "                    y.pop(i)\n",
        "                    z.pop(i)\n",
        "            # add same index\n",
        "            x.append(doc)       # doc\n",
        "            y.append(tuplex)    # tuple\n",
        "            z.append(t)         # sum of tf-idf values of words for this doc\n",
        "\n",
        "    return x, y, z"
      ],
      "execution_count": 0,
      "outputs": []
    },
    {
      "cell_type": "code",
      "metadata": {
        "id": "bmk90pGqeUIw",
        "colab_type": "code",
        "colab": {}
      },
      "source": [
        "# number of terms important\n",
        "def sortResults(x, y, z):\n",
        "    r = []\n",
        "    for i in range(len(x)):\n",
        "        # take max relavent index\n",
        "        maxIdx = np.argmax(z)\n",
        "        \n",
        "        # add result to results\n",
        "        a = [x[maxIdx], str(y[maxIdx]), z[maxIdx], len(y[maxIdx])]\n",
        "        \n",
        "        # delete until there is no result\n",
        "        x.pop(maxIdx)\n",
        "        y.pop(maxIdx)\n",
        "        z.pop(maxIdx)\n",
        "\n",
        "        r.append(a)\n",
        "\n",
        "    temp = {}\n",
        "    for xx, yy, zz, ll in r:\n",
        "        if ll not in temp.keys():\n",
        "            temp[ll] = []\n",
        "        temp[ll].append([xx, yy, zz])\n",
        "\n",
        "    temp_items = temp.items()\n",
        "    sorted_items = sorted(temp_items, reverse= True)\n",
        "\n",
        "    results = []\n",
        "    for key, part in sorted_items:\n",
        "        for a in part:\n",
        "            results.append(a)\n",
        "\n",
        "    return results"
      ],
      "execution_count": 0,
      "outputs": []
    },
    {
      "cell_type": "code",
      "metadata": {
        "id": "Q07Ia-mFSDju",
        "colab_type": "code",
        "colab": {}
      },
      "source": [
        "# 1-1\n",
        "def OneByOne(wordsInDB, model):\n",
        "    x = []  # docs\n",
        "    y = []  # terms\n",
        "    z = []  # models values\n",
        "    \n",
        "    for term in wordsInDB:\n",
        "        docus = db[term]\n",
        "        for doc in docus:\n",
        "            if model == \"tfidf\":\n",
        "                v = tfidf[doc][term]\n",
        "            elif model == \"bm25\":\n",
        "                v = bm[doc][term]\n",
        "            elif model == \"dfi\":\n",
        "                v = dfi[doc][term]\n",
        "            x.append(doc)\n",
        "            y.append(term)\n",
        "            z.append(v)\n",
        "\n",
        "    r = []\n",
        "    for i in range(len(x)):\n",
        "        # take max relavent index\n",
        "        maxIdx = np.argmax(z)\n",
        "        # add result to results\n",
        "        a = [x[maxIdx], str(y[maxIdx]), z[maxIdx]]\n",
        "        # delete until there is no result\n",
        "        x.pop(maxIdx)\n",
        "        y.pop(maxIdx)\n",
        "        z.pop(maxIdx)\n",
        "\n",
        "        r.append(a)\n",
        "\n",
        "    return r"
      ],
      "execution_count": 0,
      "outputs": []
    },
    {
      "cell_type": "code",
      "metadata": {
        "id": "c6fiwptoSobi",
        "colab_type": "code",
        "colab": {}
      },
      "source": [
        "def Search(entry, model):\n",
        "    entry = Tokenizer(entry, 0)\n",
        "\n",
        "    # cluster words in entry\n",
        "    NinDB = []      # words in entry but not in DB\n",
        "    inDB = []       # words in entry and DB\n",
        "    inDB, NinDB = clusterDB(entry)\n",
        "\n",
        "    # warning message for words that not in DB\n",
        "    if len(inDB) == 0:\n",
        "        print(\"\\nThere is no doc that include these terms. Try again.\")\n",
        "        return\n",
        "    if len(NinDB) != 0:\n",
        "        p = \" - \"\n",
        "        warning = p.join(NinDB)\n",
        "        print(\"\\n'\" + warning + \"' -> not in DB\")\n",
        "\n",
        "    # there is just one word\n",
        "    if len(inDB) == 1:\n",
        "        return OneByOne(inDB, model)\n",
        "\n",
        "    elif len(inDB) > 1:\n",
        "        # find dual tuples\n",
        "        docs = {}       # words tuple: common documents where they are              # ('gold', 'rich'): ['26.12', '15.50']\n",
        "        w = []          # words tuples                                              # [('gold', 'rich'), ..., ('gold', 'man', 'rich')]    \n",
        "        docs, w = findDualTuples(inDB)\n",
        "        \n",
        "        # no common docs between every dual words documents\n",
        "        if len(w) == 0:\n",
        "            print(\"\\nNo common documents!\")\n",
        "            return OneByOne(inDB, model)\n",
        "\n",
        "        # detect common docs between every words\n",
        "        # finds all sub and main intersections\n",
        "        docs = findAllIntersections(docs, w)\n",
        "\n",
        "        # keep related keys, docs and tf-idfs in same index\n",
        "        x, y, z = fitResults(docs, model)\n",
        "\n",
        "        return sortResults(x, y, z)"
      ],
      "execution_count": 0,
      "outputs": []
    },
    {
      "cell_type": "code",
      "metadata": {
        "id": "GB8uorWejL_o",
        "colab_type": "code",
        "colab": {}
      },
      "source": [
        "def printResults(r):\n",
        "    print(\"\\n\"+str(len(r)) + \" search results were found.\" )\n",
        "    t = PrettyTable([\"Doc\", \"Terms\", \"Relevance\"])\n",
        "\n",
        "    for i, result in enumerate(r):\n",
        "        t.add_row(result)\n",
        "    print(t)"
      ],
      "execution_count": 0,
      "outputs": []
    },
    {
      "cell_type": "code",
      "metadata": {
        "id": "Kn_LToEVqwvD",
        "colab_type": "code",
        "outputId": "7fb68968-33d9-438c-d4ea-fbc381d64e0c",
        "colab": {
          "base_uri": "https://localhost:8080/",
          "height": 219
        }
      },
      "source": [
        "model = str(input('tfidf / bm25 / dfi --> Select one: '))\n",
        "entry = str(input('Enter a query: '))\n",
        "\n",
        "results = Search(entry, model)\n",
        "if isinstance(results, list):\n",
        "    r = []\n",
        "    for doc, words, value in results:\n",
        "        if len(r) == 10:\n",
        "            break\n",
        "        r.append(doc)\n",
        "    #print(r)\n",
        "    printResults(results)\n",
        "\n",
        "#1\n",
        "# global warming\n",
        "# 10.37 30.36 30.49 20.21  7.27 10.4 5.34 5.30 5.44 5.11\n",
        "# 10.37 30.36 20.21  10.4 30.49 5.34 5.44 5.11 7.27 5.30     # [ 1, 1, 0, 0, 0, 0, 0, 0, 0, 0 ]\n",
        "# 30.36 30.49 20.21 10.37  5.34 10.4 5.44 5.11 7.27 5.30     # [ 0, 0, 0, 1, 0, 0, 0, 0, 0, 0 ]\n",
        "# 30.36 10.37 30.49 20.21  5.34 5.44 5.11 10.4 7.27 5.30     # [ 0, 1, 0, 0, 0, 0, 0, 0, 0, 0 ]\n",
        "\n",
        "#2\n",
        "# cold war period\n",
        "# 25.14 7.48 3.14 29.11  7.5  6.22 30.10 10.49  10.8  3.25     # [ 0, 0, 0, 0, 1, 0, 0, 1, 0, 0 ]\n",
        "# 25.14 7.48 3.14 29.11 6.22 30.10 30.47  3.25   7.5 20.31     # [ 0, 0, 0, 0, 0, 0, 1, 0, 1, 0 ]\n",
        "# 25.14 7.48 3.14 29.11 6.22 30.10   7.5  3.25 30.47 10.49     # [ 0, 0, 0, 0, 0, 0, 1, 0, 1, 1 ]\n",
        "\n",
        "#3\n",
        "# family effects on children\n",
        "# 30.5 24.48 24.49 24.50 24.42 11.12   9.9 21.16 24.5 16.38     # [ 1, 0, 0, 0, 0, 1, 0, 0, 0, 0 ]\n",
        "# 30.5 24.48 24.49 24.50 24.42   9.9 11.12 21.16 24.5 29.18     # [ 1, 0, 0, 0, 0, 0, 1, 0, 0, 0 ]\n",
        "# 30.5 24.48 24.49 24.50 24.42   9.9 11.12 21.16 24.5 29.18     # [ 1, 0, 0, 0, 0, 0, 1, 0, 0, 0 ]\n",
        "\n",
        "#4\n",
        "# coup attempt against the state\n",
        "# 21.36 25.45  16.6 25.17  25.6  1.26 7.34 16.2  11.5 12.16     # [ 1, 1, 0, 0, 0, 1, 1, 0, 0, 0 ]\n",
        "#  16.6 21.36 25.45  25.6 25.17  11.5 1.26 7.34 12.16 25.29     # [ 0, 1, 1, 0, 0, 0, 1, 1, 0, 0 ]\n",
        "# 21.36  16.6 12.16 25.45  25.6 25.17 11.5  2.1  4.19  1.26     # [ 1, 0, 0, 1, 0, 0, 0, 0, 0, 1 ]\n",
        "\n",
        "#5\n",
        "# problems in the tourism sector\n",
        "# 21.15  19.1   1.1 11.4 6.45 7.4 1.50 19.12 21.32 20.26     # [ 1, 0, 0, 0, 0, 0, 1, 0, 0, 0 ]\n",
        "#  19.1 21.15  11.4  1.1 6.45 7.4 6.41  6.48  1.50 21.32     # [ 0, 1, 0, 0, 0, 0, 0, 0, 1, 0 ]\n",
        "#  19.1   1.1 21.15 11.4 6.45 7.4 4.37  6.41  1.50  6.48     # [ 0, 0, 1, 0, 0, 0, 0, 0, 1, 0 ]\n",
        "\n",
        "#6\n",
        "# the place of politics in our lives\n",
        "# 4.16 10.49 4.41 7.8 4.48 4.18 4.50 4.31 26.36 7.3\n",
        "#  4.16 10.49  4.41   7.8 10.3 10.21 10.23 4.18 16.40 4.50     # [ 1, 0, 0, 0, 0, 0, 0, 0, 1, 0 ]\n",
        "# 10.49  10.3 10.23 10.21 4.16  4.41   7.8  8.7  8.47  7.2     # [ 0, 0, 0, 0, 0, 1, 0, 0, 0, 0 ]\n",
        "#  4.16  4.41 10.49   7.8 10.3 10.21  4.18 25.1 16.40 4.50     # [ 1, 0, 0, 0, 0, 0, 0, 0, 1, 0 ]\n",
        "\n",
        "#7\n",
        "# personal life of book writers\n",
        "# 30.12 15.25 4.44 13.18 5.25 13.46 20.40 15.9 17.23 6.14   1, 0, 1, 0, 1, 0, 0, 0, 0, 0\n",
        "#  4.44 30.12 20.40  1.21 5.25 22.5 10.32 4.45  10.1 23.13     # [ 1, 1, 0, 0, 1, 0, 0, 0, 0, 0 ]\n",
        "#  4.44  4.45 20.40 10.32 22.5 1.21  10.1 5.25 30.12  1.11     # [ 1, 0, 0, 0, 0, 0, 0, 1, 1, 0 ]\n",
        "# 30.12  4.44  5.25 20.40 1.21 22.5  6.31 8.41 15.25 23.13     # [ 1, 0, 1, 0, 0, 0, 0, 0, 0, 0 ]\n",
        "\n",
        "#8\n",
        "# the role of social media in our life\n",
        "# 23.50 15.10 23.40 17.16 24.4 23.12 24.42 10.32 4.50 6.39          [ 1, 0, 0, 0, 1, 0, 1, 0, 0, 0 ]\n",
        "# 23.50  24.4 16.11 24.42 17.16 23.40 15.10 23.12 10.32 27.32     # [ 1, 1, 0, 1, 0, 0, 0, 0, 0, 1 ]\n",
        "#  30.5 27.32  4.19 24.42 23.12  24.4 23.40  4.50  20.8 16.11     # [ 0, 0, 0, 1, 0, 1, 0, 0, 0, 0 ]\n",
        "# 23.50 24.42  24.4 23.40 17.16 23.12 15.10 16.11 27.32  6.39     # [ 1, 1, 1, 0, 0, 0, 0, 0, 1, 0 ]\n",
        "\n",
        "#9\n",
        "# the story of people sentenced to prison\n",
        "# 18.36 4.8 2.10 15.31 2.18 30.26 30.5 30.31 30.8 10.32             0, 0, 1, 0, 1, 0, 0, 0, 1, 1\n",
        "#   4.8 2.10 18.36 27.20 27.22 27.37 15.31 17.5   1.8 10.32     # [ 0, 1, 3, 0, 0, 0, 0, 0, 1, 1 ]\n",
        "#   4.8 4.38  22.7  5.22 10.28   5.6 22.48 4.47 17.41  13.9     # [ 0, 0, 1, 0, 0, 0, 0, 0, 0, 0 ]\n",
        "# 18.36 2.10   4.8 27.22 27.20 27.37 15.31 30.5 30.26 30.31     # [ 0, 1, 0, 0, 0, 0, 0, 0, 0, 1 ]\n",
        "\n",
        "#10\n",
        "# racism\n",
        "# 3.3 4.35 30.5 13.48 13.47 5.46 26.42 3.30 4.38 4.9         1, 1, 0, 1, 0, 0, 0, 1, 0, 0\n",
        "# 3.3 4.35 30.5 5.46 13.47 13.48 3.30 4.9 26.42 4.38     # [ 1, 1, 0, 0, 0, 0, 1, 0, 0, 0 ]\n",
        "# 3.3 30.5 4.35 5.46 13.47 13.48 3.30 4.9 26.42 4.38     # [ 1, 0, 1, 0, 0, 0, 1, 0, 0, 0 ]\n",
        "# 3.3 30.5 4.35 5.46 13.47 13.48 3.30 4.9 26.42 4.38     # [ 1, 0, 1, 0, 0, 0, 1, 0, 0, 0 ]"
      ],
      "execution_count": 0,
      "outputs": [
        {
          "output_type": "stream",
          "text": [
            "tfidf / bm25 / dfi --> Select one: tfidf\n",
            "Enter a query: toy\n",
            "\n",
            "3 search results were found.\n",
            "+-------+-------+---------------------+\n",
            "|  Doc  | Terms |      Relevance      |\n",
            "+-------+-------+---------------------+\n",
            "| 23.44 |  toy  |   0.04051223666967  |\n",
            "|  23.2 |  toy  | 0.03314637545700273 |\n",
            "| 23.27 |  toy  | 0.03283219180338186 |\n",
            "+-------+-------+---------------------+\n"
          ],
          "name": "stdout"
        }
      ]
    }
  ]
}